{
  "nbformat": 4,
  "nbformat_minor": 0,
  "metadata": {
    "colab": {
      "provenance": [],
      "collapsed_sections": [],
      "authorship_tag": "ABX9TyMdc7pyjp8SomGVFzl2MTdK",
      "include_colab_link": true
    },
    "kernelspec": {
      "name": "python3",
      "display_name": "Python 3"
    },
    "language_info": {
      "name": "python"
    },
    "accelerator": "GPU",
    "gpuClass": "standard"
  },
  "cells": [
    {
      "cell_type": "markdown",
      "metadata": {
        "id": "view-in-github",
        "colab_type": "text"
      },
      "source": [
        "<a href=\"https://colab.research.google.com/github/claudio1975/10DataScienceProjects/blob/master/05_02_05_03_GBM.ipynb\" target=\"_parent\"><img src=\"https://colab.research.google.com/assets/colab-badge.svg\" alt=\"Open In Colab\"/></a>"
      ]
    },
    {
      "cell_type": "markdown",
      "source": [
        "# **Number of Claims Estimation with Gradient Boosting Machine (GBM)**"
      ],
      "metadata": {
        "id": "x1EhzwW7gRai"
      }
    },
    {
      "cell_type": "markdown",
      "source": [
        "Gradient Boosting Machine is based on ensemble approach. \n",
        "Trees are built sequentially: each tree is grown using information from the previous grown trees.\n",
        "It starts building a model from the training data, then is added a new model to correct the errors made by the previous one, and new models are added sequentially until no further improvements can be made. \n",
        "\n",
        "References:\n",
        "\n",
        "-[\"Case Study: French Motor Third-Party Liability Claims\"](https://papers.ssrn.com/sol3/papers.cfm?abstract_id=3164764), Mario V. Wuthrich, Alexander Noll, Robert Salzmann;\n",
        "\n",
        "-[\"Data Analytics for Non-Life Insurance Pricing\"](https://papers.ssrn.com/sol3/papers.cfm?abstract_id=2870308), Mario V. Wuthrich, Christoph Buser;\n",
        "\n",
        "-[\"Statistical Foundations of Actuarial Learning and its Applications\"](https://papers.ssrn.com/sol3/papers.cfm?abstract_id=3822407), Mario V. Wuthrich, Michael Merz"
      ],
      "metadata": {
        "id": "RbCgE3UM8VwQ"
      }
    },
    {
      "cell_type": "markdown",
      "source": [
        "# Upload Libraries"
      ],
      "metadata": {
        "id": "JBFt8eBnSLGW"
      }
    },
    {
      "cell_type": "code",
      "source": [
        "!pip install h2o"
      ],
      "metadata": {
        "id": "DOw45HwKXCrA",
        "colab": {
          "base_uri": "https://localhost:8080/"
        },
        "outputId": "ba71666e-de0f-4359-8a9e-481420906c67"
      },
      "execution_count": null,
      "outputs": [
        {
          "output_type": "stream",
          "name": "stdout",
          "text": [
            "Looking in indexes: https://pypi.org/simple, https://us-python.pkg.dev/colab-wheels/public/simple/\n",
            "Collecting h2o\n",
            "  Downloading h2o-3.38.0.1.tar.gz (177.2 MB)\n",
            "\u001b[K     |████████████████████████████████| 177.2 MB 47 kB/s \n",
            "\u001b[?25hRequirement already satisfied: requests in /usr/local/lib/python3.7/dist-packages (from h2o) (2.23.0)\n",
            "Requirement already satisfied: tabulate in /usr/local/lib/python3.7/dist-packages (from h2o) (0.8.10)\n",
            "Requirement already satisfied: future in /usr/local/lib/python3.7/dist-packages (from h2o) (0.16.0)\n",
            "Requirement already satisfied: idna<3,>=2.5 in /usr/local/lib/python3.7/dist-packages (from requests->h2o) (2.10)\n",
            "Requirement already satisfied: chardet<4,>=3.0.2 in /usr/local/lib/python3.7/dist-packages (from requests->h2o) (3.0.4)\n",
            "Requirement already satisfied: urllib3!=1.25.0,!=1.25.1,<1.26,>=1.21.1 in /usr/local/lib/python3.7/dist-packages (from requests->h2o) (1.24.3)\n",
            "Requirement already satisfied: certifi>=2017.4.17 in /usr/local/lib/python3.7/dist-packages (from requests->h2o) (2022.9.24)\n",
            "Building wheels for collected packages: h2o\n",
            "  Building wheel for h2o (setup.py) ... \u001b[?25l\u001b[?25hdone\n",
            "  Created wheel for h2o: filename=h2o-3.38.0.1-py2.py3-none-any.whl size=177276478 sha256=19ed4eff9dc3a1c4f8721f26c218049f88508a222072bdac9d23f0c20d1848eb\n",
            "  Stored in directory: /root/.cache/pip/wheels/a1/a1/d9/bb37df368c4635a707e7362d1088450b606041f05aeba5f173\n",
            "Successfully built h2o\n",
            "Installing collected packages: h2o\n",
            "Successfully installed h2o-3.38.0.1\n"
          ]
        }
      ]
    },
    {
      "cell_type": "code",
      "execution_count": null,
      "metadata": {
        "id": "lVwNOaoL3_xS"
      },
      "outputs": [],
      "source": [
        "# handling datasets\n",
        "import numpy as np\n",
        "import pandas as pd\n",
        "# plotting\n",
        "import matplotlib.pyplot as plt\n",
        "%matplotlib inline\n",
        "import seaborn as sns\n",
        "# modelling, evaluation\n",
        "import sklearn\n",
        "from sklearn.metrics import mean_poisson_deviance\n",
        "from sklearn.metrics import mean_squared_error\n",
        "from sklearn.model_selection import train_test_split\n",
        "import h2o\n",
        "from h2o.estimators import H2OGradientBoostingEstimator\n",
        "from h2o.grid.grid_search import H2OGridSearch\n",
        "\n",
        "import warnings\n",
        "warnings.filterwarnings('ignore', category=FutureWarning)\n"
      ]
    },
    {
      "cell_type": "markdown",
      "source": [
        "# Upload File"
      ],
      "metadata": {
        "id": "5YfXq9PnAdpx"
      }
    },
    {
      "cell_type": "code",
      "source": [
        "from google.colab import files \n",
        "uploaded = files.upload()"
      ],
      "metadata": {
        "colab": {
          "base_uri": "https://localhost:8080/",
          "height": 74
        },
        "id": "i9Q2mLHi-d_m",
        "outputId": "0d81a675-5ecf-44ad-ff46-013598f8aad7"
      },
      "execution_count": null,
      "outputs": [
        {
          "output_type": "display_data",
          "data": {
            "text/plain": [
              "<IPython.core.display.HTML object>"
            ],
            "text/html": [
              "\n",
              "     <input type=\"file\" id=\"files-aa7e35e5-962e-49a7-a609-33ef9756adf0\" name=\"files[]\" multiple disabled\n",
              "        style=\"border:none\" />\n",
              "     <output id=\"result-aa7e35e5-962e-49a7-a609-33ef9756adf0\">\n",
              "      Upload widget is only available when the cell has been executed in the\n",
              "      current browser session. Please rerun this cell to enable.\n",
              "      </output>\n",
              "      <script>// Copyright 2017 Google LLC\n",
              "//\n",
              "// Licensed under the Apache License, Version 2.0 (the \"License\");\n",
              "// you may not use this file except in compliance with the License.\n",
              "// You may obtain a copy of the License at\n",
              "//\n",
              "//      http://www.apache.org/licenses/LICENSE-2.0\n",
              "//\n",
              "// Unless required by applicable law or agreed to in writing, software\n",
              "// distributed under the License is distributed on an \"AS IS\" BASIS,\n",
              "// WITHOUT WARRANTIES OR CONDITIONS OF ANY KIND, either express or implied.\n",
              "// See the License for the specific language governing permissions and\n",
              "// limitations under the License.\n",
              "\n",
              "/**\n",
              " * @fileoverview Helpers for google.colab Python module.\n",
              " */\n",
              "(function(scope) {\n",
              "function span(text, styleAttributes = {}) {\n",
              "  const element = document.createElement('span');\n",
              "  element.textContent = text;\n",
              "  for (const key of Object.keys(styleAttributes)) {\n",
              "    element.style[key] = styleAttributes[key];\n",
              "  }\n",
              "  return element;\n",
              "}\n",
              "\n",
              "// Max number of bytes which will be uploaded at a time.\n",
              "const MAX_PAYLOAD_SIZE = 100 * 1024;\n",
              "\n",
              "function _uploadFiles(inputId, outputId) {\n",
              "  const steps = uploadFilesStep(inputId, outputId);\n",
              "  const outputElement = document.getElementById(outputId);\n",
              "  // Cache steps on the outputElement to make it available for the next call\n",
              "  // to uploadFilesContinue from Python.\n",
              "  outputElement.steps = steps;\n",
              "\n",
              "  return _uploadFilesContinue(outputId);\n",
              "}\n",
              "\n",
              "// This is roughly an async generator (not supported in the browser yet),\n",
              "// where there are multiple asynchronous steps and the Python side is going\n",
              "// to poll for completion of each step.\n",
              "// This uses a Promise to block the python side on completion of each step,\n",
              "// then passes the result of the previous step as the input to the next step.\n",
              "function _uploadFilesContinue(outputId) {\n",
              "  const outputElement = document.getElementById(outputId);\n",
              "  const steps = outputElement.steps;\n",
              "\n",
              "  const next = steps.next(outputElement.lastPromiseValue);\n",
              "  return Promise.resolve(next.value.promise).then((value) => {\n",
              "    // Cache the last promise value to make it available to the next\n",
              "    // step of the generator.\n",
              "    outputElement.lastPromiseValue = value;\n",
              "    return next.value.response;\n",
              "  });\n",
              "}\n",
              "\n",
              "/**\n",
              " * Generator function which is called between each async step of the upload\n",
              " * process.\n",
              " * @param {string} inputId Element ID of the input file picker element.\n",
              " * @param {string} outputId Element ID of the output display.\n",
              " * @return {!Iterable<!Object>} Iterable of next steps.\n",
              " */\n",
              "function* uploadFilesStep(inputId, outputId) {\n",
              "  const inputElement = document.getElementById(inputId);\n",
              "  inputElement.disabled = false;\n",
              "\n",
              "  const outputElement = document.getElementById(outputId);\n",
              "  outputElement.innerHTML = '';\n",
              "\n",
              "  const pickedPromise = new Promise((resolve) => {\n",
              "    inputElement.addEventListener('change', (e) => {\n",
              "      resolve(e.target.files);\n",
              "    });\n",
              "  });\n",
              "\n",
              "  const cancel = document.createElement('button');\n",
              "  inputElement.parentElement.appendChild(cancel);\n",
              "  cancel.textContent = 'Cancel upload';\n",
              "  const cancelPromise = new Promise((resolve) => {\n",
              "    cancel.onclick = () => {\n",
              "      resolve(null);\n",
              "    };\n",
              "  });\n",
              "\n",
              "  // Wait for the user to pick the files.\n",
              "  const files = yield {\n",
              "    promise: Promise.race([pickedPromise, cancelPromise]),\n",
              "    response: {\n",
              "      action: 'starting',\n",
              "    }\n",
              "  };\n",
              "\n",
              "  cancel.remove();\n",
              "\n",
              "  // Disable the input element since further picks are not allowed.\n",
              "  inputElement.disabled = true;\n",
              "\n",
              "  if (!files) {\n",
              "    return {\n",
              "      response: {\n",
              "        action: 'complete',\n",
              "      }\n",
              "    };\n",
              "  }\n",
              "\n",
              "  for (const file of files) {\n",
              "    const li = document.createElement('li');\n",
              "    li.append(span(file.name, {fontWeight: 'bold'}));\n",
              "    li.append(span(\n",
              "        `(${file.type || 'n/a'}) - ${file.size} bytes, ` +\n",
              "        `last modified: ${\n",
              "            file.lastModifiedDate ? file.lastModifiedDate.toLocaleDateString() :\n",
              "                                    'n/a'} - `));\n",
              "    const percent = span('0% done');\n",
              "    li.appendChild(percent);\n",
              "\n",
              "    outputElement.appendChild(li);\n",
              "\n",
              "    const fileDataPromise = new Promise((resolve) => {\n",
              "      const reader = new FileReader();\n",
              "      reader.onload = (e) => {\n",
              "        resolve(e.target.result);\n",
              "      };\n",
              "      reader.readAsArrayBuffer(file);\n",
              "    });\n",
              "    // Wait for the data to be ready.\n",
              "    let fileData = yield {\n",
              "      promise: fileDataPromise,\n",
              "      response: {\n",
              "        action: 'continue',\n",
              "      }\n",
              "    };\n",
              "\n",
              "    // Use a chunked sending to avoid message size limits. See b/62115660.\n",
              "    let position = 0;\n",
              "    do {\n",
              "      const length = Math.min(fileData.byteLength - position, MAX_PAYLOAD_SIZE);\n",
              "      const chunk = new Uint8Array(fileData, position, length);\n",
              "      position += length;\n",
              "\n",
              "      const base64 = btoa(String.fromCharCode.apply(null, chunk));\n",
              "      yield {\n",
              "        response: {\n",
              "          action: 'append',\n",
              "          file: file.name,\n",
              "          data: base64,\n",
              "        },\n",
              "      };\n",
              "\n",
              "      let percentDone = fileData.byteLength === 0 ?\n",
              "          100 :\n",
              "          Math.round((position / fileData.byteLength) * 100);\n",
              "      percent.textContent = `${percentDone}% done`;\n",
              "\n",
              "    } while (position < fileData.byteLength);\n",
              "  }\n",
              "\n",
              "  // All done.\n",
              "  yield {\n",
              "    response: {\n",
              "      action: 'complete',\n",
              "    }\n",
              "  };\n",
              "}\n",
              "\n",
              "scope.google = scope.google || {};\n",
              "scope.google.colab = scope.google.colab || {};\n",
              "scope.google.colab._files = {\n",
              "  _uploadFiles,\n",
              "  _uploadFilesContinue,\n",
              "};\n",
              "})(self);\n",
              "</script> "
            ]
          },
          "metadata": {}
        },
        {
          "output_type": "stream",
          "name": "stdout",
          "text": [
            "Saving swmotorcycle_ClaimNb.csv to swmotorcycle_ClaimNb.csv\n"
          ]
        }
      ]
    },
    {
      "cell_type": "code",
      "source": [
        "# Reading File\n",
        "df = pd.read_csv('swmotorcycle_ClaimNb.csv')"
      ],
      "metadata": {
        "id": "hJC1ZvbJ-ftM"
      },
      "execution_count": null,
      "outputs": []
    },
    {
      "cell_type": "markdown",
      "source": [
        "# Data Set Overview"
      ],
      "metadata": {
        "id": "skmaGg75QNRt"
      }
    },
    {
      "cell_type": "code",
      "source": [
        "# Dimensions of data set\n",
        "print(df.shape)"
      ],
      "metadata": {
        "id": "Y7LI1nVh_loI",
        "colab": {
          "base_uri": "https://localhost:8080/"
        },
        "outputId": "4cfe811a-9c36-4ea7-fa72-f23db04a31ef"
      },
      "execution_count": null,
      "outputs": [
        {
          "output_type": "stream",
          "name": "stdout",
          "text": [
            "(64548, 8)\n"
          ]
        }
      ]
    },
    {
      "cell_type": "code",
      "source": [
        "# List types for each attribute\n",
        "print(df.info())"
      ],
      "metadata": {
        "id": "Pu87x81Z_lqt",
        "colab": {
          "base_uri": "https://localhost:8080/"
        },
        "outputId": "69288ad1-239b-430b-f15f-37ad10047d43"
      },
      "execution_count": null,
      "outputs": [
        {
          "output_type": "stream",
          "name": "stdout",
          "text": [
            "<class 'pandas.core.frame.DataFrame'>\n",
            "RangeIndex: 64548 entries, 0 to 64547\n",
            "Data columns (total 8 columns):\n",
            " #   Column      Non-Null Count  Dtype  \n",
            "---  ------      --------------  -----  \n",
            " 0   OwnerAge    64548 non-null  int64  \n",
            " 1   Gender      64548 non-null  object \n",
            " 2   Area        64548 non-null  object \n",
            " 3   RiskClass   64548 non-null  object \n",
            " 4   VehAge      64548 non-null  int64  \n",
            " 5   BonusClass  64548 non-null  object \n",
            " 6   Exposure    64548 non-null  float64\n",
            " 7   ClaimNb     64548 non-null  int64  \n",
            "dtypes: float64(1), int64(3), object(4)\n",
            "memory usage: 3.9+ MB\n",
            "None\n"
          ]
        }
      ]
    },
    {
      "cell_type": "code",
      "source": [
        "# Take a peek at the first rows of the data\n",
        "df.head()"
      ],
      "metadata": {
        "id": "Pg3KgtmJ_lzm",
        "colab": {
          "base_uri": "https://localhost:8080/",
          "height": 206
        },
        "outputId": "0cab111d-2095-46dc-99ba-9e89ceed403e"
      },
      "execution_count": null,
      "outputs": [
        {
          "output_type": "execute_result",
          "data": {
            "text/plain": [
              "   OwnerAge  Gender                                               Area  \\\n",
              "0         0    Male     Central parts of Sweden's three largest cities   \n",
              "1         4    Male        Lesser towns except Gotland; Northern towns   \n",
              "2         5  Female        Lesser towns except Gotland; Northern towns   \n",
              "3         5  Female  Small towns; countryside except Gotland; North...   \n",
              "4         6  Female                       Suburbs; middle-sized cities   \n",
              "\n",
              "        RiskClass  VehAge BonusClass  Exposure  ClaimNb  \n",
              "0  EV ratio 13-15      12        BM1  0.175342        0  \n",
              "1  EV ratio 20-24       9        BM1  0.000000        0  \n",
              "2   EV ratio 9-12      18        BM1  0.454795        0  \n",
              "3     EV ratio <5      25        BM1  0.172603        0  \n",
              "4     EV ratio <5      26        BM1  0.180822        0  "
            ],
            "text/html": [
              "\n",
              "  <div id=\"df-3f1d7cbc-274f-47a8-ba1b-6b3c929a97c6\">\n",
              "    <div class=\"colab-df-container\">\n",
              "      <div>\n",
              "<style scoped>\n",
              "    .dataframe tbody tr th:only-of-type {\n",
              "        vertical-align: middle;\n",
              "    }\n",
              "\n",
              "    .dataframe tbody tr th {\n",
              "        vertical-align: top;\n",
              "    }\n",
              "\n",
              "    .dataframe thead th {\n",
              "        text-align: right;\n",
              "    }\n",
              "</style>\n",
              "<table border=\"1\" class=\"dataframe\">\n",
              "  <thead>\n",
              "    <tr style=\"text-align: right;\">\n",
              "      <th></th>\n",
              "      <th>OwnerAge</th>\n",
              "      <th>Gender</th>\n",
              "      <th>Area</th>\n",
              "      <th>RiskClass</th>\n",
              "      <th>VehAge</th>\n",
              "      <th>BonusClass</th>\n",
              "      <th>Exposure</th>\n",
              "      <th>ClaimNb</th>\n",
              "    </tr>\n",
              "  </thead>\n",
              "  <tbody>\n",
              "    <tr>\n",
              "      <th>0</th>\n",
              "      <td>0</td>\n",
              "      <td>Male</td>\n",
              "      <td>Central parts of Sweden's three largest cities</td>\n",
              "      <td>EV ratio 13-15</td>\n",
              "      <td>12</td>\n",
              "      <td>BM1</td>\n",
              "      <td>0.175342</td>\n",
              "      <td>0</td>\n",
              "    </tr>\n",
              "    <tr>\n",
              "      <th>1</th>\n",
              "      <td>4</td>\n",
              "      <td>Male</td>\n",
              "      <td>Lesser towns except Gotland; Northern towns</td>\n",
              "      <td>EV ratio 20-24</td>\n",
              "      <td>9</td>\n",
              "      <td>BM1</td>\n",
              "      <td>0.000000</td>\n",
              "      <td>0</td>\n",
              "    </tr>\n",
              "    <tr>\n",
              "      <th>2</th>\n",
              "      <td>5</td>\n",
              "      <td>Female</td>\n",
              "      <td>Lesser towns except Gotland; Northern towns</td>\n",
              "      <td>EV ratio 9-12</td>\n",
              "      <td>18</td>\n",
              "      <td>BM1</td>\n",
              "      <td>0.454795</td>\n",
              "      <td>0</td>\n",
              "    </tr>\n",
              "    <tr>\n",
              "      <th>3</th>\n",
              "      <td>5</td>\n",
              "      <td>Female</td>\n",
              "      <td>Small towns; countryside except Gotland; North...</td>\n",
              "      <td>EV ratio &lt;5</td>\n",
              "      <td>25</td>\n",
              "      <td>BM1</td>\n",
              "      <td>0.172603</td>\n",
              "      <td>0</td>\n",
              "    </tr>\n",
              "    <tr>\n",
              "      <th>4</th>\n",
              "      <td>6</td>\n",
              "      <td>Female</td>\n",
              "      <td>Suburbs; middle-sized cities</td>\n",
              "      <td>EV ratio &lt;5</td>\n",
              "      <td>26</td>\n",
              "      <td>BM1</td>\n",
              "      <td>0.180822</td>\n",
              "      <td>0</td>\n",
              "    </tr>\n",
              "  </tbody>\n",
              "</table>\n",
              "</div>\n",
              "      <button class=\"colab-df-convert\" onclick=\"convertToInteractive('df-3f1d7cbc-274f-47a8-ba1b-6b3c929a97c6')\"\n",
              "              title=\"Convert this dataframe to an interactive table.\"\n",
              "              style=\"display:none;\">\n",
              "        \n",
              "  <svg xmlns=\"http://www.w3.org/2000/svg\" height=\"24px\"viewBox=\"0 0 24 24\"\n",
              "       width=\"24px\">\n",
              "    <path d=\"M0 0h24v24H0V0z\" fill=\"none\"/>\n",
              "    <path d=\"M18.56 5.44l.94 2.06.94-2.06 2.06-.94-2.06-.94-.94-2.06-.94 2.06-2.06.94zm-11 1L8.5 8.5l.94-2.06 2.06-.94-2.06-.94L8.5 2.5l-.94 2.06-2.06.94zm10 10l.94 2.06.94-2.06 2.06-.94-2.06-.94-.94-2.06-.94 2.06-2.06.94z\"/><path d=\"M17.41 7.96l-1.37-1.37c-.4-.4-.92-.59-1.43-.59-.52 0-1.04.2-1.43.59L10.3 9.45l-7.72 7.72c-.78.78-.78 2.05 0 2.83L4 21.41c.39.39.9.59 1.41.59.51 0 1.02-.2 1.41-.59l7.78-7.78 2.81-2.81c.8-.78.8-2.07 0-2.86zM5.41 20L4 18.59l7.72-7.72 1.47 1.35L5.41 20z\"/>\n",
              "  </svg>\n",
              "      </button>\n",
              "      \n",
              "  <style>\n",
              "    .colab-df-container {\n",
              "      display:flex;\n",
              "      flex-wrap:wrap;\n",
              "      gap: 12px;\n",
              "    }\n",
              "\n",
              "    .colab-df-convert {\n",
              "      background-color: #E8F0FE;\n",
              "      border: none;\n",
              "      border-radius: 50%;\n",
              "      cursor: pointer;\n",
              "      display: none;\n",
              "      fill: #1967D2;\n",
              "      height: 32px;\n",
              "      padding: 0 0 0 0;\n",
              "      width: 32px;\n",
              "    }\n",
              "\n",
              "    .colab-df-convert:hover {\n",
              "      background-color: #E2EBFA;\n",
              "      box-shadow: 0px 1px 2px rgba(60, 64, 67, 0.3), 0px 1px 3px 1px rgba(60, 64, 67, 0.15);\n",
              "      fill: #174EA6;\n",
              "    }\n",
              "\n",
              "    [theme=dark] .colab-df-convert {\n",
              "      background-color: #3B4455;\n",
              "      fill: #D2E3FC;\n",
              "    }\n",
              "\n",
              "    [theme=dark] .colab-df-convert:hover {\n",
              "      background-color: #434B5C;\n",
              "      box-shadow: 0px 1px 3px 1px rgba(0, 0, 0, 0.15);\n",
              "      filter: drop-shadow(0px 1px 2px rgba(0, 0, 0, 0.3));\n",
              "      fill: #FFFFFF;\n",
              "    }\n",
              "  </style>\n",
              "\n",
              "      <script>\n",
              "        const buttonEl =\n",
              "          document.querySelector('#df-3f1d7cbc-274f-47a8-ba1b-6b3c929a97c6 button.colab-df-convert');\n",
              "        buttonEl.style.display =\n",
              "          google.colab.kernel.accessAllowed ? 'block' : 'none';\n",
              "\n",
              "        async function convertToInteractive(key) {\n",
              "          const element = document.querySelector('#df-3f1d7cbc-274f-47a8-ba1b-6b3c929a97c6');\n",
              "          const dataTable =\n",
              "            await google.colab.kernel.invokeFunction('convertToInteractive',\n",
              "                                                     [key], {});\n",
              "          if (!dataTable) return;\n",
              "\n",
              "          const docLinkHtml = 'Like what you see? Visit the ' +\n",
              "            '<a target=\"_blank\" href=https://colab.research.google.com/notebooks/data_table.ipynb>data table notebook</a>'\n",
              "            + ' to learn more about interactive tables.';\n",
              "          element.innerHTML = '';\n",
              "          dataTable['output_type'] = 'display_data';\n",
              "          await google.colab.output.renderOutput(dataTable, element);\n",
              "          const docLink = document.createElement('div');\n",
              "          docLink.innerHTML = docLinkHtml;\n",
              "          element.appendChild(docLink);\n",
              "        }\n",
              "      </script>\n",
              "    </div>\n",
              "  </div>\n",
              "  "
            ]
          },
          "metadata": {},
          "execution_count": 7
        }
      ]
    },
    {
      "cell_type": "markdown",
      "source": [
        "# Summary Statistics"
      ],
      "metadata": {
        "id": "ohUWAsR1QW44"
      }
    },
    {
      "cell_type": "code",
      "source": [
        "# Summarize attribute distributions for data type of variables\n",
        "obj_cols = [var for var in df.columns if df[var].dtype=='object']\n",
        "df[obj_cols].describe().T"
      ],
      "metadata": {
        "id": "-5VW72YG_0kS",
        "colab": {
          "base_uri": "https://localhost:8080/",
          "height": 175
        },
        "outputId": "7f9141e5-a0be-48dc-da7c-2a446d60334b"
      },
      "execution_count": null,
      "outputs": [
        {
          "output_type": "execute_result",
          "data": {
            "text/plain": [
              "            count unique                                                top  \\\n",
              "Gender      64548      2                                               Male   \n",
              "Area        64548      7  Small towns; countryside except Gotland; North...   \n",
              "RiskClass   64548      7                                      EV ratio 9-12   \n",
              "BonusClass  64548      7                                                BM7   \n",
              "\n",
              "             freq  \n",
              "Gender      54695  \n",
              "Area        24816  \n",
              "RiskClass   18905  \n",
              "BonusClass  17953  "
            ],
            "text/html": [
              "\n",
              "  <div id=\"df-9854401d-e765-40f6-a7e6-d34f1dd36fa9\">\n",
              "    <div class=\"colab-df-container\">\n",
              "      <div>\n",
              "<style scoped>\n",
              "    .dataframe tbody tr th:only-of-type {\n",
              "        vertical-align: middle;\n",
              "    }\n",
              "\n",
              "    .dataframe tbody tr th {\n",
              "        vertical-align: top;\n",
              "    }\n",
              "\n",
              "    .dataframe thead th {\n",
              "        text-align: right;\n",
              "    }\n",
              "</style>\n",
              "<table border=\"1\" class=\"dataframe\">\n",
              "  <thead>\n",
              "    <tr style=\"text-align: right;\">\n",
              "      <th></th>\n",
              "      <th>count</th>\n",
              "      <th>unique</th>\n",
              "      <th>top</th>\n",
              "      <th>freq</th>\n",
              "    </tr>\n",
              "  </thead>\n",
              "  <tbody>\n",
              "    <tr>\n",
              "      <th>Gender</th>\n",
              "      <td>64548</td>\n",
              "      <td>2</td>\n",
              "      <td>Male</td>\n",
              "      <td>54695</td>\n",
              "    </tr>\n",
              "    <tr>\n",
              "      <th>Area</th>\n",
              "      <td>64548</td>\n",
              "      <td>7</td>\n",
              "      <td>Small towns; countryside except Gotland; North...</td>\n",
              "      <td>24816</td>\n",
              "    </tr>\n",
              "    <tr>\n",
              "      <th>RiskClass</th>\n",
              "      <td>64548</td>\n",
              "      <td>7</td>\n",
              "      <td>EV ratio 9-12</td>\n",
              "      <td>18905</td>\n",
              "    </tr>\n",
              "    <tr>\n",
              "      <th>BonusClass</th>\n",
              "      <td>64548</td>\n",
              "      <td>7</td>\n",
              "      <td>BM7</td>\n",
              "      <td>17953</td>\n",
              "    </tr>\n",
              "  </tbody>\n",
              "</table>\n",
              "</div>\n",
              "      <button class=\"colab-df-convert\" onclick=\"convertToInteractive('df-9854401d-e765-40f6-a7e6-d34f1dd36fa9')\"\n",
              "              title=\"Convert this dataframe to an interactive table.\"\n",
              "              style=\"display:none;\">\n",
              "        \n",
              "  <svg xmlns=\"http://www.w3.org/2000/svg\" height=\"24px\"viewBox=\"0 0 24 24\"\n",
              "       width=\"24px\">\n",
              "    <path d=\"M0 0h24v24H0V0z\" fill=\"none\"/>\n",
              "    <path d=\"M18.56 5.44l.94 2.06.94-2.06 2.06-.94-2.06-.94-.94-2.06-.94 2.06-2.06.94zm-11 1L8.5 8.5l.94-2.06 2.06-.94-2.06-.94L8.5 2.5l-.94 2.06-2.06.94zm10 10l.94 2.06.94-2.06 2.06-.94-2.06-.94-.94-2.06-.94 2.06-2.06.94z\"/><path d=\"M17.41 7.96l-1.37-1.37c-.4-.4-.92-.59-1.43-.59-.52 0-1.04.2-1.43.59L10.3 9.45l-7.72 7.72c-.78.78-.78 2.05 0 2.83L4 21.41c.39.39.9.59 1.41.59.51 0 1.02-.2 1.41-.59l7.78-7.78 2.81-2.81c.8-.78.8-2.07 0-2.86zM5.41 20L4 18.59l7.72-7.72 1.47 1.35L5.41 20z\"/>\n",
              "  </svg>\n",
              "      </button>\n",
              "      \n",
              "  <style>\n",
              "    .colab-df-container {\n",
              "      display:flex;\n",
              "      flex-wrap:wrap;\n",
              "      gap: 12px;\n",
              "    }\n",
              "\n",
              "    .colab-df-convert {\n",
              "      background-color: #E8F0FE;\n",
              "      border: none;\n",
              "      border-radius: 50%;\n",
              "      cursor: pointer;\n",
              "      display: none;\n",
              "      fill: #1967D2;\n",
              "      height: 32px;\n",
              "      padding: 0 0 0 0;\n",
              "      width: 32px;\n",
              "    }\n",
              "\n",
              "    .colab-df-convert:hover {\n",
              "      background-color: #E2EBFA;\n",
              "      box-shadow: 0px 1px 2px rgba(60, 64, 67, 0.3), 0px 1px 3px 1px rgba(60, 64, 67, 0.15);\n",
              "      fill: #174EA6;\n",
              "    }\n",
              "\n",
              "    [theme=dark] .colab-df-convert {\n",
              "      background-color: #3B4455;\n",
              "      fill: #D2E3FC;\n",
              "    }\n",
              "\n",
              "    [theme=dark] .colab-df-convert:hover {\n",
              "      background-color: #434B5C;\n",
              "      box-shadow: 0px 1px 3px 1px rgba(0, 0, 0, 0.15);\n",
              "      filter: drop-shadow(0px 1px 2px rgba(0, 0, 0, 0.3));\n",
              "      fill: #FFFFFF;\n",
              "    }\n",
              "  </style>\n",
              "\n",
              "      <script>\n",
              "        const buttonEl =\n",
              "          document.querySelector('#df-9854401d-e765-40f6-a7e6-d34f1dd36fa9 button.colab-df-convert');\n",
              "        buttonEl.style.display =\n",
              "          google.colab.kernel.accessAllowed ? 'block' : 'none';\n",
              "\n",
              "        async function convertToInteractive(key) {\n",
              "          const element = document.querySelector('#df-9854401d-e765-40f6-a7e6-d34f1dd36fa9');\n",
              "          const dataTable =\n",
              "            await google.colab.kernel.invokeFunction('convertToInteractive',\n",
              "                                                     [key], {});\n",
              "          if (!dataTable) return;\n",
              "\n",
              "          const docLinkHtml = 'Like what you see? Visit the ' +\n",
              "            '<a target=\"_blank\" href=https://colab.research.google.com/notebooks/data_table.ipynb>data table notebook</a>'\n",
              "            + ' to learn more about interactive tables.';\n",
              "          element.innerHTML = '';\n",
              "          dataTable['output_type'] = 'display_data';\n",
              "          await google.colab.output.renderOutput(dataTable, element);\n",
              "          const docLink = document.createElement('div');\n",
              "          docLink.innerHTML = docLinkHtml;\n",
              "          element.appendChild(docLink);\n",
              "        }\n",
              "      </script>\n",
              "    </div>\n",
              "  </div>\n",
              "  "
            ]
          },
          "metadata": {},
          "execution_count": 8
        }
      ]
    },
    {
      "cell_type": "code",
      "source": [
        "# Summarize attribute distributions for data type of variables\n",
        "no_obj_cols = [var for var in df.columns if df[var].dtype!='object']\n",
        "df[no_obj_cols].describe().T"
      ],
      "metadata": {
        "id": "BzwpsBtqABTC",
        "colab": {
          "base_uri": "https://localhost:8080/",
          "height": 175
        },
        "outputId": "4c5bb5aa-6530-4e16-ff7e-a7ea1eeb8f37"
      },
      "execution_count": null,
      "outputs": [
        {
          "output_type": "execute_result",
          "data": {
            "text/plain": [
              "            count       mean        std  min        25%        50%   75%  \\\n",
              "OwnerAge  64548.0  42.416062  12.980960  0.0  31.000000  44.000000  52.0   \n",
              "VehAge    64548.0  12.540063   9.727445  0.0   5.000000  12.000000  16.0   \n",
              "Exposure  64548.0   1.010671   1.307424  0.0   0.463014   0.827397   1.0   \n",
              "ClaimNb   64548.0   0.010798   0.107323  0.0   0.000000   0.000000   0.0   \n",
              "\n",
              "               max  \n",
              "OwnerAge  92.00000  \n",
              "VehAge    99.00000  \n",
              "Exposure  31.33973  \n",
              "ClaimNb    2.00000  "
            ],
            "text/html": [
              "\n",
              "  <div id=\"df-fb57e8fe-1a9f-4cbf-8235-9ded9a45c574\">\n",
              "    <div class=\"colab-df-container\">\n",
              "      <div>\n",
              "<style scoped>\n",
              "    .dataframe tbody tr th:only-of-type {\n",
              "        vertical-align: middle;\n",
              "    }\n",
              "\n",
              "    .dataframe tbody tr th {\n",
              "        vertical-align: top;\n",
              "    }\n",
              "\n",
              "    .dataframe thead th {\n",
              "        text-align: right;\n",
              "    }\n",
              "</style>\n",
              "<table border=\"1\" class=\"dataframe\">\n",
              "  <thead>\n",
              "    <tr style=\"text-align: right;\">\n",
              "      <th></th>\n",
              "      <th>count</th>\n",
              "      <th>mean</th>\n",
              "      <th>std</th>\n",
              "      <th>min</th>\n",
              "      <th>25%</th>\n",
              "      <th>50%</th>\n",
              "      <th>75%</th>\n",
              "      <th>max</th>\n",
              "    </tr>\n",
              "  </thead>\n",
              "  <tbody>\n",
              "    <tr>\n",
              "      <th>OwnerAge</th>\n",
              "      <td>64548.0</td>\n",
              "      <td>42.416062</td>\n",
              "      <td>12.980960</td>\n",
              "      <td>0.0</td>\n",
              "      <td>31.000000</td>\n",
              "      <td>44.000000</td>\n",
              "      <td>52.0</td>\n",
              "      <td>92.00000</td>\n",
              "    </tr>\n",
              "    <tr>\n",
              "      <th>VehAge</th>\n",
              "      <td>64548.0</td>\n",
              "      <td>12.540063</td>\n",
              "      <td>9.727445</td>\n",
              "      <td>0.0</td>\n",
              "      <td>5.000000</td>\n",
              "      <td>12.000000</td>\n",
              "      <td>16.0</td>\n",
              "      <td>99.00000</td>\n",
              "    </tr>\n",
              "    <tr>\n",
              "      <th>Exposure</th>\n",
              "      <td>64548.0</td>\n",
              "      <td>1.010671</td>\n",
              "      <td>1.307424</td>\n",
              "      <td>0.0</td>\n",
              "      <td>0.463014</td>\n",
              "      <td>0.827397</td>\n",
              "      <td>1.0</td>\n",
              "      <td>31.33973</td>\n",
              "    </tr>\n",
              "    <tr>\n",
              "      <th>ClaimNb</th>\n",
              "      <td>64548.0</td>\n",
              "      <td>0.010798</td>\n",
              "      <td>0.107323</td>\n",
              "      <td>0.0</td>\n",
              "      <td>0.000000</td>\n",
              "      <td>0.000000</td>\n",
              "      <td>0.0</td>\n",
              "      <td>2.00000</td>\n",
              "    </tr>\n",
              "  </tbody>\n",
              "</table>\n",
              "</div>\n",
              "      <button class=\"colab-df-convert\" onclick=\"convertToInteractive('df-fb57e8fe-1a9f-4cbf-8235-9ded9a45c574')\"\n",
              "              title=\"Convert this dataframe to an interactive table.\"\n",
              "              style=\"display:none;\">\n",
              "        \n",
              "  <svg xmlns=\"http://www.w3.org/2000/svg\" height=\"24px\"viewBox=\"0 0 24 24\"\n",
              "       width=\"24px\">\n",
              "    <path d=\"M0 0h24v24H0V0z\" fill=\"none\"/>\n",
              "    <path d=\"M18.56 5.44l.94 2.06.94-2.06 2.06-.94-2.06-.94-.94-2.06-.94 2.06-2.06.94zm-11 1L8.5 8.5l.94-2.06 2.06-.94-2.06-.94L8.5 2.5l-.94 2.06-2.06.94zm10 10l.94 2.06.94-2.06 2.06-.94-2.06-.94-.94-2.06-.94 2.06-2.06.94z\"/><path d=\"M17.41 7.96l-1.37-1.37c-.4-.4-.92-.59-1.43-.59-.52 0-1.04.2-1.43.59L10.3 9.45l-7.72 7.72c-.78.78-.78 2.05 0 2.83L4 21.41c.39.39.9.59 1.41.59.51 0 1.02-.2 1.41-.59l7.78-7.78 2.81-2.81c.8-.78.8-2.07 0-2.86zM5.41 20L4 18.59l7.72-7.72 1.47 1.35L5.41 20z\"/>\n",
              "  </svg>\n",
              "      </button>\n",
              "      \n",
              "  <style>\n",
              "    .colab-df-container {\n",
              "      display:flex;\n",
              "      flex-wrap:wrap;\n",
              "      gap: 12px;\n",
              "    }\n",
              "\n",
              "    .colab-df-convert {\n",
              "      background-color: #E8F0FE;\n",
              "      border: none;\n",
              "      border-radius: 50%;\n",
              "      cursor: pointer;\n",
              "      display: none;\n",
              "      fill: #1967D2;\n",
              "      height: 32px;\n",
              "      padding: 0 0 0 0;\n",
              "      width: 32px;\n",
              "    }\n",
              "\n",
              "    .colab-df-convert:hover {\n",
              "      background-color: #E2EBFA;\n",
              "      box-shadow: 0px 1px 2px rgba(60, 64, 67, 0.3), 0px 1px 3px 1px rgba(60, 64, 67, 0.15);\n",
              "      fill: #174EA6;\n",
              "    }\n",
              "\n",
              "    [theme=dark] .colab-df-convert {\n",
              "      background-color: #3B4455;\n",
              "      fill: #D2E3FC;\n",
              "    }\n",
              "\n",
              "    [theme=dark] .colab-df-convert:hover {\n",
              "      background-color: #434B5C;\n",
              "      box-shadow: 0px 1px 3px 1px rgba(0, 0, 0, 0.15);\n",
              "      filter: drop-shadow(0px 1px 2px rgba(0, 0, 0, 0.3));\n",
              "      fill: #FFFFFF;\n",
              "    }\n",
              "  </style>\n",
              "\n",
              "      <script>\n",
              "        const buttonEl =\n",
              "          document.querySelector('#df-fb57e8fe-1a9f-4cbf-8235-9ded9a45c574 button.colab-df-convert');\n",
              "        buttonEl.style.display =\n",
              "          google.colab.kernel.accessAllowed ? 'block' : 'none';\n",
              "\n",
              "        async function convertToInteractive(key) {\n",
              "          const element = document.querySelector('#df-fb57e8fe-1a9f-4cbf-8235-9ded9a45c574');\n",
              "          const dataTable =\n",
              "            await google.colab.kernel.invokeFunction('convertToInteractive',\n",
              "                                                     [key], {});\n",
              "          if (!dataTable) return;\n",
              "\n",
              "          const docLinkHtml = 'Like what you see? Visit the ' +\n",
              "            '<a target=\"_blank\" href=https://colab.research.google.com/notebooks/data_table.ipynb>data table notebook</a>'\n",
              "            + ' to learn more about interactive tables.';\n",
              "          element.innerHTML = '';\n",
              "          dataTable['output_type'] = 'display_data';\n",
              "          await google.colab.output.renderOutput(dataTable, element);\n",
              "          const docLink = document.createElement('div');\n",
              "          docLink.innerHTML = docLinkHtml;\n",
              "          element.appendChild(docLink);\n",
              "        }\n",
              "      </script>\n",
              "    </div>\n",
              "  </div>\n",
              "  "
            ]
          },
          "metadata": {},
          "execution_count": 9
        }
      ]
    },
    {
      "cell_type": "markdown",
      "source": [
        "# Data Cleaning"
      ],
      "metadata": {
        "id": "HwyJntlJUgdT"
      }
    },
    {
      "cell_type": "code",
      "source": [
        "# get number of unique values for each column\n",
        "counts = df.nunique()\n",
        "# record columns to delete\n",
        "to_del = [i for i,v in enumerate(counts) if v == 1]\n",
        "print(to_del)\n",
        "# drop useless columns\n",
        "df.drop(to_del, axis=1, inplace=True)\n",
        "print(df.shape)"
      ],
      "metadata": {
        "id": "KPYovd_bAUqp",
        "colab": {
          "base_uri": "https://localhost:8080/"
        },
        "outputId": "fdaa4cd9-1749-4b58-820e-f68d87bdfd06"
      },
      "execution_count": null,
      "outputs": [
        {
          "output_type": "stream",
          "name": "stdout",
          "text": [
            "[]\n",
            "(64548, 8)\n"
          ]
        }
      ]
    },
    {
      "cell_type": "code",
      "source": [
        "# get number of unique values for each row\n",
        "counts = df.duplicated()\n",
        "# record rows to delete\n",
        "to_del = [i for i,v in enumerate(counts) if v == 1]\n",
        "print(to_del)\n",
        "print(df.shape)"
      ],
      "metadata": {
        "id": "x-5PSTq2BfwM",
        "colab": {
          "base_uri": "https://localhost:8080/"
        },
        "outputId": "44ad9130-8004-4273-9a34-f8738605c39d"
      },
      "execution_count": null,
      "outputs": [
        {
          "output_type": "stream",
          "name": "stdout",
          "text": [
            "[]\n",
            "(64548, 8)\n"
          ]
        }
      ]
    },
    {
      "cell_type": "code",
      "source": [
        "# Check missing values both to numeric features and categorical features \n",
        "missing = df.isnull().sum()/df.shape[0]*100\n",
        "missing"
      ],
      "metadata": {
        "id": "rTthh0x3_vAs",
        "colab": {
          "base_uri": "https://localhost:8080/"
        },
        "outputId": "9894589d-d1b0-4bcd-add2-3d05c0633d55"
      },
      "execution_count": null,
      "outputs": [
        {
          "output_type": "execute_result",
          "data": {
            "text/plain": [
              "OwnerAge      0.0\n",
              "Gender        0.0\n",
              "Area          0.0\n",
              "RiskClass     0.0\n",
              "VehAge        0.0\n",
              "BonusClass    0.0\n",
              "Exposure      0.0\n",
              "ClaimNb       0.0\n",
              "dtype: float64"
            ]
          },
          "metadata": {},
          "execution_count": 12
        }
      ]
    },
    {
      "cell_type": "code",
      "source": [
        "# Feature transformation\n",
        "df_1 = df.copy()\n",
        "df_1['Exposure'] = df_1['Exposure'].clip(upper=1)\n",
        "df_1['VehAge'] = df_1['VehAge'].clip(upper=20)"
      ],
      "metadata": {
        "id": "Ix0Bfmzhaahp"
      },
      "execution_count": null,
      "outputs": []
    },
    {
      "cell_type": "markdown",
      "source": [
        "# Pre-Processing"
      ],
      "metadata": {
        "id": "LDXMPinAVlpN"
      }
    },
    {
      "cell_type": "code",
      "source": [
        "# Split dataset\n",
        "df_train, df_test, = train_test_split(df_1, train_size=0.8, test_size=0.2,random_state=0)"
      ],
      "metadata": {
        "id": "vDFtsXOueY4r"
      },
      "execution_count": null,
      "outputs": []
    },
    {
      "cell_type": "code",
      "source": [
        "h2o.init(nthreads=-1,max_mem_size = \"12G\")"
      ],
      "metadata": {
        "id": "89WVYzeqazGx",
        "colab": {
          "base_uri": "https://localhost:8080/",
          "height": 537
        },
        "outputId": "422ef768-c391-4aa7-a1ec-3f95067cc0e0"
      },
      "execution_count": null,
      "outputs": [
        {
          "output_type": "stream",
          "name": "stdout",
          "text": [
            "Checking whether there is an H2O instance running at http://localhost:54321 ..... not found.\n",
            "Attempting to start a local H2O server...\n",
            "  Java Version: openjdk version \"11.0.16\" 2022-07-19; OpenJDK Runtime Environment (build 11.0.16+8-post-Ubuntu-0ubuntu118.04); OpenJDK 64-Bit Server VM (build 11.0.16+8-post-Ubuntu-0ubuntu118.04, mixed mode, sharing)\n",
            "  Starting server from /usr/local/lib/python3.7/dist-packages/h2o/backend/bin/h2o.jar\n",
            "  Ice root: /tmp/tmpy8q361sj\n",
            "  JVM stdout: /tmp/tmpy8q361sj/h2o_unknownUser_started_from_python.out\n",
            "  JVM stderr: /tmp/tmpy8q361sj/h2o_unknownUser_started_from_python.err\n",
            "  Server is running at http://127.0.0.1:54321\n",
            "Connecting to H2O server at http://127.0.0.1:54321 ... successful.\n"
          ]
        },
        {
          "output_type": "display_data",
          "data": {
            "text/plain": [
              "--------------------------  ----------------------------------\n",
              "H2O_cluster_uptime:         02 secs\n",
              "H2O_cluster_timezone:       Etc/UTC\n",
              "H2O_data_parsing_timezone:  UTC\n",
              "H2O_cluster_version:        3.38.0.1\n",
              "H2O_cluster_version_age:    19 days\n",
              "H2O_cluster_name:           H2O_from_python_unknownUser_98469x\n",
              "H2O_cluster_total_nodes:    1\n",
              "H2O_cluster_free_memory:    12 Gb\n",
              "H2O_cluster_total_cores:    2\n",
              "H2O_cluster_allowed_cores:  2\n",
              "H2O_cluster_status:         locked, healthy\n",
              "H2O_connection_url:         http://127.0.0.1:54321\n",
              "H2O_connection_proxy:       {\"http\": null, \"https\": null}\n",
              "H2O_internal_security:      False\n",
              "Python_version:             3.7.14 final\n",
              "--------------------------  ----------------------------------"
            ],
            "text/html": [
              "\n",
              "<style>\n",
              "\n",
              "#h2o-table-1.h2o-container {\n",
              "  overflow-x: auto;\n",
              "}\n",
              "#h2o-table-1 .h2o-table {\n",
              "  /* width: 100%; */\n",
              "  margin-top: 1em;\n",
              "  margin-bottom: 1em;\n",
              "}\n",
              "#h2o-table-1 .h2o-table caption {\n",
              "  white-space: nowrap;\n",
              "  caption-side: top;\n",
              "  text-align: left;\n",
              "  /* margin-left: 1em; */\n",
              "  margin: 0;\n",
              "  font-size: larger;\n",
              "}\n",
              "#h2o-table-1 .h2o-table thead {\n",
              "  white-space: nowrap; \n",
              "  position: sticky;\n",
              "  top: 0;\n",
              "  box-shadow: 0 -1px inset;\n",
              "}\n",
              "#h2o-table-1 .h2o-table tbody {\n",
              "  overflow: auto;\n",
              "}\n",
              "#h2o-table-1 .h2o-table th,\n",
              "#h2o-table-1 .h2o-table td {\n",
              "  text-align: right;\n",
              "  /* border: 1px solid; */\n",
              "}\n",
              "#h2o-table-1 .h2o-table tr:nth-child(even) {\n",
              "  /* background: #F5F5F5 */\n",
              "}\n",
              "\n",
              "</style>      \n",
              "<div id=\"h2o-table-1\" class=\"h2o-container\">\n",
              "  <table class=\"h2o-table\">\n",
              "    <caption></caption>\n",
              "    <thead></thead>\n",
              "    <tbody><tr><td>H2O_cluster_uptime:</td>\n",
              "<td>02 secs</td></tr>\n",
              "<tr><td>H2O_cluster_timezone:</td>\n",
              "<td>Etc/UTC</td></tr>\n",
              "<tr><td>H2O_data_parsing_timezone:</td>\n",
              "<td>UTC</td></tr>\n",
              "<tr><td>H2O_cluster_version:</td>\n",
              "<td>3.38.0.1</td></tr>\n",
              "<tr><td>H2O_cluster_version_age:</td>\n",
              "<td>19 days </td></tr>\n",
              "<tr><td>H2O_cluster_name:</td>\n",
              "<td>H2O_from_python_unknownUser_98469x</td></tr>\n",
              "<tr><td>H2O_cluster_total_nodes:</td>\n",
              "<td>1</td></tr>\n",
              "<tr><td>H2O_cluster_free_memory:</td>\n",
              "<td>12 Gb</td></tr>\n",
              "<tr><td>H2O_cluster_total_cores:</td>\n",
              "<td>2</td></tr>\n",
              "<tr><td>H2O_cluster_allowed_cores:</td>\n",
              "<td>2</td></tr>\n",
              "<tr><td>H2O_cluster_status:</td>\n",
              "<td>locked, healthy</td></tr>\n",
              "<tr><td>H2O_connection_url:</td>\n",
              "<td>http://127.0.0.1:54321</td></tr>\n",
              "<tr><td>H2O_connection_proxy:</td>\n",
              "<td>{\"http\": null, \"https\": null}</td></tr>\n",
              "<tr><td>H2O_internal_security:</td>\n",
              "<td>False</td></tr>\n",
              "<tr><td>Python_version:</td>\n",
              "<td>3.7.14 final</td></tr></tbody>\n",
              "  </table>\n",
              "</div>\n"
            ]
          },
          "metadata": {}
        }
      ]
    },
    {
      "cell_type": "code",
      "source": [
        "# Convert Pandas data frame into H2O data frame\n",
        "train = h2o.H2OFrame(df_train)\n",
        "test = h2o.H2OFrame(df_test)"
      ],
      "metadata": {
        "id": "Dn7eZXoXa1K2",
        "colab": {
          "base_uri": "https://localhost:8080/"
        },
        "outputId": "26a5c51d-8f5c-4044-b7f9-ab3ef38d8119"
      },
      "execution_count": null,
      "outputs": [
        {
          "output_type": "stream",
          "name": "stdout",
          "text": [
            "Parse progress: |████████████████████████████████████████████████████████████████| (done) 100%\n",
            "Parse progress: |████████████████████████████████████████████████████████████████| (done) 100%\n"
          ]
        }
      ]
    },
    {
      "cell_type": "code",
      "source": [
        "# Input \n",
        "predictors = ['Gender','RiskClass','Area','BonusClass','OwnerAge','VehAge']\n",
        "# offset\n",
        "train[\"offset\"] = train[\"Exposure\"].log()\n",
        "test[\"offset\"] = test[\"Exposure\"].log()\n",
        "# Output \n",
        "response = 'ClaimNb'"
      ],
      "metadata": {
        "id": "B-YAl0BBa_Ut"
      },
      "execution_count": null,
      "outputs": []
    },
    {
      "cell_type": "markdown",
      "source": [
        "# Modelling 1"
      ],
      "metadata": {
        "id": "sFxoD3yVV_bH"
      }
    },
    {
      "cell_type": "code",
      "source": [
        "# Define model\n",
        "GBM_model_1 = H2OGradientBoostingEstimator(offset_column = \"offset\", distribution=\"poisson\", nfolds=5, categorical_encoding='auto',seed=0)\n",
        "\n",
        "# Train model\n",
        "GBM1 = GBM_model_1.train(x=predictors, y=response, training_frame=train)"
      ],
      "metadata": {
        "id": "myc17TUqbhev",
        "colab": {
          "base_uri": "https://localhost:8080/"
        },
        "outputId": "9d582b8d-12d5-4b61-d378-79428cedb2d6"
      },
      "execution_count": null,
      "outputs": [
        {
          "output_type": "stream",
          "name": "stdout",
          "text": [
            "gbm Model Build progress: |██████████████████████████████████████████████████████| (done) 100%\n"
          ]
        }
      ]
    },
    {
      "cell_type": "code",
      "source": [
        "# summary of the model\n",
        "print(GBM1)"
      ],
      "metadata": {
        "id": "CLLQJpwHaUCS",
        "colab": {
          "base_uri": "https://localhost:8080/"
        },
        "outputId": "616a6f21-2877-4e0f-e55f-2ade4000995d"
      },
      "execution_count": null,
      "outputs": [
        {
          "output_type": "stream",
          "name": "stdout",
          "text": [
            "Model Details\n",
            "=============\n",
            "H2OGradientBoostingEstimator : Gradient Boosting Machine\n",
            "Model Key: GBM_model_python_1665263200673_1\n",
            "\n",
            "\n",
            "Model Summary: \n",
            "    number_of_trees    number_of_internal_trees    model_size_in_bytes    min_depth    max_depth    mean_depth    min_leaves    max_leaves    mean_leaves\n",
            "--  -----------------  --------------------------  ---------------------  -----------  -----------  ------------  ------------  ------------  -------------\n",
            "    50                 50                          22942                  5            5            5             31            32            31.84\n",
            "\n",
            "ModelMetricsRegression: gbm\n",
            "** Reported on train data. **\n",
            "\n",
            "MSE: 0.010408497778151527\n",
            "RMSE: 0.10202204554973168\n",
            "MAE: 0.018876752832314193\n",
            "RMSLE: 0.06896645731336305\n",
            "Mean Residual Deviance: 0.09383354168471425\n",
            "\n",
            "ModelMetricsRegression: gbm\n",
            "** Reported on cross-validation data. **\n",
            "\n",
            "MSE: 0.011728045903044756\n",
            "RMSE: 0.1082961028986951\n",
            "MAE: 0.01954907109081289\n",
            "RMSLE: 0.0738604920655774\n",
            "Mean Residual Deviance: 0.12986678462277815\n",
            "\n",
            "Cross-Validation Metrics Summary: \n",
            "                        mean        sd           cv_1_valid    cv_2_valid    cv_3_valid    cv_4_valid    cv_5_valid\n",
            "----------------------  ----------  -----------  ------------  ------------  ------------  ------------  ------------\n",
            "mae                     0.0195512   0.000479144  0.0192187     0.0201661     0.0189969     0.0194803     0.0198938\n",
            "mean_residual_deviance  0.12989     0.00919897   0.115357      0.13579       0.128981      0.129861      0.139463\n",
            "mse                     0.0117301   0.000525206  0.0113687     0.0120731     0.0111706     0.0115861     0.0124522\n",
            "r2                      -0.0480144  0.0246211    -0.0900092    -0.0283382    -0.0321554    -0.045708     -0.0438613\n",
            "residual_deviance       0.12989     0.00919897   0.115357      0.13579       0.128981      0.129861      0.139463\n",
            "rmse                    0.108284    0.00241653   0.106624      0.109878      0.105691      0.107639      0.111589\n",
            "rmsle                   0.0738489   0.00187373   0.0719087     0.0756613     0.0722338     0.0735232     0.0759176\n",
            "\n",
            "Scoring History: \n",
            "     timestamp            duration    number_of_trees    training_rmse        training_mae          training_deviance\n",
            "---  -------------------  ----------  -----------------  -------------------  --------------------  -------------------\n",
            "     2022-10-08 21:07:37  21.966 sec  0.0                0.10595432669488701  0.020857776866592584  0.1229027226851032\n",
            "     2022-10-08 21:07:38  22.220 sec  1.0                0.10580920000923338  0.02012978187295865   0.12004108607541586\n",
            "     2022-10-08 21:07:38  22.314 sec  2.0                0.1056907540025818   0.019647189491979924  0.11779582458550925\n",
            "     2022-10-08 21:07:38  22.407 sec  3.0                0.10559008550034218  0.019379288394111224  0.11609827432864427\n",
            "     2022-10-08 21:07:38  22.489 sec  4.0                0.10549814701768855  0.019189740773042963  0.11464181415447314\n",
            "     2022-10-08 21:07:38  22.574 sec  5.0                0.1054025319332485   0.0190241791366958    0.1132828192957056\n",
            "     2022-10-08 21:07:38  22.679 sec  6.0                0.10531086774549756  0.018877171791937687  0.11203142842858882\n",
            "     2022-10-08 21:07:38  22.756 sec  7.0                0.10522413713258265  0.01882427823417855   0.11104735769442849\n",
            "     2022-10-08 21:07:38  22.813 sec  8.0                0.10514554267404592  0.018806780164786336  0.11021694725206604\n",
            "     2022-10-08 21:07:38  22.879 sec  9.0                0.10506442815000723  0.018788920208873086  0.10940784822337835\n",
            "---  ---                  ---         ---                ---                  ---                   ---\n",
            "     2022-10-08 21:07:40  24.531 sec  41.0               0.10280976641254033  0.018875802730239883  0.09575215948144461\n",
            "     2022-10-08 21:07:40  24.576 sec  42.0               0.10267415894254772  0.018843519866258474  0.09540853222629853\n",
            "     2022-10-08 21:07:40  24.622 sec  43.0               0.10259291768023869  0.01886758999297912   0.0951979561522068\n",
            "     2022-10-08 21:07:40  24.668 sec  44.0               0.10252178101391039  0.01889482972242724   0.0950158001669212\n",
            "     2022-10-08 21:07:40  24.714 sec  45.0               0.10243745423786722  0.018920544796479293  0.09485600009072717\n",
            "     2022-10-08 21:07:40  24.763 sec  46.0               0.10235706472543728  0.018938325915138037  0.09467944549116593\n",
            "     2022-10-08 21:07:40  24.833 sec  47.0               0.10227743646387262  0.018959571492759824  0.09454298565600373\n",
            "     2022-10-08 21:07:40  24.880 sec  48.0               0.10218929714931578  0.018892428499538948  0.09422593816683364\n",
            "     2022-10-08 21:07:40  24.925 sec  49.0               0.10211427700350235  0.01888301546980903   0.09401433107703998\n",
            "     2022-10-08 21:07:40  24.970 sec  50.0               0.10202204554973168  0.018876752832314193  0.09383354168471425\n",
            "[51 rows x 7 columns]\n",
            "\n",
            "\n",
            "Variable Importances: \n",
            "variable    relative_importance    scaled_importance    percentage\n",
            "----------  ---------------------  -------------------  ------------\n",
            "VehAge      54.8504                1                    0.269617\n",
            "OwnerAge    49.6006                0.904289             0.243812\n",
            "Area        35.2984                0.64354              0.173509\n",
            "RiskClass   32.7549                0.597168             0.161007\n",
            "BonusClass  27.6619                0.504316             0.135972\n",
            "Gender      3.27196                0.0596523            0.0160833\n"
          ]
        }
      ]
    },
    {
      "cell_type": "code",
      "source": [
        "# plot training history\n",
        "GBM1.plot()"
      ],
      "metadata": {
        "id": "7bk2r1MOXs60",
        "colab": {
          "base_uri": "https://localhost:8080/",
          "height": 296
        },
        "outputId": "55531af9-bccb-4a26-f032-722d63d37dc9"
      },
      "execution_count": null,
      "outputs": [
        {
          "output_type": "display_data",
          "data": {
            "text/plain": [
              "<Figure size 432x288 with 1 Axes>"
            ],
            "image/png": "[encoded data removed]"
          },
          "metadata": {
            "needs_background": "light"
          }
        }
      ]
    },
    {
      "cell_type": "markdown",
      "source": [
        "# Model Evaluation 1"
      ],
      "metadata": {
        "id": "sUcYW0ZyWTBh"
      }
    },
    {
      "cell_type": "code",
      "source": [
        "# Eval performance:\n",
        "perf_train_1 = GBM1.model_performance(train)\n",
        "pred_train_1 = GBM1.predict(train)"
      ],
      "metadata": {
        "id": "85Q3KYS5l6z9",
        "colab": {
          "base_uri": "https://localhost:8080/"
        },
        "outputId": "47e92194-b88f-40e8-d3f6-aa8a57af4da4"
      },
      "execution_count": null,
      "outputs": [
        {
          "output_type": "stream",
          "name": "stdout",
          "text": [
            "gbm prediction progress: |███████████████████████████████████████████████████████| (done) 100%\n"
          ]
        }
      ]
    },
    {
      "cell_type": "code",
      "source": [
        "perf_train_1"
      ],
      "metadata": {
        "id": "d0L7soI2rKDG",
        "colab": {
          "base_uri": "https://localhost:8080/",
          "height": 184
        },
        "outputId": "08e7ce25-dcb2-4662-c8f6-9bbce585b27a"
      },
      "execution_count": null,
      "outputs": [
        {
          "output_type": "execute_result",
          "data": {
            "text/plain": [
              "ModelMetricsRegression: gbm\n",
              "** Reported on test data. **\n",
              "\n",
              "MSE: 0.010408497789244655\n",
              "RMSE: 0.10202204560409801\n",
              "MAE: 0.018876753700879507\n",
              "RMSLE: 0.06896645749550273\n",
              "Mean Residual Deviance: 0.09383354096860282"
            ],
            "text/html": [
              "<pre style='margin: 1em 0 1em 0;'>ModelMetricsRegression: gbm\n",
              "** Reported on test data. **\n",
              "\n",
              "MSE: 0.010408497789244655\n",
              "RMSE: 0.10202204560409801\n",
              "MAE: 0.018876753700879507\n",
              "RMSLE: 0.06896645749550273\n",
              "Mean Residual Deviance: 0.09383354096860282</pre>"
            ]
          },
          "metadata": {},
          "execution_count": 22
        }
      ]
    },
    {
      "cell_type": "code",
      "source": [
        "# Eval performance:\n",
        "perf_test_1 = GBM1.model_performance(test)\n",
        "pred_test_1 = GBM1.predict(test)"
      ],
      "metadata": {
        "id": "jNHaS6mDZjss",
        "colab": {
          "base_uri": "https://localhost:8080/"
        },
        "outputId": "80c02c3e-cb0d-42b8-8079-f3a488b5f305"
      },
      "execution_count": null,
      "outputs": [
        {
          "output_type": "stream",
          "name": "stdout",
          "text": [
            "gbm prediction progress: |███████████████████████████████████████████████████████| (done) 100%\n"
          ]
        }
      ]
    },
    {
      "cell_type": "code",
      "source": [
        "perf_test_1"
      ],
      "metadata": {
        "id": "usBY8j4Qa4gk",
        "colab": {
          "base_uri": "https://localhost:8080/",
          "height": 184
        },
        "outputId": "b4abb171-7fd9-48e9-9c57-2f935a970ff1"
      },
      "execution_count": null,
      "outputs": [
        {
          "output_type": "execute_result",
          "data": {
            "text/plain": [
              "ModelMetricsRegression: gbm\n",
              "** Reported on test data. **\n",
              "\n",
              "MSE: 0.01312212836577\n",
              "RMSE: 0.11455185884903832\n",
              "MAE: 0.02081020347197128\n",
              "RMSLE: 0.07717426295192831\n",
              "Mean Residual Deviance: 0.1355863553144911"
            ],
            "text/html": [
              "<pre style='margin: 1em 0 1em 0;'>ModelMetricsRegression: gbm\n",
              "** Reported on test data. **\n",
              "\n",
              "MSE: 0.01312212836577\n",
              "RMSE: 0.11455185884903832\n",
              "MAE: 0.02081020347197128\n",
              "RMSLE: 0.07717426295192831\n",
              "Mean Residual Deviance: 0.1355863553144911</pre>"
            ]
          },
          "metadata": {},
          "execution_count": 24
        }
      ]
    },
    {
      "cell_type": "code",
      "source": [
        "# replace H2O data frame with a pandas data frame\n",
        "predictions_tr_1 = pred_train_1.as_data_frame()\n",
        "predictions_te_1 = pred_test_1.as_data_frame()"
      ],
      "metadata": {
        "id": "w28PrmTwdjZg"
      },
      "execution_count": null,
      "outputs": []
    },
    {
      "cell_type": "code",
      "source": [
        "mean_tr_1 = predictions_tr_1.mean()\n",
        "mean_te_1 = predictions_te_1.mean()"
      ],
      "metadata": {
        "id": "I0d77y84K-PY"
      },
      "execution_count": null,
      "outputs": []
    },
    {
      "cell_type": "code",
      "source": [
        "# replaced 0 values with the mean because \"mean poisson deviance\" is strictly positive \n",
        "predictions_tr_1 = predictions_tr_1.replace(0, mean_tr_1)\n",
        "predictions_te_1 = predictions_te_1.replace(0, mean_te_1)\n"
      ],
      "metadata": {
        "id": "drQu3958MBBb"
      },
      "execution_count": null,
      "outputs": []
    },
    {
      "cell_type": "code",
      "source": [
        "mean_poisson_deviance(df_train.ClaimNb,predictions_tr_1)"
      ],
      "metadata": {
        "id": "8kb3DWf2djif",
        "colab": {
          "base_uri": "https://localhost:8080/"
        },
        "outputId": "7904668b-63fb-420c-faa8-65441d28e16f"
      },
      "execution_count": null,
      "outputs": [
        {
          "output_type": "execute_result",
          "data": {
            "text/plain": [
              "0.07223674416705307"
            ]
          },
          "metadata": {},
          "execution_count": 28
        }
      ]
    },
    {
      "cell_type": "code",
      "source": [
        "mean_poisson_deviance(df_test.ClaimNb,predictions_te_1)"
      ],
      "metadata": {
        "id": "-tw5iXLCeL5K",
        "colab": {
          "base_uri": "https://localhost:8080/"
        },
        "outputId": "6ab29086-7653-440c-c75a-5b2fcea08df4"
      },
      "execution_count": null,
      "outputs": [
        {
          "output_type": "execute_result",
          "data": {
            "text/plain": [
              "0.11830431394652079"
            ]
          },
          "metadata": {},
          "execution_count": 29
        }
      ]
    },
    {
      "cell_type": "code",
      "source": [
        "np.sqrt(mean_squared_error(df_train.ClaimNb, predictions_tr_1))"
      ],
      "metadata": {
        "id": "7f3PfTpTeL7z",
        "colab": {
          "base_uri": "https://localhost:8080/"
        },
        "outputId": "49442448-4e79-4514-8ac8-919e9ef7bdbb"
      },
      "execution_count": null,
      "outputs": [
        {
          "output_type": "execute_result",
          "data": {
            "text/plain": [
              "0.10202963487192426"
            ]
          },
          "metadata": {},
          "execution_count": 30
        }
      ]
    },
    {
      "cell_type": "code",
      "source": [
        "np.sqrt(mean_squared_error(df_test.ClaimNb, predictions_te_1))"
      ],
      "metadata": {
        "id": "Rjhm6vHleL-Q",
        "colab": {
          "base_uri": "https://localhost:8080/"
        },
        "outputId": "12e2a766-3cab-4ef3-bd64-94935b6e4d49"
      },
      "execution_count": null,
      "outputs": [
        {
          "output_type": "execute_result",
          "data": {
            "text/plain": [
              "0.1145651284237595"
            ]
          },
          "metadata": {},
          "execution_count": 31
        }
      ]
    },
    {
      "cell_type": "markdown",
      "source": [
        "# Modelling 2"
      ],
      "metadata": {
        "id": "dSUE6SttW0Y3"
      }
    },
    {
      "cell_type": "code",
      "source": [
        "# Input \n",
        "predictors_ = ['RiskClass','Area','BonusClass','OwnerAge','VehAge']"
      ],
      "metadata": {
        "id": "_-Vfde72Wzkm"
      },
      "execution_count": null,
      "outputs": []
    },
    {
      "cell_type": "code",
      "source": [
        "# Define model\n",
        "GBM_model_2 = H2OGradientBoostingEstimator(offset_column = \"offset\", distribution=\"poisson\", nfolds=5, categorical_encoding='auto',seed=0)\n",
        "\n",
        "# Train model\n",
        "GBM2 = GBM_model_2.train(x=predictors_, y=response, training_frame=train)"
      ],
      "metadata": {
        "id": "iEfqFjxBXBVF",
        "colab": {
          "base_uri": "https://localhost:8080/"
        },
        "outputId": "a4232305-8c16-425f-baee-502c5c47b157"
      },
      "execution_count": null,
      "outputs": [
        {
          "output_type": "stream",
          "name": "stdout",
          "text": [
            "gbm Model Build progress: |██████████████████████████████████████████████████████| (done) 100%\n"
          ]
        }
      ]
    },
    {
      "cell_type": "code",
      "source": [
        "# summary of the model\n",
        "print(GBM2)"
      ],
      "metadata": {
        "id": "JIBDM4eAMsrT",
        "colab": {
          "base_uri": "https://localhost:8080/"
        },
        "outputId": "e0dad2d6-7f8c-4fa8-feaa-75117bd2a899"
      },
      "execution_count": null,
      "outputs": [
        {
          "output_type": "stream",
          "name": "stdout",
          "text": [
            "Model Details\n",
            "=============\n",
            "H2OGradientBoostingEstimator : Gradient Boosting Machine\n",
            "Model Key: GBM_model_python_1665263200673_2\n",
            "\n",
            "\n",
            "Model Summary: \n",
            "    number_of_trees    number_of_internal_trees    model_size_in_bytes    min_depth    max_depth    mean_depth    min_leaves    max_leaves    mean_leaves\n",
            "--  -----------------  --------------------------  ---------------------  -----------  -----------  ------------  ------------  ------------  -------------\n",
            "    50                 50                          22557                  5            5            5             26            32            31.24\n",
            "\n",
            "ModelMetricsRegression: gbm\n",
            "** Reported on train data. **\n",
            "\n",
            "MSE: 0.010406249106543445\n",
            "RMSE: 0.10201102443630024\n",
            "MAE: 0.018810939052031267\n",
            "RMSLE: 0.06898849981359095\n",
            "Mean Residual Deviance: 0.09389387251383283\n",
            "\n",
            "ModelMetricsRegression: gbm\n",
            "** Reported on cross-validation data. **\n",
            "\n",
            "MSE: 0.011586462226238731\n",
            "RMSE: 0.10764043025851733\n",
            "MAE: 0.019608500201957944\n",
            "RMSLE: 0.07353782505090813\n",
            "Mean Residual Deviance: 0.13137544536492135\n",
            "\n",
            "Cross-Validation Metrics Summary: \n",
            "                        mean        sd           cv_1_valid    cv_2_valid    cv_3_valid    cv_4_valid    cv_5_valid\n",
            "----------------------  ----------  -----------  ------------  ------------  ------------  ------------  ------------\n",
            "mae                     0.0196117   0.000749603  0.0189161     0.0205111     0.0188526     0.0195546     0.0202242\n",
            "mean_residual_deviance  0.131413    0.00932875   0.117622      0.137309      0.125798      0.138592      0.137744\n",
            "mse                     0.0115893   0.000639404  0.010965      0.0120526     0.0109312     0.0116365     0.012361\n",
            "r2                      -0.0348812  0.0172761    -0.0513023    -0.0265959    -0.0100321    -0.0502527    -0.0362228\n",
            "residual_deviance       0.131413    0.00932875   0.117622      0.137309      0.125798      0.138592      0.137744\n",
            "rmse                    0.107621    0.00296985   0.104714      0.109784      0.104552      0.107872      0.11118\n",
            "rmsle                   0.0735203   0.00224447   0.0709858     0.0755836     0.0714008     0.0739151     0.0757161\n",
            "\n",
            "Scoring History: \n",
            "     timestamp            duration    number_of_trees    training_rmse        training_mae          training_deviance\n",
            "---  -------------------  ----------  -----------------  -------------------  --------------------  -------------------\n",
            "     2022-10-08 21:10:12  14.278 sec  0.0                0.10595432669488701  0.020857776866592584  0.1229027226851032\n",
            "     2022-10-08 21:10:12  14.334 sec  1.0                0.10581099558773559  0.02013876845918336   0.12006488306661438\n",
            "     2022-10-08 21:10:12  14.384 sec  2.0                0.10569277466571707  0.01966046101126412   0.1178292187116737\n",
            "     2022-10-08 21:10:12  14.457 sec  3.0                0.10559231557058797  0.019394310047889742  0.11612824209521694\n",
            "     2022-10-08 21:10:12  14.511 sec  4.0                0.10549681827928759  0.019200793593107935  0.11463920143699376\n",
            "     2022-10-08 21:10:12  14.557 sec  5.0                0.10540058344330668  0.018989329214312123  0.11319833731248664\n",
            "     2022-10-08 21:10:12  14.605 sec  6.0                0.10530748448596206  0.018848161914983435  0.11195310966551626\n",
            "     2022-10-08 21:10:12  14.650 sec  7.0                0.10522379206189016  0.01881315117016791   0.11102662167908982\n",
            "     2022-10-08 21:10:12  14.703 sec  8.0                0.10514685471833123  0.01879657588643741   0.11019588463631685\n",
            "     2022-10-08 21:10:12  14.745 sec  9.0                0.10506481841436756  0.018785210038379803  0.10939636218606769\n",
            "---  ---                  ---         ---                ---                  ---                   ---\n",
            "     2022-10-08 21:10:14  16.254 sec  41.0               0.1026446813232665   0.018782646732551474  0.09577758659830717\n",
            "     2022-10-08 21:10:14  16.306 sec  42.0               0.1025780427215934   0.018808200175398686  0.09558635966059092\n",
            "     2022-10-08 21:10:14  16.358 sec  43.0               0.10248815413332601  0.01883314304882796   0.09539566721732447\n",
            "     2022-10-08 21:10:14  16.406 sec  44.0               0.10240804012834114  0.01886191697848788   0.09523398241020972\n",
            "     2022-10-08 21:10:14  16.449 sec  45.0               0.10232425739419788  0.018889773323588783  0.09508279159412668\n",
            "     2022-10-08 21:10:14  16.491 sec  46.0               0.10227044629381388  0.01883135877777796   0.09475578363137727\n",
            "     2022-10-08 21:10:14  16.537 sec  47.0               0.1021814739789793   0.018819018636167157  0.09450433012949518\n",
            "     2022-10-08 21:10:14  16.582 sec  48.0               0.10209347794347541  0.018752945981899635  0.09415940160378353\n",
            "     2022-10-08 21:10:14  16.626 sec  49.0               0.10204367896004607  0.018779346596875062  0.09401473047832869\n",
            "     2022-10-08 21:10:14  16.670 sec  50.0               0.10201102443630024  0.018810939052031267  0.09389387251383283\n",
            "[51 rows x 7 columns]\n",
            "\n",
            "\n",
            "Variable Importances: \n",
            "variable    relative_importance    scaled_importance    percentage\n",
            "----------  ---------------------  -------------------  ------------\n",
            "OwnerAge    54.0063                1                    0.25766\n",
            "VehAge      52.6398                0.974697             0.25114\n",
            "Area        36.2153                0.670575             0.17278\n",
            "BonusClass  33.522                 0.620706             0.159931\n",
            "RiskClass   33.2197                0.615109             0.158489\n"
          ]
        }
      ]
    },
    {
      "cell_type": "code",
      "source": [
        "# plot training history\n",
        "GBM2.plot()"
      ],
      "metadata": {
        "id": "9GM-toA3XjjT",
        "colab": {
          "base_uri": "https://localhost:8080/",
          "height": 296
        },
        "outputId": "c3c6e8ce-e5b5-4cb0-e80c-d654c435aa0b"
      },
      "execution_count": null,
      "outputs": [
        {
          "output_type": "display_data",
          "data": {
            "text/plain": [
              "<Figure size 432x288 with 1 Axes>"
            ],
            "image/png": "[encoded data removed]"
          },
          "metadata": {
            "needs_background": "light"
          }
        }
      ]
    },
    {
      "cell_type": "markdown",
      "source": [
        "# Model evaluation 2"
      ],
      "metadata": {
        "id": "DSzQKrqSXN7-"
      }
    },
    {
      "cell_type": "code",
      "source": [
        "# Eval performance:\n",
        "perf_train_2 = GBM2.model_performance(train)\n",
        "pred_train_2 = GBM2.predict(train)"
      ],
      "metadata": {
        "id": "7T5a8Nx_XXjC",
        "colab": {
          "base_uri": "https://localhost:8080/"
        },
        "outputId": "ae434599-cbe0-4130-8438-9e1d53394901"
      },
      "execution_count": null,
      "outputs": [
        {
          "output_type": "stream",
          "name": "stdout",
          "text": [
            "gbm prediction progress: |███████████████████████████████████████████████████████| (done) 100%\n"
          ]
        }
      ]
    },
    {
      "cell_type": "code",
      "source": [
        "perf_train_2"
      ],
      "metadata": {
        "id": "fEE91xi9Xawr",
        "colab": {
          "base_uri": "https://localhost:8080/",
          "height": 184
        },
        "outputId": "b7a265f2-94a5-483e-8041-7c05a43294e7"
      },
      "execution_count": null,
      "outputs": [
        {
          "output_type": "execute_result",
          "data": {
            "text/plain": [
              "ModelMetricsRegression: gbm\n",
              "** Reported on test data. **\n",
              "\n",
              "MSE: 0.010406249115583707\n",
              "RMSE: 0.10201102448061046\n",
              "MAE: 0.018810939520680737\n",
              "RMSLE: 0.06898849982758341\n",
              "Mean Residual Deviance: 0.09389387158622384"
            ],
            "text/html": [
              "<pre style='margin: 1em 0 1em 0;'>ModelMetricsRegression: gbm\n",
              "** Reported on test data. **\n",
              "\n",
              "MSE: 0.010406249115583707\n",
              "RMSE: 0.10201102448061046\n",
              "MAE: 0.018810939520680737\n",
              "RMSLE: 0.06898849982758341\n",
              "Mean Residual Deviance: 0.09389387158622384</pre>"
            ]
          },
          "metadata": {},
          "execution_count": 37
        }
      ]
    },
    {
      "cell_type": "code",
      "source": [
        "# Eval performance:\n",
        "perf_test_2 = GBM2.model_performance(test)\n",
        "pred_test_2 = GBM2.predict(test)"
      ],
      "metadata": {
        "id": "j5KVQhJdXdIw",
        "colab": {
          "base_uri": "https://localhost:8080/"
        },
        "outputId": "78764fc2-122a-4738-8444-459715590757"
      },
      "execution_count": null,
      "outputs": [
        {
          "output_type": "stream",
          "name": "stdout",
          "text": [
            "gbm prediction progress: |███████████████████████████████████████████████████████| (done) 100%\n"
          ]
        }
      ]
    },
    {
      "cell_type": "code",
      "source": [
        "perf_test_2"
      ],
      "metadata": {
        "id": "VzqISBoTXdMX",
        "colab": {
          "base_uri": "https://localhost:8080/",
          "height": 184
        },
        "outputId": "3b38a00d-9a7c-492a-ef9c-e6404e69a995"
      },
      "execution_count": null,
      "outputs": [
        {
          "output_type": "execute_result",
          "data": {
            "text/plain": [
              "ModelMetricsRegression: gbm\n",
              "** Reported on test data. **\n",
              "\n",
              "MSE: 0.012896099493212883\n",
              "RMSE: 0.1135609945941514\n",
              "MAE: 0.020580199356156285\n",
              "RMSLE: 0.07695356426010573\n",
              "Mean Residual Deviance: 0.13201982870789183"
            ],
            "text/html": [
              "<pre style='margin: 1em 0 1em 0;'>ModelMetricsRegression: gbm\n",
              "** Reported on test data. **\n",
              "\n",
              "MSE: 0.012896099493212883\n",
              "RMSE: 0.1135609945941514\n",
              "MAE: 0.020580199356156285\n",
              "RMSLE: 0.07695356426010573\n",
              "Mean Residual Deviance: 0.13201982870789183</pre>"
            ]
          },
          "metadata": {},
          "execution_count": 39
        }
      ]
    },
    {
      "cell_type": "code",
      "source": [
        "# replace H2O data frame with a pandas data frame\n",
        "predictions_tr_2 = pred_train_2.as_data_frame()\n",
        "predictions_te_2 = pred_test_2.as_data_frame()"
      ],
      "metadata": {
        "id": "4xyG4QwiXqkO"
      },
      "execution_count": null,
      "outputs": []
    },
    {
      "cell_type": "code",
      "source": [
        "mean_tr_2 = predictions_tr_2.mean()\n",
        "mean_te_2 = predictions_te_2.mean()"
      ],
      "metadata": {
        "id": "456OFl_dILGN"
      },
      "execution_count": null,
      "outputs": []
    },
    {
      "cell_type": "code",
      "source": [
        "# replaced 0 values with the mean because \"mean poisson deviance\" is strictly positive \n",
        "predictions_tr_2 = predictions_tr_2.replace(0, mean_tr_1)\n",
        "predictions_te_2 = predictions_te_2.replace(0, mean_te_1)"
      ],
      "metadata": {
        "id": "TvU-aRjVISB0"
      },
      "execution_count": null,
      "outputs": []
    },
    {
      "cell_type": "code",
      "source": [
        "mean_poisson_deviance(df_train.ClaimNb,predictions_tr_2)"
      ],
      "metadata": {
        "id": "3t1yxvuZYO-M",
        "colab": {
          "base_uri": "https://localhost:8080/"
        },
        "outputId": "fa03f51b-5e94-45c5-e656-6325af8bdd9f"
      },
      "execution_count": null,
      "outputs": [
        {
          "output_type": "execute_result",
          "data": {
            "text/plain": [
              "0.07229707480947554"
            ]
          },
          "metadata": {},
          "execution_count": 43
        }
      ]
    },
    {
      "cell_type": "code",
      "source": [
        "mean_poisson_deviance(df_test.ClaimNb,predictions_te_2)"
      ],
      "metadata": {
        "id": "dplKn-k6YcgM",
        "colab": {
          "base_uri": "https://localhost:8080/"
        },
        "outputId": "3cf693d7-5223-4472-ea33-e1dab29538c4"
      },
      "execution_count": null,
      "outputs": [
        {
          "output_type": "execute_result",
          "data": {
            "text/plain": [
              "0.11045259753520158"
            ]
          },
          "metadata": {},
          "execution_count": 44
        }
      ]
    },
    {
      "cell_type": "code",
      "source": [
        "np.sqrt(mean_squared_error(df_train.ClaimNb, predictions_tr_2))"
      ],
      "metadata": {
        "id": "aWyvf-pwYck2",
        "colab": {
          "base_uri": "https://localhost:8080/"
        },
        "outputId": "4f97fdc6-96c6-421f-8c5a-68045b7a1eb7"
      },
      "execution_count": null,
      "outputs": [
        {
          "output_type": "execute_result",
          "data": {
            "text/plain": [
              "0.10201861456830949"
            ]
          },
          "metadata": {},
          "execution_count": 45
        }
      ]
    },
    {
      "cell_type": "code",
      "source": [
        "np.sqrt(mean_squared_error(df_test.ClaimNb, predictions_te_2))"
      ],
      "metadata": {
        "id": "cBJMqjF3YcnQ",
        "colab": {
          "base_uri": "https://localhost:8080/"
        },
        "outputId": "498aa694-3d20-4e01-c5ad-228dbb9ae79e"
      },
      "execution_count": null,
      "outputs": [
        {
          "output_type": "execute_result",
          "data": {
            "text/plain": [
              "0.11357437993753423"
            ]
          },
          "metadata": {},
          "execution_count": 46
        }
      ]
    },
    {
      "cell_type": "markdown",
      "source": [
        "# Modelling 3"
      ],
      "metadata": {
        "id": "sOy9JJbARiAc"
      }
    },
    {
      "cell_type": "code",
      "source": [
        "train_, valid = train.split_frame(ratios = [0.9], seed = 0)"
      ],
      "metadata": {
        "id": "MFZrRTWx8rB7"
      },
      "execution_count": null,
      "outputs": []
    },
    {
      "cell_type": "code",
      "source": [
        "# define range of hyper-params for the grid search\n",
        "gbm_params = {'ntrees':[10,20],\n",
        "              'learn_rate':[0.01, 0.1],\n",
        "              'max_depth': [3, 5, 9]}\n"
      ],
      "metadata": {
        "id": "f8jEL2GCS9zm"
      },
      "execution_count": null,
      "outputs": []
    },
    {
      "cell_type": "code",
      "source": [
        "# set up the grid search and define the model\n",
        "GBM_model_tuning = H2OGridSearch(H2OGradientBoostingEstimator(offset_column = \"offset\", distribution=\"poisson\", nfolds=5, categorical_encoding='auto',seed=0),\n",
        "                           grid_id ='GBM_model_tuning',\n",
        "                           hyper_params = gbm_params)\n"
      ],
      "metadata": {
        "id": "SZB2YcBNUi6B"
      },
      "execution_count": null,
      "outputs": []
    },
    {
      "cell_type": "code",
      "source": [
        "# Train model\n",
        "GBMTuning = GBM_model_tuning.train(x=predictors_, y=response, training_frame=train_, validation_frame=valid)"
      ],
      "metadata": {
        "id": "AryKXWDaWvqy",
        "colab": {
          "base_uri": "https://localhost:8080/"
        },
        "outputId": "fe93201f-7e80-4494-a7d2-f15591e24b54"
      },
      "execution_count": null,
      "outputs": [
        {
          "output_type": "stream",
          "name": "stdout",
          "text": [
            "gbm Grid Build progress: |███████████████████████████████████████████████████████| (done) 100%\n"
          ]
        }
      ]
    },
    {
      "cell_type": "code",
      "source": [
        "# Get the grid results, sorted by validation Mean Residual Deviance\n",
        "GBM_gridperf = GBMTuning.get_grid(sort_by='residual_deviance', decreasing=False)\n",
        "GBM_gridperf"
      ],
      "metadata": {
        "id": "8BR5nuOpXU2l",
        "colab": {
          "base_uri": "https://localhost:8080/",
          "height": 340
        },
        "outputId": "c90b40c4-5e12-4d5e-b7cd-fe99369e302f"
      },
      "execution_count": null,
      "outputs": [
        {
          "output_type": "execute_result",
          "data": {
            "text/plain": [
              "Hyper-Parameter Search Summary: ordered by increasing residual_deviance\n",
              "    learn_rate    max_depth    ntrees    model_ids                  residual_deviance\n",
              "--  ------------  -----------  --------  -------------------------  -------------------\n",
              "    0.1           3            20        GBM_model_tuning_model_8   0.11218\n",
              "    0.1           3            10        GBM_model_tuning_model_2   0.114493\n",
              "    0.1           5            10        GBM_model_tuning_model_4   0.117196\n",
              "    0.01          5            20        GBM_model_tuning_model_9   0.120042\n",
              "    0.01          3            20        GBM_model_tuning_model_7   0.120358\n",
              "    0.1           5            20        GBM_model_tuning_model_10  0.120855\n",
              "    0.01          5            10        GBM_model_tuning_model_3   0.121425\n",
              "    0.01          3            10        GBM_model_tuning_model_1   0.121642\n",
              "    0.01          9            10        GBM_model_tuning_model_5   0.12893\n",
              "    0.01          9            20        GBM_model_tuning_model_11  0.141464\n",
              "    0.1           9            10        GBM_model_tuning_model_6   0.240909\n",
              "    0.1           9            20        GBM_model_tuning_model_12  0.286661"
            ],
            "text/html": [
              "\n",
              "<style>\n",
              "\n",
              "#h2o-table-2.h2o-container {\n",
              "  overflow-x: auto;\n",
              "}\n",
              "#h2o-table-2 .h2o-table {\n",
              "  /* width: 100%; */\n",
              "  margin-top: 1em;\n",
              "  margin-bottom: 1em;\n",
              "}\n",
              "#h2o-table-2 .h2o-table caption {\n",
              "  white-space: nowrap;\n",
              "  caption-side: top;\n",
              "  text-align: left;\n",
              "  /* margin-left: 1em; */\n",
              "  margin: 0;\n",
              "  font-size: larger;\n",
              "}\n",
              "#h2o-table-2 .h2o-table thead {\n",
              "  white-space: nowrap; \n",
              "  position: sticky;\n",
              "  top: 0;\n",
              "  box-shadow: 0 -1px inset;\n",
              "}\n",
              "#h2o-table-2 .h2o-table tbody {\n",
              "  overflow: auto;\n",
              "}\n",
              "#h2o-table-2 .h2o-table th,\n",
              "#h2o-table-2 .h2o-table td {\n",
              "  text-align: right;\n",
              "  /* border: 1px solid; */\n",
              "}\n",
              "#h2o-table-2 .h2o-table tr:nth-child(even) {\n",
              "  /* background: #F5F5F5 */\n",
              "}\n",
              "\n",
              "</style>      \n",
              "<div id=\"h2o-table-2\" class=\"h2o-container\">\n",
              "  <table class=\"h2o-table\">\n",
              "    <caption>Hyper-Parameter Search Summary: ordered by increasing residual_deviance</caption>\n",
              "    <thead><tr><th></th>\n",
              "<th>learn_rate</th>\n",
              "<th>max_depth</th>\n",
              "<th>ntrees</th>\n",
              "<th>model_ids</th>\n",
              "<th>residual_deviance</th></tr></thead>\n",
              "    <tbody><tr><td></td>\n",
              "<td>0.1</td>\n",
              "<td>3.0</td>\n",
              "<td>20.0</td>\n",
              "<td>GBM_model_tuning_model_8</td>\n",
              "<td>0.1121799</td></tr>\n",
              "<tr><td></td>\n",
              "<td>0.1</td>\n",
              "<td>3.0</td>\n",
              "<td>10.0</td>\n",
              "<td>GBM_model_tuning_model_2</td>\n",
              "<td>0.1144932</td></tr>\n",
              "<tr><td></td>\n",
              "<td>0.1</td>\n",
              "<td>5.0</td>\n",
              "<td>10.0</td>\n",
              "<td>GBM_model_tuning_model_4</td>\n",
              "<td>0.1171957</td></tr>\n",
              "<tr><td></td>\n",
              "<td>0.01</td>\n",
              "<td>5.0</td>\n",
              "<td>20.0</td>\n",
              "<td>GBM_model_tuning_model_9</td>\n",
              "<td>0.1200425</td></tr>\n",
              "<tr><td></td>\n",
              "<td>0.01</td>\n",
              "<td>3.0</td>\n",
              "<td>20.0</td>\n",
              "<td>GBM_model_tuning_model_7</td>\n",
              "<td>0.1203576</td></tr>\n",
              "<tr><td></td>\n",
              "<td>0.1</td>\n",
              "<td>5.0</td>\n",
              "<td>20.0</td>\n",
              "<td>GBM_model_tuning_model_10</td>\n",
              "<td>0.1208549</td></tr>\n",
              "<tr><td></td>\n",
              "<td>0.01</td>\n",
              "<td>5.0</td>\n",
              "<td>10.0</td>\n",
              "<td>GBM_model_tuning_model_3</td>\n",
              "<td>0.1214249</td></tr>\n",
              "<tr><td></td>\n",
              "<td>0.01</td>\n",
              "<td>3.0</td>\n",
              "<td>10.0</td>\n",
              "<td>GBM_model_tuning_model_1</td>\n",
              "<td>0.1216425</td></tr>\n",
              "<tr><td></td>\n",
              "<td>0.01</td>\n",
              "<td>9.0</td>\n",
              "<td>10.0</td>\n",
              "<td>GBM_model_tuning_model_5</td>\n",
              "<td>0.1289302</td></tr>\n",
              "<tr><td></td>\n",
              "<td>0.01</td>\n",
              "<td>9.0</td>\n",
              "<td>20.0</td>\n",
              "<td>GBM_model_tuning_model_11</td>\n",
              "<td>0.1414638</td></tr>\n",
              "<tr><td></td>\n",
              "<td>0.1</td>\n",
              "<td>9.0</td>\n",
              "<td>10.0</td>\n",
              "<td>GBM_model_tuning_model_6</td>\n",
              "<td>0.2409086</td></tr>\n",
              "<tr><td></td>\n",
              "<td>0.1</td>\n",
              "<td>9.0</td>\n",
              "<td>20.0</td>\n",
              "<td>GBM_model_tuning_model_12</td>\n",
              "<td>0.2866606</td></tr></tbody>\n",
              "  </table>\n",
              "</div>\n"
            ]
          },
          "metadata": {},
          "execution_count": 51
        }
      ]
    },
    {
      "cell_type": "code",
      "source": [
        "# Define model\n",
        "GBM_model_3 = H2OGradientBoostingEstimator(ntrees = 20, learn_rate = 0.10, max_depth = 3, nfolds=5, categorical_encoding='auto',seed=0)\n",
        "\n",
        "# Train model\n",
        "GBM3 = GBM_model_3.train(x=predictors_, y=response, training_frame=train_, validation_frame=valid)"
      ],
      "metadata": {
        "id": "ZUKDeePgazj5",
        "colab": {
          "base_uri": "https://localhost:8080/"
        },
        "outputId": "bcec657f-b769-42d5-fef3-6492d1c0610c"
      },
      "execution_count": null,
      "outputs": [
        {
          "output_type": "stream",
          "name": "stdout",
          "text": [
            "gbm Model Build progress: |██████████████████████████████████████████████████████| (done) 100%\n"
          ]
        }
      ]
    },
    {
      "cell_type": "code",
      "source": [
        "# summary of the model\n",
        "print(GBM3)"
      ],
      "metadata": {
        "id": "tT4eRWacQ8y3",
        "colab": {
          "base_uri": "https://localhost:8080/"
        },
        "outputId": "85cd2f90-b494-41c1-cb92-83152ff47cc8"
      },
      "execution_count": null,
      "outputs": [
        {
          "output_type": "stream",
          "name": "stdout",
          "text": [
            "Model Details\n",
            "=============\n",
            "H2OGradientBoostingEstimator : Gradient Boosting Machine\n",
            "Model Key: GBM_model_python_1665263200673_3\n",
            "\n",
            "\n",
            "Model Summary: \n",
            "    number_of_trees    number_of_internal_trees    model_size_in_bytes    min_depth    max_depth    mean_depth    min_leaves    max_leaves    mean_leaves\n",
            "--  -----------------  --------------------------  ---------------------  -----------  -----------  ------------  ------------  ------------  -------------\n",
            "    20                 20                          3170                   3            3            3             8             8             8\n",
            "\n",
            "ModelMetricsRegression: gbm\n",
            "** Reported on train data. **\n",
            "\n",
            "MSE: 0.011014368645053913\n",
            "RMSE: 0.1049493622898868\n",
            "MAE: 0.020516796047275878\n",
            "RMSLE: 0.0707580509004955\n",
            "Mean Residual Deviance: 0.011014368645053913\n",
            "\n",
            "ModelMetricsRegression: gbm\n",
            "** Reported on validation data. **\n",
            "\n",
            "MSE: 0.011060845765063587\n",
            "RMSE: 0.10517055559929113\n",
            "MAE: 0.02080639756926606\n",
            "RMSLE: 0.07206229363792982\n",
            "Mean Residual Deviance: 0.011060845765063587\n",
            "\n",
            "ModelMetricsRegression: gbm\n",
            "** Reported on cross-validation data. **\n",
            "\n",
            "MSE: 0.01106213517809063\n",
            "RMSE: 0.10517668552531322\n",
            "MAE: 0.020551356773819498\n",
            "RMSLE: 0.07098288226279195\n",
            "Mean Residual Deviance: 0.01106213517809063\n",
            "\n",
            "Cross-Validation Metrics Summary: \n",
            "                        mean       sd           cv_1_valid    cv_2_valid    cv_3_valid    cv_4_valid    cv_5_valid\n",
            "----------------------  ---------  -----------  ------------  ------------  ------------  ------------  ------------\n",
            "mae                     0.0205499  0.000900416  0.0212344     0.019375      0.0207238     0.0215186     0.0198976\n",
            "mean_residual_deviance  0.0110596  0.00112846   0.0115499     0.00965273    0.0116716     0.0123193     0.0101042\n",
            "mse                     0.0110596  0.00112846   0.0115499     0.00965273    0.0116716     0.0123193     0.0101042\n",
            "r2                      0.0123191  0.0022815    0.0120364     0.00965875    0.0136272     0.0154404     0.0108326\n",
            "residual_deviance       0.0110596  0.00112846   0.0115499     0.00965273    0.0116716     0.0123193     0.0101042\n",
            "rmse                    0.105053   0.00540521   0.10747       0.0982483     0.108035      0.110992      0.10052\n",
            "rmsle                   0.0708998  0.00369145   0.0734896     0.0660481     0.0718438     0.074913      0.0682046\n",
            "\n",
            "Scoring History: \n",
            "     timestamp            duration    number_of_trees    training_rmse        training_mae          training_deviance     validation_rmse      validation_mae        validation_deviance\n",
            "---  -------------------  ----------  -----------------  -------------------  --------------------  --------------------  -------------------  --------------------  ---------------------\n",
            "     2022-10-08 21:15:05  4.336 sec   0.0                0.10584564369047272  0.020777439779896552  0.011203300288250508  0.10562252171689634  0.021162361072398713  0.011156117093836241\n",
            "     2022-10-08 21:15:05  4.373 sec   1.0                0.10571803808795363  0.020751603346250976  0.011176303577166015  0.10554580921615202  0.021123596196461248  0.011139917843092359\n",
            "     2022-10-08 21:15:05  4.410 sec   2.0                0.10561132449697277  0.020728061528122416  0.01115375186200488   0.10549222726205892  0.02109422423562634   0.011128610012709888\n",
            "     2022-10-08 21:15:05  4.446 sec   3.0                0.10552123967319425  0.02070657403874922   0.011134732022167705  0.10544721990591459  0.02106685229819318   0.01111911618588631\n",
            "     2022-10-08 21:15:05  4.481 sec   4.0                0.10544693419263847  0.02068724710943434   0.011119055930626627  0.10538997305637998  0.0210337749269469    0.0111070464208245\n",
            "     2022-10-08 21:15:05  4.517 sec   5.0                0.10538297077990892  0.020669664921315885  0.011105570530399136  0.10537089872638752  0.021014412081553222  0.011103026298406617\n",
            "     2022-10-08 21:15:05  4.546 sec   6.0                0.10532896659610197  0.020653308459852915  0.011094191204202766  0.10533690784730954  0.02099191205674458   0.011095864154832581\n",
            "     2022-10-08 21:15:05  4.583 sec   7.0                0.10527911053675852  0.020637609620322     0.011083691115411019  0.10531266330469741  0.02097320478333634   0.01109075705232856\n",
            "     2022-10-08 21:15:05  4.620 sec   8.0                0.10523193341108615  0.0206222896723968    0.01107375980943527   0.10528863002616669  0.020952158612041832  0.01108569561278701\n",
            "     2022-10-08 21:15:05  4.652 sec   9.0                0.10519751120969859  0.02061022217900754   0.01106651636471466   0.10527067214968545  0.020934599440313867  0.01108191441484656\n",
            "---  ---                  ---         ---                ---                  ---                   ---                   ---                  ---                   ---\n",
            "     2022-10-08 21:15:05  4.720 sec   11.0               0.10514194218467239  0.020589526539463533  0.011054828006364991  0.10523545384395679  0.020909457299790633  0.01107450074574356\n",
            "     2022-10-08 21:15:05  4.748 sec   12.0               0.10511828918676044  0.02057955789690551   0.011049854721551398  0.10522224350182535  0.020891560970092725  0.011071720527557427\n",
            "     2022-10-08 21:15:05  4.777 sec   13.0               0.10509265028405097  0.02057029149452819   0.011044465143725838  0.1052122278563692   0.020876954916856632  0.011069612890500553\n",
            "     2022-10-08 21:15:06  4.812 sec   14.0               0.10506505975008724  0.020562092455425306  0.011038666780289403  0.10519927503175797  0.020871583324945375  0.011066887467207454\n",
            "     2022-10-08 21:15:06  4.840 sec   15.0               0.10504147949804918  0.02055332007604285   0.011033712415139086  0.10519753156479583  0.02086301339969456   0.011066520647326215\n",
            "     2022-10-08 21:15:06  4.868 sec   16.0               0.10502245816274451  0.020545819849480302  0.011029716718545421  0.10518810082082548  0.020842682900119702  0.011064536554292147\n",
            "     2022-10-08 21:15:06  4.896 sec   17.0               0.10500758168420601  0.020540071155614216  0.011026592211165198  0.10517344825001018  0.02083289176709759   0.01106145421679757\n",
            "     2022-10-08 21:15:06  4.931 sec   18.0               0.10498947608193027  0.020533084127103814  0.011022790087958208  0.10516531635882226  0.020820184066490856  0.011059743764851169\n",
            "     2022-10-08 21:15:06  4.961 sec   19.0               0.10497118663125281  0.02052547132932587   0.011018950022773309  0.10517281450993585  0.020806541918789733  0.011061320911941373\n",
            "     2022-10-08 21:15:06  5.009 sec   20.0               0.1049493622898868   0.020516796047275878  0.011014368645053913  0.10517055559929113  0.02080639756926606   0.011060845765063587\n",
            "[21 rows x 10 columns]\n",
            "\n",
            "\n",
            "Variable Importances: \n",
            "variable    relative_importance    scaled_importance    percentage\n",
            "----------  ---------------------  -------------------  ------------\n",
            "VehAge      14.0827                1                    0.30519\n",
            "OwnerAge    12.9784                0.921582             0.281257\n",
            "Area        11.2999                0.802395             0.244883\n",
            "RiskClass   4.52545                0.321348             0.0980722\n",
            "BonusClass  3.25766                0.231323             0.0705975\n"
          ]
        }
      ]
    },
    {
      "cell_type": "code",
      "source": [
        "# plot training history\n",
        "GBM3.plot()"
      ],
      "metadata": {
        "id": "YewP5TsBWt64",
        "colab": {
          "base_uri": "https://localhost:8080/",
          "height": 296
        },
        "outputId": "2e0e476f-0a90-44d6-bb64-2b166b7cb0f5"
      },
      "execution_count": null,
      "outputs": [
        {
          "output_type": "display_data",
          "data": {
            "text/plain": [
              "<Figure size 432x288 with 1 Axes>"
            ],
            "image/png": "[encoded data removed]"
          },
          "metadata": {
            "needs_background": "light"
          }
        }
      ]
    },
    {
      "cell_type": "markdown",
      "source": [
        "# Model Evaluation 3"
      ],
      "metadata": {
        "id": "DPKM1P5eZkBl"
      }
    },
    {
      "cell_type": "code",
      "source": [
        "# Eval performance:\n",
        "perf_train_3 = GBM3.model_performance(train)\n",
        "pred_train_3 = GBM3.predict(train)"
      ],
      "metadata": {
        "id": "aSUvH0hUf_96",
        "colab": {
          "base_uri": "https://localhost:8080/"
        },
        "outputId": "ce8da734-cf4d-47aa-f9ed-c9b0965f58cf"
      },
      "execution_count": null,
      "outputs": [
        {
          "output_type": "stream",
          "name": "stdout",
          "text": [
            "gbm prediction progress: |███████████████████████████████████████████████████████| (done) 100%\n"
          ]
        }
      ]
    },
    {
      "cell_type": "code",
      "source": [
        "perf_train_3"
      ],
      "metadata": {
        "id": "D1wYJJmmgAA9",
        "colab": {
          "base_uri": "https://localhost:8080/",
          "height": 184
        },
        "outputId": "a9afcfcb-7858-42f2-f65d-1f87d33d6598"
      },
      "execution_count": null,
      "outputs": [
        {
          "output_type": "execute_result",
          "data": {
            "text/plain": [
              "ModelMetricsRegression: gbm\n",
              "** Reported on test data. **\n",
              "\n",
              "MSE: 0.011019078640353803\n",
              "RMSE: 0.10497179926224853\n",
              "MAE: 0.020546144013084727\n",
              "RMSLE: 0.07089131561140213\n",
              "Mean Residual Deviance: 0.011019078640353803"
            ],
            "text/html": [
              "<pre style='margin: 1em 0 1em 0;'>ModelMetricsRegression: gbm\n",
              "** Reported on test data. **\n",
              "\n",
              "MSE: 0.011019078640353803\n",
              "RMSE: 0.10497179926224853\n",
              "MAE: 0.020546144013084727\n",
              "RMSLE: 0.07089131561140213\n",
              "Mean Residual Deviance: 0.011019078640353803</pre>"
            ]
          },
          "metadata": {},
          "execution_count": 56
        }
      ]
    },
    {
      "cell_type": "code",
      "source": [
        "# Eval performance:\n",
        "perf_test_3 = GBM3.model_performance(test)\n",
        "pred_test_3 = GBM3.predict(test)"
      ],
      "metadata": {
        "id": "OQQKLpX8gKf2",
        "colab": {
          "base_uri": "https://localhost:8080/"
        },
        "outputId": "59274793-7b1a-43eb-f52a-9ef65a9f9b37"
      },
      "execution_count": null,
      "outputs": [
        {
          "output_type": "stream",
          "name": "stdout",
          "text": [
            "gbm prediction progress: |███████████████████████████████████████████████████████| (done) 100%\n"
          ]
        }
      ]
    },
    {
      "cell_type": "code",
      "source": [
        "perf_test_3"
      ],
      "metadata": {
        "id": "88r3_eZLgLOA",
        "colab": {
          "base_uri": "https://localhost:8080/",
          "height": 184
        },
        "outputId": "a5f91562-ea31-4e24-d45a-cf5271d2fccb"
      },
      "execution_count": null,
      "outputs": [
        {
          "output_type": "execute_result",
          "data": {
            "text/plain": [
              "ModelMetricsRegression: gbm\n",
              "** Reported on test data. **\n",
              "\n",
              "MSE: 0.012669894407368579\n",
              "RMSE: 0.11256062547520149\n",
              "MAE: 0.021776974030833632\n",
              "RMSLE: 0.07554574474834445\n",
              "Mean Residual Deviance: 0.012669894407368579"
            ],
            "text/html": [
              "<pre style='margin: 1em 0 1em 0;'>ModelMetricsRegression: gbm\n",
              "** Reported on test data. **\n",
              "\n",
              "MSE: 0.012669894407368579\n",
              "RMSE: 0.11256062547520149\n",
              "MAE: 0.021776974030833632\n",
              "RMSLE: 0.07554574474834445\n",
              "Mean Residual Deviance: 0.012669894407368579</pre>"
            ]
          },
          "metadata": {},
          "execution_count": 58
        }
      ]
    },
    {
      "cell_type": "code",
      "source": [
        "# replace H2O data frame with a pandas data frame\n",
        "predictions_tr_3 = pred_train_3.as_data_frame()\n",
        "predictions_te_3 = pred_test_3.as_data_frame()"
      ],
      "metadata": {
        "id": "yZRj4WDpgWTU"
      },
      "execution_count": null,
      "outputs": []
    },
    {
      "cell_type": "code",
      "source": [
        "mean_poisson_deviance(df_train.ClaimNb,predictions_tr_3)"
      ],
      "metadata": {
        "id": "UXRRJEkygzY7",
        "colab": {
          "base_uri": "https://localhost:8080/"
        },
        "outputId": "4c266b0b-8b25-4992-e7e9-3dc1d233f1a9"
      },
      "execution_count": null,
      "outputs": [
        {
          "output_type": "execute_result",
          "data": {
            "text/plain": [
              "0.0859188407748982"
            ]
          },
          "metadata": {},
          "execution_count": 60
        }
      ]
    },
    {
      "cell_type": "code",
      "source": [
        "mean_poisson_deviance(df_test.ClaimNb,predictions_te_3)"
      ],
      "metadata": {
        "id": "I4mkyau3gzhP",
        "colab": {
          "base_uri": "https://localhost:8080/"
        },
        "outputId": "834d0e91-93ea-4d12-b989-0ebce845bf68"
      },
      "execution_count": null,
      "outputs": [
        {
          "output_type": "execute_result",
          "data": {
            "text/plain": [
              "0.0968469477412595"
            ]
          },
          "metadata": {},
          "execution_count": 61
        }
      ]
    },
    {
      "cell_type": "code",
      "source": [
        "np.sqrt(mean_squared_error(df_train.ClaimNb, predictions_tr_3))"
      ],
      "metadata": {
        "id": "UPOzT6g3gznT",
        "colab": {
          "base_uri": "https://localhost:8080/"
        },
        "outputId": "e1a74e80-bd7d-46df-915d-427bb85ae15e"
      },
      "execution_count": null,
      "outputs": [
        {
          "output_type": "execute_result",
          "data": {
            "text/plain": [
              "0.10497179926225027"
            ]
          },
          "metadata": {},
          "execution_count": 62
        }
      ]
    },
    {
      "cell_type": "code",
      "source": [
        "np.sqrt(mean_squared_error(df_test.ClaimNb, predictions_te_3))"
      ],
      "metadata": {
        "id": "VAgRzNC0ii6O",
        "colab": {
          "base_uri": "https://localhost:8080/"
        },
        "outputId": "f49e89e8-05a4-4696-9076-daf6aadd1c7c"
      },
      "execution_count": null,
      "outputs": [
        {
          "output_type": "execute_result",
          "data": {
            "text/plain": [
              "0.11256062547520232"
            ]
          },
          "metadata": {},
          "execution_count": 63
        }
      ]
    },
    {
      "cell_type": "markdown",
      "source": [
        "# **GBM Results Analysis**"
      ],
      "metadata": {
        "id": "NsTWl5n04Ift"
      }
    },
    {
      "cell_type": "code",
      "source": [
        "# Feature Importance\n",
        "GBM3.varimp_plot()"
      ],
      "metadata": {
        "id": "kK_Lcy7Kb7a7",
        "colab": {
          "base_uri": "https://localhost:8080/",
          "height": 647
        },
        "outputId": "32882bb6-17a9-469c-f09b-93f2b07d324e"
      },
      "execution_count": null,
      "outputs": [
        {
          "output_type": "display_data",
          "data": {
            "text/plain": [
              "<Figure size 1008x720 with 1 Axes>"
            ],
            "image/png": "[encoded data removed]"
          },
          "metadata": {
            "needs_background": "light"
          }
        },
        {
          "output_type": "execute_result",
          "data": {
            "text/plain": [
              "<h2o.plot._plot_result._MObject at 0x7febd408f790>"
            ]
          },
          "metadata": {},
          "execution_count": 68
        },
        {
          "output_type": "display_data",
          "data": {
            "text/plain": [
              "<Figure size 720x360 with 0 Axes>"
            ]
          },
          "metadata": {}
        }
      ]
    },
    {
      "cell_type": "code",
      "source": [
        "predictions_te_3 = predictions_te_3.rename(columns = {'predict':'ClaimNb_pred'})\n",
        "test = pd.concat([df_test, predictions_te_3.set_index(df_test.index)], axis=1)\n",
        "test"
      ],
      "metadata": {
        "id": "cArnXlcgpKzp",
        "colab": {
          "base_uri": "https://localhost:8080/",
          "height": 424
        },
        "outputId": "a93bbb86-b46d-4ada-a776-c9f8f3076899"
      },
      "execution_count": null,
      "outputs": [
        {
          "output_type": "execute_result",
          "data": {
            "text/plain": [
              "       OwnerAge  Gender                                               Area  \\\n",
              "11551        28  Female  Small towns; countryside except Gotland; North...   \n",
              "27696        42  Female                       Suburbs; middle-sized cities   \n",
              "56213        57    Male        Lesser towns except Gotland; Northern towns   \n",
              "8463         26    Male     Central parts of Sweden's three largest cities   \n",
              "35448        45    Male  Small towns; countryside except Gotland; North...   \n",
              "...         ...     ...                                                ...   \n",
              "15776        31  Female        Lesser towns except Gotland; Northern towns   \n",
              "43435        49    Male  Small towns; countryside except Gotland; North...   \n",
              "50162        53    Male                       Suburbs; middle-sized cities   \n",
              "2912         22    Male                       Suburbs; middle-sized cities   \n",
              "25134        40    Male     Central parts of Sweden's three largest cities   \n",
              "\n",
              "            RiskClass  VehAge BonusClass  Exposure  ClaimNb  ClaimNb_pred  \n",
              "11551  EV ratio 20-24      13        BM3  0.419178        0      0.015433  \n",
              "27696     EV ratio <5       4        BM7  0.983562        0      0.012516  \n",
              "56213  EV ratio 13-15      16        BM7  1.000000        0      0.005784  \n",
              "8463   EV ratio 13-15      13        BM1  0.986301        0      0.016556  \n",
              "35448  EV ratio 20-24       4        BM6  0.986301        0      0.009700  \n",
              "...               ...     ...        ...       ...      ...           ...  \n",
              "15776  EV ratio 13-15      15        BM7  0.989041        0      0.007085  \n",
              "43435  EV ratio 13-15      11        BM7  1.000000        0      0.008510  \n",
              "50162   EV ratio 9-12       6        BM7  1.000000        0      0.011229  \n",
              "2912   EV ratio 16-19       8        BM1  0.630137        0      0.029555  \n",
              "25134   EV ratio 9-12      15        BM1  0.117808        0      0.007077  \n",
              "\n",
              "[12910 rows x 9 columns]"
            ],
            "text/html": [
              "\n",
              "  <div id=\"df-323e3abb-38e3-4602-a4c5-35b84f8b3a6a\">\n",
              "    <div class=\"colab-df-container\">\n",
              "      <div>\n",
              "<style scoped>\n",
              "    .dataframe tbody tr th:only-of-type {\n",
              "        vertical-align: middle;\n",
              "    }\n",
              "\n",
              "    .dataframe tbody tr th {\n",
              "        vertical-align: top;\n",
              "    }\n",
              "\n",
              "    .dataframe thead th {\n",
              "        text-align: right;\n",
              "    }\n",
              "</style>\n",
              "<table border=\"1\" class=\"dataframe\">\n",
              "  <thead>\n",
              "    <tr style=\"text-align: right;\">\n",
              "      <th></th>\n",
              "      <th>OwnerAge</th>\n",
              "      <th>Gender</th>\n",
              "      <th>Area</th>\n",
              "      <th>RiskClass</th>\n",
              "      <th>VehAge</th>\n",
              "      <th>BonusClass</th>\n",
              "      <th>Exposure</th>\n",
              "      <th>ClaimNb</th>\n",
              "      <th>ClaimNb_pred</th>\n",
              "    </tr>\n",
              "  </thead>\n",
              "  <tbody>\n",
              "    <tr>\n",
              "      <th>11551</th>\n",
              "      <td>28</td>\n",
              "      <td>Female</td>\n",
              "      <td>Small towns; countryside except Gotland; North...</td>\n",
              "      <td>EV ratio 20-24</td>\n",
              "      <td>13</td>\n",
              "      <td>BM3</td>\n",
              "      <td>0.419178</td>\n",
              "      <td>0</td>\n",
              "      <td>0.015433</td>\n",
              "    </tr>\n",
              "    <tr>\n",
              "      <th>27696</th>\n",
              "      <td>42</td>\n",
              "      <td>Female</td>\n",
              "      <td>Suburbs; middle-sized cities</td>\n",
              "      <td>EV ratio &lt;5</td>\n",
              "      <td>4</td>\n",
              "      <td>BM7</td>\n",
              "      <td>0.983562</td>\n",
              "      <td>0</td>\n",
              "      <td>0.012516</td>\n",
              "    </tr>\n",
              "    <tr>\n",
              "      <th>56213</th>\n",
              "      <td>57</td>\n",
              "      <td>Male</td>\n",
              "      <td>Lesser towns except Gotland; Northern towns</td>\n",
              "      <td>EV ratio 13-15</td>\n",
              "      <td>16</td>\n",
              "      <td>BM7</td>\n",
              "      <td>1.000000</td>\n",
              "      <td>0</td>\n",
              "      <td>0.005784</td>\n",
              "    </tr>\n",
              "    <tr>\n",
              "      <th>8463</th>\n",
              "      <td>26</td>\n",
              "      <td>Male</td>\n",
              "      <td>Central parts of Sweden's three largest cities</td>\n",
              "      <td>EV ratio 13-15</td>\n",
              "      <td>13</td>\n",
              "      <td>BM1</td>\n",
              "      <td>0.986301</td>\n",
              "      <td>0</td>\n",
              "      <td>0.016556</td>\n",
              "    </tr>\n",
              "    <tr>\n",
              "      <th>35448</th>\n",
              "      <td>45</td>\n",
              "      <td>Male</td>\n",
              "      <td>Small towns; countryside except Gotland; North...</td>\n",
              "      <td>EV ratio 20-24</td>\n",
              "      <td>4</td>\n",
              "      <td>BM6</td>\n",
              "      <td>0.986301</td>\n",
              "      <td>0</td>\n",
              "      <td>0.009700</td>\n",
              "    </tr>\n",
              "    <tr>\n",
              "      <th>...</th>\n",
              "      <td>...</td>\n",
              "      <td>...</td>\n",
              "      <td>...</td>\n",
              "      <td>...</td>\n",
              "      <td>...</td>\n",
              "      <td>...</td>\n",
              "      <td>...</td>\n",
              "      <td>...</td>\n",
              "      <td>...</td>\n",
              "    </tr>\n",
              "    <tr>\n",
              "      <th>15776</th>\n",
              "      <td>31</td>\n",
              "      <td>Female</td>\n",
              "      <td>Lesser towns except Gotland; Northern towns</td>\n",
              "      <td>EV ratio 13-15</td>\n",
              "      <td>15</td>\n",
              "      <td>BM7</td>\n",
              "      <td>0.989041</td>\n",
              "      <td>0</td>\n",
              "      <td>0.007085</td>\n",
              "    </tr>\n",
              "    <tr>\n",
              "      <th>43435</th>\n",
              "      <td>49</td>\n",
              "      <td>Male</td>\n",
              "      <td>Small towns; countryside except Gotland; North...</td>\n",
              "      <td>EV ratio 13-15</td>\n",
              "      <td>11</td>\n",
              "      <td>BM7</td>\n",
              "      <td>1.000000</td>\n",
              "      <td>0</td>\n",
              "      <td>0.008510</td>\n",
              "    </tr>\n",
              "    <tr>\n",
              "      <th>50162</th>\n",
              "      <td>53</td>\n",
              "      <td>Male</td>\n",
              "      <td>Suburbs; middle-sized cities</td>\n",
              "      <td>EV ratio 9-12</td>\n",
              "      <td>6</td>\n",
              "      <td>BM7</td>\n",
              "      <td>1.000000</td>\n",
              "      <td>0</td>\n",
              "      <td>0.011229</td>\n",
              "    </tr>\n",
              "    <tr>\n",
              "      <th>2912</th>\n",
              "      <td>22</td>\n",
              "      <td>Male</td>\n",
              "      <td>Suburbs; middle-sized cities</td>\n",
              "      <td>EV ratio 16-19</td>\n",
              "      <td>8</td>\n",
              "      <td>BM1</td>\n",
              "      <td>0.630137</td>\n",
              "      <td>0</td>\n",
              "      <td>0.029555</td>\n",
              "    </tr>\n",
              "    <tr>\n",
              "      <th>25134</th>\n",
              "      <td>40</td>\n",
              "      <td>Male</td>\n",
              "      <td>Central parts of Sweden's three largest cities</td>\n",
              "      <td>EV ratio 9-12</td>\n",
              "      <td>15</td>\n",
              "      <td>BM1</td>\n",
              "      <td>0.117808</td>\n",
              "      <td>0</td>\n",
              "      <td>0.007077</td>\n",
              "    </tr>\n",
              "  </tbody>\n",
              "</table>\n",
              "<p>12910 rows × 9 columns</p>\n",
              "</div>\n",
              "      <button class=\"colab-df-convert\" onclick=\"convertToInteractive('df-323e3abb-38e3-4602-a4c5-35b84f8b3a6a')\"\n",
              "              title=\"Convert this dataframe to an interactive table.\"\n",
              "              style=\"display:none;\">\n",
              "        \n",
              "  <svg xmlns=\"http://www.w3.org/2000/svg\" height=\"24px\"viewBox=\"0 0 24 24\"\n",
              "       width=\"24px\">\n",
              "    <path d=\"M0 0h24v24H0V0z\" fill=\"none\"/>\n",
              "    <path d=\"M18.56 5.44l.94 2.06.94-2.06 2.06-.94-2.06-.94-.94-2.06-.94 2.06-2.06.94zm-11 1L8.5 8.5l.94-2.06 2.06-.94-2.06-.94L8.5 2.5l-.94 2.06-2.06.94zm10 10l.94 2.06.94-2.06 2.06-.94-2.06-.94-.94-2.06-.94 2.06-2.06.94z\"/><path d=\"M17.41 7.96l-1.37-1.37c-.4-.4-.92-.59-1.43-.59-.52 0-1.04.2-1.43.59L10.3 9.45l-7.72 7.72c-.78.78-.78 2.05 0 2.83L4 21.41c.39.39.9.59 1.41.59.51 0 1.02-.2 1.41-.59l7.78-7.78 2.81-2.81c.8-.78.8-2.07 0-2.86zM5.41 20L4 18.59l7.72-7.72 1.47 1.35L5.41 20z\"/>\n",
              "  </svg>\n",
              "      </button>\n",
              "      \n",
              "  <style>\n",
              "    .colab-df-container {\n",
              "      display:flex;\n",
              "      flex-wrap:wrap;\n",
              "      gap: 12px;\n",
              "    }\n",
              "\n",
              "    .colab-df-convert {\n",
              "      background-color: #E8F0FE;\n",
              "      border: none;\n",
              "      border-radius: 50%;\n",
              "      cursor: pointer;\n",
              "      display: none;\n",
              "      fill: #1967D2;\n",
              "      height: 32px;\n",
              "      padding: 0 0 0 0;\n",
              "      width: 32px;\n",
              "    }\n",
              "\n",
              "    .colab-df-convert:hover {\n",
              "      background-color: #E2EBFA;\n",
              "      box-shadow: 0px 1px 2px rgba(60, 64, 67, 0.3), 0px 1px 3px 1px rgba(60, 64, 67, 0.15);\n",
              "      fill: #174EA6;\n",
              "    }\n",
              "\n",
              "    [theme=dark] .colab-df-convert {\n",
              "      background-color: #3B4455;\n",
              "      fill: #D2E3FC;\n",
              "    }\n",
              "\n",
              "    [theme=dark] .colab-df-convert:hover {\n",
              "      background-color: #434B5C;\n",
              "      box-shadow: 0px 1px 3px 1px rgba(0, 0, 0, 0.15);\n",
              "      filter: drop-shadow(0px 1px 2px rgba(0, 0, 0, 0.3));\n",
              "      fill: #FFFFFF;\n",
              "    }\n",
              "  </style>\n",
              "\n",
              "      <script>\n",
              "        const buttonEl =\n",
              "          document.querySelector('#df-323e3abb-38e3-4602-a4c5-35b84f8b3a6a button.colab-df-convert');\n",
              "        buttonEl.style.display =\n",
              "          google.colab.kernel.accessAllowed ? 'block' : 'none';\n",
              "\n",
              "        async function convertToInteractive(key) {\n",
              "          const element = document.querySelector('#df-323e3abb-38e3-4602-a4c5-35b84f8b3a6a');\n",
              "          const dataTable =\n",
              "            await google.colab.kernel.invokeFunction('convertToInteractive',\n",
              "                                                     [key], {});\n",
              "          if (!dataTable) return;\n",
              "\n",
              "          const docLinkHtml = 'Like what you see? Visit the ' +\n",
              "            '<a target=\"_blank\" href=https://colab.research.google.com/notebooks/data_table.ipynb>data table notebook</a>'\n",
              "            + ' to learn more about interactive tables.';\n",
              "          element.innerHTML = '';\n",
              "          dataTable['output_type'] = 'display_data';\n",
              "          await google.colab.output.renderOutput(dataTable, element);\n",
              "          const docLink = document.createElement('div');\n",
              "          docLink.innerHTML = docLinkHtml;\n",
              "          element.appendChild(docLink);\n",
              "        }\n",
              "      </script>\n",
              "    </div>\n",
              "  </div>\n",
              "  "
            ]
          },
          "metadata": {},
          "execution_count": 69
        }
      ]
    },
    {
      "cell_type": "code",
      "source": [
        "# Claims comparison\n",
        "fig = plt.figure(figsize = (16,7))\n",
        "plt.subplot(1,2,1)  \n",
        "plt.hist(test['ClaimNb'], bins=10)\n",
        "plt.xticks(rotation=45)\n",
        "plt.title('Claims histogram')\n",
        "plt.subplot(1,2,2)  \n",
        "plt.hist(test['ClaimNb_pred'], bins=10)\n",
        "plt.xticks(rotation=45)\n",
        "plt.title('Claims prediction histogram')\n",
        "plt.show()"
      ],
      "metadata": {
        "id": "AxrmWlvQalqT",
        "colab": {
          "base_uri": "https://localhost:8080/",
          "height": 457
        },
        "outputId": "92c4e75e-9839-43db-a7d0-b71cc4c44c53"
      },
      "execution_count": null,
      "outputs": [
        {
          "output_type": "display_data",
          "data": {
            "text/plain": [
              "<Figure size 1152x504 with 2 Axes>"
            ],
            "image/png": "[encoded data removed]"
          },
          "metadata": {
            "needs_background": "light"
          }
        }
      ]
    },
    {
      "cell_type": "code",
      "source": [
        "# Claims and claims predicted comparison on features\n",
        "plt.rcParams[\"figure.figsize\"] = (10,5)\n",
        "test_group_oa = test.groupby(['OwnerAge'])['ClaimNb','ClaimNb_pred'].sum().reset_index()\n",
        "test_group_oa.plot(x='OwnerAge',y= ['ClaimNb','ClaimNb_pred'])\n",
        "plt.xticks(rotation=45)\n",
        "plt.ylabel('Number of Claims')\n",
        "plt.xlabel('OwnerAge')\n",
        "plt.title('Claims - OwnerAge on test data')\n",
        "plt.show()\n",
        "test_group_va = test.groupby(['VehAge'])['ClaimNb','ClaimNb_pred'].sum().reset_index()\n",
        "test_group_va.plot(x='VehAge',y= ['ClaimNb','ClaimNb_pred'])\n",
        "plt.xticks(rotation=45)\n",
        "plt.ylabel('Number of Claims')\n",
        "plt.xlabel('VehAge')\n",
        "plt.title('Claims - VehAge on test data')\n",
        "plt.show()\n",
        "test_group_ge = test.groupby(['Gender'])['ClaimNb','ClaimNb_pred'].sum().reset_index()\n",
        "test_group_ge.plot.bar(x='Gender',y= ['ClaimNb','ClaimNb_pred'])\n",
        "plt.xticks(rotation=45)\n",
        "plt.ylabel('Number of Claims')\n",
        "plt.xlabel('Gender')\n",
        "plt.title('Claims - Gender on test data')\n",
        "plt.show()\n",
        "test_group_rc = test.groupby(['RiskClass'])['ClaimNb','ClaimNb_pred'].sum().reset_index()\n",
        "test_group_rc.plot.bar(x='RiskClass',y= ['ClaimNb','ClaimNb_pred'])\n",
        "plt.xticks(rotation=45)\n",
        "plt.ylabel('Number of Claims')\n",
        "plt.xlabel('RiskClass')\n",
        "plt.title('Claims - RiskClass on test data')\n",
        "plt.show()\n",
        "test_group_a = test.groupby(['Area'])['ClaimNb','ClaimNb_pred'].sum().reset_index()\n",
        "test_group_a.plot.bar(x='Area',y= ['ClaimNb','ClaimNb_pred'])\n",
        "plt.xticks(rotation=90)\n",
        "plt.ylabel('Number of Claims')\n",
        "plt.xlabel('Area')\n",
        "plt.title('Claims - Area on test data')\n",
        "plt.show()\n",
        "test_group_bc = test.groupby(['BonusClass'])['ClaimNb','ClaimNb_pred'].sum().reset_index()\n",
        "test_group_bc.plot.bar(x='BonusClass',y= ['ClaimNb','ClaimNb_pred'])\n",
        "plt.xticks(rotation=45)\n",
        "plt.ylabel('Number of Claims')\n",
        "plt.xlabel('BonusClass')\n",
        "plt.title('Claims - BonusClass on test data')\n",
        "plt.show()\n"
      ],
      "metadata": {
        "id": "u5d3Kjyrap-Y",
        "colab": {
          "base_uri": "https://localhost:8080/",
          "height": 1000
        },
        "outputId": "323d0164-a966-4a6b-9285-8cdbb1117763"
      },
      "execution_count": null,
      "outputs": [
        {
          "output_type": "display_data",
          "data": {
            "text/plain": [
              "<Figure size 720x360 with 1 Axes>"
            ],
            "image/png": "[encoded data removed]"
          },
          "metadata": {
            "needs_background": "light"
          }
        },
        {
          "output_type": "display_data",
          "data": {
            "text/plain": [
              "<Figure size 720x360 with 1 Axes>"
            ],
            "image/png": "[encoded data removed]"
          },
          "metadata": {
            "needs_background": "light"
          }
        },
        {
          "output_type": "display_data",
          "data": {
            "text/plain": [
              "<Figure size 720x360 with 1 Axes>"
            ],
            "image/png": "[encoded data removed]"
          },
          "metadata": {
            "needs_background": "light"
          }
        },
        {
          "output_type": "display_data",
          "data": {
            "text/plain": [
              "<Figure size 720x360 with 1 Axes>"
            ],
            "image/png": "[encoded data removed]"
          },
          "metadata": {
            "needs_background": "light"
          }
        },
        {
          "output_type": "display_data",
          "data": {
            "text/plain": [
              "<Figure size 720x360 with 1 Axes>"
            ],
            "image/png": "[encoded data removed]"
          },
          "metadata": {
            "needs_background": "light"
          }
        },
        {
          "output_type": "display_data",
          "data": {
            "text/plain": [
              "<Figure size 720x360 with 1 Axes>"
            ],
            "image/png": "[encoded data removed]"
          },
          "metadata": {
            "needs_background": "light"
          }
        }
      ]
    }
  ]
}