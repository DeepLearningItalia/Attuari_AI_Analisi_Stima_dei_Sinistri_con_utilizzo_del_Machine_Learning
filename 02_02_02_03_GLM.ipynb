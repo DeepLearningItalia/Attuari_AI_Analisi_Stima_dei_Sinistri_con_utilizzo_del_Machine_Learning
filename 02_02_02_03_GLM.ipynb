{
  "nbformat": 4,
  "nbformat_minor": 0,
  "metadata": {
    "colab": {
      "provenance": [],
      "collapsed_sections": []
    },
    "kernelspec": {
      "name": "python3",
      "display_name": "Python 3"
    },
    "language_info": {
      "name": "python"
    },
    "accelerator": "GPU",
    "gpuClass": "standard"
  },
  "cells": [
    {
      "cell_type": "markdown",
      "source": [
        "# **Number of Claims Estimation with Generalized Linear Models (GLMs)**"
      ],
      "metadata": {
        "id": "x1EhzwW7gRai"
      }
    },
    {
      "cell_type": "markdown",
      "source": [
        "Generalized Linear Models introduced by Nelder and Wedeburn in the 1972, but applied in insurance 20 years later, overcome the limits of the linear models and now they are a benchmark for the non-life insurance tariff structure.\n",
        "GLM is a generalization of the linear regression, modeling\n",
        "various forms of dependency between the input features and the target variable.\n",
        "\n",
        "References:\n",
        "\n",
        "-[\"Case Study: French Motor Third-Party Liability Claims\"](https://papers.ssrn.com/sol3/papers.cfm?abstract_id=3164764), Mario V. Wuthrich, Alexander Noll, Robert Salzmann;\n",
        "\n",
        "-[\"Data Analytics for Non-Life Insurance Pricing\"](https://papers.ssrn.com/sol3/papers.cfm?abstract_id=2870308), Mario V. Wuthrich, Christoph Buser;\n",
        "\n",
        "-[\"Statistical Foundations of Actuarial Learning and its Applications\"](https://papers.ssrn.com/sol3/papers.cfm?abstract_id=3822407), Mario V. Wuthrich, Michael Merz\n"
      ],
      "metadata": {
        "id": "q4VA3vxbYuMG"
      }
    },
    {
      "cell_type": "markdown",
      "source": [
        "# Upload Libraries"
      ],
      "metadata": {
        "id": "JBFt8eBnSLGW"
      }
    },
    {
      "cell_type": "code",
      "execution_count": null,
      "metadata": {
        "id": "lVwNOaoL3_xS"
      },
      "outputs": [],
      "source": [
        "# handling datasets\n",
        "import numpy as np\n",
        "import pandas as pd\n",
        "# plotting\n",
        "import matplotlib.pyplot as plt\n",
        "%matplotlib inline\n",
        "import seaborn as sns\n",
        "# modelling, evaluation\n",
        "import sklearn\n",
        "import statsmodels.api as sm\n",
        "import statsmodels.formula.api as smf\n",
        "from sklearn.metrics import mean_poisson_deviance\n",
        "from sklearn.metrics import mean_squared_error\n",
        "from sklearn.model_selection import train_test_split\n",
        "\n",
        "import warnings\n",
        "warnings.filterwarnings('ignore', category=FutureWarning)\n"
      ]
    },
    {
      "cell_type": "markdown",
      "source": [
        "# Upload File"
      ],
      "metadata": {
        "id": "c--W1M18iZOh"
      }
    },
    {
      "cell_type": "code",
      "source": [
        "from google.colab import files \n",
        "uploaded = files.upload()"
      ],
      "metadata": {
        "colab": {
          "resources": {
            "http://localhost:8080/nbextensions/google.colab/files.js": {
              "data": "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",
              "ok": true,
              "headers": [
                [
                  "content-type",
                  "application/javascript"
                ]
              ],
              "status": 200,
              "status_text": ""
            }
          },
          "base_uri": "https://localhost:8080/",
          "height": 74
        },
        "id": "i9Q2mLHi-d_m",
        "outputId": "782a017c-72c1-430e-853f-a065041a8b97"
      },
      "execution_count": null,
      "outputs": [
        {
          "output_type": "display_data",
          "data": {
            "text/plain": [
              "<IPython.core.display.HTML object>"
            ],
            "text/html": [
              "\n",
              "     <input type=\"file\" id=\"files-518f75cc-9802-4b84-b623-83f4ad3eccbe\" name=\"files[]\" multiple disabled\n",
              "        style=\"border:none\" />\n",
              "     <output id=\"result-518f75cc-9802-4b84-b623-83f4ad3eccbe\">\n",
              "      Upload widget is only available when the cell has been executed in the\n",
              "      current browser session. Please rerun this cell to enable.\n",
              "      </output>\n",
              "      <script src=\"/nbextensions/google.colab/files.js\"></script> "
            ]
          },
          "metadata": {}
        },
        {
          "output_type": "stream",
          "name": "stdout",
          "text": [
            "Saving swmotorcycle_ClaimNb.csv to swmotorcycle_ClaimNb.csv\n"
          ]
        }
      ]
    },
    {
      "cell_type": "code",
      "source": [
        "# Reading File\n",
        "df = pd.read_csv('swmotorcycle_ClaimNb.csv')"
      ],
      "metadata": {
        "id": "hJC1ZvbJ-ftM"
      },
      "execution_count": null,
      "outputs": []
    },
    {
      "cell_type": "markdown",
      "source": [
        "# Data Set Overview"
      ],
      "metadata": {
        "id": "HKwCn9fLik0f"
      }
    },
    {
      "cell_type": "code",
      "source": [
        "# Dimensions of data set\n",
        "print(df.shape)"
      ],
      "metadata": {
        "id": "Y7LI1nVh_loI",
        "colab": {
          "base_uri": "https://localhost:8080/"
        },
        "outputId": "fc1c2b67-5c86-4022-e10c-e2e097c875a8"
      },
      "execution_count": null,
      "outputs": [
        {
          "output_type": "stream",
          "name": "stdout",
          "text": [
            "(64548, 8)\n"
          ]
        }
      ]
    },
    {
      "cell_type": "code",
      "source": [
        "# List types for each attribute\n",
        "print(df.info())"
      ],
      "metadata": {
        "id": "Pu87x81Z_lqt",
        "colab": {
          "base_uri": "https://localhost:8080/"
        },
        "outputId": "0a8cee6b-e24a-496b-d48b-813a4b4c8fb6"
      },
      "execution_count": null,
      "outputs": [
        {
          "output_type": "stream",
          "name": "stdout",
          "text": [
            "<class 'pandas.core.frame.DataFrame'>\n",
            "RangeIndex: 64548 entries, 0 to 64547\n",
            "Data columns (total 8 columns):\n",
            " #   Column      Non-Null Count  Dtype  \n",
            "---  ------      --------------  -----  \n",
            " 0   OwnerAge    64548 non-null  int64  \n",
            " 1   Gender      64548 non-null  object \n",
            " 2   Area        64548 non-null  object \n",
            " 3   RiskClass   64548 non-null  object \n",
            " 4   VehAge      64548 non-null  int64  \n",
            " 5   BonusClass  64548 non-null  object \n",
            " 6   Exposure    64548 non-null  float64\n",
            " 7   ClaimNb     64548 non-null  int64  \n",
            "dtypes: float64(1), int64(3), object(4)\n",
            "memory usage: 3.9+ MB\n",
            "None\n"
          ]
        }
      ]
    },
    {
      "cell_type": "code",
      "source": [
        "# Take a peek at the first rows of the data\n",
        "df.head()"
      ],
      "metadata": {
        "id": "Pg3KgtmJ_lzm",
        "colab": {
          "base_uri": "https://localhost:8080/",
          "height": 206
        },
        "outputId": "437bd274-602f-47bb-a435-bfef845941f2"
      },
      "execution_count": null,
      "outputs": [
        {
          "output_type": "execute_result",
          "data": {
            "text/plain": [
              "   OwnerAge  Gender                                               Area  \\\n",
              "0         0    Male     Central parts of Sweden's three largest cities   \n",
              "1         4    Male        Lesser towns except Gotland; Northern towns   \n",
              "2         5  Female        Lesser towns except Gotland; Northern towns   \n",
              "3         5  Female  Small towns; countryside except Gotland; North...   \n",
              "4         6  Female                       Suburbs; middle-sized cities   \n",
              "\n",
              "        RiskClass  VehAge BonusClass  Exposure  ClaimNb  \n",
              "0  EV ratio 13-15      12        BM1  0.175342        0  \n",
              "1  EV ratio 20-24       9        BM1  0.000000        0  \n",
              "2   EV ratio 9-12      18        BM1  0.454795        0  \n",
              "3     EV ratio <5      25        BM1  0.172603        0  \n",
              "4     EV ratio <5      26        BM1  0.180822        0  "
            ],
            "text/html": [
              "\n",
              "  <div id=\"df-a6b19bd0-ffe7-429f-b9d5-c7e92205191a\">\n",
              "    <div class=\"colab-df-container\">\n",
              "      <div>\n",
              "<style scoped>\n",
              "    .dataframe tbody tr th:only-of-type {\n",
              "        vertical-align: middle;\n",
              "    }\n",
              "\n",
              "    .dataframe tbody tr th {\n",
              "        vertical-align: top;\n",
              "    }\n",
              "\n",
              "    .dataframe thead th {\n",
              "        text-align: right;\n",
              "    }\n",
              "</style>\n",
              "<table border=\"1\" class=\"dataframe\">\n",
              "  <thead>\n",
              "    <tr style=\"text-align: right;\">\n",
              "      <th></th>\n",
              "      <th>OwnerAge</th>\n",
              "      <th>Gender</th>\n",
              "      <th>Area</th>\n",
              "      <th>RiskClass</th>\n",
              "      <th>VehAge</th>\n",
              "      <th>BonusClass</th>\n",
              "      <th>Exposure</th>\n",
              "      <th>ClaimNb</th>\n",
              "    </tr>\n",
              "  </thead>\n",
              "  <tbody>\n",
              "    <tr>\n",
              "      <th>0</th>\n",
              "      <td>0</td>\n",
              "      <td>Male</td>\n",
              "      <td>Central parts of Sweden's three largest cities</td>\n",
              "      <td>EV ratio 13-15</td>\n",
              "      <td>12</td>\n",
              "      <td>BM1</td>\n",
              "      <td>0.175342</td>\n",
              "      <td>0</td>\n",
              "    </tr>\n",
              "    <tr>\n",
              "      <th>1</th>\n",
              "      <td>4</td>\n",
              "      <td>Male</td>\n",
              "      <td>Lesser towns except Gotland; Northern towns</td>\n",
              "      <td>EV ratio 20-24</td>\n",
              "      <td>9</td>\n",
              "      <td>BM1</td>\n",
              "      <td>0.000000</td>\n",
              "      <td>0</td>\n",
              "    </tr>\n",
              "    <tr>\n",
              "      <th>2</th>\n",
              "      <td>5</td>\n",
              "      <td>Female</td>\n",
              "      <td>Lesser towns except Gotland; Northern towns</td>\n",
              "      <td>EV ratio 9-12</td>\n",
              "      <td>18</td>\n",
              "      <td>BM1</td>\n",
              "      <td>0.454795</td>\n",
              "      <td>0</td>\n",
              "    </tr>\n",
              "    <tr>\n",
              "      <th>3</th>\n",
              "      <td>5</td>\n",
              "      <td>Female</td>\n",
              "      <td>Small towns; countryside except Gotland; North...</td>\n",
              "      <td>EV ratio &lt;5</td>\n",
              "      <td>25</td>\n",
              "      <td>BM1</td>\n",
              "      <td>0.172603</td>\n",
              "      <td>0</td>\n",
              "    </tr>\n",
              "    <tr>\n",
              "      <th>4</th>\n",
              "      <td>6</td>\n",
              "      <td>Female</td>\n",
              "      <td>Suburbs; middle-sized cities</td>\n",
              "      <td>EV ratio &lt;5</td>\n",
              "      <td>26</td>\n",
              "      <td>BM1</td>\n",
              "      <td>0.180822</td>\n",
              "      <td>0</td>\n",
              "    </tr>\n",
              "  </tbody>\n",
              "</table>\n",
              "</div>\n",
              "      <button class=\"colab-df-convert\" onclick=\"convertToInteractive('df-a6b19bd0-ffe7-429f-b9d5-c7e92205191a')\"\n",
              "              title=\"Convert this dataframe to an interactive table.\"\n",
              "              style=\"display:none;\">\n",
              "        \n",
              "  <svg xmlns=\"http://www.w3.org/2000/svg\" height=\"24px\"viewBox=\"0 0 24 24\"\n",
              "       width=\"24px\">\n",
              "    <path d=\"M0 0h24v24H0V0z\" fill=\"none\"/>\n",
              "    <path d=\"M18.56 5.44l.94 2.06.94-2.06 2.06-.94-2.06-.94-.94-2.06-.94 2.06-2.06.94zm-11 1L8.5 8.5l.94-2.06 2.06-.94-2.06-.94L8.5 2.5l-.94 2.06-2.06.94zm10 10l.94 2.06.94-2.06 2.06-.94-2.06-.94-.94-2.06-.94 2.06-2.06.94z\"/><path d=\"M17.41 7.96l-1.37-1.37c-.4-.4-.92-.59-1.43-.59-.52 0-1.04.2-1.43.59L10.3 9.45l-7.72 7.72c-.78.78-.78 2.05 0 2.83L4 21.41c.39.39.9.59 1.41.59.51 0 1.02-.2 1.41-.59l7.78-7.78 2.81-2.81c.8-.78.8-2.07 0-2.86zM5.41 20L4 18.59l7.72-7.72 1.47 1.35L5.41 20z\"/>\n",
              "  </svg>\n",
              "      </button>\n",
              "      \n",
              "  <style>\n",
              "    .colab-df-container {\n",
              "      display:flex;\n",
              "      flex-wrap:wrap;\n",
              "      gap: 12px;\n",
              "    }\n",
              "\n",
              "    .colab-df-convert {\n",
              "      background-color: #E8F0FE;\n",
              "      border: none;\n",
              "      border-radius: 50%;\n",
              "      cursor: pointer;\n",
              "      display: none;\n",
              "      fill: #1967D2;\n",
              "      height: 32px;\n",
              "      padding: 0 0 0 0;\n",
              "      width: 32px;\n",
              "    }\n",
              "\n",
              "    .colab-df-convert:hover {\n",
              "      background-color: #E2EBFA;\n",
              "      box-shadow: 0px 1px 2px rgba(60, 64, 67, 0.3), 0px 1px 3px 1px rgba(60, 64, 67, 0.15);\n",
              "      fill: #174EA6;\n",
              "    }\n",
              "\n",
              "    [theme=dark] .colab-df-convert {\n",
              "      background-color: #3B4455;\n",
              "      fill: #D2E3FC;\n",
              "    }\n",
              "\n",
              "    [theme=dark] .colab-df-convert:hover {\n",
              "      background-color: #434B5C;\n",
              "      box-shadow: 0px 1px 3px 1px rgba(0, 0, 0, 0.15);\n",
              "      filter: drop-shadow(0px 1px 2px rgba(0, 0, 0, 0.3));\n",
              "      fill: #FFFFFF;\n",
              "    }\n",
              "  </style>\n",
              "\n",
              "      <script>\n",
              "        const buttonEl =\n",
              "          document.querySelector('#df-a6b19bd0-ffe7-429f-b9d5-c7e92205191a button.colab-df-convert');\n",
              "        buttonEl.style.display =\n",
              "          google.colab.kernel.accessAllowed ? 'block' : 'none';\n",
              "\n",
              "        async function convertToInteractive(key) {\n",
              "          const element = document.querySelector('#df-a6b19bd0-ffe7-429f-b9d5-c7e92205191a');\n",
              "          const dataTable =\n",
              "            await google.colab.kernel.invokeFunction('convertToInteractive',\n",
              "                                                     [key], {});\n",
              "          if (!dataTable) return;\n",
              "\n",
              "          const docLinkHtml = 'Like what you see? Visit the ' +\n",
              "            '<a target=\"_blank\" href=https://colab.research.google.com/notebooks/data_table.ipynb>data table notebook</a>'\n",
              "            + ' to learn more about interactive tables.';\n",
              "          element.innerHTML = '';\n",
              "          dataTable['output_type'] = 'display_data';\n",
              "          await google.colab.output.renderOutput(dataTable, element);\n",
              "          const docLink = document.createElement('div');\n",
              "          docLink.innerHTML = docLinkHtml;\n",
              "          element.appendChild(docLink);\n",
              "        }\n",
              "      </script>\n",
              "    </div>\n",
              "  </div>\n",
              "  "
            ]
          },
          "metadata": {},
          "execution_count": 6
        }
      ]
    },
    {
      "cell_type": "markdown",
      "source": [
        "# Summary Statistics"
      ],
      "metadata": {
        "id": "57USFgsCj6zt"
      }
    },
    {
      "cell_type": "code",
      "source": [
        "# Summarize attribute distributions for data type of variables\n",
        "obj_cols = [var for var in df.columns if df[var].dtype=='object']\n",
        "df[obj_cols].describe().T"
      ],
      "metadata": {
        "id": "-5VW72YG_0kS",
        "colab": {
          "base_uri": "https://localhost:8080/",
          "height": 175
        },
        "outputId": "b938b77a-7f5a-466d-ae23-dfedeb5559db"
      },
      "execution_count": null,
      "outputs": [
        {
          "output_type": "execute_result",
          "data": {
            "text/plain": [
              "            count unique                                                top  \\\n",
              "Gender      64548      2                                               Male   \n",
              "Area        64548      7  Small towns; countryside except Gotland; North...   \n",
              "RiskClass   64548      7                                      EV ratio 9-12   \n",
              "BonusClass  64548      7                                                BM7   \n",
              "\n",
              "             freq  \n",
              "Gender      54695  \n",
              "Area        24816  \n",
              "RiskClass   18905  \n",
              "BonusClass  17953  "
            ],
            "text/html": [
              "\n",
              "  <div id=\"df-22f0162e-9eae-4107-b50a-0005d869ddc2\">\n",
              "    <div class=\"colab-df-container\">\n",
              "      <div>\n",
              "<style scoped>\n",
              "    .dataframe tbody tr th:only-of-type {\n",
              "        vertical-align: middle;\n",
              "    }\n",
              "\n",
              "    .dataframe tbody tr th {\n",
              "        vertical-align: top;\n",
              "    }\n",
              "\n",
              "    .dataframe thead th {\n",
              "        text-align: right;\n",
              "    }\n",
              "</style>\n",
              "<table border=\"1\" class=\"dataframe\">\n",
              "  <thead>\n",
              "    <tr style=\"text-align: right;\">\n",
              "      <th></th>\n",
              "      <th>count</th>\n",
              "      <th>unique</th>\n",
              "      <th>top</th>\n",
              "      <th>freq</th>\n",
              "    </tr>\n",
              "  </thead>\n",
              "  <tbody>\n",
              "    <tr>\n",
              "      <th>Gender</th>\n",
              "      <td>64548</td>\n",
              "      <td>2</td>\n",
              "      <td>Male</td>\n",
              "      <td>54695</td>\n",
              "    </tr>\n",
              "    <tr>\n",
              "      <th>Area</th>\n",
              "      <td>64548</td>\n",
              "      <td>7</td>\n",
              "      <td>Small towns; countryside except Gotland; North...</td>\n",
              "      <td>24816</td>\n",
              "    </tr>\n",
              "    <tr>\n",
              "      <th>RiskClass</th>\n",
              "      <td>64548</td>\n",
              "      <td>7</td>\n",
              "      <td>EV ratio 9-12</td>\n",
              "      <td>18905</td>\n",
              "    </tr>\n",
              "    <tr>\n",
              "      <th>BonusClass</th>\n",
              "      <td>64548</td>\n",
              "      <td>7</td>\n",
              "      <td>BM7</td>\n",
              "      <td>17953</td>\n",
              "    </tr>\n",
              "  </tbody>\n",
              "</table>\n",
              "</div>\n",
              "      <button class=\"colab-df-convert\" onclick=\"convertToInteractive('df-22f0162e-9eae-4107-b50a-0005d869ddc2')\"\n",
              "              title=\"Convert this dataframe to an interactive table.\"\n",
              "              style=\"display:none;\">\n",
              "        \n",
              "  <svg xmlns=\"http://www.w3.org/2000/svg\" height=\"24px\"viewBox=\"0 0 24 24\"\n",
              "       width=\"24px\">\n",
              "    <path d=\"M0 0h24v24H0V0z\" fill=\"none\"/>\n",
              "    <path d=\"M18.56 5.44l.94 2.06.94-2.06 2.06-.94-2.06-.94-.94-2.06-.94 2.06-2.06.94zm-11 1L8.5 8.5l.94-2.06 2.06-.94-2.06-.94L8.5 2.5l-.94 2.06-2.06.94zm10 10l.94 2.06.94-2.06 2.06-.94-2.06-.94-.94-2.06-.94 2.06-2.06.94z\"/><path d=\"M17.41 7.96l-1.37-1.37c-.4-.4-.92-.59-1.43-.59-.52 0-1.04.2-1.43.59L10.3 9.45l-7.72 7.72c-.78.78-.78 2.05 0 2.83L4 21.41c.39.39.9.59 1.41.59.51 0 1.02-.2 1.41-.59l7.78-7.78 2.81-2.81c.8-.78.8-2.07 0-2.86zM5.41 20L4 18.59l7.72-7.72 1.47 1.35L5.41 20z\"/>\n",
              "  </svg>\n",
              "      </button>\n",
              "      \n",
              "  <style>\n",
              "    .colab-df-container {\n",
              "      display:flex;\n",
              "      flex-wrap:wrap;\n",
              "      gap: 12px;\n",
              "    }\n",
              "\n",
              "    .colab-df-convert {\n",
              "      background-color: #E8F0FE;\n",
              "      border: none;\n",
              "      border-radius: 50%;\n",
              "      cursor: pointer;\n",
              "      display: none;\n",
              "      fill: #1967D2;\n",
              "      height: 32px;\n",
              "      padding: 0 0 0 0;\n",
              "      width: 32px;\n",
              "    }\n",
              "\n",
              "    .colab-df-convert:hover {\n",
              "      background-color: #E2EBFA;\n",
              "      box-shadow: 0px 1px 2px rgba(60, 64, 67, 0.3), 0px 1px 3px 1px rgba(60, 64, 67, 0.15);\n",
              "      fill: #174EA6;\n",
              "    }\n",
              "\n",
              "    [theme=dark] .colab-df-convert {\n",
              "      background-color: #3B4455;\n",
              "      fill: #D2E3FC;\n",
              "    }\n",
              "\n",
              "    [theme=dark] .colab-df-convert:hover {\n",
              "      background-color: #434B5C;\n",
              "      box-shadow: 0px 1px 3px 1px rgba(0, 0, 0, 0.15);\n",
              "      filter: drop-shadow(0px 1px 2px rgba(0, 0, 0, 0.3));\n",
              "      fill: #FFFFFF;\n",
              "    }\n",
              "  </style>\n",
              "\n",
              "      <script>\n",
              "        const buttonEl =\n",
              "          document.querySelector('#df-22f0162e-9eae-4107-b50a-0005d869ddc2 button.colab-df-convert');\n",
              "        buttonEl.style.display =\n",
              "          google.colab.kernel.accessAllowed ? 'block' : 'none';\n",
              "\n",
              "        async function convertToInteractive(key) {\n",
              "          const element = document.querySelector('#df-22f0162e-9eae-4107-b50a-0005d869ddc2');\n",
              "          const dataTable =\n",
              "            await google.colab.kernel.invokeFunction('convertToInteractive',\n",
              "                                                     [key], {});\n",
              "          if (!dataTable) return;\n",
              "\n",
              "          const docLinkHtml = 'Like what you see? Visit the ' +\n",
              "            '<a target=\"_blank\" href=https://colab.research.google.com/notebooks/data_table.ipynb>data table notebook</a>'\n",
              "            + ' to learn more about interactive tables.';\n",
              "          element.innerHTML = '';\n",
              "          dataTable['output_type'] = 'display_data';\n",
              "          await google.colab.output.renderOutput(dataTable, element);\n",
              "          const docLink = document.createElement('div');\n",
              "          docLink.innerHTML = docLinkHtml;\n",
              "          element.appendChild(docLink);\n",
              "        }\n",
              "      </script>\n",
              "    </div>\n",
              "  </div>\n",
              "  "
            ]
          },
          "metadata": {},
          "execution_count": 7
        }
      ]
    },
    {
      "cell_type": "code",
      "source": [
        "# Summarize attribute distributions for data type of variables\n",
        "no_obj_cols = [var for var in df.columns if df[var].dtype!='object']\n",
        "df[no_obj_cols].describe().T"
      ],
      "metadata": {
        "id": "BzwpsBtqABTC",
        "colab": {
          "base_uri": "https://localhost:8080/",
          "height": 175
        },
        "outputId": "4ad716d0-210a-46e5-aebc-ecff2db06f6c"
      },
      "execution_count": null,
      "outputs": [
        {
          "output_type": "execute_result",
          "data": {
            "text/plain": [
              "            count       mean        std  min        25%        50%   75%  \\\n",
              "OwnerAge  64548.0  42.416062  12.980960  0.0  31.000000  44.000000  52.0   \n",
              "VehAge    64548.0  12.540063   9.727445  0.0   5.000000  12.000000  16.0   \n",
              "Exposure  64548.0   1.010671   1.307424  0.0   0.463014   0.827397   1.0   \n",
              "ClaimNb   64548.0   0.010798   0.107323  0.0   0.000000   0.000000   0.0   \n",
              "\n",
              "               max  \n",
              "OwnerAge  92.00000  \n",
              "VehAge    99.00000  \n",
              "Exposure  31.33973  \n",
              "ClaimNb    2.00000  "
            ],
            "text/html": [
              "\n",
              "  <div id=\"df-924a3dff-bcb5-4699-8a69-4ed86fbc96f1\">\n",
              "    <div class=\"colab-df-container\">\n",
              "      <div>\n",
              "<style scoped>\n",
              "    .dataframe tbody tr th:only-of-type {\n",
              "        vertical-align: middle;\n",
              "    }\n",
              "\n",
              "    .dataframe tbody tr th {\n",
              "        vertical-align: top;\n",
              "    }\n",
              "\n",
              "    .dataframe thead th {\n",
              "        text-align: right;\n",
              "    }\n",
              "</style>\n",
              "<table border=\"1\" class=\"dataframe\">\n",
              "  <thead>\n",
              "    <tr style=\"text-align: right;\">\n",
              "      <th></th>\n",
              "      <th>count</th>\n",
              "      <th>mean</th>\n",
              "      <th>std</th>\n",
              "      <th>min</th>\n",
              "      <th>25%</th>\n",
              "      <th>50%</th>\n",
              "      <th>75%</th>\n",
              "      <th>max</th>\n",
              "    </tr>\n",
              "  </thead>\n",
              "  <tbody>\n",
              "    <tr>\n",
              "      <th>OwnerAge</th>\n",
              "      <td>64548.0</td>\n",
              "      <td>42.416062</td>\n",
              "      <td>12.980960</td>\n",
              "      <td>0.0</td>\n",
              "      <td>31.000000</td>\n",
              "      <td>44.000000</td>\n",
              "      <td>52.0</td>\n",
              "      <td>92.00000</td>\n",
              "    </tr>\n",
              "    <tr>\n",
              "      <th>VehAge</th>\n",
              "      <td>64548.0</td>\n",
              "      <td>12.540063</td>\n",
              "      <td>9.727445</td>\n",
              "      <td>0.0</td>\n",
              "      <td>5.000000</td>\n",
              "      <td>12.000000</td>\n",
              "      <td>16.0</td>\n",
              "      <td>99.00000</td>\n",
              "    </tr>\n",
              "    <tr>\n",
              "      <th>Exposure</th>\n",
              "      <td>64548.0</td>\n",
              "      <td>1.010671</td>\n",
              "      <td>1.307424</td>\n",
              "      <td>0.0</td>\n",
              "      <td>0.463014</td>\n",
              "      <td>0.827397</td>\n",
              "      <td>1.0</td>\n",
              "      <td>31.33973</td>\n",
              "    </tr>\n",
              "    <tr>\n",
              "      <th>ClaimNb</th>\n",
              "      <td>64548.0</td>\n",
              "      <td>0.010798</td>\n",
              "      <td>0.107323</td>\n",
              "      <td>0.0</td>\n",
              "      <td>0.000000</td>\n",
              "      <td>0.000000</td>\n",
              "      <td>0.0</td>\n",
              "      <td>2.00000</td>\n",
              "    </tr>\n",
              "  </tbody>\n",
              "</table>\n",
              "</div>\n",
              "      <button class=\"colab-df-convert\" onclick=\"convertToInteractive('df-924a3dff-bcb5-4699-8a69-4ed86fbc96f1')\"\n",
              "              title=\"Convert this dataframe to an interactive table.\"\n",
              "              style=\"display:none;\">\n",
              "        \n",
              "  <svg xmlns=\"http://www.w3.org/2000/svg\" height=\"24px\"viewBox=\"0 0 24 24\"\n",
              "       width=\"24px\">\n",
              "    <path d=\"M0 0h24v24H0V0z\" fill=\"none\"/>\n",
              "    <path d=\"M18.56 5.44l.94 2.06.94-2.06 2.06-.94-2.06-.94-.94-2.06-.94 2.06-2.06.94zm-11 1L8.5 8.5l.94-2.06 2.06-.94-2.06-.94L8.5 2.5l-.94 2.06-2.06.94zm10 10l.94 2.06.94-2.06 2.06-.94-2.06-.94-.94-2.06-.94 2.06-2.06.94z\"/><path d=\"M17.41 7.96l-1.37-1.37c-.4-.4-.92-.59-1.43-.59-.52 0-1.04.2-1.43.59L10.3 9.45l-7.72 7.72c-.78.78-.78 2.05 0 2.83L4 21.41c.39.39.9.59 1.41.59.51 0 1.02-.2 1.41-.59l7.78-7.78 2.81-2.81c.8-.78.8-2.07 0-2.86zM5.41 20L4 18.59l7.72-7.72 1.47 1.35L5.41 20z\"/>\n",
              "  </svg>\n",
              "      </button>\n",
              "      \n",
              "  <style>\n",
              "    .colab-df-container {\n",
              "      display:flex;\n",
              "      flex-wrap:wrap;\n",
              "      gap: 12px;\n",
              "    }\n",
              "\n",
              "    .colab-df-convert {\n",
              "      background-color: #E8F0FE;\n",
              "      border: none;\n",
              "      border-radius: 50%;\n",
              "      cursor: pointer;\n",
              "      display: none;\n",
              "      fill: #1967D2;\n",
              "      height: 32px;\n",
              "      padding: 0 0 0 0;\n",
              "      width: 32px;\n",
              "    }\n",
              "\n",
              "    .colab-df-convert:hover {\n",
              "      background-color: #E2EBFA;\n",
              "      box-shadow: 0px 1px 2px rgba(60, 64, 67, 0.3), 0px 1px 3px 1px rgba(60, 64, 67, 0.15);\n",
              "      fill: #174EA6;\n",
              "    }\n",
              "\n",
              "    [theme=dark] .colab-df-convert {\n",
              "      background-color: #3B4455;\n",
              "      fill: #D2E3FC;\n",
              "    }\n",
              "\n",
              "    [theme=dark] .colab-df-convert:hover {\n",
              "      background-color: #434B5C;\n",
              "      box-shadow: 0px 1px 3px 1px rgba(0, 0, 0, 0.15);\n",
              "      filter: drop-shadow(0px 1px 2px rgba(0, 0, 0, 0.3));\n",
              "      fill: #FFFFFF;\n",
              "    }\n",
              "  </style>\n",
              "\n",
              "      <script>\n",
              "        const buttonEl =\n",
              "          document.querySelector('#df-924a3dff-bcb5-4699-8a69-4ed86fbc96f1 button.colab-df-convert');\n",
              "        buttonEl.style.display =\n",
              "          google.colab.kernel.accessAllowed ? 'block' : 'none';\n",
              "\n",
              "        async function convertToInteractive(key) {\n",
              "          const element = document.querySelector('#df-924a3dff-bcb5-4699-8a69-4ed86fbc96f1');\n",
              "          const dataTable =\n",
              "            await google.colab.kernel.invokeFunction('convertToInteractive',\n",
              "                                                     [key], {});\n",
              "          if (!dataTable) return;\n",
              "\n",
              "          const docLinkHtml = 'Like what you see? Visit the ' +\n",
              "            '<a target=\"_blank\" href=https://colab.research.google.com/notebooks/data_table.ipynb>data table notebook</a>'\n",
              "            + ' to learn more about interactive tables.';\n",
              "          element.innerHTML = '';\n",
              "          dataTable['output_type'] = 'display_data';\n",
              "          await google.colab.output.renderOutput(dataTable, element);\n",
              "          const docLink = document.createElement('div');\n",
              "          docLink.innerHTML = docLinkHtml;\n",
              "          element.appendChild(docLink);\n",
              "        }\n",
              "      </script>\n",
              "    </div>\n",
              "  </div>\n",
              "  "
            ]
          },
          "metadata": {},
          "execution_count": 8
        }
      ]
    },
    {
      "cell_type": "markdown",
      "source": [
        "# Data Cleaning"
      ],
      "metadata": {
        "id": "qA0B70fNj_5l"
      }
    },
    {
      "cell_type": "code",
      "source": [
        "# get number of unique values for each column\n",
        "counts = df.nunique()\n",
        "# record columns to delete\n",
        "to_del = [i for i,v in enumerate(counts) if v == 1]\n",
        "print(to_del)\n",
        "# drop useless columns\n",
        "df.drop(to_del, axis=1, inplace=True)\n",
        "print(df.shape)"
      ],
      "metadata": {
        "id": "KPYovd_bAUqp",
        "colab": {
          "base_uri": "https://localhost:8080/"
        },
        "outputId": "bc6d3513-f7d4-40a8-ad7f-90d7f15cca72"
      },
      "execution_count": null,
      "outputs": [
        {
          "output_type": "stream",
          "name": "stdout",
          "text": [
            "[]\n",
            "(64548, 8)\n"
          ]
        }
      ]
    },
    {
      "cell_type": "code",
      "source": [
        "# get number of unique values for each row\n",
        "counts = df.duplicated()\n",
        "# record rows to delete\n",
        "to_del = [i for i,v in enumerate(counts) if v == 1]\n",
        "print(to_del)\n",
        "print(df.shape)"
      ],
      "metadata": {
        "id": "x-5PSTq2BfwM",
        "colab": {
          "base_uri": "https://localhost:8080/"
        },
        "outputId": "3e3bb05b-5816-45d4-c0b3-a70bf3e0cea8"
      },
      "execution_count": null,
      "outputs": [
        {
          "output_type": "stream",
          "name": "stdout",
          "text": [
            "[]\n",
            "(64548, 8)\n"
          ]
        }
      ]
    },
    {
      "cell_type": "code",
      "source": [
        "# Check missing values both to numeric features and categorical features \n",
        "missing = df.isnull().sum()/df.shape[0]*100\n",
        "missing"
      ],
      "metadata": {
        "id": "rTthh0x3_vAs",
        "colab": {
          "base_uri": "https://localhost:8080/"
        },
        "outputId": "1f95f3a3-ea70-4ae8-a352-808f0cccf8c1"
      },
      "execution_count": null,
      "outputs": [
        {
          "output_type": "execute_result",
          "data": {
            "text/plain": [
              "OwnerAge      0.0\n",
              "Gender        0.0\n",
              "Area          0.0\n",
              "RiskClass     0.0\n",
              "VehAge        0.0\n",
              "BonusClass    0.0\n",
              "Exposure      0.0\n",
              "ClaimNb       0.0\n",
              "dtype: float64"
            ]
          },
          "metadata": {},
          "execution_count": 11
        }
      ]
    },
    {
      "cell_type": "code",
      "source": [
        "# Feature transformation\n",
        "df_1 = df.copy()\n",
        "df_1['Exposure'] = df_1['Exposure'].clip(upper=1)\n",
        "df_1['VehAge'] = df_1['VehAge'].clip(upper=20)"
      ],
      "metadata": {
        "id": "Ix0Bfmzhaahp"
      },
      "execution_count": null,
      "outputs": []
    },
    {
      "cell_type": "markdown",
      "source": [
        "# Pre-Processing"
      ],
      "metadata": {
        "id": "qMT1ZoX_kFDa"
      }
    },
    {
      "cell_type": "code",
      "source": [
        "# Split dataset\n",
        "df_train, df_test, = train_test_split(df_1, train_size=0.8, test_size=0.2,random_state=0)\n"
      ],
      "metadata": {
        "id": "qoxD6KXkx1XM"
      },
      "execution_count": null,
      "outputs": []
    },
    {
      "cell_type": "code",
      "source": [
        "y_train = df_train.ClaimNb\n",
        "y_test = df_test.ClaimNb\n",
        "X_train = df_train.drop(['ClaimNb'], axis=1, inplace=False)\n",
        "X_test = df_test.drop(['ClaimNb'], axis=1, inplace=False)"
      ],
      "metadata": {
        "id": "5Kd14r5t4gU1"
      },
      "execution_count": null,
      "outputs": []
    },
    {
      "cell_type": "markdown",
      "source": [
        "# Modelling 1"
      ],
      "metadata": {
        "id": "IncA8XhpkKc7"
      }
    },
    {
      "cell_type": "code",
      "source": [
        "np.random.seed(0)\n",
        "glm_poisson_1 = smf.glm(formula='ClaimNb ~ C(Gender)+C(RiskClass)+C(Area)+C(BonusClass)+OwnerAge+VehAge', data=df_train, offset=np.log1p(df_train['Exposure']), family=sm.families.Poisson(sm.families.links.log()))\n",
        "glm_model_1 = glm_poisson_1.fit()\n",
        "print(glm_model_1.summary())"
      ],
      "metadata": {
        "id": "Gpm2vVuv3-pO",
        "colab": {
          "base_uri": "https://localhost:8080/"
        },
        "outputId": "4b87a9db-b39f-488e-edb1-e4dedef91ef3"
      },
      "execution_count": null,
      "outputs": [
        {
          "output_type": "stream",
          "name": "stdout",
          "text": [
            "                 Generalized Linear Model Regression Results                  \n",
            "==============================================================================\n",
            "Dep. Variable:                ClaimNb   No. Observations:                51638\n",
            "Model:                            GLM   Df Residuals:                    51616\n",
            "Model Family:                 Poisson   Df Model:                           21\n",
            "Link Function:                    log   Scale:                          1.0000\n",
            "Method:                          IRLS   Log-Likelihood:                -2760.8\n",
            "Date:                Tue, 30 Aug 2022   Deviance:                       4461.3\n",
            "Time:                        16:34:35   Pearson chi2:                 5.37e+04\n",
            "No. Iterations:                     8                                         \n",
            "Covariance Type:            nonrobust                                         \n",
            "======================================================================================================================================\n",
            "                                                                         coef    std err          z      P>|z|      [0.025      0.975]\n",
            "--------------------------------------------------------------------------------------------------------------------------------------\n",
            "Intercept                                                             -3.0270      0.254    -11.918      0.000      -3.525      -2.529\n",
            "C(Gender)[T.Male]                                                      0.7528      0.160      4.712      0.000       0.440       1.066\n",
            "C(RiskClass)[T.EV ratio 16-19]                                         0.6094      0.150      4.072      0.000       0.316       0.903\n",
            "C(RiskClass)[T.EV ratio 20-24]                                         0.9436      0.148      6.359      0.000       0.653       1.234\n",
            "C(RiskClass)[T.EV ratio 6-8]                                           0.4367      0.195      2.235      0.025       0.054       0.820\n",
            "C(RiskClass)[T.EV ratio 9-12]                                          0.2196      0.148      1.487      0.137      -0.070       0.509\n",
            "C(RiskClass)[T.EV ratio <5]                                            0.2467      0.201      1.230      0.219      -0.146       0.640\n",
            "C(RiskClass)[T.EV ratio >25]                                          -0.2737      0.464     -0.589      0.556      -1.184       0.637\n",
            "C(Area)[T.Gotland (Sweden's largest island)]                          -1.7898      1.004     -1.783      0.075      -3.757       0.177\n",
            "C(Area)[T.Lesser towns except Gotland; Northern towns]                -0.8879      0.133     -6.666      0.000      -1.149      -0.627\n",
            "C(Area)[T.Northern countryside]                                       -1.3593      0.271     -5.007      0.000      -1.891      -0.827\n",
            "C(Area)[T.Northern towns]                                             -1.5956      0.344     -4.644      0.000      -2.269      -0.922\n",
            "C(Area)[T.Small towns; countryside except Gotland; Northern towns]    -0.9751      0.117     -8.366      0.000      -1.204      -0.747\n",
            "C(Area)[T.Suburbs; middle-sized cities]                               -0.4505      0.120     -3.742      0.000      -0.686      -0.215\n",
            "C(BonusClass)[T.BM2]                                                  -0.0954      0.166     -0.575      0.565      -0.421       0.230\n",
            "C(BonusClass)[T.BM3]                                                   0.0430      0.170      0.252      0.801      -0.291       0.377\n",
            "C(BonusClass)[T.BM4]                                                   0.1560      0.170      0.917      0.359      -0.177       0.489\n",
            "C(BonusClass)[T.BM5]                                                  -0.0441      0.191     -0.231      0.817      -0.419       0.331\n",
            "C(BonusClass)[T.BM6]                                                  -0.1651      0.200     -0.828      0.408      -0.556       0.226\n",
            "C(BonusClass)[T.BM7]                                                   0.4977      0.126      3.938      0.000       0.250       0.745\n",
            "OwnerAge                                                              -0.0466      0.004    -12.294      0.000      -0.054      -0.039\n",
            "VehAge                                                                -0.0841      0.008    -11.080      0.000      -0.099      -0.069\n",
            "======================================================================================================================================\n"
          ]
        }
      ]
    },
    {
      "cell_type": "markdown",
      "source": [
        "# Model Evaluation 1"
      ],
      "metadata": {
        "id": "9_fzux3pkQWd"
      }
    },
    {
      "cell_type": "code",
      "source": [
        "predictions_tr = glm_model_1.predict(X_train)\n",
        "predictions_te = glm_model_1.predict(X_test)"
      ],
      "metadata": {
        "id": "7TPWfP481Z1l"
      },
      "execution_count": null,
      "outputs": []
    },
    {
      "cell_type": "code",
      "source": [
        "mean_poisson_deviance(y_train,predictions_tr)"
      ],
      "metadata": {
        "id": "u3PjH1Le1jlW",
        "colab": {
          "base_uri": "https://localhost:8080/"
        },
        "outputId": "e54be388-0b4a-4c56-bb8b-c97ad2b5befb"
      },
      "execution_count": null,
      "outputs": [
        {
          "output_type": "execute_result",
          "data": {
            "text/plain": [
              "0.08872421725625632"
            ]
          },
          "metadata": {},
          "execution_count": 17
        }
      ]
    },
    {
      "cell_type": "code",
      "source": [
        "mean_poisson_deviance(y_test,predictions_te)"
      ],
      "metadata": {
        "id": "EmFXn_dD1eFg",
        "colab": {
          "base_uri": "https://localhost:8080/"
        },
        "outputId": "4d3ea321-b045-4e47-8a3d-59c3d2a6f619"
      },
      "execution_count": null,
      "outputs": [
        {
          "output_type": "execute_result",
          "data": {
            "text/plain": [
              "0.09945123035591899"
            ]
          },
          "metadata": {},
          "execution_count": 18
        }
      ]
    },
    {
      "cell_type": "code",
      "source": [
        "np.sqrt(mean_squared_error(y_train, predictions_tr))"
      ],
      "metadata": {
        "id": "5OgZLOZsTiBD",
        "colab": {
          "base_uri": "https://localhost:8080/"
        },
        "outputId": "ee55c33f-a3f3-494f-c1e4-1d85c99b9a3e"
      },
      "execution_count": null,
      "outputs": [
        {
          "output_type": "execute_result",
          "data": {
            "text/plain": [
              "0.1052476632765837"
            ]
          },
          "metadata": {},
          "execution_count": 19
        }
      ]
    },
    {
      "cell_type": "code",
      "source": [
        "np.sqrt(mean_squared_error(y_test, predictions_te))"
      ],
      "metadata": {
        "id": "jwxg3rUvTdEG",
        "colab": {
          "base_uri": "https://localhost:8080/"
        },
        "outputId": "3d93eb44-7e4a-46f6-dca5-073d8625ce7a"
      },
      "execution_count": null,
      "outputs": [
        {
          "output_type": "execute_result",
          "data": {
            "text/plain": [
              "0.11260518860368156"
            ]
          },
          "metadata": {},
          "execution_count": 20
        }
      ]
    },
    {
      "cell_type": "markdown",
      "source": [
        "# Modelling 2"
      ],
      "metadata": {
        "id": "e5HxCp3BCkqa"
      }
    },
    {
      "cell_type": "code",
      "source": [
        "np.random.seed(0)\n",
        "glm_poisson_2 = smf.glm(formula='ClaimNb ~ C(Gender)+C(RiskClass)+C(Area)+OwnerAge+VehAge', data=df_train, offset=np.log1p(df_train['Exposure']), family=sm.families.Poisson(sm.families.links.log()))\n",
        "glm_model_2 = glm_poisson_2.fit()\n",
        "print(glm_model_2.summary())"
      ],
      "metadata": {
        "id": "MgmAg5aJl7Ah",
        "colab": {
          "base_uri": "https://localhost:8080/"
        },
        "outputId": "522159e6-595e-458a-f168-a49d9247061e"
      },
      "execution_count": null,
      "outputs": [
        {
          "output_type": "stream",
          "name": "stdout",
          "text": [
            "                 Generalized Linear Model Regression Results                  \n",
            "==============================================================================\n",
            "Dep. Variable:                ClaimNb   No. Observations:                51638\n",
            "Model:                            GLM   Df Residuals:                    51622\n",
            "Model Family:                 Poisson   Df Model:                           15\n",
            "Link Function:                    log   Scale:                          1.0000\n",
            "Method:                          IRLS   Log-Likelihood:                -2776.5\n",
            "Date:                Tue, 30 Aug 2022   Deviance:                       4492.8\n",
            "Time:                        16:34:48   Pearson chi2:                 5.43e+04\n",
            "No. Iterations:                     8                                         \n",
            "Covariance Type:            nonrobust                                         \n",
            "======================================================================================================================================\n",
            "                                                                         coef    std err          z      P>|z|      [0.025      0.975]\n",
            "--------------------------------------------------------------------------------------------------------------------------------------\n",
            "Intercept                                                             -2.9946      0.241    -12.442      0.000      -3.466      -2.523\n",
            "C(Gender)[T.Male]                                                      0.7258      0.160      4.548      0.000       0.413       1.039\n",
            "C(RiskClass)[T.EV ratio 16-19]                                         0.6487      0.149      4.340      0.000       0.356       0.942\n",
            "C(RiskClass)[T.EV ratio 20-24]                                         1.0209      0.148      6.916      0.000       0.732       1.310\n",
            "C(RiskClass)[T.EV ratio 6-8]                                           0.4155      0.195      2.133      0.033       0.034       0.797\n",
            "C(RiskClass)[T.EV ratio 9-12]                                          0.1869      0.148      1.267      0.205      -0.102       0.476\n",
            "C(RiskClass)[T.EV ratio <5]                                            0.2353      0.200      1.177      0.239      -0.157       0.627\n",
            "C(RiskClass)[T.EV ratio >25]                                          -0.1643      0.464     -0.354      0.723      -1.074       0.745\n",
            "C(Area)[T.Gotland (Sweden's largest island)]                          -1.7466      1.003     -1.741      0.082      -3.713       0.220\n",
            "C(Area)[T.Lesser towns except Gotland; Northern towns]                -0.9061      0.133     -6.805      0.000      -1.167      -0.645\n",
            "C(Area)[T.Northern countryside]                                       -1.3795      0.271     -5.083      0.000      -1.911      -0.848\n",
            "C(Area)[T.Northern towns]                                             -1.6070      0.344     -4.678      0.000      -2.280      -0.934\n",
            "C(Area)[T.Small towns; countryside except Gotland; Northern towns]    -1.0131      0.116     -8.703      0.000      -1.241      -0.785\n",
            "C(Area)[T.Suburbs; middle-sized cities]                               -0.4708      0.120     -3.912      0.000      -0.707      -0.235\n",
            "OwnerAge                                                              -0.0417      0.004    -11.626      0.000      -0.049      -0.035\n",
            "VehAge                                                                -0.0874      0.008    -11.509      0.000      -0.102      -0.073\n",
            "======================================================================================================================================\n"
          ]
        }
      ]
    },
    {
      "cell_type": "markdown",
      "source": [
        "# Model Evaluation 2"
      ],
      "metadata": {
        "id": "7TgbCNJBCgYy"
      }
    },
    {
      "cell_type": "code",
      "source": [
        "predictions_tr_ = glm_model_2.predict(X_train)\n",
        "predictions_te_ = glm_model_2.predict(X_test)"
      ],
      "metadata": {
        "id": "dobx3NwLlz53"
      },
      "execution_count": null,
      "outputs": []
    },
    {
      "cell_type": "code",
      "source": [
        "mean_poisson_deviance(y_train,predictions_tr_)"
      ],
      "metadata": {
        "id": "45KR-1eqlz8d",
        "colab": {
          "base_uri": "https://localhost:8080/"
        },
        "outputId": "08052320-6eed-42b5-e11a-f5d0944b1def"
      },
      "execution_count": null,
      "outputs": [
        {
          "output_type": "execute_result",
          "data": {
            "text/plain": [
              "0.08945921380930168"
            ]
          },
          "metadata": {},
          "execution_count": 23
        }
      ]
    },
    {
      "cell_type": "code",
      "source": [
        "mean_poisson_deviance(y_test,predictions_te_)"
      ],
      "metadata": {
        "id": "oT5qCPKllz-5",
        "colab": {
          "base_uri": "https://localhost:8080/"
        },
        "outputId": "c931c01b-6c67-40d0-a03d-52420873b745"
      },
      "execution_count": null,
      "outputs": [
        {
          "output_type": "execute_result",
          "data": {
            "text/plain": [
              "0.101253537050602"
            ]
          },
          "metadata": {},
          "execution_count": 24
        }
      ]
    },
    {
      "cell_type": "code",
      "source": [
        "np.sqrt(mean_squared_error(y_train, predictions_tr_))"
      ],
      "metadata": {
        "id": "rxVg2tFcBezq",
        "colab": {
          "base_uri": "https://localhost:8080/"
        },
        "outputId": "9226a768-ca11-4313-9c0b-0c9c3abf8616"
      },
      "execution_count": null,
      "outputs": [
        {
          "output_type": "execute_result",
          "data": {
            "text/plain": [
              "0.10526497659325416"
            ]
          },
          "metadata": {},
          "execution_count": 25
        }
      ]
    },
    {
      "cell_type": "code",
      "source": [
        "np.sqrt(mean_squared_error(y_test, predictions_te_))"
      ],
      "metadata": {
        "id": "izjtGKpSBe4k",
        "colab": {
          "base_uri": "https://localhost:8080/"
        },
        "outputId": "a816e16f-2fa5-444c-cf02-b45f112afc5e"
      },
      "execution_count": null,
      "outputs": [
        {
          "output_type": "execute_result",
          "data": {
            "text/plain": [
              "0.11272884347606331"
            ]
          },
          "metadata": {},
          "execution_count": 26
        }
      ]
    },
    {
      "cell_type": "markdown",
      "source": [
        "# Feature Engineering"
      ],
      "metadata": {
        "id": "jQrTdcork98a"
      }
    },
    {
      "cell_type": "code",
      "source": [
        "df_2 = df_1.copy()"
      ],
      "metadata": {
        "id": "CaF2OmTp2MaH"
      },
      "execution_count": null,
      "outputs": []
    },
    {
      "cell_type": "code",
      "source": [
        "group_RiskClass = 'EV ratio 20-24'"
      ],
      "metadata": {
        "id": "8l-3IH0GkDTd"
      },
      "execution_count": null,
      "outputs": []
    },
    {
      "cell_type": "code",
      "source": [
        "new_RiskClass = 'EV ratio >=20'"
      ],
      "metadata": {
        "id": "frrmX_xHxgZe"
      },
      "execution_count": null,
      "outputs": []
    },
    {
      "cell_type": "code",
      "source": [
        "df_2['RiskClass'] = df_2['RiskClass'].replace(group_RiskClass, new_RiskClass)"
      ],
      "metadata": {
        "id": "ilsiSKOFu7lp"
      },
      "execution_count": null,
      "outputs": []
    },
    {
      "cell_type": "code",
      "source": [
        "# regroup labels\n",
        "df_2['RiskClass'] = np.where(df_2['RiskClass'].isin(['EV ratio >25']), new_RiskClass, df_2['RiskClass'])\n",
        "# check\n",
        "[x for x in df_2.RiskClass.unique() if x not in df_2.RiskClass.unique()]"
      ],
      "metadata": {
        "id": "bEws1UAFiOrM",
        "colab": {
          "base_uri": "https://localhost:8080/"
        },
        "outputId": "923fae48-03bc-4f60-feee-4766e5792d41"
      },
      "execution_count": null,
      "outputs": [
        {
          "output_type": "execute_result",
          "data": {
            "text/plain": [
              "[]"
            ]
          },
          "metadata": {},
          "execution_count": 31
        }
      ]
    },
    {
      "cell_type": "code",
      "source": [
        "df_2['RiskClass'].unique()"
      ],
      "metadata": {
        "id": "POqWcwENzDxz",
        "colab": {
          "base_uri": "https://localhost:8080/"
        },
        "outputId": "f194a92e-82e8-4178-be85-1c1bbe66ec37"
      },
      "execution_count": null,
      "outputs": [
        {
          "output_type": "execute_result",
          "data": {
            "text/plain": [
              "array(['EV ratio 13-15', 'EV ratio >=20', 'EV ratio 9-12', 'EV ratio <5',\n",
              "       'EV ratio 6-8', 'EV ratio 16-19'], dtype=object)"
            ]
          },
          "metadata": {},
          "execution_count": 32
        }
      ]
    },
    {
      "cell_type": "code",
      "source": [
        "group_RiskClass = 'EV ratio 6-8'"
      ],
      "metadata": {
        "id": "y32X04mD81oG"
      },
      "execution_count": null,
      "outputs": []
    },
    {
      "cell_type": "code",
      "source": [
        "new_RiskClass = 'EV ratio <9'"
      ],
      "metadata": {
        "id": "nMAAqEw9l7Id"
      },
      "execution_count": null,
      "outputs": []
    },
    {
      "cell_type": "code",
      "source": [
        "df_2['RiskClass'] = df_2['RiskClass'].replace(group_RiskClass, new_RiskClass)"
      ],
      "metadata": {
        "id": "Dn2JFp4-l7LM"
      },
      "execution_count": null,
      "outputs": []
    },
    {
      "cell_type": "code",
      "source": [
        "# regroup labels\n",
        "df_2['RiskClass'] = np.where(df_2['RiskClass'].isin(['EV ratio <5']), new_RiskClass, df_2['RiskClass'])\n",
        "# check\n",
        "[x for x in df_2.RiskClass.unique() if x not in df_2.RiskClass.unique()]"
      ],
      "metadata": {
        "id": "9Y7c2NbY6j18",
        "colab": {
          "base_uri": "https://localhost:8080/"
        },
        "outputId": "1afef2c1-a053-4bd3-ba28-0c8ba98925b0"
      },
      "execution_count": null,
      "outputs": [
        {
          "output_type": "execute_result",
          "data": {
            "text/plain": [
              "[]"
            ]
          },
          "metadata": {},
          "execution_count": 36
        }
      ]
    },
    {
      "cell_type": "code",
      "source": [
        "df_2['RiskClass'].unique()"
      ],
      "metadata": {
        "id": "wXqc8Hlg6j4w",
        "colab": {
          "base_uri": "https://localhost:8080/"
        },
        "outputId": "d82a89ac-0a59-4d6c-9834-30aa980c5af5"
      },
      "execution_count": null,
      "outputs": [
        {
          "output_type": "execute_result",
          "data": {
            "text/plain": [
              "array(['EV ratio 13-15', 'EV ratio >=20', 'EV ratio 9-12', 'EV ratio <9',\n",
              "       'EV ratio 16-19'], dtype=object)"
            ]
          },
          "metadata": {},
          "execution_count": 37
        }
      ]
    },
    {
      "cell_type": "code",
      "source": [
        "group_RiskClass = 'EV ratio 13-15'"
      ],
      "metadata": {
        "id": "BaMcejMD81qr"
      },
      "execution_count": null,
      "outputs": []
    },
    {
      "cell_type": "code",
      "source": [
        "new_RiskClass = 'EV ratio 9-15'"
      ],
      "metadata": {
        "id": "EyEhRR4H81tc"
      },
      "execution_count": null,
      "outputs": []
    },
    {
      "cell_type": "code",
      "source": [
        "df_2['RiskClass'] = df_2['RiskClass'].replace(group_RiskClass, new_RiskClass)"
      ],
      "metadata": {
        "id": "B29pUYQs81wF"
      },
      "execution_count": null,
      "outputs": []
    },
    {
      "cell_type": "code",
      "source": [
        "# regroup labels\n",
        "df_2['RiskClass'] = np.where(df_2['RiskClass'].isin(['EV ratio 9-12']), new_RiskClass, df_2['RiskClass'])\n",
        "# check\n",
        "[x for x in df_2.RiskClass.unique() if x not in df_2.RiskClass.unique()]"
      ],
      "metadata": {
        "id": "YszxSaN89cJT",
        "colab": {
          "base_uri": "https://localhost:8080/"
        },
        "outputId": "19bb13b6-b55f-4ac9-cdf8-aaac479c99e8"
      },
      "execution_count": null,
      "outputs": [
        {
          "output_type": "execute_result",
          "data": {
            "text/plain": [
              "[]"
            ]
          },
          "metadata": {},
          "execution_count": 41
        }
      ]
    },
    {
      "cell_type": "code",
      "source": [
        "df_2['RiskClass'].unique()"
      ],
      "metadata": {
        "id": "BCMdej_29cMA",
        "colab": {
          "base_uri": "https://localhost:8080/"
        },
        "outputId": "7edaaff9-3a55-42a4-a9ed-cbd5996e1654"
      },
      "execution_count": null,
      "outputs": [
        {
          "output_type": "execute_result",
          "data": {
            "text/plain": [
              "array(['EV ratio 9-15', 'EV ratio >=20', 'EV ratio <9', 'EV ratio 16-19'],\n",
              "      dtype=object)"
            ]
          },
          "metadata": {},
          "execution_count": 42
        }
      ]
    },
    {
      "cell_type": "code",
      "source": [
        "Gotland = \"Gotland (Sweden's largest island)\""
      ],
      "metadata": {
        "id": "0RX3u0PVzK5G"
      },
      "execution_count": null,
      "outputs": []
    },
    {
      "cell_type": "code",
      "source": [
        "new_Gotland = 'Gotland Islands'"
      ],
      "metadata": {
        "id": "WWcbe-ROzwEl"
      },
      "execution_count": null,
      "outputs": []
    },
    {
      "cell_type": "code",
      "source": [
        "df_2['Area'] = df_2['Area'].replace(Gotland, new_Gotland)"
      ],
      "metadata": {
        "id": "JdUpWv7sz18k"
      },
      "execution_count": null,
      "outputs": []
    },
    {
      "cell_type": "code",
      "source": [
        "Lesser_towns = 'Lesser towns except Gotland; Northern towns'"
      ],
      "metadata": {
        "id": "MCbevmlQrPra"
      },
      "execution_count": null,
      "outputs": []
    },
    {
      "cell_type": "code",
      "source": [
        "new_Lesser_towns = 'Lesser towns included Gotland Islands'"
      ],
      "metadata": {
        "id": "gV3vUA0v0yFQ"
      },
      "execution_count": null,
      "outputs": []
    },
    {
      "cell_type": "code",
      "source": [
        "df_2['Area'] = df_2['Area'].replace(Lesser_towns, new_Lesser_towns)"
      ],
      "metadata": {
        "id": "2-BVOqWQ1mqK"
      },
      "execution_count": null,
      "outputs": []
    },
    {
      "cell_type": "code",
      "source": [
        "# regroup labels\n",
        "df_2['Area'] = np.where(df_2['Area'].isin(['Gotland Islands']), new_Lesser_towns, df_2['Area'])\n",
        "# check\n",
        "[x for x in df_2.Area.unique() if x not in df_2.Area.unique()]"
      ],
      "metadata": {
        "id": "32EF_Y9wmR4Y",
        "colab": {
          "base_uri": "https://localhost:8080/"
        },
        "outputId": "7d83f06a-bd57-4cbe-bbc0-5481f490b620"
      },
      "execution_count": null,
      "outputs": [
        {
          "output_type": "execute_result",
          "data": {
            "text/plain": [
              "[]"
            ]
          },
          "metadata": {},
          "execution_count": 49
        }
      ]
    },
    {
      "cell_type": "code",
      "source": [
        "df_2['Area'].unique()"
      ],
      "metadata": {
        "id": "giLh8fYK1FAB",
        "colab": {
          "base_uri": "https://localhost:8080/"
        },
        "outputId": "d9ff831a-e398-474b-a432-9fb097ad025c"
      },
      "execution_count": null,
      "outputs": [
        {
          "output_type": "execute_result",
          "data": {
            "text/plain": [
              "array([\"Central parts of Sweden's three largest cities\",\n",
              "       'Lesser towns included Gotland Islands',\n",
              "       'Small towns; countryside except Gotland; Northern towns',\n",
              "       'Suburbs; middle-sized cities', 'Northern countryside',\n",
              "       'Northern towns'], dtype=object)"
            ]
          },
          "metadata": {},
          "execution_count": 50
        }
      ]
    },
    {
      "cell_type": "markdown",
      "source": [
        "# Modelling 3"
      ],
      "metadata": {
        "id": "jqPw-m2lCdjo"
      }
    },
    {
      "cell_type": "code",
      "source": [
        "df_train_, df_test_, = train_test_split(df_2, train_size=0.8, test_size=0.2,random_state=0)"
      ],
      "metadata": {
        "id": "IEoyeW4flhTR"
      },
      "execution_count": null,
      "outputs": []
    },
    {
      "cell_type": "code",
      "source": [
        "y_train_ = df_train_.ClaimNb\n",
        "y_test_ = df_test_.ClaimNb\n",
        "X_train_ = df_train_.drop(['ClaimNb'], axis=1, inplace=False)\n",
        "X_test_= df_test_.drop(['ClaimNb'], axis=1, inplace=False)"
      ],
      "metadata": {
        "id": "9sN2eqnJlhZY"
      },
      "execution_count": null,
      "outputs": []
    },
    {
      "cell_type": "code",
      "source": [
        "np.random.seed(0)\n",
        "glm_poisson_3 = smf.glm(formula='ClaimNb ~ C(Gender)+C(RiskClass)+C(Area)+OwnerAge+VehAge', data=df_train_, offset=np.log1p(df_train_['Exposure']), family=sm.families.Poisson(sm.families.links.log()))\n",
        "glm_model_3 = glm_poisson_3.fit()\n",
        "print(glm_model_3.summary())"
      ],
      "metadata": {
        "id": "HsDCBi2eiOtz",
        "colab": {
          "base_uri": "https://localhost:8080/"
        },
        "outputId": "54b4f34c-5c82-4652-ed75-b304741f01df"
      },
      "execution_count": null,
      "outputs": [
        {
          "output_type": "stream",
          "name": "stdout",
          "text": [
            "                 Generalized Linear Model Regression Results                  \n",
            "==============================================================================\n",
            "Dep. Variable:                ClaimNb   No. Observations:                51638\n",
            "Model:                            GLM   Df Residuals:                    51626\n",
            "Model Family:                 Poisson   Df Model:                           11\n",
            "Link Function:                    log   Scale:                          1.0000\n",
            "Method:                          IRLS   Log-Likelihood:                -2783.1\n",
            "Date:                Tue, 30 Aug 2022   Deviance:                       4505.9\n",
            "Time:                        16:35:44   Pearson chi2:                 5.43e+04\n",
            "No. Iterations:                     8                                         \n",
            "Covariance Type:            nonrobust                                         \n",
            "======================================================================================================================================\n",
            "                                                                         coef    std err          z      P>|z|      [0.025      0.975]\n",
            "--------------------------------------------------------------------------------------------------------------------------------------\n",
            "Intercept                                                             -2.3566      0.230    -10.239      0.000      -2.808      -1.905\n",
            "C(Gender)[T.Male]                                                      0.7090      0.159      4.449      0.000       0.397       1.021\n",
            "C(RiskClass)[T.EV ratio 9-15]                                         -0.5325      0.115     -4.619      0.000      -0.758      -0.307\n",
            "C(RiskClass)[T.EV ratio <9]                                           -0.3255      0.143     -2.270      0.023      -0.607      -0.044\n",
            "C(RiskClass)[T.EV ratio >=20]                                          0.2941      0.125      2.357      0.018       0.050       0.539\n",
            "C(Area)[T.Lesser towns included Gotland Islands]                      -0.9270      0.133     -6.985      0.000      -1.187      -0.667\n",
            "C(Area)[T.Northern countryside]                                       -1.3791      0.271     -5.082      0.000      -1.911      -0.847\n",
            "C(Area)[T.Northern towns]                                             -1.5986      0.344     -4.654      0.000      -2.272      -0.925\n",
            "C(Area)[T.Small towns; countryside except Gotland; Northern towns]    -1.0259      0.116     -8.815      0.000      -1.254      -0.798\n",
            "C(Area)[T.Suburbs; middle-sized cities]                               -0.4750      0.120     -3.947      0.000      -0.711      -0.239\n",
            "OwnerAge                                                              -0.0410      0.004    -11.432      0.000      -0.048      -0.034\n",
            "VehAge                                                                -0.0863      0.008    -11.454      0.000      -0.101      -0.072\n",
            "======================================================================================================================================\n"
          ]
        }
      ]
    },
    {
      "cell_type": "markdown",
      "source": [
        "# Model Evaluation 3"
      ],
      "metadata": {
        "id": "MQfz4K2uCnw_"
      }
    },
    {
      "cell_type": "code",
      "source": [
        "predictions_train = glm_model_3.predict(X_train_)\n",
        "predictions_test = glm_model_3.predict(X_test_)"
      ],
      "metadata": {
        "id": "pBQTuzF58LBm"
      },
      "execution_count": null,
      "outputs": []
    },
    {
      "cell_type": "code",
      "source": [
        "mean_poisson_deviance(y_train_,predictions_train)"
      ],
      "metadata": {
        "id": "w2c7AT0G6-cY",
        "colab": {
          "base_uri": "https://localhost:8080/"
        },
        "outputId": "d4e0c218-d8ab-482f-ef94-08ff9d788e69"
      },
      "execution_count": null,
      "outputs": [
        {
          "output_type": "execute_result",
          "data": {
            "text/plain": [
              "0.0897810095397159"
            ]
          },
          "metadata": {},
          "execution_count": 55
        }
      ]
    },
    {
      "cell_type": "code",
      "source": [
        "mean_poisson_deviance(y_test_,predictions_test)"
      ],
      "metadata": {
        "id": "LbQJ1iT46kAn",
        "colab": {
          "base_uri": "https://localhost:8080/"
        },
        "outputId": "8847b285-5be6-40fa-89b4-03393f51a2a9"
      },
      "execution_count": null,
      "outputs": [
        {
          "output_type": "execute_result",
          "data": {
            "text/plain": [
              "0.10173545721431132"
            ]
          },
          "metadata": {},
          "execution_count": 56
        }
      ]
    },
    {
      "cell_type": "code",
      "source": [
        "np.sqrt(mean_squared_error(y_train_, predictions_train))"
      ],
      "metadata": {
        "id": "PJbxPURhCOSW",
        "colab": {
          "base_uri": "https://localhost:8080/"
        },
        "outputId": "48edc240-b1d9-4176-ef2f-92be5e408c0e"
      },
      "execution_count": null,
      "outputs": [
        {
          "output_type": "execute_result",
          "data": {
            "text/plain": [
              "0.1053004241195666"
            ]
          },
          "metadata": {},
          "execution_count": 57
        }
      ]
    },
    {
      "cell_type": "code",
      "source": [
        "np.sqrt(mean_squared_error(y_test_, predictions_test))"
      ],
      "metadata": {
        "id": "_80gDM6eCOUu",
        "colab": {
          "base_uri": "https://localhost:8080/"
        },
        "outputId": "fc72c8cc-a349-4b1d-8047-9a2cfe8deb62"
      },
      "execution_count": null,
      "outputs": [
        {
          "output_type": "execute_result",
          "data": {
            "text/plain": [
              "0.11277113644051838"
            ]
          },
          "metadata": {},
          "execution_count": 58
        }
      ]
    },
    {
      "cell_type": "markdown",
      "source": [
        "# **GLM Results Analysis**"
      ],
      "metadata": {
        "id": "NsTWl5n04Ift"
      }
    },
    {
      "cell_type": "code",
      "source": [
        "coef = pd.DataFrame(np.exp(glm_model_3.params), columns = ['Value'])\n",
        "coef"
      ],
      "metadata": {
        "id": "yZJLUkteYQu2",
        "colab": {
          "base_uri": "https://localhost:8080/",
          "height": 426
        },
        "outputId": "5b3f8ad3-43b3-4895-d270-bdc9a85946b0"
      },
      "execution_count": null,
      "outputs": [
        {
          "output_type": "execute_result",
          "data": {
            "text/plain": [
              "                                                       Value\n",
              "Intercept                                           0.094742\n",
              "C(Gender)[T.Male]                                   2.031885\n",
              "C(RiskClass)[T.EV ratio 9-15]                       0.587161\n",
              "C(RiskClass)[T.EV ratio <9]                         0.722177\n",
              "C(RiskClass)[T.EV ratio >=20]                       1.341899\n",
              "C(Area)[T.Lesser towns included Gotland Islands]    0.395731\n",
              "C(Area)[T.Northern countryside]                     0.251797\n",
              "C(Area)[T.Northern towns]                           0.202174\n",
              "C(Area)[T.Small towns; countryside except Gotla...  0.358480\n",
              "C(Area)[T.Suburbs; middle-sized cities]             0.621895\n",
              "OwnerAge                                            0.959808\n",
              "VehAge                                              0.917349"
            ],
            "text/html": [
              "\n",
              "  <div id=\"df-cb8350dc-79ac-4eec-8e2a-26ee899a896f\">\n",
              "    <div class=\"colab-df-container\">\n",
              "      <div>\n",
              "<style scoped>\n",
              "    .dataframe tbody tr th:only-of-type {\n",
              "        vertical-align: middle;\n",
              "    }\n",
              "\n",
              "    .dataframe tbody tr th {\n",
              "        vertical-align: top;\n",
              "    }\n",
              "\n",
              "    .dataframe thead th {\n",
              "        text-align: right;\n",
              "    }\n",
              "</style>\n",
              "<table border=\"1\" class=\"dataframe\">\n",
              "  <thead>\n",
              "    <tr style=\"text-align: right;\">\n",
              "      <th></th>\n",
              "      <th>Value</th>\n",
              "    </tr>\n",
              "  </thead>\n",
              "  <tbody>\n",
              "    <tr>\n",
              "      <th>Intercept</th>\n",
              "      <td>0.094742</td>\n",
              "    </tr>\n",
              "    <tr>\n",
              "      <th>C(Gender)[T.Male]</th>\n",
              "      <td>2.031885</td>\n",
              "    </tr>\n",
              "    <tr>\n",
              "      <th>C(RiskClass)[T.EV ratio 9-15]</th>\n",
              "      <td>0.587161</td>\n",
              "    </tr>\n",
              "    <tr>\n",
              "      <th>C(RiskClass)[T.EV ratio &lt;9]</th>\n",
              "      <td>0.722177</td>\n",
              "    </tr>\n",
              "    <tr>\n",
              "      <th>C(RiskClass)[T.EV ratio &gt;=20]</th>\n",
              "      <td>1.341899</td>\n",
              "    </tr>\n",
              "    <tr>\n",
              "      <th>C(Area)[T.Lesser towns included Gotland Islands]</th>\n",
              "      <td>0.395731</td>\n",
              "    </tr>\n",
              "    <tr>\n",
              "      <th>C(Area)[T.Northern countryside]</th>\n",
              "      <td>0.251797</td>\n",
              "    </tr>\n",
              "    <tr>\n",
              "      <th>C(Area)[T.Northern towns]</th>\n",
              "      <td>0.202174</td>\n",
              "    </tr>\n",
              "    <tr>\n",
              "      <th>C(Area)[T.Small towns; countryside except Gotland; Northern towns]</th>\n",
              "      <td>0.358480</td>\n",
              "    </tr>\n",
              "    <tr>\n",
              "      <th>C(Area)[T.Suburbs; middle-sized cities]</th>\n",
              "      <td>0.621895</td>\n",
              "    </tr>\n",
              "    <tr>\n",
              "      <th>OwnerAge</th>\n",
              "      <td>0.959808</td>\n",
              "    </tr>\n",
              "    <tr>\n",
              "      <th>VehAge</th>\n",
              "      <td>0.917349</td>\n",
              "    </tr>\n",
              "  </tbody>\n",
              "</table>\n",
              "</div>\n",
              "      <button class=\"colab-df-convert\" onclick=\"convertToInteractive('df-cb8350dc-79ac-4eec-8e2a-26ee899a896f')\"\n",
              "              title=\"Convert this dataframe to an interactive table.\"\n",
              "              style=\"display:none;\">\n",
              "        \n",
              "  <svg xmlns=\"http://www.w3.org/2000/svg\" height=\"24px\"viewBox=\"0 0 24 24\"\n",
              "       width=\"24px\">\n",
              "    <path d=\"M0 0h24v24H0V0z\" fill=\"none\"/>\n",
              "    <path d=\"M18.56 5.44l.94 2.06.94-2.06 2.06-.94-2.06-.94-.94-2.06-.94 2.06-2.06.94zm-11 1L8.5 8.5l.94-2.06 2.06-.94-2.06-.94L8.5 2.5l-.94 2.06-2.06.94zm10 10l.94 2.06.94-2.06 2.06-.94-2.06-.94-.94-2.06-.94 2.06-2.06.94z\"/><path d=\"M17.41 7.96l-1.37-1.37c-.4-.4-.92-.59-1.43-.59-.52 0-1.04.2-1.43.59L10.3 9.45l-7.72 7.72c-.78.78-.78 2.05 0 2.83L4 21.41c.39.39.9.59 1.41.59.51 0 1.02-.2 1.41-.59l7.78-7.78 2.81-2.81c.8-.78.8-2.07 0-2.86zM5.41 20L4 18.59l7.72-7.72 1.47 1.35L5.41 20z\"/>\n",
              "  </svg>\n",
              "      </button>\n",
              "      \n",
              "  <style>\n",
              "    .colab-df-container {\n",
              "      display:flex;\n",
              "      flex-wrap:wrap;\n",
              "      gap: 12px;\n",
              "    }\n",
              "\n",
              "    .colab-df-convert {\n",
              "      background-color: #E8F0FE;\n",
              "      border: none;\n",
              "      border-radius: 50%;\n",
              "      cursor: pointer;\n",
              "      display: none;\n",
              "      fill: #1967D2;\n",
              "      height: 32px;\n",
              "      padding: 0 0 0 0;\n",
              "      width: 32px;\n",
              "    }\n",
              "\n",
              "    .colab-df-convert:hover {\n",
              "      background-color: #E2EBFA;\n",
              "      box-shadow: 0px 1px 2px rgba(60, 64, 67, 0.3), 0px 1px 3px 1px rgba(60, 64, 67, 0.15);\n",
              "      fill: #174EA6;\n",
              "    }\n",
              "\n",
              "    [theme=dark] .colab-df-convert {\n",
              "      background-color: #3B4455;\n",
              "      fill: #D2E3FC;\n",
              "    }\n",
              "\n",
              "    [theme=dark] .colab-df-convert:hover {\n",
              "      background-color: #434B5C;\n",
              "      box-shadow: 0px 1px 3px 1px rgba(0, 0, 0, 0.15);\n",
              "      filter: drop-shadow(0px 1px 2px rgba(0, 0, 0, 0.3));\n",
              "      fill: #FFFFFF;\n",
              "    }\n",
              "  </style>\n",
              "\n",
              "      <script>\n",
              "        const buttonEl =\n",
              "          document.querySelector('#df-cb8350dc-79ac-4eec-8e2a-26ee899a896f button.colab-df-convert');\n",
              "        buttonEl.style.display =\n",
              "          google.colab.kernel.accessAllowed ? 'block' : 'none';\n",
              "\n",
              "        async function convertToInteractive(key) {\n",
              "          const element = document.querySelector('#df-cb8350dc-79ac-4eec-8e2a-26ee899a896f');\n",
              "          const dataTable =\n",
              "            await google.colab.kernel.invokeFunction('convertToInteractive',\n",
              "                                                     [key], {});\n",
              "          if (!dataTable) return;\n",
              "\n",
              "          const docLinkHtml = 'Like what you see? Visit the ' +\n",
              "            '<a target=\"_blank\" href=https://colab.research.google.com/notebooks/data_table.ipynb>data table notebook</a>'\n",
              "            + ' to learn more about interactive tables.';\n",
              "          element.innerHTML = '';\n",
              "          dataTable['output_type'] = 'display_data';\n",
              "          await google.colab.output.renderOutput(dataTable, element);\n",
              "          const docLink = document.createElement('div');\n",
              "          docLink.innerHTML = docLinkHtml;\n",
              "          element.appendChild(docLink);\n",
              "        }\n",
              "      </script>\n",
              "    </div>\n",
              "  </div>\n",
              "  "
            ]
          },
          "metadata": {},
          "execution_count": 59
        }
      ]
    },
    {
      "cell_type": "code",
      "source": [
        "# Features importance\n",
        "coef_= coef.sort_values(by=['Value'])\n",
        "coef.index.name=\"Coefficients\"\n",
        "coef_ = coef_.drop(['Intercept'])\n",
        "plt.rcParams[\"figure.figsize\"] = (10,5)\n",
        "coef_.plot(kind='barh', use_index=True)\n",
        "plt.title('Features Importance') \n",
        "plt.show()"
      ],
      "metadata": {
        "id": "3Oz9f6IPNBY1",
        "colab": {
          "base_uri": "https://localhost:8080/",
          "height": 336
        },
        "outputId": "5720f526-c399-4077-ede4-da5dceb777e9"
      },
      "execution_count": null,
      "outputs": [
        {
          "output_type": "display_data",
          "data": {
            "text/plain": [
              "<Figure size 720x360 with 1 Axes>"
            ],
            "image/png": "[encoded data removed]"
          },
          "metadata": {
            "needs_background": "light"
          }
        }
      ]
    },
    {
      "cell_type": "code",
      "source": [
        "# attach predictions on test set\n",
        "predictions_test = pd.DataFrame(predictions_test, columns=['ClaimNb_pred'])\n",
        "test = pd.concat([X_test_, y_test_,predictions_test], axis=1)\n",
        "test"
      ],
      "metadata": {
        "id": "R0oJEtJlkPtm",
        "colab": {
          "base_uri": "https://localhost:8080/",
          "height": 424
        },
        "outputId": "a45d47c6-49db-472c-8685-efddc97fee2f"
      },
      "execution_count": null,
      "outputs": [
        {
          "output_type": "execute_result",
          "data": {
            "text/plain": [
              "       OwnerAge  Gender                                               Area  \\\n",
              "11551        28  Female  Small towns; countryside except Gotland; North...   \n",
              "27696        42  Female                       Suburbs; middle-sized cities   \n",
              "56213        57    Male              Lesser towns included Gotland Islands   \n",
              "8463         26    Male     Central parts of Sweden's three largest cities   \n",
              "35448        45    Male  Small towns; countryside except Gotland; North...   \n",
              "...         ...     ...                                                ...   \n",
              "15776        31  Female              Lesser towns included Gotland Islands   \n",
              "43435        49    Male  Small towns; countryside except Gotland; North...   \n",
              "50162        53    Male                       Suburbs; middle-sized cities   \n",
              "2912         22    Male                       Suburbs; middle-sized cities   \n",
              "25134        40    Male     Central parts of Sweden's three largest cities   \n",
              "\n",
              "            RiskClass  VehAge BonusClass  Exposure  ClaimNb  ClaimNb_pred  \n",
              "11551   EV ratio >=20      13        BM3  0.419178        0      0.004708  \n",
              "27696     EV ratio <9       4        BM7  0.983562        0      0.005380  \n",
              "56213   EV ratio 9-15      16        BM7  1.000000        0      0.001086  \n",
              "8463    EV ratio 9-15      13        BM1  0.986301        0      0.012675  \n",
              "35448   EV ratio >=20       4        BM6  0.986301        0      0.010353  \n",
              "...               ...     ...        ...       ...      ...           ...  \n",
              "15776   EV ratio 9-15      15        BM7  0.989041        0      0.001692  \n",
              "43435   EV ratio 9-15      11        BM7  1.000000        0      0.002102  \n",
              "50162   EV ratio 9-15       6        BM7  1.000000        0      0.004763  \n",
              "2912   EV ratio 16-19       8        BM1  0.630137        0      0.024349  \n",
              "25134   EV ratio 9-15      15        BM1  0.117808        0      0.006006  \n",
              "\n",
              "[12910 rows x 9 columns]"
            ],
            "text/html": [
              "\n",
              "  <div id=\"df-faf8ff72-f69f-4fb6-af5b-1acdbc79bb92\">\n",
              "    <div class=\"colab-df-container\">\n",
              "      <div>\n",
              "<style scoped>\n",
              "    .dataframe tbody tr th:only-of-type {\n",
              "        vertical-align: middle;\n",
              "    }\n",
              "\n",
              "    .dataframe tbody tr th {\n",
              "        vertical-align: top;\n",
              "    }\n",
              "\n",
              "    .dataframe thead th {\n",
              "        text-align: right;\n",
              "    }\n",
              "</style>\n",
              "<table border=\"1\" class=\"dataframe\">\n",
              "  <thead>\n",
              "    <tr style=\"text-align: right;\">\n",
              "      <th></th>\n",
              "      <th>OwnerAge</th>\n",
              "      <th>Gender</th>\n",
              "      <th>Area</th>\n",
              "      <th>RiskClass</th>\n",
              "      <th>VehAge</th>\n",
              "      <th>BonusClass</th>\n",
              "      <th>Exposure</th>\n",
              "      <th>ClaimNb</th>\n",
              "      <th>ClaimNb_pred</th>\n",
              "    </tr>\n",
              "  </thead>\n",
              "  <tbody>\n",
              "    <tr>\n",
              "      <th>11551</th>\n",
              "      <td>28</td>\n",
              "      <td>Female</td>\n",
              "      <td>Small towns; countryside except Gotland; North...</td>\n",
              "      <td>EV ratio &gt;=20</td>\n",
              "      <td>13</td>\n",
              "      <td>BM3</td>\n",
              "      <td>0.419178</td>\n",
              "      <td>0</td>\n",
              "      <td>0.004708</td>\n",
              "    </tr>\n",
              "    <tr>\n",
              "      <th>27696</th>\n",
              "      <td>42</td>\n",
              "      <td>Female</td>\n",
              "      <td>Suburbs; middle-sized cities</td>\n",
              "      <td>EV ratio &lt;9</td>\n",
              "      <td>4</td>\n",
              "      <td>BM7</td>\n",
              "      <td>0.983562</td>\n",
              "      <td>0</td>\n",
              "      <td>0.005380</td>\n",
              "    </tr>\n",
              "    <tr>\n",
              "      <th>56213</th>\n",
              "      <td>57</td>\n",
              "      <td>Male</td>\n",
              "      <td>Lesser towns included Gotland Islands</td>\n",
              "      <td>EV ratio 9-15</td>\n",
              "      <td>16</td>\n",
              "      <td>BM7</td>\n",
              "      <td>1.000000</td>\n",
              "      <td>0</td>\n",
              "      <td>0.001086</td>\n",
              "    </tr>\n",
              "    <tr>\n",
              "      <th>8463</th>\n",
              "      <td>26</td>\n",
              "      <td>Male</td>\n",
              "      <td>Central parts of Sweden's three largest cities</td>\n",
              "      <td>EV ratio 9-15</td>\n",
              "      <td>13</td>\n",
              "      <td>BM1</td>\n",
              "      <td>0.986301</td>\n",
              "      <td>0</td>\n",
              "      <td>0.012675</td>\n",
              "    </tr>\n",
              "    <tr>\n",
              "      <th>35448</th>\n",
              "      <td>45</td>\n",
              "      <td>Male</td>\n",
              "      <td>Small towns; countryside except Gotland; North...</td>\n",
              "      <td>EV ratio &gt;=20</td>\n",
              "      <td>4</td>\n",
              "      <td>BM6</td>\n",
              "      <td>0.986301</td>\n",
              "      <td>0</td>\n",
              "      <td>0.010353</td>\n",
              "    </tr>\n",
              "    <tr>\n",
              "      <th>...</th>\n",
              "      <td>...</td>\n",
              "      <td>...</td>\n",
              "      <td>...</td>\n",
              "      <td>...</td>\n",
              "      <td>...</td>\n",
              "      <td>...</td>\n",
              "      <td>...</td>\n",
              "      <td>...</td>\n",
              "      <td>...</td>\n",
              "    </tr>\n",
              "    <tr>\n",
              "      <th>15776</th>\n",
              "      <td>31</td>\n",
              "      <td>Female</td>\n",
              "      <td>Lesser towns included Gotland Islands</td>\n",
              "      <td>EV ratio 9-15</td>\n",
              "      <td>15</td>\n",
              "      <td>BM7</td>\n",
              "      <td>0.989041</td>\n",
              "      <td>0</td>\n",
              "      <td>0.001692</td>\n",
              "    </tr>\n",
              "    <tr>\n",
              "      <th>43435</th>\n",
              "      <td>49</td>\n",
              "      <td>Male</td>\n",
              "      <td>Small towns; countryside except Gotland; North...</td>\n",
              "      <td>EV ratio 9-15</td>\n",
              "      <td>11</td>\n",
              "      <td>BM7</td>\n",
              "      <td>1.000000</td>\n",
              "      <td>0</td>\n",
              "      <td>0.002102</td>\n",
              "    </tr>\n",
              "    <tr>\n",
              "      <th>50162</th>\n",
              "      <td>53</td>\n",
              "      <td>Male</td>\n",
              "      <td>Suburbs; middle-sized cities</td>\n",
              "      <td>EV ratio 9-15</td>\n",
              "      <td>6</td>\n",
              "      <td>BM7</td>\n",
              "      <td>1.000000</td>\n",
              "      <td>0</td>\n",
              "      <td>0.004763</td>\n",
              "    </tr>\n",
              "    <tr>\n",
              "      <th>2912</th>\n",
              "      <td>22</td>\n",
              "      <td>Male</td>\n",
              "      <td>Suburbs; middle-sized cities</td>\n",
              "      <td>EV ratio 16-19</td>\n",
              "      <td>8</td>\n",
              "      <td>BM1</td>\n",
              "      <td>0.630137</td>\n",
              "      <td>0</td>\n",
              "      <td>0.024349</td>\n",
              "    </tr>\n",
              "    <tr>\n",
              "      <th>25134</th>\n",
              "      <td>40</td>\n",
              "      <td>Male</td>\n",
              "      <td>Central parts of Sweden's three largest cities</td>\n",
              "      <td>EV ratio 9-15</td>\n",
              "      <td>15</td>\n",
              "      <td>BM1</td>\n",
              "      <td>0.117808</td>\n",
              "      <td>0</td>\n",
              "      <td>0.006006</td>\n",
              "    </tr>\n",
              "  </tbody>\n",
              "</table>\n",
              "<p>12910 rows × 9 columns</p>\n",
              "</div>\n",
              "      <button class=\"colab-df-convert\" onclick=\"convertToInteractive('df-faf8ff72-f69f-4fb6-af5b-1acdbc79bb92')\"\n",
              "              title=\"Convert this dataframe to an interactive table.\"\n",
              "              style=\"display:none;\">\n",
              "        \n",
              "  <svg xmlns=\"http://www.w3.org/2000/svg\" height=\"24px\"viewBox=\"0 0 24 24\"\n",
              "       width=\"24px\">\n",
              "    <path d=\"M0 0h24v24H0V0z\" fill=\"none\"/>\n",
              "    <path d=\"M18.56 5.44l.94 2.06.94-2.06 2.06-.94-2.06-.94-.94-2.06-.94 2.06-2.06.94zm-11 1L8.5 8.5l.94-2.06 2.06-.94-2.06-.94L8.5 2.5l-.94 2.06-2.06.94zm10 10l.94 2.06.94-2.06 2.06-.94-2.06-.94-.94-2.06-.94 2.06-2.06.94z\"/><path d=\"M17.41 7.96l-1.37-1.37c-.4-.4-.92-.59-1.43-.59-.52 0-1.04.2-1.43.59L10.3 9.45l-7.72 7.72c-.78.78-.78 2.05 0 2.83L4 21.41c.39.39.9.59 1.41.59.51 0 1.02-.2 1.41-.59l7.78-7.78 2.81-2.81c.8-.78.8-2.07 0-2.86zM5.41 20L4 18.59l7.72-7.72 1.47 1.35L5.41 20z\"/>\n",
              "  </svg>\n",
              "      </button>\n",
              "      \n",
              "  <style>\n",
              "    .colab-df-container {\n",
              "      display:flex;\n",
              "      flex-wrap:wrap;\n",
              "      gap: 12px;\n",
              "    }\n",
              "\n",
              "    .colab-df-convert {\n",
              "      background-color: #E8F0FE;\n",
              "      border: none;\n",
              "      border-radius: 50%;\n",
              "      cursor: pointer;\n",
              "      display: none;\n",
              "      fill: #1967D2;\n",
              "      height: 32px;\n",
              "      padding: 0 0 0 0;\n",
              "      width: 32px;\n",
              "    }\n",
              "\n",
              "    .colab-df-convert:hover {\n",
              "      background-color: #E2EBFA;\n",
              "      box-shadow: 0px 1px 2px rgba(60, 64, 67, 0.3), 0px 1px 3px 1px rgba(60, 64, 67, 0.15);\n",
              "      fill: #174EA6;\n",
              "    }\n",
              "\n",
              "    [theme=dark] .colab-df-convert {\n",
              "      background-color: #3B4455;\n",
              "      fill: #D2E3FC;\n",
              "    }\n",
              "\n",
              "    [theme=dark] .colab-df-convert:hover {\n",
              "      background-color: #434B5C;\n",
              "      box-shadow: 0px 1px 3px 1px rgba(0, 0, 0, 0.15);\n",
              "      filter: drop-shadow(0px 1px 2px rgba(0, 0, 0, 0.3));\n",
              "      fill: #FFFFFF;\n",
              "    }\n",
              "  </style>\n",
              "\n",
              "      <script>\n",
              "        const buttonEl =\n",
              "          document.querySelector('#df-faf8ff72-f69f-4fb6-af5b-1acdbc79bb92 button.colab-df-convert');\n",
              "        buttonEl.style.display =\n",
              "          google.colab.kernel.accessAllowed ? 'block' : 'none';\n",
              "\n",
              "        async function convertToInteractive(key) {\n",
              "          const element = document.querySelector('#df-faf8ff72-f69f-4fb6-af5b-1acdbc79bb92');\n",
              "          const dataTable =\n",
              "            await google.colab.kernel.invokeFunction('convertToInteractive',\n",
              "                                                     [key], {});\n",
              "          if (!dataTable) return;\n",
              "\n",
              "          const docLinkHtml = 'Like what you see? Visit the ' +\n",
              "            '<a target=\"_blank\" href=https://colab.research.google.com/notebooks/data_table.ipynb>data table notebook</a>'\n",
              "            + ' to learn more about interactive tables.';\n",
              "          element.innerHTML = '';\n",
              "          dataTable['output_type'] = 'display_data';\n",
              "          await google.colab.output.renderOutput(dataTable, element);\n",
              "          const docLink = document.createElement('div');\n",
              "          docLink.innerHTML = docLinkHtml;\n",
              "          element.appendChild(docLink);\n",
              "        }\n",
              "      </script>\n",
              "    </div>\n",
              "  </div>\n",
              "  "
            ]
          },
          "metadata": {},
          "execution_count": 61
        }
      ]
    },
    {
      "cell_type": "code",
      "source": [
        "# Claims and claims predicted comparison\n",
        "fig = plt.figure(figsize = (16,7))\n",
        "plt.subplot(1,2,1)  \n",
        "plt.hist(test['ClaimNb'], bins=10)\n",
        "plt.xticks(rotation=45)\n",
        "plt.title('Claims histogram')\n",
        "plt.subplot(1,2,2)  \n",
        "plt.hist(test['ClaimNb_pred'], bins=10)\n",
        "plt.xticks(rotation=45)\n",
        "plt.title('Claims prediction histogram')\n",
        "plt.show()"
      ],
      "metadata": {
        "id": "Cl6ZetDn5wjI",
        "colab": {
          "base_uri": "https://localhost:8080/",
          "height": 457
        },
        "outputId": "81fd2300-4ace-4200-a477-97eddab1ad82"
      },
      "execution_count": null,
      "outputs": [
        {
          "output_type": "display_data",
          "data": {
            "text/plain": [
              "<Figure size 1152x504 with 2 Axes>"
            ],
            "image/png": "[encoded data removed]"
          },
          "metadata": {
            "needs_background": "light"
          }
        }
      ]
    },
    {
      "cell_type": "code",
      "source": [
        "# Claims and claims predicted comparison on features\n",
        "plt.rcParams[\"figure.figsize\"] = (10,5)\n",
        "test_group_oa = test.groupby(['OwnerAge'])['ClaimNb','ClaimNb_pred'].sum().reset_index()\n",
        "test_group_oa.plot(x='OwnerAge',y= ['ClaimNb','ClaimNb_pred'])\n",
        "plt.xticks(rotation=45)\n",
        "plt.ylabel('Number of Claims')\n",
        "plt.xlabel('OwnerAge')\n",
        "plt.title('Claims - OwnerAge on test data')\n",
        "plt.show()\n",
        "test_group_va = test.groupby(['VehAge'])['ClaimNb','ClaimNb_pred'].sum().reset_index()\n",
        "test_group_va.plot(x='VehAge',y= ['ClaimNb','ClaimNb_pred'])\n",
        "plt.xticks(rotation=45)\n",
        "plt.ylabel('Number of Claims')\n",
        "plt.xlabel('VehAge')\n",
        "plt.title('Claims - VehAge on test data')\n",
        "plt.show()\n",
        "test_group_ge = test.groupby(['Gender'])['ClaimNb','ClaimNb_pred'].sum().reset_index()\n",
        "test_group_ge.plot.bar(x='Gender',y= ['ClaimNb','ClaimNb_pred'])\n",
        "plt.xticks(rotation=45)\n",
        "plt.ylabel('Number of Claims')\n",
        "plt.xlabel('Gender')\n",
        "plt.title('Claims - Gender on test data')\n",
        "plt.show()\n",
        "test_group_rc = test.groupby(['RiskClass'])['ClaimNb','ClaimNb_pred'].sum().reset_index()\n",
        "test_group_rc.plot.bar(x='RiskClass',y= ['ClaimNb','ClaimNb_pred'])\n",
        "plt.xticks(rotation=45)\n",
        "plt.ylabel('Number of Claims')\n",
        "plt.xlabel('RiskClass')\n",
        "plt.title('Claims - RiskClass on test data')\n",
        "plt.show()\n",
        "test_group_a = test.groupby(['Area'])['ClaimNb','ClaimNb_pred'].sum().reset_index()\n",
        "test_group_a.plot.bar(x='Area',y= ['ClaimNb','ClaimNb_pred'])\n",
        "plt.xticks(rotation=90)\n",
        "plt.ylabel('Number of Claims')\n",
        "plt.xlabel('Area')\n",
        "plt.title('Claims - Area on test data')\n",
        "plt.show()\n",
        "test_group_bc = test.groupby(['BonusClass'])['ClaimNb','ClaimNb_pred'].sum().reset_index()\n",
        "test_group_bc.plot.bar(x='BonusClass',y= ['ClaimNb','ClaimNb_pred'])\n",
        "plt.xticks(rotation=45)\n",
        "plt.ylabel('Number of Claims')\n",
        "plt.xlabel('BonusClass')\n",
        "plt.title('Claims - BonusClass on test data')\n",
        "plt.show()\n",
        "\n"
      ],
      "metadata": {
        "id": "XHu9PoNl5wud",
        "colab": {
          "base_uri": "https://localhost:8080/",
          "height": 1000
        },
        "outputId": "105950a7-9687-445c-87d3-0b790d0a3dce"
      },
      "execution_count": null,
      "outputs": [
        {
          "output_type": "display_data",
          "data": {
            "text/plain": [
              "<Figure size 720x360 with 1 Axes>"
            ],
            "image/png": "[encoded data removed]"
          },
          "metadata": {
            "needs_background": "light"
          }
        },
        {
          "output_type": "display_data",
          "data": {
            "text/plain": [
              "<Figure size 720x360 with 1 Axes>"
            ],
            "image/png": "[encoded data removed]"
          },
          "metadata": {
            "needs_background": "light"
          }
        },
        {
          "output_type": "display_data",
          "data": {
            "text/plain": [
              "<Figure size 720x360 with 1 Axes>"
            ],
            "image/png": "[encoded data removed]"
          },
          "metadata": {
            "needs_background": "light"
          }
        },
        {
          "output_type": "display_data",
          "data": {
            "text/plain": [
              "<Figure size 720x360 with 1 Axes>"
            ],
            "image/png": "[encoded data removed]"
          },
          "metadata": {
            "needs_background": "light"
          }
        },
        {
          "output_type": "display_data",
          "data": {
            "text/plain": [
              "<Figure size 720x360 with 1 Axes>"
            ],
            "image/png": "[encoded data removed]"
          },
          "metadata": {
            "needs_background": "light"
          }
        },
        {
          "output_type": "display_data",
          "data": {
            "text/plain": [
              "<Figure size 720x360 with 1 Axes>"
            ],
            "image/png": "[encoded data removed]"
          },
          "metadata": {
            "needs_background": "light"
          }
        }
      ]
    }
  ]
}