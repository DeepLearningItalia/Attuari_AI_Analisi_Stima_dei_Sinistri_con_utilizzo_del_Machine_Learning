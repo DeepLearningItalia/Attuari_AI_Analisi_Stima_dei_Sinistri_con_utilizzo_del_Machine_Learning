{
  "nbformat": 4,
  "nbformat_minor": 0,
  "metadata": {
    "colab": {
      "provenance": [],
      "collapsed_sections": []
    },
    "kernelspec": {
      "name": "python3",
      "display_name": "Python 3"
    },
    "language_info": {
      "name": "python"
    },
    "accelerator": "GPU",
    "gpuClass": "standard"
  },
  "cells": [
    {
      "cell_type": "markdown",
      "source": [
        "# **Number of Claims Estimation with Generalized Additive Models (GAMs)**"
      ],
      "metadata": {
        "id": "x1EhzwW7gRai"
      }
    },
    {
      "cell_type": "markdown",
      "source": [
        "Generalized Additive Models extend Generalized Linear Models in the systematic component that is made up by one parametric part and one non parametric part built by the sum of unknown \"smoothing\" functions of covariates. \n",
        "\n",
        "References:\n",
        "\n",
        "-[\"Data Analytics for Non-Life Insurance Pricing\"](https://papers.ssrn.com/sol3/papers.cfm?abstract_id=2870308), Mario V. Wuthrich, Christoph Buser;\n",
        "\n",
        "-[\"Statistical Foundations of Actuarial Learning and its Applications\"](https://papers.ssrn.com/sol3/papers.cfm?abstract_id=3822407), Mario V. Wuthrich, Michael Merz;\n",
        "\n",
        "-[\"Case Study: French Motor Third-Party Liability Claims\"](https://papers.ssrn.com/sol3/papers.cfm?abstract_id=3164764), Mario V. Wuthrich, Alexander Noll, Robert Salzmann\n"
      ],
      "metadata": {
        "id": "q4VA3vxbYuMG"
      }
    },
    {
      "cell_type": "markdown",
      "source": [
        "# Upload Libraries"
      ],
      "metadata": {
        "id": "JBFt8eBnSLGW"
      }
    },
    {
      "cell_type": "code",
      "execution_count": null,
      "metadata": {
        "id": "lVwNOaoL3_xS"
      },
      "outputs": [],
      "source": [
        "# handling datasets\n",
        "import numpy as np\n",
        "import pandas as pd\n",
        "# plotting\n",
        "import matplotlib.pyplot as plt\n",
        "%matplotlib inline\n",
        "import seaborn as sns\n",
        "# modelling, evaluation\n",
        "import sklearn\n",
        "import statsmodels.api as sm\n",
        "import statsmodels.formula.api as smf\n",
        "from statsmodels.gam.api import GLMGam, BSplines\n",
        "from sklearn.metrics import mean_poisson_deviance\n",
        "from sklearn.metrics import mean_squared_error\n",
        "from sklearn.model_selection import train_test_split\n",
        "\n",
        "import warnings\n",
        "warnings.filterwarnings('ignore', category=FutureWarning)\n"
      ]
    },
    {
      "cell_type": "markdown",
      "source": [
        "# Upload File"
      ],
      "metadata": {
        "id": "c--W1M18iZOh"
      }
    },
    {
      "cell_type": "code",
      "source": [
        "from google.colab import files \n",
        "uploaded = files.upload()"
      ],
      "metadata": {
        "colab": {
          "resources": {
            "http://localhost:8080/nbextensions/google.colab/files.js": {
              "data": "Ly8gQ29weXJpZ2h0IDIwMTcgR29vZ2xlIExMQwovLwovLyBMaWNlbnNlZCB1bmRlciB0aGUgQXBhY2hlIExpY2Vuc2UsIFZlcnNpb24gMi4wICh0aGUgIkxpY2Vuc2UiKTsKLy8geW91IG1heSBub3QgdXNlIHRoaXMgZmlsZSBleGNlcHQgaW4gY29tcGxpYW5jZSB3aXRoIHRoZSBMaWNlbnNlLgovLyBZb3UgbWF5IG9idGFpbiBhIGNvcHkgb2YgdGhlIExpY2Vuc2UgYXQKLy8KLy8gICAgICBodHRwOi8vd3d3LmFwYWNoZS5vcmcvbGljZW5zZXMvTElDRU5TRS0yLjAKLy8KLy8gVW5sZXNzIHJlcXVpcmVkIGJ5IGFwcGxpY2FibGUgbGF3IG9yIGFncmVlZCB0byBpbiB3cml0aW5nLCBzb2Z0d2FyZQovLyBkaXN0cmlidXRlZCB1bmRlciB0aGUgTGljZW5zZSBpcyBkaXN0cmlidXRlZCBvbiBhbiAiQVMgSVMiIEJBU0lTLAovLyBXSVRIT1VUIFdBUlJBTlRJRVMgT1IgQ09ORElUSU9OUyBPRiBBTlkgS0lORCwgZWl0aGVyIGV4cHJlc3Mgb3IgaW1wbGllZC4KLy8gU2VlIHRoZSBMaWNlbnNlIGZvciB0aGUgc3BlY2lmaWMgbGFuZ3VhZ2UgZ292ZXJuaW5nIHBlcm1pc3Npb25zIGFuZAovLyBsaW1pdGF0aW9ucyB1bmRlciB0aGUgTGljZW5zZS4KCi8qKgogKiBAZmlsZW92ZXJ2aWV3IEhlbHBlcnMgZm9yIGdvb2dsZS5jb2xhYiBQeXRob24gbW9kdWxlLgogKi8KKGZ1bmN0aW9uKHNjb3BlKSB7CmZ1bmN0aW9uIHNwYW4odGV4dCwgc3R5bGVBdHRyaWJ1dGVzID0ge30pIHsKICBjb25zdCBlbGVtZW50ID0gZG9jdW1lbnQuY3JlYXRlRWxlbWVudCgnc3BhbicpOwogIGVsZW1lbnQudGV4dENvbnRlbnQgPSB0ZXh0OwogIGZvciAoY29uc3Qga2V5IG9mIE9iamVjdC5rZXlzKHN0eWxlQXR0cmlidXRlcykpIHsKICAgIGVsZW1lbnQuc3R5bGVba2V5XSA9IHN0eWxlQXR0cmlidXRlc1trZXldOwogIH0KICByZXR1cm4gZWxlbWVudDsKfQoKLy8gTWF4IG51bWJlciBvZiBieXRlcyB3aGljaCB3aWxsIGJlIHVwbG9hZGVkIGF0IGEgdGltZS4KY29uc3QgTUFYX1BBWUxPQURfU0laRSA9IDEwMCAqIDEwMjQ7CgpmdW5jdGlvbiBfdXBsb2FkRmlsZXMoaW5wdXRJZCwgb3V0cHV0SWQpIHsKICBjb25zdCBzdGVwcyA9IHVwbG9hZEZpbGVzU3RlcChpbnB1dElkLCBvdXRwdXRJZCk7CiAgY29uc3Qgb3V0cHV0RWxlbWVudCA9IGRvY3VtZW50LmdldEVsZW1lbnRCeUlkKG91dHB1dElkKTsKICAvLyBDYWNoZSBzdGVwcyBvbiB0aGUgb3V0cHV0RWxlbWVudCB0byBtYWtlIGl0IGF2YWlsYWJsZSBmb3IgdGhlIG5leHQgY2FsbAogIC8vIHRvIHVwbG9hZEZpbGVzQ29udGludWUgZnJvbSBQeXRob24uCiAgb3V0cHV0RWxlbWVudC5zdGVwcyA9IHN0ZXBzOwoKICByZXR1cm4gX3VwbG9hZEZpbGVzQ29udGludWUob3V0cHV0SWQpOwp9CgovLyBUaGlzIGlzIHJvdWdobHkgYW4gYXN5bmMgZ2VuZXJhdG9yIChub3Qgc3VwcG9ydGVkIGluIHRoZSBicm93c2VyIHlldCksCi8vIHdoZXJlIHRoZXJlIGFyZSBtdWx0aXBsZSBhc3luY2hyb25vdXMgc3RlcHMgYW5kIHRoZSBQeXRob24gc2lkZSBpcyBnb2luZwovLyB0byBwb2xsIGZvciBjb21wbGV0aW9uIG9mIGVhY2ggc3RlcC4KLy8gVGhpcyB1c2VzIGEgUHJvbWlzZSB0byBibG9jayB0aGUgcHl0aG9uIHNpZGUgb24gY29tcGxldGlvbiBvZiBlYWNoIHN0ZXAsCi8vIHRoZW4gcGFzc2VzIHRoZSByZXN1bHQgb2YgdGhlIHByZXZpb3VzIHN0ZXAgYXMgdGhlIGlucHV0IHRvIHRoZSBuZXh0IHN0ZXAuCmZ1bmN0aW9uIF91cGxvYWRGaWxlc0NvbnRpbnVlKG91dHB1dElkKSB7CiAgY29uc3Qgb3V0cHV0RWxlbWVudCA9IGRvY3VtZW50LmdldEVsZW1lbnRCeUlkKG91dHB1dElkKTsKICBjb25zdCBzdGVwcyA9IG91dHB1dEVsZW1lbnQuc3RlcHM7CgogIGNvbnN0IG5leHQgPSBzdGVwcy5uZXh0KG91dHB1dEVsZW1lbnQubGFzdFByb21pc2VWYWx1ZSk7CiAgcmV0dXJuIFByb21pc2UucmVzb2x2ZShuZXh0LnZhbHVlLnByb21pc2UpLnRoZW4oKHZhbHVlKSA9PiB7CiAgICAvLyBDYWNoZSB0aGUgbGFzdCBwcm9taXNlIHZhbHVlIHRvIG1ha2UgaXQgYXZhaWxhYmxlIHRvIHRoZSBuZXh0CiAgICAvLyBzdGVwIG9mIHRoZSBnZW5lcmF0b3IuCiAgICBvdXRwdXRFbGVtZW50Lmxhc3RQcm9taXNlVmFsdWUgPSB2YWx1ZTsKICAgIHJldHVybiBuZXh0LnZhbHVlLnJlc3BvbnNlOwogIH0pOwp9CgovKioKICogR2VuZXJhdG9yIGZ1bmN0aW9uIHdoaWNoIGlzIGNhbGxlZCBiZXR3ZWVuIGVhY2ggYXN5bmMgc3RlcCBvZiB0aGUgdXBsb2FkCiAqIHByb2Nlc3MuCiAqIEBwYXJhbSB7c3RyaW5nfSBpbnB1dElkIEVsZW1lbnQgSUQgb2YgdGhlIGlucHV0IGZpbGUgcGlja2VyIGVsZW1lbnQuCiAqIEBwYXJhbSB7c3RyaW5nfSBvdXRwdXRJZCBFbGVtZW50IElEIG9mIHRoZSBvdXRwdXQgZGlzcGxheS4KICogQHJldHVybiB7IUl0ZXJhYmxlPCFPYmplY3Q+fSBJdGVyYWJsZSBvZiBuZXh0IHN0ZXBzLgogKi8KZnVuY3Rpb24qIHVwbG9hZEZpbGVzU3RlcChpbnB1dElkLCBvdXRwdXRJZCkgewogIGNvbnN0IGlucHV0RWxlbWVudCA9IGRvY3VtZW50LmdldEVsZW1lbnRCeUlkKGlucHV0SWQpOwogIGlucHV0RWxlbWVudC5kaXNhYmxlZCA9IGZhbHNlOwoKICBjb25zdCBvdXRwdXRFbGVtZW50ID0gZG9jdW1lbnQuZ2V0RWxlbWVudEJ5SWQob3V0cHV0SWQpOwogIG91dHB1dEVsZW1lbnQuaW5uZXJIVE1MID0gJyc7CgogIGNvbnN0IHBpY2tlZFByb21pc2UgPSBuZXcgUHJvbWlzZSgocmVzb2x2ZSkgPT4gewogICAgaW5wdXRFbGVtZW50LmFkZEV2ZW50TGlzdGVuZXIoJ2NoYW5nZScsIChlKSA9PiB7CiAgICAgIHJlc29sdmUoZS50YXJnZXQuZmlsZXMpOwogICAgfSk7CiAgfSk7CgogIGNvbnN0IGNhbmNlbCA9IGRvY3VtZW50LmNyZWF0ZUVsZW1lbnQoJ2J1dHRvbicpOwogIGlucHV0RWxlbWVudC5wYXJlbnRFbGVtZW50LmFwcGVuZENoaWxkKGNhbmNlbCk7CiAgY2FuY2VsLnRleHRDb250ZW50ID0gJ0NhbmNlbCB1cGxvYWQnOwogIGNvbnN0IGNhbmNlbFByb21pc2UgPSBuZXcgUHJvbWlzZSgocmVzb2x2ZSkgPT4gewogICAgY2FuY2VsLm9uY2xpY2sgPSAoKSA9PiB7CiAgICAgIHJlc29sdmUobnVsbCk7CiAgICB9OwogIH0pOwoKICAvLyBXYWl0IGZvciB0aGUgdXNlciB0byBwaWNrIHRoZSBmaWxlcy4KICBjb25zdCBmaWxlcyA9IHlpZWxkIHsKICAgIHByb21pc2U6IFByb21pc2UucmFjZShbcGlja2VkUHJvbWlzZSwgY2FuY2VsUHJvbWlzZV0pLAogICAgcmVzcG9uc2U6IHsKICAgICAgYWN0aW9uOiAnc3RhcnRpbmcnLAogICAgfQogIH07CgogIGNhbmNlbC5yZW1vdmUoKTsKCiAgLy8gRGlzYWJsZSB0aGUgaW5wdXQgZWxlbWVudCBzaW5jZSBmdXJ0aGVyIHBpY2tzIGFyZSBub3QgYWxsb3dlZC4KICBpbnB1dEVsZW1lbnQuZGlzYWJsZWQgPSB0cnVlOwoKICBpZiAoIWZpbGVzKSB7CiAgICByZXR1cm4gewogICAgICByZXNwb25zZTogewogICAgICAgIGFjdGlvbjogJ2NvbXBsZXRlJywKICAgICAgfQogICAgfTsKICB9CgogIGZvciAoY29uc3QgZmlsZSBvZiBmaWxlcykgewogICAgY29uc3QgbGkgPSBkb2N1bWVudC5jcmVhdGVFbGVtZW50KCdsaScpOwogICAgbGkuYXBwZW5kKHNwYW4oZmlsZS5uYW1lLCB7Zm9udFdlaWdodDogJ2JvbGQnfSkpOwogICAgbGkuYXBwZW5kKHNwYW4oCiAgICAgICAgYCgke2ZpbGUudHlwZSB8fCAnbi9hJ30pIC0gJHtmaWxlLnNpemV9IGJ5dGVzLCBgICsKICAgICAgICBgbGFzdCBtb2RpZmllZDogJHsKICAgICAgICAgICAgZmlsZS5sYXN0TW9kaWZpZWREYXRlID8gZmlsZS5sYXN0TW9kaWZpZWREYXRlLnRvTG9jYWxlRGF0ZVN0cmluZygpIDoKICAgICAgICAgICAgICAgICAgICAgICAgICAgICAgICAgICAgJ24vYSd9IC0gYCkpOwogICAgY29uc3QgcGVyY2VudCA9IHNwYW4oJzAlIGRvbmUnKTsKICAgIGxpLmFwcGVuZENoaWxkKHBlcmNlbnQpOwoKICAgIG91dHB1dEVsZW1lbnQuYXBwZW5kQ2hpbGQobGkpOwoKICAgIGNvbnN0IGZpbGVEYXRhUHJvbWlzZSA9IG5ldyBQcm9taXNlKChyZXNvbHZlKSA9PiB7CiAgICAgIGNvbnN0IHJlYWRlciA9IG5ldyBGaWxlUmVhZGVyKCk7CiAgICAgIHJlYWRlci5vbmxvYWQgPSAoZSkgPT4gewogICAgICAgIHJlc29sdmUoZS50YXJnZXQucmVzdWx0KTsKICAgICAgfTsKICAgICAgcmVhZGVyLnJlYWRBc0FycmF5QnVmZmVyKGZpbGUpOwogICAgfSk7CiAgICAvLyBXYWl0IGZvciB0aGUgZGF0YSB0byBiZSByZWFkeS4KICAgIGxldCBmaWxlRGF0YSA9IHlpZWxkIHsKICAgICAgcHJvbWlzZTogZmlsZURhdGFQcm9taXNlLAogICAgICByZXNwb25zZTogewogICAgICAgIGFjdGlvbjogJ2NvbnRpbnVlJywKICAgICAgfQogICAgfTsKCiAgICAvLyBVc2UgYSBjaHVua2VkIHNlbmRpbmcgdG8gYXZvaWQgbWVzc2FnZSBzaXplIGxpbWl0cy4gU2VlIGIvNjIxMTU2NjAuCiAgICBsZXQgcG9zaXRpb24gPSAwOwogICAgZG8gewogICAgICBjb25zdCBsZW5ndGggPSBNYXRoLm1pbihmaWxlRGF0YS5ieXRlTGVuZ3RoIC0gcG9zaXRpb24sIE1BWF9QQVlMT0FEX1NJWkUpOwogICAgICBjb25zdCBjaHVuayA9IG5ldyBVaW50OEFycmF5KGZpbGVEYXRhLCBwb3NpdGlvbiwgbGVuZ3RoKTsKICAgICAgcG9zaXRpb24gKz0gbGVuZ3RoOwoKICAgICAgY29uc3QgYmFzZTY0ID0gYnRvYShTdHJpbmcuZnJvbUNoYXJDb2RlLmFwcGx5KG51bGwsIGNodW5rKSk7CiAgICAgIHlpZWxkIHsKICAgICAgICByZXNwb25zZTogewogICAgICAgICAgYWN0aW9uOiAnYXBwZW5kJywKICAgICAgICAgIGZpbGU6IGZpbGUubmFtZSwKICAgICAgICAgIGRhdGE6IGJhc2U2NCwKICAgICAgICB9LAogICAgICB9OwoKICAgICAgbGV0IHBlcmNlbnREb25lID0gZmlsZURhdGEuYnl0ZUxlbmd0aCA9PT0gMCA/CiAgICAgICAgICAxMDAgOgogICAgICAgICAgTWF0aC5yb3VuZCgocG9zaXRpb24gLyBmaWxlRGF0YS5ieXRlTGVuZ3RoKSAqIDEwMCk7CiAgICAgIHBlcmNlbnQudGV4dENvbnRlbnQgPSBgJHtwZXJjZW50RG9uZX0lIGRvbmVgOwoKICAgIH0gd2hpbGUgKHBvc2l0aW9uIDwgZmlsZURhdGEuYnl0ZUxlbmd0aCk7CiAgfQoKICAvLyBBbGwgZG9uZS4KICB5aWVsZCB7CiAgICByZXNwb25zZTogewogICAgICBhY3Rpb246ICdjb21wbGV0ZScsCiAgICB9CiAgfTsKfQoKc2NvcGUuZ29vZ2xlID0gc2NvcGUuZ29vZ2xlIHx8IHt9OwpzY29wZS5nb29nbGUuY29sYWIgPSBzY29wZS5nb29nbGUuY29sYWIgfHwge307CnNjb3BlLmdvb2dsZS5jb2xhYi5fZmlsZXMgPSB7CiAgX3VwbG9hZEZpbGVzLAogIF91cGxvYWRGaWxlc0NvbnRpbnVlLAp9Owp9KShzZWxmKTsK",
              "ok": true,
              "headers": [
                [
                  "content-type",
                  "application/javascript"
                ]
              ],
              "status": 200,
              "status_text": ""
            }
          },
          "base_uri": "https://localhost:8080/",
          "height": 74
        },
        "id": "i9Q2mLHi-d_m",
        "outputId": "47b46f8b-5d7a-4432-f4f7-ff0f11eb6ab9"
      },
      "execution_count": null,
      "outputs": [
        {
          "output_type": "display_data",
          "data": {
            "text/plain": [
              "<IPython.core.display.HTML object>"
            ],
            "text/html": [
              "\n",
              "     <input type=\"file\" id=\"files-bf1f0681-f5fd-4c42-b14e-0cd05605108b\" name=\"files[]\" multiple disabled\n",
              "        style=\"border:none\" />\n",
              "     <output id=\"result-bf1f0681-f5fd-4c42-b14e-0cd05605108b\">\n",
              "      Upload widget is only available when the cell has been executed in the\n",
              "      current browser session. Please rerun this cell to enable.\n",
              "      </output>\n",
              "      <script src=\"/nbextensions/google.colab/files.js\"></script> "
            ]
          },
          "metadata": {}
        },
        {
          "output_type": "stream",
          "name": "stdout",
          "text": [
            "Saving swmotorcycle_ClaimNb.csv to swmotorcycle_ClaimNb.csv\n"
          ]
        }
      ]
    },
    {
      "cell_type": "code",
      "source": [
        "# Reading File\n",
        "df = pd.read_csv('swmotorcycle_ClaimNb.csv')"
      ],
      "metadata": {
        "id": "hJC1ZvbJ-ftM"
      },
      "execution_count": null,
      "outputs": []
    },
    {
      "cell_type": "markdown",
      "source": [
        "# Data Set Overview"
      ],
      "metadata": {
        "id": "HKwCn9fLik0f"
      }
    },
    {
      "cell_type": "code",
      "source": [
        "# Dimensions of data set\n",
        "print(df.shape)"
      ],
      "metadata": {
        "id": "Y7LI1nVh_loI",
        "colab": {
          "base_uri": "https://localhost:8080/"
        },
        "outputId": "6dd2b330-18d1-46c4-b6ac-98bd5f62274d"
      },
      "execution_count": null,
      "outputs": [
        {
          "output_type": "stream",
          "name": "stdout",
          "text": [
            "(64548, 8)\n"
          ]
        }
      ]
    },
    {
      "cell_type": "code",
      "source": [
        "# List types for each attribute\n",
        "print(df.info())"
      ],
      "metadata": {
        "id": "Pu87x81Z_lqt",
        "colab": {
          "base_uri": "https://localhost:8080/"
        },
        "outputId": "531ae41a-c098-4c44-880d-c7c99f482821"
      },
      "execution_count": null,
      "outputs": [
        {
          "output_type": "stream",
          "name": "stdout",
          "text": [
            "<class 'pandas.core.frame.DataFrame'>\n",
            "RangeIndex: 64548 entries, 0 to 64547\n",
            "Data columns (total 8 columns):\n",
            " #   Column      Non-Null Count  Dtype  \n",
            "---  ------      --------------  -----  \n",
            " 0   OwnerAge    64548 non-null  int64  \n",
            " 1   Gender      64548 non-null  object \n",
            " 2   Area        64548 non-null  object \n",
            " 3   RiskClass   64548 non-null  object \n",
            " 4   VehAge      64548 non-null  int64  \n",
            " 5   BonusClass  64548 non-null  object \n",
            " 6   Exposure    64548 non-null  float64\n",
            " 7   ClaimNb     64548 non-null  int64  \n",
            "dtypes: float64(1), int64(3), object(4)\n",
            "memory usage: 3.9+ MB\n",
            "None\n"
          ]
        }
      ]
    },
    {
      "cell_type": "code",
      "source": [
        "# Take a peek at the first rows of the data\n",
        "df.head()"
      ],
      "metadata": {
        "id": "Pg3KgtmJ_lzm",
        "colab": {
          "base_uri": "https://localhost:8080/",
          "height": 206
        },
        "outputId": "583ebcb4-261d-4e3f-bb5c-a0c68006b3c5"
      },
      "execution_count": null,
      "outputs": [
        {
          "output_type": "execute_result",
          "data": {
            "text/plain": [
              "   OwnerAge  Gender                                               Area  \\\n",
              "0         0    Male     Central parts of Sweden's three largest cities   \n",
              "1         4    Male        Lesser towns except Gotland; Northern towns   \n",
              "2         5  Female        Lesser towns except Gotland; Northern towns   \n",
              "3         5  Female  Small towns; countryside except Gotland; North...   \n",
              "4         6  Female                       Suburbs; middle-sized cities   \n",
              "\n",
              "        RiskClass  VehAge BonusClass  Exposure  ClaimNb  \n",
              "0  EV ratio 13-15      12        BM1  0.175342        0  \n",
              "1  EV ratio 20-24       9        BM1  0.000000        0  \n",
              "2   EV ratio 9-12      18        BM1  0.454795        0  \n",
              "3     EV ratio <5      25        BM1  0.172603        0  \n",
              "4     EV ratio <5      26        BM1  0.180822        0  "
            ],
            "text/html": [
              "\n",
              "  <div id=\"df-39763b90-e367-43e1-952d-049f76d31fba\">\n",
              "    <div class=\"colab-df-container\">\n",
              "      <div>\n",
              "<style scoped>\n",
              "    .dataframe tbody tr th:only-of-type {\n",
              "        vertical-align: middle;\n",
              "    }\n",
              "\n",
              "    .dataframe tbody tr th {\n",
              "        vertical-align: top;\n",
              "    }\n",
              "\n",
              "    .dataframe thead th {\n",
              "        text-align: right;\n",
              "    }\n",
              "</style>\n",
              "<table border=\"1\" class=\"dataframe\">\n",
              "  <thead>\n",
              "    <tr style=\"text-align: right;\">\n",
              "      <th></th>\n",
              "      <th>OwnerAge</th>\n",
              "      <th>Gender</th>\n",
              "      <th>Area</th>\n",
              "      <th>RiskClass</th>\n",
              "      <th>VehAge</th>\n",
              "      <th>BonusClass</th>\n",
              "      <th>Exposure</th>\n",
              "      <th>ClaimNb</th>\n",
              "    </tr>\n",
              "  </thead>\n",
              "  <tbody>\n",
              "    <tr>\n",
              "      <th>0</th>\n",
              "      <td>0</td>\n",
              "      <td>Male</td>\n",
              "      <td>Central parts of Sweden's three largest cities</td>\n",
              "      <td>EV ratio 13-15</td>\n",
              "      <td>12</td>\n",
              "      <td>BM1</td>\n",
              "      <td>0.175342</td>\n",
              "      <td>0</td>\n",
              "    </tr>\n",
              "    <tr>\n",
              "      <th>1</th>\n",
              "      <td>4</td>\n",
              "      <td>Male</td>\n",
              "      <td>Lesser towns except Gotland; Northern towns</td>\n",
              "      <td>EV ratio 20-24</td>\n",
              "      <td>9</td>\n",
              "      <td>BM1</td>\n",
              "      <td>0.000000</td>\n",
              "      <td>0</td>\n",
              "    </tr>\n",
              "    <tr>\n",
              "      <th>2</th>\n",
              "      <td>5</td>\n",
              "      <td>Female</td>\n",
              "      <td>Lesser towns except Gotland; Northern towns</td>\n",
              "      <td>EV ratio 9-12</td>\n",
              "      <td>18</td>\n",
              "      <td>BM1</td>\n",
              "      <td>0.454795</td>\n",
              "      <td>0</td>\n",
              "    </tr>\n",
              "    <tr>\n",
              "      <th>3</th>\n",
              "      <td>5</td>\n",
              "      <td>Female</td>\n",
              "      <td>Small towns; countryside except Gotland; North...</td>\n",
              "      <td>EV ratio &lt;5</td>\n",
              "      <td>25</td>\n",
              "      <td>BM1</td>\n",
              "      <td>0.172603</td>\n",
              "      <td>0</td>\n",
              "    </tr>\n",
              "    <tr>\n",
              "      <th>4</th>\n",
              "      <td>6</td>\n",
              "      <td>Female</td>\n",
              "      <td>Suburbs; middle-sized cities</td>\n",
              "      <td>EV ratio &lt;5</td>\n",
              "      <td>26</td>\n",
              "      <td>BM1</td>\n",
              "      <td>0.180822</td>\n",
              "      <td>0</td>\n",
              "    </tr>\n",
              "  </tbody>\n",
              "</table>\n",
              "</div>\n",
              "      <button class=\"colab-df-convert\" onclick=\"convertToInteractive('df-39763b90-e367-43e1-952d-049f76d31fba')\"\n",
              "              title=\"Convert this dataframe to an interactive table.\"\n",
              "              style=\"display:none;\">\n",
              "        \n",
              "  <svg xmlns=\"http://www.w3.org/2000/svg\" height=\"24px\"viewBox=\"0 0 24 24\"\n",
              "       width=\"24px\">\n",
              "    <path d=\"M0 0h24v24H0V0z\" fill=\"none\"/>\n",
              "    <path d=\"M18.56 5.44l.94 2.06.94-2.06 2.06-.94-2.06-.94-.94-2.06-.94 2.06-2.06.94zm-11 1L8.5 8.5l.94-2.06 2.06-.94-2.06-.94L8.5 2.5l-.94 2.06-2.06.94zm10 10l.94 2.06.94-2.06 2.06-.94-2.06-.94-.94-2.06-.94 2.06-2.06.94z\"/><path d=\"M17.41 7.96l-1.37-1.37c-.4-.4-.92-.59-1.43-.59-.52 0-1.04.2-1.43.59L10.3 9.45l-7.72 7.72c-.78.78-.78 2.05 0 2.83L4 21.41c.39.39.9.59 1.41.59.51 0 1.02-.2 1.41-.59l7.78-7.78 2.81-2.81c.8-.78.8-2.07 0-2.86zM5.41 20L4 18.59l7.72-7.72 1.47 1.35L5.41 20z\"/>\n",
              "  </svg>\n",
              "      </button>\n",
              "      \n",
              "  <style>\n",
              "    .colab-df-container {\n",
              "      display:flex;\n",
              "      flex-wrap:wrap;\n",
              "      gap: 12px;\n",
              "    }\n",
              "\n",
              "    .colab-df-convert {\n",
              "      background-color: #E8F0FE;\n",
              "      border: none;\n",
              "      border-radius: 50%;\n",
              "      cursor: pointer;\n",
              "      display: none;\n",
              "      fill: #1967D2;\n",
              "      height: 32px;\n",
              "      padding: 0 0 0 0;\n",
              "      width: 32px;\n",
              "    }\n",
              "\n",
              "    .colab-df-convert:hover {\n",
              "      background-color: #E2EBFA;\n",
              "      box-shadow: 0px 1px 2px rgba(60, 64, 67, 0.3), 0px 1px 3px 1px rgba(60, 64, 67, 0.15);\n",
              "      fill: #174EA6;\n",
              "    }\n",
              "\n",
              "    [theme=dark] .colab-df-convert {\n",
              "      background-color: #3B4455;\n",
              "      fill: #D2E3FC;\n",
              "    }\n",
              "\n",
              "    [theme=dark] .colab-df-convert:hover {\n",
              "      background-color: #434B5C;\n",
              "      box-shadow: 0px 1px 3px 1px rgba(0, 0, 0, 0.15);\n",
              "      filter: drop-shadow(0px 1px 2px rgba(0, 0, 0, 0.3));\n",
              "      fill: #FFFFFF;\n",
              "    }\n",
              "  </style>\n",
              "\n",
              "      <script>\n",
              "        const buttonEl =\n",
              "          document.querySelector('#df-39763b90-e367-43e1-952d-049f76d31fba button.colab-df-convert');\n",
              "        buttonEl.style.display =\n",
              "          google.colab.kernel.accessAllowed ? 'block' : 'none';\n",
              "\n",
              "        async function convertToInteractive(key) {\n",
              "          const element = document.querySelector('#df-39763b90-e367-43e1-952d-049f76d31fba');\n",
              "          const dataTable =\n",
              "            await google.colab.kernel.invokeFunction('convertToInteractive',\n",
              "                                                     [key], {});\n",
              "          if (!dataTable) return;\n",
              "\n",
              "          const docLinkHtml = 'Like what you see? Visit the ' +\n",
              "            '<a target=\"_blank\" href=https://colab.research.google.com/notebooks/data_table.ipynb>data table notebook</a>'\n",
              "            + ' to learn more about interactive tables.';\n",
              "          element.innerHTML = '';\n",
              "          dataTable['output_type'] = 'display_data';\n",
              "          await google.colab.output.renderOutput(dataTable, element);\n",
              "          const docLink = document.createElement('div');\n",
              "          docLink.innerHTML = docLinkHtml;\n",
              "          element.appendChild(docLink);\n",
              "        }\n",
              "      </script>\n",
              "    </div>\n",
              "  </div>\n",
              "  "
            ]
          },
          "metadata": {},
          "execution_count": 6
        }
      ]
    },
    {
      "cell_type": "markdown",
      "source": [
        "# Summary Statistics"
      ],
      "metadata": {
        "id": "57USFgsCj6zt"
      }
    },
    {
      "cell_type": "code",
      "source": [
        "# Summarize attribute distributions for data type of variables\n",
        "obj_cols = [var for var in df.columns if df[var].dtype=='object']\n",
        "df[obj_cols].describe().T"
      ],
      "metadata": {
        "id": "-5VW72YG_0kS",
        "colab": {
          "base_uri": "https://localhost:8080/",
          "height": 175
        },
        "outputId": "b36abde4-ffc2-4751-8a4c-8e75031f99f2"
      },
      "execution_count": null,
      "outputs": [
        {
          "output_type": "execute_result",
          "data": {
            "text/plain": [
              "            count unique                                                top  \\\n",
              "Gender      64548      2                                               Male   \n",
              "Area        64548      7  Small towns; countryside except Gotland; North...   \n",
              "RiskClass   64548      7                                      EV ratio 9-12   \n",
              "BonusClass  64548      7                                                BM7   \n",
              "\n",
              "             freq  \n",
              "Gender      54695  \n",
              "Area        24816  \n",
              "RiskClass   18905  \n",
              "BonusClass  17953  "
            ],
            "text/html": [
              "\n",
              "  <div id=\"df-e90d4455-cdd2-45ea-ab68-828f32934853\">\n",
              "    <div class=\"colab-df-container\">\n",
              "      <div>\n",
              "<style scoped>\n",
              "    .dataframe tbody tr th:only-of-type {\n",
              "        vertical-align: middle;\n",
              "    }\n",
              "\n",
              "    .dataframe tbody tr th {\n",
              "        vertical-align: top;\n",
              "    }\n",
              "\n",
              "    .dataframe thead th {\n",
              "        text-align: right;\n",
              "    }\n",
              "</style>\n",
              "<table border=\"1\" class=\"dataframe\">\n",
              "  <thead>\n",
              "    <tr style=\"text-align: right;\">\n",
              "      <th></th>\n",
              "      <th>count</th>\n",
              "      <th>unique</th>\n",
              "      <th>top</th>\n",
              "      <th>freq</th>\n",
              "    </tr>\n",
              "  </thead>\n",
              "  <tbody>\n",
              "    <tr>\n",
              "      <th>Gender</th>\n",
              "      <td>64548</td>\n",
              "      <td>2</td>\n",
              "      <td>Male</td>\n",
              "      <td>54695</td>\n",
              "    </tr>\n",
              "    <tr>\n",
              "      <th>Area</th>\n",
              "      <td>64548</td>\n",
              "      <td>7</td>\n",
              "      <td>Small towns; countryside except Gotland; North...</td>\n",
              "      <td>24816</td>\n",
              "    </tr>\n",
              "    <tr>\n",
              "      <th>RiskClass</th>\n",
              "      <td>64548</td>\n",
              "      <td>7</td>\n",
              "      <td>EV ratio 9-12</td>\n",
              "      <td>18905</td>\n",
              "    </tr>\n",
              "    <tr>\n",
              "      <th>BonusClass</th>\n",
              "      <td>64548</td>\n",
              "      <td>7</td>\n",
              "      <td>BM7</td>\n",
              "      <td>17953</td>\n",
              "    </tr>\n",
              "  </tbody>\n",
              "</table>\n",
              "</div>\n",
              "      <button class=\"colab-df-convert\" onclick=\"convertToInteractive('df-e90d4455-cdd2-45ea-ab68-828f32934853')\"\n",
              "              title=\"Convert this dataframe to an interactive table.\"\n",
              "              style=\"display:none;\">\n",
              "        \n",
              "  <svg xmlns=\"http://www.w3.org/2000/svg\" height=\"24px\"viewBox=\"0 0 24 24\"\n",
              "       width=\"24px\">\n",
              "    <path d=\"M0 0h24v24H0V0z\" fill=\"none\"/>\n",
              "    <path d=\"M18.56 5.44l.94 2.06.94-2.06 2.06-.94-2.06-.94-.94-2.06-.94 2.06-2.06.94zm-11 1L8.5 8.5l.94-2.06 2.06-.94-2.06-.94L8.5 2.5l-.94 2.06-2.06.94zm10 10l.94 2.06.94-2.06 2.06-.94-2.06-.94-.94-2.06-.94 2.06-2.06.94z\"/><path d=\"M17.41 7.96l-1.37-1.37c-.4-.4-.92-.59-1.43-.59-.52 0-1.04.2-1.43.59L10.3 9.45l-7.72 7.72c-.78.78-.78 2.05 0 2.83L4 21.41c.39.39.9.59 1.41.59.51 0 1.02-.2 1.41-.59l7.78-7.78 2.81-2.81c.8-.78.8-2.07 0-2.86zM5.41 20L4 18.59l7.72-7.72 1.47 1.35L5.41 20z\"/>\n",
              "  </svg>\n",
              "      </button>\n",
              "      \n",
              "  <style>\n",
              "    .colab-df-container {\n",
              "      display:flex;\n",
              "      flex-wrap:wrap;\n",
              "      gap: 12px;\n",
              "    }\n",
              "\n",
              "    .colab-df-convert {\n",
              "      background-color: #E8F0FE;\n",
              "      border: none;\n",
              "      border-radius: 50%;\n",
              "      cursor: pointer;\n",
              "      display: none;\n",
              "      fill: #1967D2;\n",
              "      height: 32px;\n",
              "      padding: 0 0 0 0;\n",
              "      width: 32px;\n",
              "    }\n",
              "\n",
              "    .colab-df-convert:hover {\n",
              "      background-color: #E2EBFA;\n",
              "      box-shadow: 0px 1px 2px rgba(60, 64, 67, 0.3), 0px 1px 3px 1px rgba(60, 64, 67, 0.15);\n",
              "      fill: #174EA6;\n",
              "    }\n",
              "\n",
              "    [theme=dark] .colab-df-convert {\n",
              "      background-color: #3B4455;\n",
              "      fill: #D2E3FC;\n",
              "    }\n",
              "\n",
              "    [theme=dark] .colab-df-convert:hover {\n",
              "      background-color: #434B5C;\n",
              "      box-shadow: 0px 1px 3px 1px rgba(0, 0, 0, 0.15);\n",
              "      filter: drop-shadow(0px 1px 2px rgba(0, 0, 0, 0.3));\n",
              "      fill: #FFFFFF;\n",
              "    }\n",
              "  </style>\n",
              "\n",
              "      <script>\n",
              "        const buttonEl =\n",
              "          document.querySelector('#df-e90d4455-cdd2-45ea-ab68-828f32934853 button.colab-df-convert');\n",
              "        buttonEl.style.display =\n",
              "          google.colab.kernel.accessAllowed ? 'block' : 'none';\n",
              "\n",
              "        async function convertToInteractive(key) {\n",
              "          const element = document.querySelector('#df-e90d4455-cdd2-45ea-ab68-828f32934853');\n",
              "          const dataTable =\n",
              "            await google.colab.kernel.invokeFunction('convertToInteractive',\n",
              "                                                     [key], {});\n",
              "          if (!dataTable) return;\n",
              "\n",
              "          const docLinkHtml = 'Like what you see? Visit the ' +\n",
              "            '<a target=\"_blank\" href=https://colab.research.google.com/notebooks/data_table.ipynb>data table notebook</a>'\n",
              "            + ' to learn more about interactive tables.';\n",
              "          element.innerHTML = '';\n",
              "          dataTable['output_type'] = 'display_data';\n",
              "          await google.colab.output.renderOutput(dataTable, element);\n",
              "          const docLink = document.createElement('div');\n",
              "          docLink.innerHTML = docLinkHtml;\n",
              "          element.appendChild(docLink);\n",
              "        }\n",
              "      </script>\n",
              "    </div>\n",
              "  </div>\n",
              "  "
            ]
          },
          "metadata": {},
          "execution_count": 7
        }
      ]
    },
    {
      "cell_type": "code",
      "source": [
        "# Summarize attribute distributions for data type of variables\n",
        "no_obj_cols = [var for var in df.columns if df[var].dtype!='object']\n",
        "df[no_obj_cols].describe().T"
      ],
      "metadata": {
        "id": "BzwpsBtqABTC",
        "colab": {
          "base_uri": "https://localhost:8080/",
          "height": 175
        },
        "outputId": "4e57a08a-7bb9-476d-9cb6-a97487b2e564"
      },
      "execution_count": null,
      "outputs": [
        {
          "output_type": "execute_result",
          "data": {
            "text/plain": [
              "            count       mean        std  min        25%        50%   75%  \\\n",
              "OwnerAge  64548.0  42.416062  12.980960  0.0  31.000000  44.000000  52.0   \n",
              "VehAge    64548.0  12.540063   9.727445  0.0   5.000000  12.000000  16.0   \n",
              "Exposure  64548.0   1.010671   1.307424  0.0   0.463014   0.827397   1.0   \n",
              "ClaimNb   64548.0   0.010798   0.107323  0.0   0.000000   0.000000   0.0   \n",
              "\n",
              "               max  \n",
              "OwnerAge  92.00000  \n",
              "VehAge    99.00000  \n",
              "Exposure  31.33973  \n",
              "ClaimNb    2.00000  "
            ],
            "text/html": [
              "\n",
              "  <div id=\"df-f266b975-d5c4-4167-a41f-47373300bb9a\">\n",
              "    <div class=\"colab-df-container\">\n",
              "      <div>\n",
              "<style scoped>\n",
              "    .dataframe tbody tr th:only-of-type {\n",
              "        vertical-align: middle;\n",
              "    }\n",
              "\n",
              "    .dataframe tbody tr th {\n",
              "        vertical-align: top;\n",
              "    }\n",
              "\n",
              "    .dataframe thead th {\n",
              "        text-align: right;\n",
              "    }\n",
              "</style>\n",
              "<table border=\"1\" class=\"dataframe\">\n",
              "  <thead>\n",
              "    <tr style=\"text-align: right;\">\n",
              "      <th></th>\n",
              "      <th>count</th>\n",
              "      <th>mean</th>\n",
              "      <th>std</th>\n",
              "      <th>min</th>\n",
              "      <th>25%</th>\n",
              "      <th>50%</th>\n",
              "      <th>75%</th>\n",
              "      <th>max</th>\n",
              "    </tr>\n",
              "  </thead>\n",
              "  <tbody>\n",
              "    <tr>\n",
              "      <th>OwnerAge</th>\n",
              "      <td>64548.0</td>\n",
              "      <td>42.416062</td>\n",
              "      <td>12.980960</td>\n",
              "      <td>0.0</td>\n",
              "      <td>31.000000</td>\n",
              "      <td>44.000000</td>\n",
              "      <td>52.0</td>\n",
              "      <td>92.00000</td>\n",
              "    </tr>\n",
              "    <tr>\n",
              "      <th>VehAge</th>\n",
              "      <td>64548.0</td>\n",
              "      <td>12.540063</td>\n",
              "      <td>9.727445</td>\n",
              "      <td>0.0</td>\n",
              "      <td>5.000000</td>\n",
              "      <td>12.000000</td>\n",
              "      <td>16.0</td>\n",
              "      <td>99.00000</td>\n",
              "    </tr>\n",
              "    <tr>\n",
              "      <th>Exposure</th>\n",
              "      <td>64548.0</td>\n",
              "      <td>1.010671</td>\n",
              "      <td>1.307424</td>\n",
              "      <td>0.0</td>\n",
              "      <td>0.463014</td>\n",
              "      <td>0.827397</td>\n",
              "      <td>1.0</td>\n",
              "      <td>31.33973</td>\n",
              "    </tr>\n",
              "    <tr>\n",
              "      <th>ClaimNb</th>\n",
              "      <td>64548.0</td>\n",
              "      <td>0.010798</td>\n",
              "      <td>0.107323</td>\n",
              "      <td>0.0</td>\n",
              "      <td>0.000000</td>\n",
              "      <td>0.000000</td>\n",
              "      <td>0.0</td>\n",
              "      <td>2.00000</td>\n",
              "    </tr>\n",
              "  </tbody>\n",
              "</table>\n",
              "</div>\n",
              "      <button class=\"colab-df-convert\" onclick=\"convertToInteractive('df-f266b975-d5c4-4167-a41f-47373300bb9a')\"\n",
              "              title=\"Convert this dataframe to an interactive table.\"\n",
              "              style=\"display:none;\">\n",
              "        \n",
              "  <svg xmlns=\"http://www.w3.org/2000/svg\" height=\"24px\"viewBox=\"0 0 24 24\"\n",
              "       width=\"24px\">\n",
              "    <path d=\"M0 0h24v24H0V0z\" fill=\"none\"/>\n",
              "    <path d=\"M18.56 5.44l.94 2.06.94-2.06 2.06-.94-2.06-.94-.94-2.06-.94 2.06-2.06.94zm-11 1L8.5 8.5l.94-2.06 2.06-.94-2.06-.94L8.5 2.5l-.94 2.06-2.06.94zm10 10l.94 2.06.94-2.06 2.06-.94-2.06-.94-.94-2.06-.94 2.06-2.06.94z\"/><path d=\"M17.41 7.96l-1.37-1.37c-.4-.4-.92-.59-1.43-.59-.52 0-1.04.2-1.43.59L10.3 9.45l-7.72 7.72c-.78.78-.78 2.05 0 2.83L4 21.41c.39.39.9.59 1.41.59.51 0 1.02-.2 1.41-.59l7.78-7.78 2.81-2.81c.8-.78.8-2.07 0-2.86zM5.41 20L4 18.59l7.72-7.72 1.47 1.35L5.41 20z\"/>\n",
              "  </svg>\n",
              "      </button>\n",
              "      \n",
              "  <style>\n",
              "    .colab-df-container {\n",
              "      display:flex;\n",
              "      flex-wrap:wrap;\n",
              "      gap: 12px;\n",
              "    }\n",
              "\n",
              "    .colab-df-convert {\n",
              "      background-color: #E8F0FE;\n",
              "      border: none;\n",
              "      border-radius: 50%;\n",
              "      cursor: pointer;\n",
              "      display: none;\n",
              "      fill: #1967D2;\n",
              "      height: 32px;\n",
              "      padding: 0 0 0 0;\n",
              "      width: 32px;\n",
              "    }\n",
              "\n",
              "    .colab-df-convert:hover {\n",
              "      background-color: #E2EBFA;\n",
              "      box-shadow: 0px 1px 2px rgba(60, 64, 67, 0.3), 0px 1px 3px 1px rgba(60, 64, 67, 0.15);\n",
              "      fill: #174EA6;\n",
              "    }\n",
              "\n",
              "    [theme=dark] .colab-df-convert {\n",
              "      background-color: #3B4455;\n",
              "      fill: #D2E3FC;\n",
              "    }\n",
              "\n",
              "    [theme=dark] .colab-df-convert:hover {\n",
              "      background-color: #434B5C;\n",
              "      box-shadow: 0px 1px 3px 1px rgba(0, 0, 0, 0.15);\n",
              "      filter: drop-shadow(0px 1px 2px rgba(0, 0, 0, 0.3));\n",
              "      fill: #FFFFFF;\n",
              "    }\n",
              "  </style>\n",
              "\n",
              "      <script>\n",
              "        const buttonEl =\n",
              "          document.querySelector('#df-f266b975-d5c4-4167-a41f-47373300bb9a button.colab-df-convert');\n",
              "        buttonEl.style.display =\n",
              "          google.colab.kernel.accessAllowed ? 'block' : 'none';\n",
              "\n",
              "        async function convertToInteractive(key) {\n",
              "          const element = document.querySelector('#df-f266b975-d5c4-4167-a41f-47373300bb9a');\n",
              "          const dataTable =\n",
              "            await google.colab.kernel.invokeFunction('convertToInteractive',\n",
              "                                                     [key], {});\n",
              "          if (!dataTable) return;\n",
              "\n",
              "          const docLinkHtml = 'Like what you see? Visit the ' +\n",
              "            '<a target=\"_blank\" href=https://colab.research.google.com/notebooks/data_table.ipynb>data table notebook</a>'\n",
              "            + ' to learn more about interactive tables.';\n",
              "          element.innerHTML = '';\n",
              "          dataTable['output_type'] = 'display_data';\n",
              "          await google.colab.output.renderOutput(dataTable, element);\n",
              "          const docLink = document.createElement('div');\n",
              "          docLink.innerHTML = docLinkHtml;\n",
              "          element.appendChild(docLink);\n",
              "        }\n",
              "      </script>\n",
              "    </div>\n",
              "  </div>\n",
              "  "
            ]
          },
          "metadata": {},
          "execution_count": 8
        }
      ]
    },
    {
      "cell_type": "markdown",
      "source": [
        "# Data Cleaning"
      ],
      "metadata": {
        "id": "qA0B70fNj_5l"
      }
    },
    {
      "cell_type": "code",
      "source": [
        "# get number of unique values for each column\n",
        "counts = df.nunique()\n",
        "# record columns to delete\n",
        "to_del = [i for i,v in enumerate(counts) if v == 1]\n",
        "print(to_del)\n",
        "# drop useless columns\n",
        "df.drop(to_del, axis=1, inplace=True)\n",
        "print(df.shape)"
      ],
      "metadata": {
        "id": "KPYovd_bAUqp",
        "colab": {
          "base_uri": "https://localhost:8080/"
        },
        "outputId": "e4a7d891-d8a0-4dd2-b427-c193e69f7fd9"
      },
      "execution_count": null,
      "outputs": [
        {
          "output_type": "stream",
          "name": "stdout",
          "text": [
            "[]\n",
            "(64548, 8)\n"
          ]
        }
      ]
    },
    {
      "cell_type": "code",
      "source": [
        "# get number of unique values for each row\n",
        "counts = df.duplicated()\n",
        "# record rows to delete\n",
        "to_del = [i for i,v in enumerate(counts) if v == 1]\n",
        "print(to_del)\n",
        "print(df.shape)"
      ],
      "metadata": {
        "id": "x-5PSTq2BfwM",
        "colab": {
          "base_uri": "https://localhost:8080/"
        },
        "outputId": "0ad06e73-9d5f-412d-ba22-8fee7cbe7cc9"
      },
      "execution_count": null,
      "outputs": [
        {
          "output_type": "stream",
          "name": "stdout",
          "text": [
            "[]\n",
            "(64548, 8)\n"
          ]
        }
      ]
    },
    {
      "cell_type": "code",
      "source": [
        "# Check missing values both to numeric features and categorical features \n",
        "missing = df.isnull().sum()/df.shape[0]*100\n",
        "missing"
      ],
      "metadata": {
        "id": "rTthh0x3_vAs",
        "colab": {
          "base_uri": "https://localhost:8080/"
        },
        "outputId": "121dca31-7e22-46af-e662-ef9c46ad78cd"
      },
      "execution_count": null,
      "outputs": [
        {
          "output_type": "execute_result",
          "data": {
            "text/plain": [
              "OwnerAge      0.0\n",
              "Gender        0.0\n",
              "Area          0.0\n",
              "RiskClass     0.0\n",
              "VehAge        0.0\n",
              "BonusClass    0.0\n",
              "Exposure      0.0\n",
              "ClaimNb       0.0\n",
              "dtype: float64"
            ]
          },
          "metadata": {},
          "execution_count": 11
        }
      ]
    },
    {
      "cell_type": "code",
      "source": [
        "# Feature transformation\n",
        "df_1 = df.copy()\n",
        "df_1['Exposure'] = df_1['Exposure'].clip(upper=1)\n",
        "df_1['VehAge'] = df_1['VehAge'].clip(upper=20)"
      ],
      "metadata": {
        "id": "Ix0Bfmzhaahp"
      },
      "execution_count": null,
      "outputs": []
    },
    {
      "cell_type": "markdown",
      "source": [
        "# Pre-Processing"
      ],
      "metadata": {
        "id": "qMT1ZoX_kFDa"
      }
    },
    {
      "cell_type": "code",
      "source": [
        "# Split dataset\n",
        "df_train, df_test, = train_test_split(df_1, train_size=0.8, test_size=0.2,random_state=0)\n"
      ],
      "metadata": {
        "id": "qoxD6KXkx1XM"
      },
      "execution_count": null,
      "outputs": []
    },
    {
      "cell_type": "code",
      "source": [
        "y_train = df_train.ClaimNb\n",
        "y_test = df_test.ClaimNb\n",
        "X_train = df_train.drop(['ClaimNb'], axis=1, inplace=False)\n",
        "X_test = df_test.drop(['ClaimNb'], axis=1, inplace=False)"
      ],
      "metadata": {
        "id": "5Kd14r5t4gU1"
      },
      "execution_count": null,
      "outputs": []
    },
    {
      "cell_type": "markdown",
      "source": [
        "# Modelling 1"
      ],
      "metadata": {
        "id": "IncA8XhpkKc7"
      }
    },
    {
      "cell_type": "code",
      "source": [
        "np.random.seed(0)\n",
        "x_spline = df_train[['OwnerAge','VehAge']]\n",
        "bs = BSplines(x_spline, df=[5,5], degree=[3,3])\n",
        "gam_poisson_1 = GLMGam.from_formula(formula='ClaimNb ~ C(Gender)+C(RiskClass)+C(Area)+C(BonusClass)', smoother=bs, data=df_train, offset=np.log1p(df_train['Exposure']), family=sm.families.Poisson(sm.families.links.log()))\n",
        "gam_model_1 = gam_poisson_1.fit()\n",
        "print(gam_model_1.summary())"
      ],
      "metadata": {
        "id": "Gpm2vVuv3-pO",
        "colab": {
          "base_uri": "https://localhost:8080/"
        },
        "outputId": "65063af5-ba69-49f9-c5f2-d0cccceb30ac"
      },
      "execution_count": null,
      "outputs": [
        {
          "output_type": "stream",
          "name": "stdout",
          "text": [
            "                 Generalized Linear Model Regression Results                  \n",
            "==============================================================================\n",
            "Dep. Variable:                ClaimNb   No. Observations:                51638\n",
            "Model:                         GLMGam   Df Residuals:                    51610\n",
            "Model Family:                 Poisson   Df Model:                        27.00\n",
            "Link Function:                    log   Scale:                          1.0000\n",
            "Method:                         PIRLS   Log-Likelihood:                -2747.3\n",
            "Date:                Sun, 11 Sep 2022   Deviance:                       4434.4\n",
            "Time:                        12:53:26   Pearson chi2:                 5.36e+04\n",
            "No. Iterations:                     9                                         \n",
            "Covariance Type:            nonrobust                                         \n",
            "======================================================================================================================================\n",
            "                                                                         coef    std err          z      P>|z|      [0.025      0.975]\n",
            "--------------------------------------------------------------------------------------------------------------------------------------\n",
            "Intercept                                                             -4.0717      1.828     -2.228      0.026      -7.654      -0.490\n",
            "C(Gender)[T.Male]                                                      0.7192      0.160      4.484      0.000       0.405       1.033\n",
            "C(RiskClass)[T.EV ratio 16-19]                                         0.5956      0.150      3.968      0.000       0.301       0.890\n",
            "C(RiskClass)[T.EV ratio 20-24]                                         0.9150      0.150      6.090      0.000       0.621       1.209\n",
            "C(RiskClass)[T.EV ratio 6-8]                                           0.3902      0.197      1.981      0.048       0.004       0.776\n",
            "C(RiskClass)[T.EV ratio 9-12]                                          0.2185      0.148      1.477      0.140      -0.071       0.508\n",
            "C(RiskClass)[T.EV ratio <5]                                            0.2473      0.204      1.214      0.225      -0.152       0.647\n",
            "C(RiskClass)[T.EV ratio >25]                                          -0.3106      0.465     -0.668      0.504      -1.221       0.600\n",
            "C(Area)[T.Gotland (Sweden's largest island)]                          -1.8186      1.004     -1.812      0.070      -3.786       0.149\n",
            "C(Area)[T.Lesser towns except Gotland; Northern towns]                -0.9203      0.134     -6.891      0.000      -1.182      -0.659\n",
            "C(Area)[T.Northern countryside]                                       -1.3783      0.272     -5.068      0.000      -1.911      -0.845\n",
            "C(Area)[T.Northern towns]                                             -1.6087      0.344     -4.681      0.000      -2.282      -0.935\n",
            "C(Area)[T.Small towns; countryside except Gotland; Northern towns]    -1.0062      0.117     -8.573      0.000      -1.236      -0.776\n",
            "C(Area)[T.Suburbs; middle-sized cities]                               -0.4781      0.121     -3.962      0.000      -0.715      -0.242\n",
            "C(BonusClass)[T.BM2]                                                  -0.0910      0.166     -0.548      0.584      -0.417       0.235\n",
            "C(BonusClass)[T.BM3]                                                   0.0586      0.171      0.342      0.732      -0.277       0.394\n",
            "C(BonusClass)[T.BM4]                                                   0.1789      0.172      1.043      0.297      -0.157       0.515\n",
            "C(BonusClass)[T.BM5]                                                  -0.0062      0.193     -0.032      0.974      -0.385       0.373\n",
            "C(BonusClass)[T.BM6]                                                  -0.0983      0.202     -0.487      0.626      -0.494       0.298\n",
            "C(BonusClass)[T.BM7]                                                   0.5917      0.130      4.535      0.000       0.336       0.847\n",
            "OwnerAge_s0                                                            2.2915      2.448      0.936      0.349      -2.507       7.090\n",
            "OwnerAge_s1                                                           -4.1348      1.226     -3.373      0.001      -6.538      -1.732\n",
            "OwnerAge_s2                                                            1.7630      2.714      0.650      0.516      -3.557       7.083\n",
            "OwnerAge_s3                                                          -15.7403      5.361     -2.936      0.003     -26.248      -5.233\n",
            "VehAge_s0                                                             -1.0965      0.339     -3.232      0.001      -1.762      -0.432\n",
            "VehAge_s1                                                             -0.5812      0.340     -1.709      0.087      -1.248       0.085\n",
            "VehAge_s2                                                             -1.7630      0.335     -5.260      0.000      -2.420      -1.106\n",
            "VehAge_s3                                                             -1.9886      0.249     -8.001      0.000      -2.476      -1.501\n",
            "======================================================================================================================================\n"
          ]
        }
      ]
    },
    {
      "cell_type": "markdown",
      "source": [
        "# Model Evaluation 1"
      ],
      "metadata": {
        "id": "9_fzux3pkQWd"
      }
    },
    {
      "cell_type": "code",
      "source": [
        "predictions_tr = gam_model_1.predict(exog = df_train[['Gender','RiskClass','Area','BonusClass']], exog_smooth = np.asarray(df_train[['OwnerAge', 'VehAge']]))\n",
        "predictions_te = gam_model_1.predict(exog = df_test[['Gender','RiskClass','Area','BonusClass']], exog_smooth = np.asarray(df_test[['OwnerAge', 'VehAge']]))"
      ],
      "metadata": {
        "id": "7TPWfP481Z1l"
      },
      "execution_count": null,
      "outputs": []
    },
    {
      "cell_type": "code",
      "source": [
        "mean_poisson_deviance(y_train,predictions_tr)"
      ],
      "metadata": {
        "id": "u3PjH1Le1jlW",
        "colab": {
          "base_uri": "https://localhost:8080/"
        },
        "outputId": "0f6823e7-de74-4490-f227-1b099b9efd4d"
      },
      "execution_count": null,
      "outputs": [
        {
          "output_type": "execute_result",
          "data": {
            "text/plain": [
              "0.08824900274224448"
            ]
          },
          "metadata": {},
          "execution_count": 17
        }
      ]
    },
    {
      "cell_type": "code",
      "source": [
        "mean_poisson_deviance(y_test,predictions_te)"
      ],
      "metadata": {
        "id": "EmFXn_dD1eFg",
        "colab": {
          "base_uri": "https://localhost:8080/"
        },
        "outputId": "a7f87a66-c1f6-4517-e20e-6c74455bfd1d"
      },
      "execution_count": null,
      "outputs": [
        {
          "output_type": "execute_result",
          "data": {
            "text/plain": [
              "0.0983717704085896"
            ]
          },
          "metadata": {},
          "execution_count": 18
        }
      ]
    },
    {
      "cell_type": "code",
      "source": [
        "np.sqrt(mean_squared_error(y_train, predictions_tr))"
      ],
      "metadata": {
        "id": "5OgZLOZsTiBD",
        "colab": {
          "base_uri": "https://localhost:8080/"
        },
        "outputId": "9e2ab6ae-b45d-4fb9-e28d-7ce675cff8d1"
      },
      "execution_count": null,
      "outputs": [
        {
          "output_type": "execute_result",
          "data": {
            "text/plain": [
              "0.10521815721442125"
            ]
          },
          "metadata": {},
          "execution_count": 19
        }
      ]
    },
    {
      "cell_type": "code",
      "source": [
        "np.sqrt(mean_squared_error(y_test, predictions_te))"
      ],
      "metadata": {
        "id": "jwxg3rUvTdEG",
        "colab": {
          "base_uri": "https://localhost:8080/"
        },
        "outputId": "d4e81ce3-3c1f-4580-b38a-a29571a28518"
      },
      "execution_count": null,
      "outputs": [
        {
          "output_type": "execute_result",
          "data": {
            "text/plain": [
              "0.11252834327414507"
            ]
          },
          "metadata": {},
          "execution_count": 20
        }
      ]
    },
    {
      "cell_type": "markdown",
      "source": [
        "# Modelling 2"
      ],
      "metadata": {
        "id": "e5HxCp3BCkqa"
      }
    },
    {
      "cell_type": "code",
      "source": [
        "np.random.seed(0)\n",
        "x_spline = df_train[['OwnerAge','VehAge']]\n",
        "bs = BSplines(x_spline, df=[5,5], degree=[3,3])\n",
        "gam_poisson_2 = GLMGam.from_formula(formula='ClaimNb ~ C(Gender)+C(RiskClass)+C(Area)', smoother=bs, data=df_train, offset=np.log1p(df_train['Exposure']), family=sm.families.Poisson(sm.families.links.log()))\n",
        "gam_model_2 = gam_poisson_2.fit()\n",
        "print(gam_model_2.summary())"
      ],
      "metadata": {
        "id": "MgmAg5aJl7Ah",
        "colab": {
          "base_uri": "https://localhost:8080/"
        },
        "outputId": "99e17d03-280b-417e-96de-6e970dc51603"
      },
      "execution_count": null,
      "outputs": [
        {
          "output_type": "stream",
          "name": "stdout",
          "text": [
            "                 Generalized Linear Model Regression Results                  \n",
            "==============================================================================\n",
            "Dep. Variable:                ClaimNb   No. Observations:                51638\n",
            "Model:                         GLMGam   Df Residuals:                    51616\n",
            "Model Family:                 Poisson   Df Model:                        21.00\n",
            "Link Function:                    log   Scale:                          1.0000\n",
            "Method:                         PIRLS   Log-Likelihood:                -2766.5\n",
            "Date:                Sun, 11 Sep 2022   Deviance:                       4472.7\n",
            "Time:                        12:54:57   Pearson chi2:                 5.41e+04\n",
            "No. Iterations:                     9                                         \n",
            "Covariance Type:            nonrobust                                         \n",
            "======================================================================================================================================\n",
            "                                                                         coef    std err          z      P>|z|      [0.025      0.975]\n",
            "--------------------------------------------------------------------------------------------------------------------------------------\n",
            "Intercept                                                             -4.6384      1.859     -2.495      0.013      -8.282      -0.995\n",
            "C(Gender)[T.Male]                                                      0.6986      0.160      4.361      0.000       0.385       1.013\n",
            "C(RiskClass)[T.EV ratio 16-19]                                         0.6405      0.150      4.270      0.000       0.347       0.935\n",
            "C(RiskClass)[T.EV ratio 20-24]                                         1.0063      0.150      6.724      0.000       0.713       1.300\n",
            "C(RiskClass)[T.EV ratio 6-8]                                           0.3829      0.197      1.948      0.051      -0.002       0.768\n",
            "C(RiskClass)[T.EV ratio 9-12]                                          0.1861      0.148      1.259      0.208      -0.104       0.476\n",
            "C(RiskClass)[T.EV ratio <5]                                            0.2447      0.204      1.201      0.230      -0.154       0.644\n",
            "C(RiskClass)[T.EV ratio >25]                                          -0.1913      0.464     -0.412      0.680      -1.101       0.719\n",
            "C(Area)[T.Gotland (Sweden's largest island)]                          -1.7722      1.004     -1.766      0.077      -3.739       0.195\n",
            "C(Area)[T.Lesser towns except Gotland; Northern towns]                -0.9319      0.134     -6.974      0.000      -1.194      -0.670\n",
            "C(Area)[T.Northern countryside]                                       -1.3933      0.272     -5.123      0.000      -1.926      -0.860\n",
            "C(Area)[T.Northern towns]                                             -1.6209      0.344     -4.717      0.000      -2.294      -0.947\n",
            "C(Area)[T.Small towns; countryside except Gotland; Northern towns]    -1.0380      0.117     -8.843      0.000      -1.268      -0.808\n",
            "C(Area)[T.Suburbs; middle-sized cities]                               -0.4944      0.121     -4.096      0.000      -0.731      -0.258\n",
            "OwnerAge_s0                                                            2.9482      2.478      1.190      0.234      -1.909       7.805\n",
            "OwnerAge_s1                                                           -2.9575      1.217     -2.429      0.015      -5.344      -0.571\n",
            "OwnerAge_s2                                                            2.3367      2.735      0.854      0.393      -3.025       7.698\n",
            "OwnerAge_s3                                                          -13.0293      5.164     -2.523      0.012     -23.150      -2.908\n",
            "VehAge_s0                                                             -1.1245      0.339     -3.319      0.001      -1.789      -0.460\n",
            "VehAge_s1                                                             -0.6191      0.340     -1.819      0.069      -1.286       0.048\n",
            "VehAge_s2                                                             -1.8822      0.335     -5.615      0.000      -2.539      -1.225\n",
            "VehAge_s3                                                             -2.0305      0.248     -8.185      0.000      -2.517      -1.544\n",
            "======================================================================================================================================\n"
          ]
        }
      ]
    },
    {
      "cell_type": "markdown",
      "source": [
        "# Model Evaluation 2"
      ],
      "metadata": {
        "id": "7TgbCNJBCgYy"
      }
    },
    {
      "cell_type": "code",
      "source": [
        "predictions_tr_ = gam_model_2.predict(exog = df_train[['Gender','RiskClass','Area']], exog_smooth = np.asarray(df_train[['OwnerAge', 'VehAge']]))\n",
        "predictions_te_ = gam_model_2.predict(exog = df_test[['Gender','RiskClass','Area']], exog_smooth = np.asarray(df_test[['OwnerAge', 'VehAge']]))"
      ],
      "metadata": {
        "id": "dobx3NwLlz53"
      },
      "execution_count": null,
      "outputs": []
    },
    {
      "cell_type": "code",
      "source": [
        "mean_poisson_deviance(y_train,predictions_tr_)"
      ],
      "metadata": {
        "id": "45KR-1eqlz8d",
        "colab": {
          "base_uri": "https://localhost:8080/"
        },
        "outputId": "6d679f7e-5821-40b6-a3d5-2f13b2ee5e87"
      },
      "execution_count": null,
      "outputs": [
        {
          "output_type": "execute_result",
          "data": {
            "text/plain": [
              "0.08912366925181825"
            ]
          },
          "metadata": {},
          "execution_count": 23
        }
      ]
    },
    {
      "cell_type": "code",
      "source": [
        "mean_poisson_deviance(y_test,predictions_te_)"
      ],
      "metadata": {
        "id": "oT5qCPKllz-5",
        "colab": {
          "base_uri": "https://localhost:8080/"
        },
        "outputId": "2a0c4a8c-3c68-4844-b81b-5261509ba30a"
      },
      "execution_count": null,
      "outputs": [
        {
          "output_type": "execute_result",
          "data": {
            "text/plain": [
              "0.10049585058240885"
            ]
          },
          "metadata": {},
          "execution_count": 24
        }
      ]
    },
    {
      "cell_type": "code",
      "source": [
        "np.sqrt(mean_squared_error(y_train, predictions_tr_))"
      ],
      "metadata": {
        "id": "rxVg2tFcBezq",
        "colab": {
          "base_uri": "https://localhost:8080/"
        },
        "outputId": "f5d90238-f465-4f15-ea7b-425b865dccdb"
      },
      "execution_count": null,
      "outputs": [
        {
          "output_type": "execute_result",
          "data": {
            "text/plain": [
              "0.10523599269479408"
            ]
          },
          "metadata": {},
          "execution_count": 25
        }
      ]
    },
    {
      "cell_type": "code",
      "source": [
        "np.sqrt(mean_squared_error(y_test, predictions_te_))"
      ],
      "metadata": {
        "id": "izjtGKpSBe4k",
        "colab": {
          "base_uri": "https://localhost:8080/"
        },
        "outputId": "2f5405e9-e086-4714-810b-10a8617455ea"
      },
      "execution_count": null,
      "outputs": [
        {
          "output_type": "execute_result",
          "data": {
            "text/plain": [
              "0.11267054689572446"
            ]
          },
          "metadata": {},
          "execution_count": 26
        }
      ]
    },
    {
      "cell_type": "markdown",
      "source": [
        "# Modelling 3"
      ],
      "metadata": {
        "id": "jqPw-m2lCdjo"
      }
    },
    {
      "cell_type": "code",
      "source": [
        "np.random.seed(0)\n",
        "x_spline = df_train[['OwnerAge','VehAge']]\n",
        "bs = BSplines(x_spline, df=[8,8], degree=[3,3])\n",
        "gam_poisson_3 = GLMGam.from_formula(formula='ClaimNb ~ C(Gender)+C(RiskClass)+C(Area)+C(BonusClass)', smoother=bs, data=df_train, offset=np.log1p(df_train['Exposure']), family=sm.families.Poisson(sm.families.links.log()))\n",
        "gam_model_3 = gam_poisson_3.fit()\n",
        "print(gam_model_3.summary())"
      ],
      "metadata": {
        "id": "HsDCBi2eiOtz",
        "colab": {
          "base_uri": "https://localhost:8080/"
        },
        "outputId": "784bbd7c-abc0-4c41-9dbe-7b94ade8ca05"
      },
      "execution_count": null,
      "outputs": [
        {
          "output_type": "stream",
          "name": "stdout",
          "text": [
            "                 Generalized Linear Model Regression Results                  \n",
            "==============================================================================\n",
            "Dep. Variable:                ClaimNb   No. Observations:                51638\n",
            "Model:                         GLMGam   Df Residuals:                 51604.00\n",
            "Model Family:                 Poisson   Df Model:                        33.00\n",
            "Link Function:                    log   Scale:                          1.0000\n",
            "Method:                         PIRLS   Log-Likelihood:                -2743.3\n",
            "Date:                Sun, 11 Sep 2022   Deviance:                       4426.3\n",
            "Time:                        12:56:23   Pearson chi2:                 5.27e+04\n",
            "No. Iterations:                     9                                         \n",
            "Covariance Type:            nonrobust                                         \n",
            "======================================================================================================================================\n",
            "                                                                         coef    std err          z      P>|z|      [0.025      0.975]\n",
            "--------------------------------------------------------------------------------------------------------------------------------------\n",
            "Intercept                                                             -5.0875      5.954     -0.855      0.393     -16.756       6.581\n",
            "C(Gender)[T.Male]                                                      0.7260      0.160      4.524      0.000       0.412       1.041\n",
            "C(RiskClass)[T.EV ratio 16-19]                                         0.5950      0.150      3.962      0.000       0.301       0.889\n",
            "C(RiskClass)[T.EV ratio 20-24]                                         0.9056      0.150      6.025      0.000       0.611       1.200\n",
            "C(RiskClass)[T.EV ratio 6-8]                                           0.3916      0.197      1.989      0.047       0.006       0.778\n",
            "C(RiskClass)[T.EV ratio 9-12]                                          0.2331      0.148      1.574      0.115      -0.057       0.523\n",
            "C(RiskClass)[T.EV ratio <5]                                            0.2741      0.205      1.340      0.180      -0.127       0.675\n",
            "C(RiskClass)[T.EV ratio >25]                                          -0.3350      0.465     -0.720      0.471      -1.247       0.577\n",
            "C(Area)[T.Gotland (Sweden's largest island)]                          -1.8321      1.004     -1.825      0.068      -3.799       0.135\n",
            "C(Area)[T.Lesser towns except Gotland; Northern towns]                -0.9219      0.134     -6.900      0.000      -1.184      -0.660\n",
            "C(Area)[T.Northern countryside]                                       -1.3876      0.272     -5.100      0.000      -1.921      -0.854\n",
            "C(Area)[T.Northern towns]                                             -1.6229      0.344     -4.721      0.000      -2.297      -0.949\n",
            "C(Area)[T.Small towns; countryside except Gotland; Northern towns]    -1.0008      0.118     -8.511      0.000      -1.231      -0.770\n",
            "C(Area)[T.Suburbs; middle-sized cities]                               -0.4813      0.121     -3.988      0.000      -0.718      -0.245\n",
            "C(BonusClass)[T.BM2]                                                  -0.1047      0.166     -0.630      0.529      -0.431       0.221\n",
            "C(BonusClass)[T.BM3]                                                   0.0418      0.171      0.244      0.807      -0.294       0.378\n",
            "C(BonusClass)[T.BM4]                                                   0.1595      0.172      0.929      0.353      -0.177       0.496\n",
            "C(BonusClass)[T.BM5]                                                  -0.0247      0.193     -0.128      0.898      -0.404       0.354\n",
            "C(BonusClass)[T.BM6]                                                  -0.1131      0.202     -0.560      0.576      -0.509       0.283\n",
            "C(BonusClass)[T.BM7]                                                   0.5938      0.130      4.553      0.000       0.338       0.849\n",
            "OwnerAge_s0                                                            1.8318      6.944      0.264      0.792     -11.779      15.443\n",
            "OwnerAge_s1                                                            1.9007      5.639      0.337      0.736      -9.151      12.953\n",
            "OwnerAge_s2                                                           -0.5462      6.057     -0.090      0.928     -12.417      11.325\n",
            "OwnerAge_s3                                                            0.3090      5.902      0.052      0.958     -11.258      11.876\n",
            "OwnerAge_s4                                                           -1.5110      6.142     -0.246      0.806     -13.550      10.528\n",
            "OwnerAge_s5                                                            4.4813      6.681      0.671      0.502      -8.614      17.577\n",
            "OwnerAge_s6                                                          -35.1045     24.320     -1.443      0.149     -82.771      12.561\n",
            "VehAge_s0                                                             -0.0393      0.325     -0.121      0.904      -0.676       0.597\n",
            "VehAge_s1                                                             -1.0437      0.288     -3.623      0.000      -1.608      -0.479\n",
            "VehAge_s2                                                             -0.5429      0.342     -1.589      0.112      -1.213       0.127\n",
            "VehAge_s3                                                             -1.2522      0.318     -3.944      0.000      -1.875      -0.630\n",
            "VehAge_s4                                                             -1.3235      0.422     -3.136      0.002      -2.151      -0.496\n",
            "VehAge_s5                                                             -2.0901      0.656     -3.186      0.001      -3.376      -0.804\n",
            "VehAge_s6                                                             -1.8598      0.286     -6.497      0.000      -2.421      -1.299\n",
            "======================================================================================================================================\n"
          ]
        }
      ]
    },
    {
      "cell_type": "markdown",
      "source": [
        "# Model Evaluation 3"
      ],
      "metadata": {
        "id": "MQfz4K2uCnw_"
      }
    },
    {
      "cell_type": "code",
      "source": [
        "predictions_tr__ = gam_model_3.predict(exog = df_train[['Gender','RiskClass','Area','BonusClass']], exog_smooth = np.asarray(df_train[['OwnerAge', 'VehAge']]))\n",
        "predictions_te__ = gam_model_3.predict(exog = df_test[['Gender','RiskClass','Area','BonusClass']], exog_smooth = np.asarray(df_test[['OwnerAge', 'VehAge']]))"
      ],
      "metadata": {
        "id": "pBQTuzF58LBm"
      },
      "execution_count": null,
      "outputs": []
    },
    {
      "cell_type": "code",
      "source": [
        "mean_poisson_deviance(y_train,predictions_tr__)"
      ],
      "metadata": {
        "id": "w2c7AT0G6-cY",
        "colab": {
          "base_uri": "https://localhost:8080/"
        },
        "outputId": "1f81fd49-a115-4cac-8dfb-b02a3be75218"
      },
      "execution_count": null,
      "outputs": [
        {
          "output_type": "execute_result",
          "data": {
            "text/plain": [
              "0.08806673675295365"
            ]
          },
          "metadata": {},
          "execution_count": 29
        }
      ]
    },
    {
      "cell_type": "code",
      "source": [
        "mean_poisson_deviance(y_test,predictions_te__)"
      ],
      "metadata": {
        "id": "LbQJ1iT46kAn",
        "colab": {
          "base_uri": "https://localhost:8080/"
        },
        "outputId": "7ec0f58c-3648-41d3-be45-1e371616cdba"
      },
      "execution_count": null,
      "outputs": [
        {
          "output_type": "execute_result",
          "data": {
            "text/plain": [
              "0.09836667757684663"
            ]
          },
          "metadata": {},
          "execution_count": 30
        }
      ]
    },
    {
      "cell_type": "code",
      "source": [
        "np.sqrt(mean_squared_error(y_train, predictions_tr__))"
      ],
      "metadata": {
        "id": "PJbxPURhCOSW",
        "colab": {
          "base_uri": "https://localhost:8080/"
        },
        "outputId": "d9219a8c-9dd4-466f-fdd8-aa38166f791c"
      },
      "execution_count": null,
      "outputs": [
        {
          "output_type": "execute_result",
          "data": {
            "text/plain": [
              "0.10520065321184739"
            ]
          },
          "metadata": {},
          "execution_count": 31
        }
      ]
    },
    {
      "cell_type": "code",
      "source": [
        "np.sqrt(mean_squared_error(y_test, predictions_te__))"
      ],
      "metadata": {
        "id": "_80gDM6eCOUu",
        "colab": {
          "base_uri": "https://localhost:8080/"
        },
        "outputId": "5d097f4b-f9f9-4168-cf29-9723b4bfd351"
      },
      "execution_count": null,
      "outputs": [
        {
          "output_type": "execute_result",
          "data": {
            "text/plain": [
              "0.11253182441814917"
            ]
          },
          "metadata": {},
          "execution_count": 32
        }
      ]
    },
    {
      "cell_type": "markdown",
      "source": [
        "# **GAM Results Analysis**"
      ],
      "metadata": {
        "id": "NsTWl5n04Ift"
      }
    },
    {
      "cell_type": "code",
      "source": [
        "coef = pd.DataFrame(np.exp(gam_model_3.params), columns = ['Value'])\n",
        "coef"
      ],
      "metadata": {
        "id": "yZJLUkteYQu2",
        "colab": {
          "base_uri": "https://localhost:8080/",
          "height": 1000
        },
        "outputId": "4ff5f2e4-9cd1-459b-dbb3-4772ea2bfcfe"
      },
      "execution_count": null,
      "outputs": [
        {
          "output_type": "execute_result",
          "data": {
            "text/plain": [
              "                                                           Value\n",
              "Intercept                                           6.173512e-03\n",
              "C(Gender)[T.Male]                                   2.066868e+00\n",
              "C(RiskClass)[T.EV ratio 16-19]                      1.812976e+00\n",
              "C(RiskClass)[T.EV ratio 20-24]                      2.473301e+00\n",
              "C(RiskClass)[T.EV ratio 6-8]                        1.479412e+00\n",
              "C(RiskClass)[T.EV ratio 9-12]                       1.262468e+00\n",
              "C(RiskClass)[T.EV ratio <5]                         1.315392e+00\n",
              "C(RiskClass)[T.EV ratio >25]                        7.153581e-01\n",
              "C(Area)[T.Gotland (Sweden's largest island)]        1.600849e-01\n",
              "C(Area)[T.Lesser towns except Gotland; Northern...  3.977452e-01\n",
              "C(Area)[T.Northern countryside]                     2.496764e-01\n",
              "C(Area)[T.Northern towns]                           1.973185e-01\n",
              "C(Area)[T.Small towns; countryside except Gotla...  3.675703e-01\n",
              "C(Area)[T.Suburbs; middle-sized cities]             6.179707e-01\n",
              "C(BonusClass)[T.BM2]                                9.005595e-01\n",
              "C(BonusClass)[T.BM3]                                1.042703e+00\n",
              "C(BonusClass)[T.BM4]                                1.172884e+00\n",
              "C(BonusClass)[T.BM5]                                9.756183e-01\n",
              "C(BonusClass)[T.BM6]                                8.930802e-01\n",
              "C(BonusClass)[T.BM7]                                1.810858e+00\n",
              "OwnerAge_s0                                         6.245407e+00\n",
              "OwnerAge_s1                                         6.690883e+00\n",
              "OwnerAge_s2                                         5.791590e-01\n",
              "OwnerAge_s3                                         1.362110e+00\n",
              "OwnerAge_s4                                         2.206819e-01\n",
              "OwnerAge_s5                                         8.834564e+01\n",
              "OwnerAge_s6                                         5.679248e-16\n",
              "VehAge_s0                                           9.615098e-01\n",
              "VehAge_s1                                           3.521433e-01\n",
              "VehAge_s2                                           5.810532e-01\n",
              "VehAge_s3                                           2.858706e-01\n",
              "VehAge_s4                                           2.662151e-01\n",
              "VehAge_s5                                           1.236750e-01\n",
              "VehAge_s6                                           1.557000e-01"
            ],
            "text/html": [
              "\n",
              "  <div id=\"df-22c980d6-b143-4ab0-829c-3b12169532eb\">\n",
              "    <div class=\"colab-df-container\">\n",
              "      <div>\n",
              "<style scoped>\n",
              "    .dataframe tbody tr th:only-of-type {\n",
              "        vertical-align: middle;\n",
              "    }\n",
              "\n",
              "    .dataframe tbody tr th {\n",
              "        vertical-align: top;\n",
              "    }\n",
              "\n",
              "    .dataframe thead th {\n",
              "        text-align: right;\n",
              "    }\n",
              "</style>\n",
              "<table border=\"1\" class=\"dataframe\">\n",
              "  <thead>\n",
              "    <tr style=\"text-align: right;\">\n",
              "      <th></th>\n",
              "      <th>Value</th>\n",
              "    </tr>\n",
              "  </thead>\n",
              "  <tbody>\n",
              "    <tr>\n",
              "      <th>Intercept</th>\n",
              "      <td>6.173512e-03</td>\n",
              "    </tr>\n",
              "    <tr>\n",
              "      <th>C(Gender)[T.Male]</th>\n",
              "      <td>2.066868e+00</td>\n",
              "    </tr>\n",
              "    <tr>\n",
              "      <th>C(RiskClass)[T.EV ratio 16-19]</th>\n",
              "      <td>1.812976e+00</td>\n",
              "    </tr>\n",
              "    <tr>\n",
              "      <th>C(RiskClass)[T.EV ratio 20-24]</th>\n",
              "      <td>2.473301e+00</td>\n",
              "    </tr>\n",
              "    <tr>\n",
              "      <th>C(RiskClass)[T.EV ratio 6-8]</th>\n",
              "      <td>1.479412e+00</td>\n",
              "    </tr>\n",
              "    <tr>\n",
              "      <th>C(RiskClass)[T.EV ratio 9-12]</th>\n",
              "      <td>1.262468e+00</td>\n",
              "    </tr>\n",
              "    <tr>\n",
              "      <th>C(RiskClass)[T.EV ratio &lt;5]</th>\n",
              "      <td>1.315392e+00</td>\n",
              "    </tr>\n",
              "    <tr>\n",
              "      <th>C(RiskClass)[T.EV ratio &gt;25]</th>\n",
              "      <td>7.153581e-01</td>\n",
              "    </tr>\n",
              "    <tr>\n",
              "      <th>C(Area)[T.Gotland (Sweden's largest island)]</th>\n",
              "      <td>1.600849e-01</td>\n",
              "    </tr>\n",
              "    <tr>\n",
              "      <th>C(Area)[T.Lesser towns except Gotland; Northern towns]</th>\n",
              "      <td>3.977452e-01</td>\n",
              "    </tr>\n",
              "    <tr>\n",
              "      <th>C(Area)[T.Northern countryside]</th>\n",
              "      <td>2.496764e-01</td>\n",
              "    </tr>\n",
              "    <tr>\n",
              "      <th>C(Area)[T.Northern towns]</th>\n",
              "      <td>1.973185e-01</td>\n",
              "    </tr>\n",
              "    <tr>\n",
              "      <th>C(Area)[T.Small towns; countryside except Gotland; Northern towns]</th>\n",
              "      <td>3.675703e-01</td>\n",
              "    </tr>\n",
              "    <tr>\n",
              "      <th>C(Area)[T.Suburbs; middle-sized cities]</th>\n",
              "      <td>6.179707e-01</td>\n",
              "    </tr>\n",
              "    <tr>\n",
              "      <th>C(BonusClass)[T.BM2]</th>\n",
              "      <td>9.005595e-01</td>\n",
              "    </tr>\n",
              "    <tr>\n",
              "      <th>C(BonusClass)[T.BM3]</th>\n",
              "      <td>1.042703e+00</td>\n",
              "    </tr>\n",
              "    <tr>\n",
              "      <th>C(BonusClass)[T.BM4]</th>\n",
              "      <td>1.172884e+00</td>\n",
              "    </tr>\n",
              "    <tr>\n",
              "      <th>C(BonusClass)[T.BM5]</th>\n",
              "      <td>9.756183e-01</td>\n",
              "    </tr>\n",
              "    <tr>\n",
              "      <th>C(BonusClass)[T.BM6]</th>\n",
              "      <td>8.930802e-01</td>\n",
              "    </tr>\n",
              "    <tr>\n",
              "      <th>C(BonusClass)[T.BM7]</th>\n",
              "      <td>1.810858e+00</td>\n",
              "    </tr>\n",
              "    <tr>\n",
              "      <th>OwnerAge_s0</th>\n",
              "      <td>6.245407e+00</td>\n",
              "    </tr>\n",
              "    <tr>\n",
              "      <th>OwnerAge_s1</th>\n",
              "      <td>6.690883e+00</td>\n",
              "    </tr>\n",
              "    <tr>\n",
              "      <th>OwnerAge_s2</th>\n",
              "      <td>5.791590e-01</td>\n",
              "    </tr>\n",
              "    <tr>\n",
              "      <th>OwnerAge_s3</th>\n",
              "      <td>1.362110e+00</td>\n",
              "    </tr>\n",
              "    <tr>\n",
              "      <th>OwnerAge_s4</th>\n",
              "      <td>2.206819e-01</td>\n",
              "    </tr>\n",
              "    <tr>\n",
              "      <th>OwnerAge_s5</th>\n",
              "      <td>8.834564e+01</td>\n",
              "    </tr>\n",
              "    <tr>\n",
              "      <th>OwnerAge_s6</th>\n",
              "      <td>5.679248e-16</td>\n",
              "    </tr>\n",
              "    <tr>\n",
              "      <th>VehAge_s0</th>\n",
              "      <td>9.615098e-01</td>\n",
              "    </tr>\n",
              "    <tr>\n",
              "      <th>VehAge_s1</th>\n",
              "      <td>3.521433e-01</td>\n",
              "    </tr>\n",
              "    <tr>\n",
              "      <th>VehAge_s2</th>\n",
              "      <td>5.810532e-01</td>\n",
              "    </tr>\n",
              "    <tr>\n",
              "      <th>VehAge_s3</th>\n",
              "      <td>2.858706e-01</td>\n",
              "    </tr>\n",
              "    <tr>\n",
              "      <th>VehAge_s4</th>\n",
              "      <td>2.662151e-01</td>\n",
              "    </tr>\n",
              "    <tr>\n",
              "      <th>VehAge_s5</th>\n",
              "      <td>1.236750e-01</td>\n",
              "    </tr>\n",
              "    <tr>\n",
              "      <th>VehAge_s6</th>\n",
              "      <td>1.557000e-01</td>\n",
              "    </tr>\n",
              "  </tbody>\n",
              "</table>\n",
              "</div>\n",
              "      <button class=\"colab-df-convert\" onclick=\"convertToInteractive('df-22c980d6-b143-4ab0-829c-3b12169532eb')\"\n",
              "              title=\"Convert this dataframe to an interactive table.\"\n",
              "              style=\"display:none;\">\n",
              "        \n",
              "  <svg xmlns=\"http://www.w3.org/2000/svg\" height=\"24px\"viewBox=\"0 0 24 24\"\n",
              "       width=\"24px\">\n",
              "    <path d=\"M0 0h24v24H0V0z\" fill=\"none\"/>\n",
              "    <path d=\"M18.56 5.44l.94 2.06.94-2.06 2.06-.94-2.06-.94-.94-2.06-.94 2.06-2.06.94zm-11 1L8.5 8.5l.94-2.06 2.06-.94-2.06-.94L8.5 2.5l-.94 2.06-2.06.94zm10 10l.94 2.06.94-2.06 2.06-.94-2.06-.94-.94-2.06-.94 2.06-2.06.94z\"/><path d=\"M17.41 7.96l-1.37-1.37c-.4-.4-.92-.59-1.43-.59-.52 0-1.04.2-1.43.59L10.3 9.45l-7.72 7.72c-.78.78-.78 2.05 0 2.83L4 21.41c.39.39.9.59 1.41.59.51 0 1.02-.2 1.41-.59l7.78-7.78 2.81-2.81c.8-.78.8-2.07 0-2.86zM5.41 20L4 18.59l7.72-7.72 1.47 1.35L5.41 20z\"/>\n",
              "  </svg>\n",
              "      </button>\n",
              "      \n",
              "  <style>\n",
              "    .colab-df-container {\n",
              "      display:flex;\n",
              "      flex-wrap:wrap;\n",
              "      gap: 12px;\n",
              "    }\n",
              "\n",
              "    .colab-df-convert {\n",
              "      background-color: #E8F0FE;\n",
              "      border: none;\n",
              "      border-radius: 50%;\n",
              "      cursor: pointer;\n",
              "      display: none;\n",
              "      fill: #1967D2;\n",
              "      height: 32px;\n",
              "      padding: 0 0 0 0;\n",
              "      width: 32px;\n",
              "    }\n",
              "\n",
              "    .colab-df-convert:hover {\n",
              "      background-color: #E2EBFA;\n",
              "      box-shadow: 0px 1px 2px rgba(60, 64, 67, 0.3), 0px 1px 3px 1px rgba(60, 64, 67, 0.15);\n",
              "      fill: #174EA6;\n",
              "    }\n",
              "\n",
              "    [theme=dark] .colab-df-convert {\n",
              "      background-color: #3B4455;\n",
              "      fill: #D2E3FC;\n",
              "    }\n",
              "\n",
              "    [theme=dark] .colab-df-convert:hover {\n",
              "      background-color: #434B5C;\n",
              "      box-shadow: 0px 1px 3px 1px rgba(0, 0, 0, 0.15);\n",
              "      filter: drop-shadow(0px 1px 2px rgba(0, 0, 0, 0.3));\n",
              "      fill: #FFFFFF;\n",
              "    }\n",
              "  </style>\n",
              "\n",
              "      <script>\n",
              "        const buttonEl =\n",
              "          document.querySelector('#df-22c980d6-b143-4ab0-829c-3b12169532eb button.colab-df-convert');\n",
              "        buttonEl.style.display =\n",
              "          google.colab.kernel.accessAllowed ? 'block' : 'none';\n",
              "\n",
              "        async function convertToInteractive(key) {\n",
              "          const element = document.querySelector('#df-22c980d6-b143-4ab0-829c-3b12169532eb');\n",
              "          const dataTable =\n",
              "            await google.colab.kernel.invokeFunction('convertToInteractive',\n",
              "                                                     [key], {});\n",
              "          if (!dataTable) return;\n",
              "\n",
              "          const docLinkHtml = 'Like what you see? Visit the ' +\n",
              "            '<a target=\"_blank\" href=https://colab.research.google.com/notebooks/data_table.ipynb>data table notebook</a>'\n",
              "            + ' to learn more about interactive tables.';\n",
              "          element.innerHTML = '';\n",
              "          dataTable['output_type'] = 'display_data';\n",
              "          await google.colab.output.renderOutput(dataTable, element);\n",
              "          const docLink = document.createElement('div');\n",
              "          docLink.innerHTML = docLinkHtml;\n",
              "          element.appendChild(docLink);\n",
              "        }\n",
              "      </script>\n",
              "    </div>\n",
              "  </div>\n",
              "  "
            ]
          },
          "metadata": {},
          "execution_count": 33
        }
      ]
    },
    {
      "cell_type": "code",
      "source": [
        "# Features importance\n",
        "coef_= coef.sort_values(by=['Value'])\n",
        "coef.index.name=\"Coefficients\"\n",
        "coef_ = coef_.drop(['Intercept'])\n",
        "plt.rcParams[\"figure.figsize\"] = (15,10)\n",
        "coef_.plot(kind='barh', use_index=True)\n",
        "plt.title('Features Importance') \n",
        "plt.show()"
      ],
      "metadata": {
        "id": "3Oz9f6IPNBY1",
        "colab": {
          "base_uri": "https://localhost:8080/",
          "height": 607
        },
        "outputId": "7e781905-e0d1-4123-cd5d-98477128371b"
      },
      "execution_count": null,
      "outputs": [
        {
          "output_type": "display_data",
          "data": {
            "text/plain": [
              "<Figure size 1080x720 with 1 Axes>"
            ],
            "image/png": "[encoded data removed]"
          },
          "metadata": {
            "needs_background": "light"
          }
        }
      ]
    },
    {
      "cell_type": "code",
      "source": [
        "# attach predictions on test set\n",
        "predictions_test = pd.DataFrame(predictions_te__, columns=['ClaimNb_pred'])\n",
        "test = pd.concat([X_test, y_test,predictions_test], axis=1)\n",
        "test"
      ],
      "metadata": {
        "id": "R0oJEtJlkPtm",
        "colab": {
          "base_uri": "https://localhost:8080/",
          "height": 424
        },
        "outputId": "8056dd3f-5399-40d9-de4a-a2aadf57d39a"
      },
      "execution_count": null,
      "outputs": [
        {
          "output_type": "execute_result",
          "data": {
            "text/plain": [
              "       OwnerAge  Gender                                               Area  \\\n",
              "11551        28  Female  Small towns; countryside except Gotland; North...   \n",
              "27696        42  Female                       Suburbs; middle-sized cities   \n",
              "56213        57    Male        Lesser towns except Gotland; Northern towns   \n",
              "8463         26    Male     Central parts of Sweden's three largest cities   \n",
              "35448        45    Male  Small towns; countryside except Gotland; North...   \n",
              "...         ...     ...                                                ...   \n",
              "15776        31  Female        Lesser towns except Gotland; Northern towns   \n",
              "43435        49    Male  Small towns; countryside except Gotland; North...   \n",
              "50162        53    Male                       Suburbs; middle-sized cities   \n",
              "2912         22    Male                       Suburbs; middle-sized cities   \n",
              "25134        40    Male     Central parts of Sweden's three largest cities   \n",
              "\n",
              "            RiskClass  VehAge BonusClass  Exposure  ClaimNb  ClaimNb_pred  \n",
              "11551  EV ratio 20-24      13        BM3  0.419178        0      0.004725  \n",
              "27696     EV ratio <5       4        BM7  0.983562        0      0.004107  \n",
              "56213  EV ratio 13-15      16        BM7  1.000000        0      0.001852  \n",
              "8463   EV ratio 13-15      13        BM1  0.986301        0      0.012467  \n",
              "35448  EV ratio 20-24       4        BM6  0.986301        0      0.005413  \n",
              "...               ...     ...        ...       ...      ...           ...  \n",
              "15776  EV ratio 13-15      15        BM7  0.989041        0      0.002187  \n",
              "43435  EV ratio 13-15      11        BM7  1.000000        0      0.003472  \n",
              "50162   EV ratio 9-12       6        BM7  1.000000        0      0.006650  \n",
              "2912   EV ratio 16-19       8        BM1  0.630137        0      0.026422  \n",
              "25134   EV ratio 9-12      15        BM1  0.117808        0      0.003779  \n",
              "\n",
              "[12910 rows x 9 columns]"
            ],
            "text/html": [
              "\n",
              "  <div id=\"df-50570995-fa14-4900-af4b-f42ba4e532f0\">\n",
              "    <div class=\"colab-df-container\">\n",
              "      <div>\n",
              "<style scoped>\n",
              "    .dataframe tbody tr th:only-of-type {\n",
              "        vertical-align: middle;\n",
              "    }\n",
              "\n",
              "    .dataframe tbody tr th {\n",
              "        vertical-align: top;\n",
              "    }\n",
              "\n",
              "    .dataframe thead th {\n",
              "        text-align: right;\n",
              "    }\n",
              "</style>\n",
              "<table border=\"1\" class=\"dataframe\">\n",
              "  <thead>\n",
              "    <tr style=\"text-align: right;\">\n",
              "      <th></th>\n",
              "      <th>OwnerAge</th>\n",
              "      <th>Gender</th>\n",
              "      <th>Area</th>\n",
              "      <th>RiskClass</th>\n",
              "      <th>VehAge</th>\n",
              "      <th>BonusClass</th>\n",
              "      <th>Exposure</th>\n",
              "      <th>ClaimNb</th>\n",
              "      <th>ClaimNb_pred</th>\n",
              "    </tr>\n",
              "  </thead>\n",
              "  <tbody>\n",
              "    <tr>\n",
              "      <th>11551</th>\n",
              "      <td>28</td>\n",
              "      <td>Female</td>\n",
              "      <td>Small towns; countryside except Gotland; North...</td>\n",
              "      <td>EV ratio 20-24</td>\n",
              "      <td>13</td>\n",
              "      <td>BM3</td>\n",
              "      <td>0.419178</td>\n",
              "      <td>0</td>\n",
              "      <td>0.004725</td>\n",
              "    </tr>\n",
              "    <tr>\n",
              "      <th>27696</th>\n",
              "      <td>42</td>\n",
              "      <td>Female</td>\n",
              "      <td>Suburbs; middle-sized cities</td>\n",
              "      <td>EV ratio &lt;5</td>\n",
              "      <td>4</td>\n",
              "      <td>BM7</td>\n",
              "      <td>0.983562</td>\n",
              "      <td>0</td>\n",
              "      <td>0.004107</td>\n",
              "    </tr>\n",
              "    <tr>\n",
              "      <th>56213</th>\n",
              "      <td>57</td>\n",
              "      <td>Male</td>\n",
              "      <td>Lesser towns except Gotland; Northern towns</td>\n",
              "      <td>EV ratio 13-15</td>\n",
              "      <td>16</td>\n",
              "      <td>BM7</td>\n",
              "      <td>1.000000</td>\n",
              "      <td>0</td>\n",
              "      <td>0.001852</td>\n",
              "    </tr>\n",
              "    <tr>\n",
              "      <th>8463</th>\n",
              "      <td>26</td>\n",
              "      <td>Male</td>\n",
              "      <td>Central parts of Sweden's three largest cities</td>\n",
              "      <td>EV ratio 13-15</td>\n",
              "      <td>13</td>\n",
              "      <td>BM1</td>\n",
              "      <td>0.986301</td>\n",
              "      <td>0</td>\n",
              "      <td>0.012467</td>\n",
              "    </tr>\n",
              "    <tr>\n",
              "      <th>35448</th>\n",
              "      <td>45</td>\n",
              "      <td>Male</td>\n",
              "      <td>Small towns; countryside except Gotland; North...</td>\n",
              "      <td>EV ratio 20-24</td>\n",
              "      <td>4</td>\n",
              "      <td>BM6</td>\n",
              "      <td>0.986301</td>\n",
              "      <td>0</td>\n",
              "      <td>0.005413</td>\n",
              "    </tr>\n",
              "    <tr>\n",
              "      <th>...</th>\n",
              "      <td>...</td>\n",
              "      <td>...</td>\n",
              "      <td>...</td>\n",
              "      <td>...</td>\n",
              "      <td>...</td>\n",
              "      <td>...</td>\n",
              "      <td>...</td>\n",
              "      <td>...</td>\n",
              "      <td>...</td>\n",
              "    </tr>\n",
              "    <tr>\n",
              "      <th>15776</th>\n",
              "      <td>31</td>\n",
              "      <td>Female</td>\n",
              "      <td>Lesser towns except Gotland; Northern towns</td>\n",
              "      <td>EV ratio 13-15</td>\n",
              "      <td>15</td>\n",
              "      <td>BM7</td>\n",
              "      <td>0.989041</td>\n",
              "      <td>0</td>\n",
              "      <td>0.002187</td>\n",
              "    </tr>\n",
              "    <tr>\n",
              "      <th>43435</th>\n",
              "      <td>49</td>\n",
              "      <td>Male</td>\n",
              "      <td>Small towns; countryside except Gotland; North...</td>\n",
              "      <td>EV ratio 13-15</td>\n",
              "      <td>11</td>\n",
              "      <td>BM7</td>\n",
              "      <td>1.000000</td>\n",
              "      <td>0</td>\n",
              "      <td>0.003472</td>\n",
              "    </tr>\n",
              "    <tr>\n",
              "      <th>50162</th>\n",
              "      <td>53</td>\n",
              "      <td>Male</td>\n",
              "      <td>Suburbs; middle-sized cities</td>\n",
              "      <td>EV ratio 9-12</td>\n",
              "      <td>6</td>\n",
              "      <td>BM7</td>\n",
              "      <td>1.000000</td>\n",
              "      <td>0</td>\n",
              "      <td>0.006650</td>\n",
              "    </tr>\n",
              "    <tr>\n",
              "      <th>2912</th>\n",
              "      <td>22</td>\n",
              "      <td>Male</td>\n",
              "      <td>Suburbs; middle-sized cities</td>\n",
              "      <td>EV ratio 16-19</td>\n",
              "      <td>8</td>\n",
              "      <td>BM1</td>\n",
              "      <td>0.630137</td>\n",
              "      <td>0</td>\n",
              "      <td>0.026422</td>\n",
              "    </tr>\n",
              "    <tr>\n",
              "      <th>25134</th>\n",
              "      <td>40</td>\n",
              "      <td>Male</td>\n",
              "      <td>Central parts of Sweden's three largest cities</td>\n",
              "      <td>EV ratio 9-12</td>\n",
              "      <td>15</td>\n",
              "      <td>BM1</td>\n",
              "      <td>0.117808</td>\n",
              "      <td>0</td>\n",
              "      <td>0.003779</td>\n",
              "    </tr>\n",
              "  </tbody>\n",
              "</table>\n",
              "<p>12910 rows × 9 columns</p>\n",
              "</div>\n",
              "      <button class=\"colab-df-convert\" onclick=\"convertToInteractive('df-50570995-fa14-4900-af4b-f42ba4e532f0')\"\n",
              "              title=\"Convert this dataframe to an interactive table.\"\n",
              "              style=\"display:none;\">\n",
              "        \n",
              "  <svg xmlns=\"http://www.w3.org/2000/svg\" height=\"24px\"viewBox=\"0 0 24 24\"\n",
              "       width=\"24px\">\n",
              "    <path d=\"M0 0h24v24H0V0z\" fill=\"none\"/>\n",
              "    <path d=\"M18.56 5.44l.94 2.06.94-2.06 2.06-.94-2.06-.94-.94-2.06-.94 2.06-2.06.94zm-11 1L8.5 8.5l.94-2.06 2.06-.94-2.06-.94L8.5 2.5l-.94 2.06-2.06.94zm10 10l.94 2.06.94-2.06 2.06-.94-2.06-.94-.94-2.06-.94 2.06-2.06.94z\"/><path d=\"M17.41 7.96l-1.37-1.37c-.4-.4-.92-.59-1.43-.59-.52 0-1.04.2-1.43.59L10.3 9.45l-7.72 7.72c-.78.78-.78 2.05 0 2.83L4 21.41c.39.39.9.59 1.41.59.51 0 1.02-.2 1.41-.59l7.78-7.78 2.81-2.81c.8-.78.8-2.07 0-2.86zM5.41 20L4 18.59l7.72-7.72 1.47 1.35L5.41 20z\"/>\n",
              "  </svg>\n",
              "      </button>\n",
              "      \n",
              "  <style>\n",
              "    .colab-df-container {\n",
              "      display:flex;\n",
              "      flex-wrap:wrap;\n",
              "      gap: 12px;\n",
              "    }\n",
              "\n",
              "    .colab-df-convert {\n",
              "      background-color: #E8F0FE;\n",
              "      border: none;\n",
              "      border-radius: 50%;\n",
              "      cursor: pointer;\n",
              "      display: none;\n",
              "      fill: #1967D2;\n",
              "      height: 32px;\n",
              "      padding: 0 0 0 0;\n",
              "      width: 32px;\n",
              "    }\n",
              "\n",
              "    .colab-df-convert:hover {\n",
              "      background-color: #E2EBFA;\n",
              "      box-shadow: 0px 1px 2px rgba(60, 64, 67, 0.3), 0px 1px 3px 1px rgba(60, 64, 67, 0.15);\n",
              "      fill: #174EA6;\n",
              "    }\n",
              "\n",
              "    [theme=dark] .colab-df-convert {\n",
              "      background-color: #3B4455;\n",
              "      fill: #D2E3FC;\n",
              "    }\n",
              "\n",
              "    [theme=dark] .colab-df-convert:hover {\n",
              "      background-color: #434B5C;\n",
              "      box-shadow: 0px 1px 3px 1px rgba(0, 0, 0, 0.15);\n",
              "      filter: drop-shadow(0px 1px 2px rgba(0, 0, 0, 0.3));\n",
              "      fill: #FFFFFF;\n",
              "    }\n",
              "  </style>\n",
              "\n",
              "      <script>\n",
              "        const buttonEl =\n",
              "          document.querySelector('#df-50570995-fa14-4900-af4b-f42ba4e532f0 button.colab-df-convert');\n",
              "        buttonEl.style.display =\n",
              "          google.colab.kernel.accessAllowed ? 'block' : 'none';\n",
              "\n",
              "        async function convertToInteractive(key) {\n",
              "          const element = document.querySelector('#df-50570995-fa14-4900-af4b-f42ba4e532f0');\n",
              "          const dataTable =\n",
              "            await google.colab.kernel.invokeFunction('convertToInteractive',\n",
              "                                                     [key], {});\n",
              "          if (!dataTable) return;\n",
              "\n",
              "          const docLinkHtml = 'Like what you see? Visit the ' +\n",
              "            '<a target=\"_blank\" href=https://colab.research.google.com/notebooks/data_table.ipynb>data table notebook</a>'\n",
              "            + ' to learn more about interactive tables.';\n",
              "          element.innerHTML = '';\n",
              "          dataTable['output_type'] = 'display_data';\n",
              "          await google.colab.output.renderOutput(dataTable, element);\n",
              "          const docLink = document.createElement('div');\n",
              "          docLink.innerHTML = docLinkHtml;\n",
              "          element.appendChild(docLink);\n",
              "        }\n",
              "      </script>\n",
              "    </div>\n",
              "  </div>\n",
              "  "
            ]
          },
          "metadata": {},
          "execution_count": 35
        }
      ]
    },
    {
      "cell_type": "code",
      "source": [
        "# Claims and claims predicted comparison\n",
        "fig = plt.figure(figsize = (16,7))\n",
        "plt.subplot(1,2,1)  \n",
        "plt.hist(test['ClaimNb'], bins=10)\n",
        "plt.xticks(rotation=45)\n",
        "plt.title('Claims histogram')\n",
        "plt.subplot(1,2,2)  \n",
        "plt.hist(test['ClaimNb_pred'], bins=10)\n",
        "plt.xticks(rotation=45)\n",
        "plt.title('Claims prediction histogram')\n",
        "plt.show()"
      ],
      "metadata": {
        "id": "Cl6ZetDn5wjI",
        "colab": {
          "base_uri": "https://localhost:8080/",
          "height": 457
        },
        "outputId": "8278ea9b-c4b8-4cd8-8622-1e8bc2c033ed"
      },
      "execution_count": null,
      "outputs": [
        {
          "output_type": "display_data",
          "data": {
            "text/plain": [
              "<Figure size 1152x504 with 2 Axes>"
            ],
            "image/png": "[encoded data removed]"
          },
          "metadata": {
            "needs_background": "light"
          }
        }
      ]
    },
    {
      "cell_type": "code",
      "source": [
        "# Claims and claims predicted comparison on features\n",
        "plt.rcParams[\"figure.figsize\"] = (10,5)\n",
        "test_group_oa = test.groupby(['OwnerAge'])['ClaimNb','ClaimNb_pred'].sum().reset_index()\n",
        "test_group_oa.plot(x='OwnerAge',y= ['ClaimNb','ClaimNb_pred'])\n",
        "plt.xticks(rotation=45)\n",
        "plt.ylabel('Number of Claims')\n",
        "plt.xlabel('OwnerAge')\n",
        "plt.title('Claims - OwnerAge on test data')\n",
        "plt.show()\n",
        "test_group_va = test.groupby(['VehAge'])['ClaimNb','ClaimNb_pred'].sum().reset_index()\n",
        "test_group_va.plot(x='VehAge',y= ['ClaimNb','ClaimNb_pred'])\n",
        "plt.xticks(rotation=45)\n",
        "plt.ylabel('Number of Claims')\n",
        "plt.xlabel('VehAge')\n",
        "plt.title('Claims - VehAge on test data')\n",
        "plt.show()\n",
        "test_group_ge = test.groupby(['Gender'])['ClaimNb','ClaimNb_pred'].sum().reset_index()\n",
        "test_group_ge.plot.bar(x='Gender',y= ['ClaimNb','ClaimNb_pred'])\n",
        "plt.xticks(rotation=45)\n",
        "plt.ylabel('Number of Claims')\n",
        "plt.xlabel('Gender')\n",
        "plt.title('Claims - Gender on test data')\n",
        "plt.show()\n",
        "test_group_rc = test.groupby(['RiskClass'])['ClaimNb','ClaimNb_pred'].sum().reset_index()\n",
        "test_group_rc.plot.bar(x='RiskClass',y= ['ClaimNb','ClaimNb_pred'])\n",
        "plt.xticks(rotation=45)\n",
        "plt.ylabel('Number of Claims')\n",
        "plt.xlabel('RiskClass')\n",
        "plt.title('Claims - RiskClass on test data')\n",
        "plt.show()\n",
        "test_group_a = test.groupby(['Area'])['ClaimNb','ClaimNb_pred'].sum().reset_index()\n",
        "test_group_a.plot.bar(x='Area',y= ['ClaimNb','ClaimNb_pred'])\n",
        "plt.xticks(rotation=90)\n",
        "plt.ylabel('Number of Claims')\n",
        "plt.xlabel('Area')\n",
        "plt.title('Claims - Area on test data')\n",
        "plt.show()\n",
        "test_group_bc = test.groupby(['BonusClass'])['ClaimNb','ClaimNb_pred'].sum().reset_index()\n",
        "test_group_bc.plot.bar(x='BonusClass',y= ['ClaimNb','ClaimNb_pred'])\n",
        "plt.xticks(rotation=45)\n",
        "plt.ylabel('Number of Claims')\n",
        "plt.xlabel('BonusClass')\n",
        "plt.title('Claims - BonusClass on test data')\n",
        "plt.show()\n",
        "\n"
      ],
      "metadata": {
        "id": "XHu9PoNl5wud",
        "colab": {
          "base_uri": "https://localhost:8080/",
          "height": 1000
        },
        "outputId": "b083d811-4e5c-4743-9a3f-7df3219c68d6"
      },
      "execution_count": null,
      "outputs": [
        {
          "output_type": "display_data",
          "data": {
            "text/plain": [
              "<Figure size 720x360 with 1 Axes>"
            ],
            "image/png": "[encoded data removed]"
          },
          "metadata": {
            "needs_background": "light"
          }
        },
        {
          "output_type": "display_data",
          "data": {
            "text/plain": [
              "<Figure size 720x360 with 1 Axes>"
            ],
            "image/png": "[encoded data removed]"
          },
          "metadata": {
            "needs_background": "light"
          }
        },
        {
          "output_type": "display_data",
          "data": {
            "text/plain": [
              "<Figure size 720x360 with 1 Axes>"
            ],
            "image/png": "[encoded data removed]"
          },
          "metadata": {
            "needs_background": "light"
          }
        },
        {
          "output_type": "display_data",
          "data": {
            "text/plain": [
              "<Figure size 720x360 with 1 Axes>"
            ],
            "image/png": "[encoded data removed]"
          },
          "metadata": {
            "needs_background": "light"
          }
        },
        {
          "output_type": "display_data",
          "data": {
            "text/plain": [
              "<Figure size 720x360 with 1 Axes>"
            ],
            "image/png": "[encoded data removed]"
          },
          "metadata": {
            "needs_background": "light"
          }
        },
        {
          "output_type": "display_data",
          "data": {
            "text/plain": [
              "<Figure size 720x360 with 1 Axes>"
            ],
            "image/png": "[encoded data removed]"
          },
          "metadata": {
            "needs_background": "light"
          }
        }
      ]
    }
  ]
}