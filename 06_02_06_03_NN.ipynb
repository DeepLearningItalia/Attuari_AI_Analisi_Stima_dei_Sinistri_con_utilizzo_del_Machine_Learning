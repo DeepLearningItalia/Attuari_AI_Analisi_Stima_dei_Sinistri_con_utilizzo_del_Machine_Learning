{
  "nbformat": 4,
  "nbformat_minor": 0,
  "metadata": {
    "colab": {
      "provenance": [],
      "collapsed_sections": []
    },
    "kernelspec": {
      "name": "python3",
      "display_name": "Python 3"
    },
    "language_info": {
      "name": "python"
    },
    "accelerator": "GPU",
    "gpuClass": "standard"
  },
  "cells": [
    {
      "cell_type": "markdown",
      "source": [
        "# **Number of Claims Estimation with Neural Networks (NN)**"
      ],
      "metadata": {
        "id": "x1EhzwW7gRai"
      }
    },
    {
      "cell_type": "markdown",
      "source": [
        "Neural Networks are inspired by Neuroscience, they are formed by neurons connected in various ways. They are organized in layers. Neural Networks extend linear models applying a non linear transformation, called activaction function, to the linear combination of weights and input features or latent features coming from preceding layers.\n",
        "\n",
        "References:\n",
        "\n",
        "-https://h2oai.github.io/tutorials/introduction-to-machine-learning-with-h2o-3-regression/#0\n",
        "\n",
        "\n",
        "-[\"Case Study: French Motor Third-Party Liability Claims\"](https://papers.ssrn.com/sol3/papers.cfm?abstract_id=3164764), Mario V. Wuthrich, Alexander Noll, Robert Salzmann;\n",
        "\n",
        "-[\"Data Analytics for Non-Life Insurance Pricing\"](https://papers.ssrn.com/sol3/papers.cfm?abstract_id=2870308), Mario V. Wuthrich, Christoph Buser;\n",
        "\n",
        "-[\"Statistical Foundations of Actuarial Learning and its Applications\"](https://papers.ssrn.com/sol3/papers.cfm?abstract_id=3822407), Mario V. Wuthrich, Michael Merz"
      ],
      "metadata": {
        "id": "RbCgE3UM8VwQ"
      }
    },
    {
      "cell_type": "markdown",
      "source": [
        "# Upload Libraries"
      ],
      "metadata": {
        "id": "JBFt8eBnSLGW"
      }
    },
    {
      "cell_type": "code",
      "source": [
        "!pip install h2o"
      ],
      "metadata": {
        "id": "DOw45HwKXCrA",
        "colab": {
          "base_uri": "https://localhost:8080/"
        },
        "outputId": "11c400b8-f0b9-42c4-cc08-e79a40a194ac"
      },
      "execution_count": null,
      "outputs": [
        {
          "output_type": "stream",
          "name": "stdout",
          "text": [
            "Looking in indexes: https://pypi.org/simple, https://us-python.pkg.dev/colab-wheels/public/simple/\n",
            "Collecting h2o\n",
            "  Downloading h2o-3.38.0.1.tar.gz (177.2 MB)\n",
            "\u001b[K     |████████████████████████████████| 177.2 MB 43 kB/s \n",
            "\u001b[?25hRequirement already satisfied: requests in /usr/local/lib/python3.7/dist-packages (from h2o) (2.23.0)\n",
            "Requirement already satisfied: tabulate in /usr/local/lib/python3.7/dist-packages (from h2o) (0.8.10)\n",
            "Requirement already satisfied: future in /usr/local/lib/python3.7/dist-packages (from h2o) (0.16.0)\n",
            "Requirement already satisfied: certifi>=2017.4.17 in /usr/local/lib/python3.7/dist-packages (from requests->h2o) (2022.9.24)\n",
            "Requirement already satisfied: urllib3!=1.25.0,!=1.25.1,<1.26,>=1.21.1 in /usr/local/lib/python3.7/dist-packages (from requests->h2o) (1.24.3)\n",
            "Requirement already satisfied: chardet<4,>=3.0.2 in /usr/local/lib/python3.7/dist-packages (from requests->h2o) (3.0.4)\n",
            "Requirement already satisfied: idna<3,>=2.5 in /usr/local/lib/python3.7/dist-packages (from requests->h2o) (2.10)\n",
            "Building wheels for collected packages: h2o\n",
            "  Building wheel for h2o (setup.py) ... \u001b[?25l\u001b[?25hdone\n",
            "  Created wheel for h2o: filename=h2o-3.38.0.1-py2.py3-none-any.whl size=177276478 sha256=e6084c86826f37121219a2320aeb57304b2d66774c7752e2c2f9631a8f59b848\n",
            "  Stored in directory: /root/.cache/pip/wheels/a1/a1/d9/bb37df368c4635a707e7362d1088450b606041f05aeba5f173\n",
            "Successfully built h2o\n",
            "Installing collected packages: h2o\n",
            "Successfully installed h2o-3.38.0.1\n"
          ]
        }
      ]
    },
    {
      "cell_type": "code",
      "execution_count": null,
      "metadata": {
        "id": "lVwNOaoL3_xS"
      },
      "outputs": [],
      "source": [
        "# handling datasets\n",
        "import numpy as np\n",
        "import pandas as pd\n",
        "# plotting\n",
        "import matplotlib.pyplot as plt\n",
        "%matplotlib inline\n",
        "import seaborn as sns\n",
        "# modelling, evaluation\n",
        "import sklearn\n",
        "from sklearn.preprocessing import MinMaxScaler\n",
        "from sklearn.metrics import mean_poisson_deviance\n",
        "from sklearn.metrics import mean_squared_error\n",
        "from sklearn.model_selection import train_test_split\n",
        "import h2o\n",
        "from h2o.estimators import H2ODeepLearningEstimator\n",
        "from h2o.grid.grid_search import H2OGridSearch\n",
        "\n",
        "import warnings\n",
        "warnings.filterwarnings('ignore', category=FutureWarning)\n"
      ]
    },
    {
      "cell_type": "markdown",
      "source": [
        "# Upload File"
      ],
      "metadata": {
        "id": "5YfXq9PnAdpx"
      }
    },
    {
      "cell_type": "code",
      "source": [
        "from google.colab import files \n",
        "uploaded = files.upload()"
      ],
      "metadata": {
        "id": "i9Q2mLHi-d_m",
        "colab": {
          "base_uri": "https://localhost:8080/",
          "height": 74
        },
        "outputId": "e93a7750-2414-4551-ccd7-8a1f1e2ff291"
      },
      "execution_count": null,
      "outputs": [
        {
          "output_type": "display_data",
          "data": {
            "text/plain": [
              "<IPython.core.display.HTML object>"
            ],
            "text/html": [
              "\n",
              "     <input type=\"file\" id=\"files-db7defcd-ef85-4d66-859e-55bb25738f90\" name=\"files[]\" multiple disabled\n",
              "        style=\"border:none\" />\n",
              "     <output id=\"result-db7defcd-ef85-4d66-859e-55bb25738f90\">\n",
              "      Upload widget is only available when the cell has been executed in the\n",
              "      current browser session. Please rerun this cell to enable.\n",
              "      </output>\n",
              "      <script>// Copyright 2017 Google LLC\n",
              "//\n",
              "// Licensed under the Apache License, Version 2.0 (the \"License\");\n",
              "// you may not use this file except in compliance with the License.\n",
              "// You may obtain a copy of the License at\n",
              "//\n",
              "//      http://www.apache.org/licenses/LICENSE-2.0\n",
              "//\n",
              "// Unless required by applicable law or agreed to in writing, software\n",
              "// distributed under the License is distributed on an \"AS IS\" BASIS,\n",
              "// WITHOUT WARRANTIES OR CONDITIONS OF ANY KIND, either express or implied.\n",
              "// See the License for the specific language governing permissions and\n",
              "// limitations under the License.\n",
              "\n",
              "/**\n",
              " * @fileoverview Helpers for google.colab Python module.\n",
              " */\n",
              "(function(scope) {\n",
              "function span(text, styleAttributes = {}) {\n",
              "  const element = document.createElement('span');\n",
              "  element.textContent = text;\n",
              "  for (const key of Object.keys(styleAttributes)) {\n",
              "    element.style[key] = styleAttributes[key];\n",
              "  }\n",
              "  return element;\n",
              "}\n",
              "\n",
              "// Max number of bytes which will be uploaded at a time.\n",
              "const MAX_PAYLOAD_SIZE = 100 * 1024;\n",
              "\n",
              "function _uploadFiles(inputId, outputId) {\n",
              "  const steps = uploadFilesStep(inputId, outputId);\n",
              "  const outputElement = document.getElementById(outputId);\n",
              "  // Cache steps on the outputElement to make it available for the next call\n",
              "  // to uploadFilesContinue from Python.\n",
              "  outputElement.steps = steps;\n",
              "\n",
              "  return _uploadFilesContinue(outputId);\n",
              "}\n",
              "\n",
              "// This is roughly an async generator (not supported in the browser yet),\n",
              "// where there are multiple asynchronous steps and the Python side is going\n",
              "// to poll for completion of each step.\n",
              "// This uses a Promise to block the python side on completion of each step,\n",
              "// then passes the result of the previous step as the input to the next step.\n",
              "function _uploadFilesContinue(outputId) {\n",
              "  const outputElement = document.getElementById(outputId);\n",
              "  const steps = outputElement.steps;\n",
              "\n",
              "  const next = steps.next(outputElement.lastPromiseValue);\n",
              "  return Promise.resolve(next.value.promise).then((value) => {\n",
              "    // Cache the last promise value to make it available to the next\n",
              "    // step of the generator.\n",
              "    outputElement.lastPromiseValue = value;\n",
              "    return next.value.response;\n",
              "  });\n",
              "}\n",
              "\n",
              "/**\n",
              " * Generator function which is called between each async step of the upload\n",
              " * process.\n",
              " * @param {string} inputId Element ID of the input file picker element.\n",
              " * @param {string} outputId Element ID of the output display.\n",
              " * @return {!Iterable<!Object>} Iterable of next steps.\n",
              " */\n",
              "function* uploadFilesStep(inputId, outputId) {\n",
              "  const inputElement = document.getElementById(inputId);\n",
              "  inputElement.disabled = false;\n",
              "\n",
              "  const outputElement = document.getElementById(outputId);\n",
              "  outputElement.innerHTML = '';\n",
              "\n",
              "  const pickedPromise = new Promise((resolve) => {\n",
              "    inputElement.addEventListener('change', (e) => {\n",
              "      resolve(e.target.files);\n",
              "    });\n",
              "  });\n",
              "\n",
              "  const cancel = document.createElement('button');\n",
              "  inputElement.parentElement.appendChild(cancel);\n",
              "  cancel.textContent = 'Cancel upload';\n",
              "  const cancelPromise = new Promise((resolve) => {\n",
              "    cancel.onclick = () => {\n",
              "      resolve(null);\n",
              "    };\n",
              "  });\n",
              "\n",
              "  // Wait for the user to pick the files.\n",
              "  const files = yield {\n",
              "    promise: Promise.race([pickedPromise, cancelPromise]),\n",
              "    response: {\n",
              "      action: 'starting',\n",
              "    }\n",
              "  };\n",
              "\n",
              "  cancel.remove();\n",
              "\n",
              "  // Disable the input element since further picks are not allowed.\n",
              "  inputElement.disabled = true;\n",
              "\n",
              "  if (!files) {\n",
              "    return {\n",
              "      response: {\n",
              "        action: 'complete',\n",
              "      }\n",
              "    };\n",
              "  }\n",
              "\n",
              "  for (const file of files) {\n",
              "    const li = document.createElement('li');\n",
              "    li.append(span(file.name, {fontWeight: 'bold'}));\n",
              "    li.append(span(\n",
              "        `(${file.type || 'n/a'}) - ${file.size} bytes, ` +\n",
              "        `last modified: ${\n",
              "            file.lastModifiedDate ? file.lastModifiedDate.toLocaleDateString() :\n",
              "                                    'n/a'} - `));\n",
              "    const percent = span('0% done');\n",
              "    li.appendChild(percent);\n",
              "\n",
              "    outputElement.appendChild(li);\n",
              "\n",
              "    const fileDataPromise = new Promise((resolve) => {\n",
              "      const reader = new FileReader();\n",
              "      reader.onload = (e) => {\n",
              "        resolve(e.target.result);\n",
              "      };\n",
              "      reader.readAsArrayBuffer(file);\n",
              "    });\n",
              "    // Wait for the data to be ready.\n",
              "    let fileData = yield {\n",
              "      promise: fileDataPromise,\n",
              "      response: {\n",
              "        action: 'continue',\n",
              "      }\n",
              "    };\n",
              "\n",
              "    // Use a chunked sending to avoid message size limits. See b/62115660.\n",
              "    let position = 0;\n",
              "    do {\n",
              "      const length = Math.min(fileData.byteLength - position, MAX_PAYLOAD_SIZE);\n",
              "      const chunk = new Uint8Array(fileData, position, length);\n",
              "      position += length;\n",
              "\n",
              "      const base64 = btoa(String.fromCharCode.apply(null, chunk));\n",
              "      yield {\n",
              "        response: {\n",
              "          action: 'append',\n",
              "          file: file.name,\n",
              "          data: base64,\n",
              "        },\n",
              "      };\n",
              "\n",
              "      let percentDone = fileData.byteLength === 0 ?\n",
              "          100 :\n",
              "          Math.round((position / fileData.byteLength) * 100);\n",
              "      percent.textContent = `${percentDone}% done`;\n",
              "\n",
              "    } while (position < fileData.byteLength);\n",
              "  }\n",
              "\n",
              "  // All done.\n",
              "  yield {\n",
              "    response: {\n",
              "      action: 'complete',\n",
              "    }\n",
              "  };\n",
              "}\n",
              "\n",
              "scope.google = scope.google || {};\n",
              "scope.google.colab = scope.google.colab || {};\n",
              "scope.google.colab._files = {\n",
              "  _uploadFiles,\n",
              "  _uploadFilesContinue,\n",
              "};\n",
              "})(self);\n",
              "</script> "
            ]
          },
          "metadata": {}
        },
        {
          "output_type": "stream",
          "name": "stdout",
          "text": [
            "Saving swmotorcycle_ClaimNb.csv to swmotorcycle_ClaimNb.csv\n"
          ]
        }
      ]
    },
    {
      "cell_type": "code",
      "source": [
        "# Reading File\n",
        "df = pd.read_csv('swmotorcycle_ClaimNb.csv')"
      ],
      "metadata": {
        "id": "hJC1ZvbJ-ftM"
      },
      "execution_count": null,
      "outputs": []
    },
    {
      "cell_type": "markdown",
      "source": [
        "# Data Set Overview"
      ],
      "metadata": {
        "id": "skmaGg75QNRt"
      }
    },
    {
      "cell_type": "code",
      "source": [
        "# Dimensions of data set\n",
        "print(df.shape)"
      ],
      "metadata": {
        "id": "Y7LI1nVh_loI",
        "colab": {
          "base_uri": "https://localhost:8080/"
        },
        "outputId": "68ad12a5-ff41-43f2-ba80-a325cdfaf3df"
      },
      "execution_count": null,
      "outputs": [
        {
          "output_type": "stream",
          "name": "stdout",
          "text": [
            "(64548, 8)\n"
          ]
        }
      ]
    },
    {
      "cell_type": "code",
      "source": [
        "# List types for each attribute\n",
        "print(df.info())"
      ],
      "metadata": {
        "id": "Pu87x81Z_lqt",
        "colab": {
          "base_uri": "https://localhost:8080/"
        },
        "outputId": "7bd1355c-7dc8-48b4-ae19-6ce8a9b5a099"
      },
      "execution_count": null,
      "outputs": [
        {
          "output_type": "stream",
          "name": "stdout",
          "text": [
            "<class 'pandas.core.frame.DataFrame'>\n",
            "RangeIndex: 64548 entries, 0 to 64547\n",
            "Data columns (total 8 columns):\n",
            " #   Column      Non-Null Count  Dtype  \n",
            "---  ------      --------------  -----  \n",
            " 0   OwnerAge    64548 non-null  int64  \n",
            " 1   Gender      64548 non-null  object \n",
            " 2   Area        64548 non-null  object \n",
            " 3   RiskClass   64548 non-null  object \n",
            " 4   VehAge      64548 non-null  int64  \n",
            " 5   BonusClass  64548 non-null  object \n",
            " 6   Exposure    64548 non-null  float64\n",
            " 7   ClaimNb     64548 non-null  int64  \n",
            "dtypes: float64(1), int64(3), object(4)\n",
            "memory usage: 3.9+ MB\n",
            "None\n"
          ]
        }
      ]
    },
    {
      "cell_type": "code",
      "source": [
        "# Take a peek at the first rows of the data\n",
        "df.head()"
      ],
      "metadata": {
        "id": "Pg3KgtmJ_lzm",
        "colab": {
          "base_uri": "https://localhost:8080/",
          "height": 206
        },
        "outputId": "6dfa72be-cc3a-427b-eb46-6f1fc4fa1ade"
      },
      "execution_count": null,
      "outputs": [
        {
          "output_type": "execute_result",
          "data": {
            "text/plain": [
              "   OwnerAge  Gender                                               Area  \\\n",
              "0         0    Male     Central parts of Sweden's three largest cities   \n",
              "1         4    Male        Lesser towns except Gotland; Northern towns   \n",
              "2         5  Female        Lesser towns except Gotland; Northern towns   \n",
              "3         5  Female  Small towns; countryside except Gotland; North...   \n",
              "4         6  Female                       Suburbs; middle-sized cities   \n",
              "\n",
              "        RiskClass  VehAge BonusClass  Exposure  ClaimNb  \n",
              "0  EV ratio 13-15      12        BM1  0.175342        0  \n",
              "1  EV ratio 20-24       9        BM1  0.000000        0  \n",
              "2   EV ratio 9-12      18        BM1  0.454795        0  \n",
              "3     EV ratio <5      25        BM1  0.172603        0  \n",
              "4     EV ratio <5      26        BM1  0.180822        0  "
            ],
            "text/html": [
              "\n",
              "  <div id=\"df-fbb3aa68-1dfa-4f7b-b330-1acbe699ef09\">\n",
              "    <div class=\"colab-df-container\">\n",
              "      <div>\n",
              "<style scoped>\n",
              "    .dataframe tbody tr th:only-of-type {\n",
              "        vertical-align: middle;\n",
              "    }\n",
              "\n",
              "    .dataframe tbody tr th {\n",
              "        vertical-align: top;\n",
              "    }\n",
              "\n",
              "    .dataframe thead th {\n",
              "        text-align: right;\n",
              "    }\n",
              "</style>\n",
              "<table border=\"1\" class=\"dataframe\">\n",
              "  <thead>\n",
              "    <tr style=\"text-align: right;\">\n",
              "      <th></th>\n",
              "      <th>OwnerAge</th>\n",
              "      <th>Gender</th>\n",
              "      <th>Area</th>\n",
              "      <th>RiskClass</th>\n",
              "      <th>VehAge</th>\n",
              "      <th>BonusClass</th>\n",
              "      <th>Exposure</th>\n",
              "      <th>ClaimNb</th>\n",
              "    </tr>\n",
              "  </thead>\n",
              "  <tbody>\n",
              "    <tr>\n",
              "      <th>0</th>\n",
              "      <td>0</td>\n",
              "      <td>Male</td>\n",
              "      <td>Central parts of Sweden's three largest cities</td>\n",
              "      <td>EV ratio 13-15</td>\n",
              "      <td>12</td>\n",
              "      <td>BM1</td>\n",
              "      <td>0.175342</td>\n",
              "      <td>0</td>\n",
              "    </tr>\n",
              "    <tr>\n",
              "      <th>1</th>\n",
              "      <td>4</td>\n",
              "      <td>Male</td>\n",
              "      <td>Lesser towns except Gotland; Northern towns</td>\n",
              "      <td>EV ratio 20-24</td>\n",
              "      <td>9</td>\n",
              "      <td>BM1</td>\n",
              "      <td>0.000000</td>\n",
              "      <td>0</td>\n",
              "    </tr>\n",
              "    <tr>\n",
              "      <th>2</th>\n",
              "      <td>5</td>\n",
              "      <td>Female</td>\n",
              "      <td>Lesser towns except Gotland; Northern towns</td>\n",
              "      <td>EV ratio 9-12</td>\n",
              "      <td>18</td>\n",
              "      <td>BM1</td>\n",
              "      <td>0.454795</td>\n",
              "      <td>0</td>\n",
              "    </tr>\n",
              "    <tr>\n",
              "      <th>3</th>\n",
              "      <td>5</td>\n",
              "      <td>Female</td>\n",
              "      <td>Small towns; countryside except Gotland; North...</td>\n",
              "      <td>EV ratio &lt;5</td>\n",
              "      <td>25</td>\n",
              "      <td>BM1</td>\n",
              "      <td>0.172603</td>\n",
              "      <td>0</td>\n",
              "    </tr>\n",
              "    <tr>\n",
              "      <th>4</th>\n",
              "      <td>6</td>\n",
              "      <td>Female</td>\n",
              "      <td>Suburbs; middle-sized cities</td>\n",
              "      <td>EV ratio &lt;5</td>\n",
              "      <td>26</td>\n",
              "      <td>BM1</td>\n",
              "      <td>0.180822</td>\n",
              "      <td>0</td>\n",
              "    </tr>\n",
              "  </tbody>\n",
              "</table>\n",
              "</div>\n",
              "      <button class=\"colab-df-convert\" onclick=\"convertToInteractive('df-fbb3aa68-1dfa-4f7b-b330-1acbe699ef09')\"\n",
              "              title=\"Convert this dataframe to an interactive table.\"\n",
              "              style=\"display:none;\">\n",
              "        \n",
              "  <svg xmlns=\"http://www.w3.org/2000/svg\" height=\"24px\"viewBox=\"0 0 24 24\"\n",
              "       width=\"24px\">\n",
              "    <path d=\"M0 0h24v24H0V0z\" fill=\"none\"/>\n",
              "    <path d=\"M18.56 5.44l.94 2.06.94-2.06 2.06-.94-2.06-.94-.94-2.06-.94 2.06-2.06.94zm-11 1L8.5 8.5l.94-2.06 2.06-.94-2.06-.94L8.5 2.5l-.94 2.06-2.06.94zm10 10l.94 2.06.94-2.06 2.06-.94-2.06-.94-.94-2.06-.94 2.06-2.06.94z\"/><path d=\"M17.41 7.96l-1.37-1.37c-.4-.4-.92-.59-1.43-.59-.52 0-1.04.2-1.43.59L10.3 9.45l-7.72 7.72c-.78.78-.78 2.05 0 2.83L4 21.41c.39.39.9.59 1.41.59.51 0 1.02-.2 1.41-.59l7.78-7.78 2.81-2.81c.8-.78.8-2.07 0-2.86zM5.41 20L4 18.59l7.72-7.72 1.47 1.35L5.41 20z\"/>\n",
              "  </svg>\n",
              "      </button>\n",
              "      \n",
              "  <style>\n",
              "    .colab-df-container {\n",
              "      display:flex;\n",
              "      flex-wrap:wrap;\n",
              "      gap: 12px;\n",
              "    }\n",
              "\n",
              "    .colab-df-convert {\n",
              "      background-color: #E8F0FE;\n",
              "      border: none;\n",
              "      border-radius: 50%;\n",
              "      cursor: pointer;\n",
              "      display: none;\n",
              "      fill: #1967D2;\n",
              "      height: 32px;\n",
              "      padding: 0 0 0 0;\n",
              "      width: 32px;\n",
              "    }\n",
              "\n",
              "    .colab-df-convert:hover {\n",
              "      background-color: #E2EBFA;\n",
              "      box-shadow: 0px 1px 2px rgba(60, 64, 67, 0.3), 0px 1px 3px 1px rgba(60, 64, 67, 0.15);\n",
              "      fill: #174EA6;\n",
              "    }\n",
              "\n",
              "    [theme=dark] .colab-df-convert {\n",
              "      background-color: #3B4455;\n",
              "      fill: #D2E3FC;\n",
              "    }\n",
              "\n",
              "    [theme=dark] .colab-df-convert:hover {\n",
              "      background-color: #434B5C;\n",
              "      box-shadow: 0px 1px 3px 1px rgba(0, 0, 0, 0.15);\n",
              "      filter: drop-shadow(0px 1px 2px rgba(0, 0, 0, 0.3));\n",
              "      fill: #FFFFFF;\n",
              "    }\n",
              "  </style>\n",
              "\n",
              "      <script>\n",
              "        const buttonEl =\n",
              "          document.querySelector('#df-fbb3aa68-1dfa-4f7b-b330-1acbe699ef09 button.colab-df-convert');\n",
              "        buttonEl.style.display =\n",
              "          google.colab.kernel.accessAllowed ? 'block' : 'none';\n",
              "\n",
              "        async function convertToInteractive(key) {\n",
              "          const element = document.querySelector('#df-fbb3aa68-1dfa-4f7b-b330-1acbe699ef09');\n",
              "          const dataTable =\n",
              "            await google.colab.kernel.invokeFunction('convertToInteractive',\n",
              "                                                     [key], {});\n",
              "          if (!dataTable) return;\n",
              "\n",
              "          const docLinkHtml = 'Like what you see? Visit the ' +\n",
              "            '<a target=\"_blank\" href=https://colab.research.google.com/notebooks/data_table.ipynb>data table notebook</a>'\n",
              "            + ' to learn more about interactive tables.';\n",
              "          element.innerHTML = '';\n",
              "          dataTable['output_type'] = 'display_data';\n",
              "          await google.colab.output.renderOutput(dataTable, element);\n",
              "          const docLink = document.createElement('div');\n",
              "          docLink.innerHTML = docLinkHtml;\n",
              "          element.appendChild(docLink);\n",
              "        }\n",
              "      </script>\n",
              "    </div>\n",
              "  </div>\n",
              "  "
            ]
          },
          "metadata": {},
          "execution_count": 7
        }
      ]
    },
    {
      "cell_type": "markdown",
      "source": [
        "# Summary Statistics"
      ],
      "metadata": {
        "id": "ohUWAsR1QW44"
      }
    },
    {
      "cell_type": "code",
      "source": [
        "# Summarize attribute distributions for data type of variables\n",
        "obj_cols = [var for var in df.columns if df[var].dtype=='object']\n",
        "df[obj_cols].describe().T"
      ],
      "metadata": {
        "id": "-5VW72YG_0kS",
        "colab": {
          "base_uri": "https://localhost:8080/",
          "height": 175
        },
        "outputId": "dcd74b1e-f4eb-4ae0-ad59-08d56f0a0cf0"
      },
      "execution_count": null,
      "outputs": [
        {
          "output_type": "execute_result",
          "data": {
            "text/plain": [
              "            count unique                                                top  \\\n",
              "Gender      64548      2                                               Male   \n",
              "Area        64548      7  Small towns; countryside except Gotland; North...   \n",
              "RiskClass   64548      7                                      EV ratio 9-12   \n",
              "BonusClass  64548      7                                                BM7   \n",
              "\n",
              "             freq  \n",
              "Gender      54695  \n",
              "Area        24816  \n",
              "RiskClass   18905  \n",
              "BonusClass  17953  "
            ],
            "text/html": [
              "\n",
              "  <div id=\"df-6268943c-6c25-4add-b035-46d8148d0f70\">\n",
              "    <div class=\"colab-df-container\">\n",
              "      <div>\n",
              "<style scoped>\n",
              "    .dataframe tbody tr th:only-of-type {\n",
              "        vertical-align: middle;\n",
              "    }\n",
              "\n",
              "    .dataframe tbody tr th {\n",
              "        vertical-align: top;\n",
              "    }\n",
              "\n",
              "    .dataframe thead th {\n",
              "        text-align: right;\n",
              "    }\n",
              "</style>\n",
              "<table border=\"1\" class=\"dataframe\">\n",
              "  <thead>\n",
              "    <tr style=\"text-align: right;\">\n",
              "      <th></th>\n",
              "      <th>count</th>\n",
              "      <th>unique</th>\n",
              "      <th>top</th>\n",
              "      <th>freq</th>\n",
              "    </tr>\n",
              "  </thead>\n",
              "  <tbody>\n",
              "    <tr>\n",
              "      <th>Gender</th>\n",
              "      <td>64548</td>\n",
              "      <td>2</td>\n",
              "      <td>Male</td>\n",
              "      <td>54695</td>\n",
              "    </tr>\n",
              "    <tr>\n",
              "      <th>Area</th>\n",
              "      <td>64548</td>\n",
              "      <td>7</td>\n",
              "      <td>Small towns; countryside except Gotland; North...</td>\n",
              "      <td>24816</td>\n",
              "    </tr>\n",
              "    <tr>\n",
              "      <th>RiskClass</th>\n",
              "      <td>64548</td>\n",
              "      <td>7</td>\n",
              "      <td>EV ratio 9-12</td>\n",
              "      <td>18905</td>\n",
              "    </tr>\n",
              "    <tr>\n",
              "      <th>BonusClass</th>\n",
              "      <td>64548</td>\n",
              "      <td>7</td>\n",
              "      <td>BM7</td>\n",
              "      <td>17953</td>\n",
              "    </tr>\n",
              "  </tbody>\n",
              "</table>\n",
              "</div>\n",
              "      <button class=\"colab-df-convert\" onclick=\"convertToInteractive('df-6268943c-6c25-4add-b035-46d8148d0f70')\"\n",
              "              title=\"Convert this dataframe to an interactive table.\"\n",
              "              style=\"display:none;\">\n",
              "        \n",
              "  <svg xmlns=\"http://www.w3.org/2000/svg\" height=\"24px\"viewBox=\"0 0 24 24\"\n",
              "       width=\"24px\">\n",
              "    <path d=\"M0 0h24v24H0V0z\" fill=\"none\"/>\n",
              "    <path d=\"M18.56 5.44l.94 2.06.94-2.06 2.06-.94-2.06-.94-.94-2.06-.94 2.06-2.06.94zm-11 1L8.5 8.5l.94-2.06 2.06-.94-2.06-.94L8.5 2.5l-.94 2.06-2.06.94zm10 10l.94 2.06.94-2.06 2.06-.94-2.06-.94-.94-2.06-.94 2.06-2.06.94z\"/><path d=\"M17.41 7.96l-1.37-1.37c-.4-.4-.92-.59-1.43-.59-.52 0-1.04.2-1.43.59L10.3 9.45l-7.72 7.72c-.78.78-.78 2.05 0 2.83L4 21.41c.39.39.9.59 1.41.59.51 0 1.02-.2 1.41-.59l7.78-7.78 2.81-2.81c.8-.78.8-2.07 0-2.86zM5.41 20L4 18.59l7.72-7.72 1.47 1.35L5.41 20z\"/>\n",
              "  </svg>\n",
              "      </button>\n",
              "      \n",
              "  <style>\n",
              "    .colab-df-container {\n",
              "      display:flex;\n",
              "      flex-wrap:wrap;\n",
              "      gap: 12px;\n",
              "    }\n",
              "\n",
              "    .colab-df-convert {\n",
              "      background-color: #E8F0FE;\n",
              "      border: none;\n",
              "      border-radius: 50%;\n",
              "      cursor: pointer;\n",
              "      display: none;\n",
              "      fill: #1967D2;\n",
              "      height: 32px;\n",
              "      padding: 0 0 0 0;\n",
              "      width: 32px;\n",
              "    }\n",
              "\n",
              "    .colab-df-convert:hover {\n",
              "      background-color: #E2EBFA;\n",
              "      box-shadow: 0px 1px 2px rgba(60, 64, 67, 0.3), 0px 1px 3px 1px rgba(60, 64, 67, 0.15);\n",
              "      fill: #174EA6;\n",
              "    }\n",
              "\n",
              "    [theme=dark] .colab-df-convert {\n",
              "      background-color: #3B4455;\n",
              "      fill: #D2E3FC;\n",
              "    }\n",
              "\n",
              "    [theme=dark] .colab-df-convert:hover {\n",
              "      background-color: #434B5C;\n",
              "      box-shadow: 0px 1px 3px 1px rgba(0, 0, 0, 0.15);\n",
              "      filter: drop-shadow(0px 1px 2px rgba(0, 0, 0, 0.3));\n",
              "      fill: #FFFFFF;\n",
              "    }\n",
              "  </style>\n",
              "\n",
              "      <script>\n",
              "        const buttonEl =\n",
              "          document.querySelector('#df-6268943c-6c25-4add-b035-46d8148d0f70 button.colab-df-convert');\n",
              "        buttonEl.style.display =\n",
              "          google.colab.kernel.accessAllowed ? 'block' : 'none';\n",
              "\n",
              "        async function convertToInteractive(key) {\n",
              "          const element = document.querySelector('#df-6268943c-6c25-4add-b035-46d8148d0f70');\n",
              "          const dataTable =\n",
              "            await google.colab.kernel.invokeFunction('convertToInteractive',\n",
              "                                                     [key], {});\n",
              "          if (!dataTable) return;\n",
              "\n",
              "          const docLinkHtml = 'Like what you see? Visit the ' +\n",
              "            '<a target=\"_blank\" href=https://colab.research.google.com/notebooks/data_table.ipynb>data table notebook</a>'\n",
              "            + ' to learn more about interactive tables.';\n",
              "          element.innerHTML = '';\n",
              "          dataTable['output_type'] = 'display_data';\n",
              "          await google.colab.output.renderOutput(dataTable, element);\n",
              "          const docLink = document.createElement('div');\n",
              "          docLink.innerHTML = docLinkHtml;\n",
              "          element.appendChild(docLink);\n",
              "        }\n",
              "      </script>\n",
              "    </div>\n",
              "  </div>\n",
              "  "
            ]
          },
          "metadata": {},
          "execution_count": 8
        }
      ]
    },
    {
      "cell_type": "code",
      "source": [
        "# Summarize attribute distributions for data type of variables\n",
        "no_obj_cols = [var for var in df.columns if df[var].dtype!='object']\n",
        "df[no_obj_cols].describe().T"
      ],
      "metadata": {
        "id": "BzwpsBtqABTC",
        "colab": {
          "base_uri": "https://localhost:8080/",
          "height": 175
        },
        "outputId": "966f5ffc-5dd9-494a-8579-2c30008ba18d"
      },
      "execution_count": null,
      "outputs": [
        {
          "output_type": "execute_result",
          "data": {
            "text/plain": [
              "            count       mean        std  min        25%        50%   75%  \\\n",
              "OwnerAge  64548.0  42.416062  12.980960  0.0  31.000000  44.000000  52.0   \n",
              "VehAge    64548.0  12.540063   9.727445  0.0   5.000000  12.000000  16.0   \n",
              "Exposure  64548.0   1.010671   1.307424  0.0   0.463014   0.827397   1.0   \n",
              "ClaimNb   64548.0   0.010798   0.107323  0.0   0.000000   0.000000   0.0   \n",
              "\n",
              "               max  \n",
              "OwnerAge  92.00000  \n",
              "VehAge    99.00000  \n",
              "Exposure  31.33973  \n",
              "ClaimNb    2.00000  "
            ],
            "text/html": [
              "\n",
              "  <div id=\"df-30cfb411-5f6b-433f-b234-41d4592924fb\">\n",
              "    <div class=\"colab-df-container\">\n",
              "      <div>\n",
              "<style scoped>\n",
              "    .dataframe tbody tr th:only-of-type {\n",
              "        vertical-align: middle;\n",
              "    }\n",
              "\n",
              "    .dataframe tbody tr th {\n",
              "        vertical-align: top;\n",
              "    }\n",
              "\n",
              "    .dataframe thead th {\n",
              "        text-align: right;\n",
              "    }\n",
              "</style>\n",
              "<table border=\"1\" class=\"dataframe\">\n",
              "  <thead>\n",
              "    <tr style=\"text-align: right;\">\n",
              "      <th></th>\n",
              "      <th>count</th>\n",
              "      <th>mean</th>\n",
              "      <th>std</th>\n",
              "      <th>min</th>\n",
              "      <th>25%</th>\n",
              "      <th>50%</th>\n",
              "      <th>75%</th>\n",
              "      <th>max</th>\n",
              "    </tr>\n",
              "  </thead>\n",
              "  <tbody>\n",
              "    <tr>\n",
              "      <th>OwnerAge</th>\n",
              "      <td>64548.0</td>\n",
              "      <td>42.416062</td>\n",
              "      <td>12.980960</td>\n",
              "      <td>0.0</td>\n",
              "      <td>31.000000</td>\n",
              "      <td>44.000000</td>\n",
              "      <td>52.0</td>\n",
              "      <td>92.00000</td>\n",
              "    </tr>\n",
              "    <tr>\n",
              "      <th>VehAge</th>\n",
              "      <td>64548.0</td>\n",
              "      <td>12.540063</td>\n",
              "      <td>9.727445</td>\n",
              "      <td>0.0</td>\n",
              "      <td>5.000000</td>\n",
              "      <td>12.000000</td>\n",
              "      <td>16.0</td>\n",
              "      <td>99.00000</td>\n",
              "    </tr>\n",
              "    <tr>\n",
              "      <th>Exposure</th>\n",
              "      <td>64548.0</td>\n",
              "      <td>1.010671</td>\n",
              "      <td>1.307424</td>\n",
              "      <td>0.0</td>\n",
              "      <td>0.463014</td>\n",
              "      <td>0.827397</td>\n",
              "      <td>1.0</td>\n",
              "      <td>31.33973</td>\n",
              "    </tr>\n",
              "    <tr>\n",
              "      <th>ClaimNb</th>\n",
              "      <td>64548.0</td>\n",
              "      <td>0.010798</td>\n",
              "      <td>0.107323</td>\n",
              "      <td>0.0</td>\n",
              "      <td>0.000000</td>\n",
              "      <td>0.000000</td>\n",
              "      <td>0.0</td>\n",
              "      <td>2.00000</td>\n",
              "    </tr>\n",
              "  </tbody>\n",
              "</table>\n",
              "</div>\n",
              "      <button class=\"colab-df-convert\" onclick=\"convertToInteractive('df-30cfb411-5f6b-433f-b234-41d4592924fb')\"\n",
              "              title=\"Convert this dataframe to an interactive table.\"\n",
              "              style=\"display:none;\">\n",
              "        \n",
              "  <svg xmlns=\"http://www.w3.org/2000/svg\" height=\"24px\"viewBox=\"0 0 24 24\"\n",
              "       width=\"24px\">\n",
              "    <path d=\"M0 0h24v24H0V0z\" fill=\"none\"/>\n",
              "    <path d=\"M18.56 5.44l.94 2.06.94-2.06 2.06-.94-2.06-.94-.94-2.06-.94 2.06-2.06.94zm-11 1L8.5 8.5l.94-2.06 2.06-.94-2.06-.94L8.5 2.5l-.94 2.06-2.06.94zm10 10l.94 2.06.94-2.06 2.06-.94-2.06-.94-.94-2.06-.94 2.06-2.06.94z\"/><path d=\"M17.41 7.96l-1.37-1.37c-.4-.4-.92-.59-1.43-.59-.52 0-1.04.2-1.43.59L10.3 9.45l-7.72 7.72c-.78.78-.78 2.05 0 2.83L4 21.41c.39.39.9.59 1.41.59.51 0 1.02-.2 1.41-.59l7.78-7.78 2.81-2.81c.8-.78.8-2.07 0-2.86zM5.41 20L4 18.59l7.72-7.72 1.47 1.35L5.41 20z\"/>\n",
              "  </svg>\n",
              "      </button>\n",
              "      \n",
              "  <style>\n",
              "    .colab-df-container {\n",
              "      display:flex;\n",
              "      flex-wrap:wrap;\n",
              "      gap: 12px;\n",
              "    }\n",
              "\n",
              "    .colab-df-convert {\n",
              "      background-color: #E8F0FE;\n",
              "      border: none;\n",
              "      border-radius: 50%;\n",
              "      cursor: pointer;\n",
              "      display: none;\n",
              "      fill: #1967D2;\n",
              "      height: 32px;\n",
              "      padding: 0 0 0 0;\n",
              "      width: 32px;\n",
              "    }\n",
              "\n",
              "    .colab-df-convert:hover {\n",
              "      background-color: #E2EBFA;\n",
              "      box-shadow: 0px 1px 2px rgba(60, 64, 67, 0.3), 0px 1px 3px 1px rgba(60, 64, 67, 0.15);\n",
              "      fill: #174EA6;\n",
              "    }\n",
              "\n",
              "    [theme=dark] .colab-df-convert {\n",
              "      background-color: #3B4455;\n",
              "      fill: #D2E3FC;\n",
              "    }\n",
              "\n",
              "    [theme=dark] .colab-df-convert:hover {\n",
              "      background-color: #434B5C;\n",
              "      box-shadow: 0px 1px 3px 1px rgba(0, 0, 0, 0.15);\n",
              "      filter: drop-shadow(0px 1px 2px rgba(0, 0, 0, 0.3));\n",
              "      fill: #FFFFFF;\n",
              "    }\n",
              "  </style>\n",
              "\n",
              "      <script>\n",
              "        const buttonEl =\n",
              "          document.querySelector('#df-30cfb411-5f6b-433f-b234-41d4592924fb button.colab-df-convert');\n",
              "        buttonEl.style.display =\n",
              "          google.colab.kernel.accessAllowed ? 'block' : 'none';\n",
              "\n",
              "        async function convertToInteractive(key) {\n",
              "          const element = document.querySelector('#df-30cfb411-5f6b-433f-b234-41d4592924fb');\n",
              "          const dataTable =\n",
              "            await google.colab.kernel.invokeFunction('convertToInteractive',\n",
              "                                                     [key], {});\n",
              "          if (!dataTable) return;\n",
              "\n",
              "          const docLinkHtml = 'Like what you see? Visit the ' +\n",
              "            '<a target=\"_blank\" href=https://colab.research.google.com/notebooks/data_table.ipynb>data table notebook</a>'\n",
              "            + ' to learn more about interactive tables.';\n",
              "          element.innerHTML = '';\n",
              "          dataTable['output_type'] = 'display_data';\n",
              "          await google.colab.output.renderOutput(dataTable, element);\n",
              "          const docLink = document.createElement('div');\n",
              "          docLink.innerHTML = docLinkHtml;\n",
              "          element.appendChild(docLink);\n",
              "        }\n",
              "      </script>\n",
              "    </div>\n",
              "  </div>\n",
              "  "
            ]
          },
          "metadata": {},
          "execution_count": 9
        }
      ]
    },
    {
      "cell_type": "markdown",
      "source": [
        "# Data Cleaning"
      ],
      "metadata": {
        "id": "HwyJntlJUgdT"
      }
    },
    {
      "cell_type": "code",
      "source": [
        "# get number of unique values for each column\n",
        "counts = df.nunique()\n",
        "# record columns to delete\n",
        "to_del = [i for i,v in enumerate(counts) if v == 1]\n",
        "print(to_del)\n",
        "# drop useless columns\n",
        "df.drop(to_del, axis=1, inplace=True)\n",
        "print(df.shape)"
      ],
      "metadata": {
        "id": "KPYovd_bAUqp",
        "colab": {
          "base_uri": "https://localhost:8080/"
        },
        "outputId": "074aa1e3-5ae9-48f0-ac7c-f9d63aab8f49"
      },
      "execution_count": null,
      "outputs": [
        {
          "output_type": "stream",
          "name": "stdout",
          "text": [
            "[]\n",
            "(64548, 8)\n"
          ]
        }
      ]
    },
    {
      "cell_type": "code",
      "source": [
        "# get number of unique values for each row\n",
        "counts = df.duplicated()\n",
        "# record rows to delete\n",
        "to_del = [i for i,v in enumerate(counts) if v == 1]\n",
        "print(to_del)\n",
        "print(df.shape)"
      ],
      "metadata": {
        "id": "x-5PSTq2BfwM",
        "colab": {
          "base_uri": "https://localhost:8080/"
        },
        "outputId": "cf817637-675a-442f-f7d1-2532477a9ae9"
      },
      "execution_count": null,
      "outputs": [
        {
          "output_type": "stream",
          "name": "stdout",
          "text": [
            "[]\n",
            "(64548, 8)\n"
          ]
        }
      ]
    },
    {
      "cell_type": "code",
      "source": [
        "# Check missing values both to numeric features and categorical features \n",
        "missing = df.isnull().sum()/df.shape[0]*100\n",
        "missing"
      ],
      "metadata": {
        "id": "rTthh0x3_vAs",
        "colab": {
          "base_uri": "https://localhost:8080/"
        },
        "outputId": "d504f664-b9d6-4312-c629-1d61e0deb759"
      },
      "execution_count": null,
      "outputs": [
        {
          "output_type": "execute_result",
          "data": {
            "text/plain": [
              "OwnerAge      0.0\n",
              "Gender        0.0\n",
              "Area          0.0\n",
              "RiskClass     0.0\n",
              "VehAge        0.0\n",
              "BonusClass    0.0\n",
              "Exposure      0.0\n",
              "ClaimNb       0.0\n",
              "dtype: float64"
            ]
          },
          "metadata": {},
          "execution_count": 12
        }
      ]
    },
    {
      "cell_type": "code",
      "source": [
        "# Feature transformation\n",
        "df_1 = df.copy()\n",
        "df_1['Exposure'] = df_1['Exposure'].clip(upper=1)\n",
        "df_1['VehAge'] = df_1['VehAge'].clip(upper=20)"
      ],
      "metadata": {
        "id": "Ix0Bfmzhaahp"
      },
      "execution_count": null,
      "outputs": []
    },
    {
      "cell_type": "markdown",
      "source": [
        "# Pre-Processing"
      ],
      "metadata": {
        "id": "LDXMPinAVlpN"
      }
    },
    {
      "cell_type": "code",
      "source": [
        "# Split dataset\n",
        "df_train, df_test, = train_test_split(df_1, train_size=0.8, test_size=0.2,random_state=0)"
      ],
      "metadata": {
        "id": "vDFtsXOueY4r"
      },
      "execution_count": null,
      "outputs": []
    },
    {
      "cell_type": "code",
      "source": [
        "scaling = MinMaxScaler()\n",
        "df_train[['VehAge', 'OwnerAge']] = scaling.fit_transform(df_train[['VehAge', 'OwnerAge']])\n",
        "df_test[['VehAge', 'OwnerAge']] = scaling.fit_transform(df_test[['VehAge', 'OwnerAge']])"
      ],
      "metadata": {
        "id": "RQvBvyQscvT4"
      },
      "execution_count": null,
      "outputs": []
    },
    {
      "cell_type": "code",
      "source": [
        "h2o.init(nthreads=-1,max_mem_size = \"12G\")"
      ],
      "metadata": {
        "id": "89WVYzeqazGx",
        "colab": {
          "base_uri": "https://localhost:8080/",
          "height": 537
        },
        "outputId": "2b624cda-8cd0-44bc-c273-e79e16d82300"
      },
      "execution_count": null,
      "outputs": [
        {
          "output_type": "stream",
          "name": "stdout",
          "text": [
            "Checking whether there is an H2O instance running at http://localhost:54321 ..... not found.\n",
            "Attempting to start a local H2O server...\n",
            "  Java Version: openjdk version \"11.0.16\" 2022-07-19; OpenJDK Runtime Environment (build 11.0.16+8-post-Ubuntu-0ubuntu118.04); OpenJDK 64-Bit Server VM (build 11.0.16+8-post-Ubuntu-0ubuntu118.04, mixed mode, sharing)\n",
            "  Starting server from /usr/local/lib/python3.7/dist-packages/h2o/backend/bin/h2o.jar\n",
            "  Ice root: /tmp/tmptl7vw64p\n",
            "  JVM stdout: /tmp/tmptl7vw64p/h2o_unknownUser_started_from_python.out\n",
            "  JVM stderr: /tmp/tmptl7vw64p/h2o_unknownUser_started_from_python.err\n",
            "  Server is running at http://127.0.0.1:54321\n",
            "Connecting to H2O server at http://127.0.0.1:54321 ... successful.\n"
          ]
        },
        {
          "output_type": "display_data",
          "data": {
            "text/plain": [
              "--------------------------  ----------------------------------\n",
              "H2O_cluster_uptime:         02 secs\n",
              "H2O_cluster_timezone:       Etc/UTC\n",
              "H2O_data_parsing_timezone:  UTC\n",
              "H2O_cluster_version:        3.38.0.1\n",
              "H2O_cluster_version_age:    19 days\n",
              "H2O_cluster_name:           H2O_from_python_unknownUser_s6fekx\n",
              "H2O_cluster_total_nodes:    1\n",
              "H2O_cluster_free_memory:    12 Gb\n",
              "H2O_cluster_total_cores:    2\n",
              "H2O_cluster_allowed_cores:  2\n",
              "H2O_cluster_status:         locked, healthy\n",
              "H2O_connection_url:         http://127.0.0.1:54321\n",
              "H2O_connection_proxy:       {\"http\": null, \"https\": null}\n",
              "H2O_internal_security:      False\n",
              "Python_version:             3.7.14 final\n",
              "--------------------------  ----------------------------------"
            ],
            "text/html": [
              "\n",
              "<style>\n",
              "\n",
              "#h2o-table-1.h2o-container {\n",
              "  overflow-x: auto;\n",
              "}\n",
              "#h2o-table-1 .h2o-table {\n",
              "  /* width: 100%; */\n",
              "  margin-top: 1em;\n",
              "  margin-bottom: 1em;\n",
              "}\n",
              "#h2o-table-1 .h2o-table caption {\n",
              "  white-space: nowrap;\n",
              "  caption-side: top;\n",
              "  text-align: left;\n",
              "  /* margin-left: 1em; */\n",
              "  margin: 0;\n",
              "  font-size: larger;\n",
              "}\n",
              "#h2o-table-1 .h2o-table thead {\n",
              "  white-space: nowrap; \n",
              "  position: sticky;\n",
              "  top: 0;\n",
              "  box-shadow: 0 -1px inset;\n",
              "}\n",
              "#h2o-table-1 .h2o-table tbody {\n",
              "  overflow: auto;\n",
              "}\n",
              "#h2o-table-1 .h2o-table th,\n",
              "#h2o-table-1 .h2o-table td {\n",
              "  text-align: right;\n",
              "  /* border: 1px solid; */\n",
              "}\n",
              "#h2o-table-1 .h2o-table tr:nth-child(even) {\n",
              "  /* background: #F5F5F5 */\n",
              "}\n",
              "\n",
              "</style>      \n",
              "<div id=\"h2o-table-1\" class=\"h2o-container\">\n",
              "  <table class=\"h2o-table\">\n",
              "    <caption></caption>\n",
              "    <thead></thead>\n",
              "    <tbody><tr><td>H2O_cluster_uptime:</td>\n",
              "<td>02 secs</td></tr>\n",
              "<tr><td>H2O_cluster_timezone:</td>\n",
              "<td>Etc/UTC</td></tr>\n",
              "<tr><td>H2O_data_parsing_timezone:</td>\n",
              "<td>UTC</td></tr>\n",
              "<tr><td>H2O_cluster_version:</td>\n",
              "<td>3.38.0.1</td></tr>\n",
              "<tr><td>H2O_cluster_version_age:</td>\n",
              "<td>19 days </td></tr>\n",
              "<tr><td>H2O_cluster_name:</td>\n",
              "<td>H2O_from_python_unknownUser_s6fekx</td></tr>\n",
              "<tr><td>H2O_cluster_total_nodes:</td>\n",
              "<td>1</td></tr>\n",
              "<tr><td>H2O_cluster_free_memory:</td>\n",
              "<td>12 Gb</td></tr>\n",
              "<tr><td>H2O_cluster_total_cores:</td>\n",
              "<td>2</td></tr>\n",
              "<tr><td>H2O_cluster_allowed_cores:</td>\n",
              "<td>2</td></tr>\n",
              "<tr><td>H2O_cluster_status:</td>\n",
              "<td>locked, healthy</td></tr>\n",
              "<tr><td>H2O_connection_url:</td>\n",
              "<td>http://127.0.0.1:54321</td></tr>\n",
              "<tr><td>H2O_connection_proxy:</td>\n",
              "<td>{\"http\": null, \"https\": null}</td></tr>\n",
              "<tr><td>H2O_internal_security:</td>\n",
              "<td>False</td></tr>\n",
              "<tr><td>Python_version:</td>\n",
              "<td>3.7.14 final</td></tr></tbody>\n",
              "  </table>\n",
              "</div>\n"
            ]
          },
          "metadata": {}
        }
      ]
    },
    {
      "cell_type": "code",
      "source": [
        "# Convert Pandas data frame into H2O data frame\n",
        "train = h2o.H2OFrame(df_train)\n",
        "test = h2o.H2OFrame(df_test)"
      ],
      "metadata": {
        "id": "Dn7eZXoXa1K2",
        "colab": {
          "base_uri": "https://localhost:8080/"
        },
        "outputId": "604b7f38-27e7-42df-bd66-72354bd2544b"
      },
      "execution_count": null,
      "outputs": [
        {
          "output_type": "stream",
          "name": "stdout",
          "text": [
            "Parse progress: |████████████████████████████████████████████████████████████████| (done) 100%\n",
            "Parse progress: |████████████████████████████████████████████████████████████████| (done) 100%\n"
          ]
        }
      ]
    },
    {
      "cell_type": "code",
      "source": [
        "# Input \n",
        "predictors = ['Gender','RiskClass','Area','BonusClass','OwnerAge','VehAge']\n",
        "# offset\n",
        "train[\"offset\"] = train[\"Exposure\"].log()\n",
        "test[\"offset\"] = test[\"Exposure\"].log()\n",
        "# Output \n",
        "response = 'ClaimNb'"
      ],
      "metadata": {
        "id": "B-YAl0BBa_Ut"
      },
      "execution_count": null,
      "outputs": []
    },
    {
      "cell_type": "markdown",
      "source": [
        "# Modelling 1"
      ],
      "metadata": {
        "id": "sFxoD3yVV_bH"
      }
    },
    {
      "cell_type": "code",
      "source": [
        "# Define model\n",
        "NN_model_1 = H2ODeepLearningEstimator(offset_column = \"offset\", distribution=\"poisson\", reproducible = True, nfolds=5, categorical_encoding='auto', activation=\"rectifier\", hidden=[100],seed=0)\n",
        "\n",
        "# Train model\n",
        "NN1 = NN_model_1.train(x=predictors, y=response, training_frame=train)"
      ],
      "metadata": {
        "id": "myc17TUqbhev",
        "colab": {
          "base_uri": "https://localhost:8080/"
        },
        "outputId": "ec23bf14-fd3d-487d-b57d-3eae5b7f66cc"
      },
      "execution_count": null,
      "outputs": [
        {
          "output_type": "stream",
          "name": "stdout",
          "text": [
            "deeplearning Model Build progress: |█████████████████████████████████████████████| (done) 100%\n"
          ]
        }
      ]
    },
    {
      "cell_type": "code",
      "source": [
        "# summary of the model\n",
        "print(NN1)"
      ],
      "metadata": {
        "id": "CLLQJpwHaUCS",
        "colab": {
          "base_uri": "https://localhost:8080/"
        },
        "outputId": "a1d13966-59b7-4d7c-e257-3d504613c83a"
      },
      "execution_count": null,
      "outputs": [
        {
          "output_type": "stream",
          "name": "stdout",
          "text": [
            "Model Details\n",
            "=============\n",
            "H2ODeepLearningEstimator : Deep Learning\n",
            "Model Key: DeepLearning_model_python_1665294185168_1\n",
            "\n",
            "\n",
            "Status of Neuron Layers: predicting ClaimNb, regression, poisson distribution, Automatic loss, 3,101 weights/biases, 41.3 KB, 464,742 training samples, mini-batch size 1\n",
            "    layer    units    type       dropout    l1    l2    mean_rate              rate_rms              momentum    mean_weight            weight_rms           mean_bias            bias_rms\n",
            "--  -------  -------  ---------  ---------  ----  ----  ---------------------  --------------------  ----------  ---------------------  -------------------  -------------------  -----------------------\n",
            "    1        29       Input      0.0\n",
            "    2        100      Rectifier  0.0        0.0   0.0   0.1462107242182387     0.35404837131500244   0.0         0.0010355852089309462  0.13389205932617188  0.40535667059966696  0.248762309551239\n",
            "    3        1        Linear                0.0   0.0   0.0019770717626670375  0.002332243137061596  0.0         -0.21479401362594217   0.25106823444366455  0.22973614217024665  1.0971281125650402e-154\n",
            "\n",
            "ModelMetricsRegression: deeplearning\n",
            "** Reported on train data. **\n",
            "\n",
            "MSE: 0.010707913921830774\n",
            "RMSE: 0.10347905064229558\n",
            "MAE: 0.020745081766030855\n",
            "RMSLE: 0.07019127700472054\n",
            "Mean Residual Deviance: 0.10418233277506594\n",
            "\n",
            "ModelMetricsRegression: deeplearning\n",
            "** Reported on cross-validation data. **\n",
            "\n",
            "MSE: 0.011114139444187687\n",
            "RMSE: 0.10542361900536182\n",
            "MAE: 0.01997304063221694\n",
            "RMSLE: 0.07153514453158204\n",
            "Mean Residual Deviance: 0.10895557867314784\n",
            "\n",
            "Cross-Validation Metrics Summary: \n",
            "                        mean        sd           cv_1_valid    cv_2_valid    cv_3_valid    cv_4_valid    cv_5_valid\n",
            "----------------------  ----------  -----------  ------------  ------------  ------------  ------------  ------------\n",
            "mae                     0.0199815   0.00196113   0.0172602     0.0211506     0.0185402     0.0216429     0.0213136\n",
            "mean_residual_deviance  0.108982    0.00795351   0.0979147     0.118192      0.105571      0.108437      0.114795\n",
            "mse                     0.0111166   0.000685495  0.0103004     0.0117231     0.0106749     0.010974      0.0119104\n",
            "r2                      0.00772531  0.00586569   0.0124164     0.00146933    0.0136506     0.00953667    0.00155352\n",
            "residual_deviance       0.108982    0.00795351   0.0979147     0.118192      0.105571      0.108437      0.114795\n",
            "rmse                    0.105395    0.00324918   0.101491      0.108273      0.103319      0.104757      0.109135\n",
            "rmsle                   0.0715064   0.00262816   0.0679264     0.0741877     0.0699236     0.0717374     0.0737568\n",
            "\n",
            "Scoring History: \n",
            "    timestamp            duration          training_speed    epochs    iterations    samples    training_rmse    training_deviance    training_mae    training_r2\n",
            "--  -------------------  ----------------  ----------------  --------  ------------  ---------  ---------------  -------------------  --------------  -------------\n",
            "    2022-10-09 05:45:26  0.000 sec                           0         0             0          nan              nan                  nan             nan\n",
            "    2022-10-09 05:45:28  55.608 sec        22286 obs/sec     1         1             51638      0.103912         0.108957             0.0150898       0.00518051\n",
            "    2022-10-09 05:45:31  57.992 sec        22383 obs/sec     2         2             103276     0.104182         0.11769              0.0129467       -3.91024e-06\n",
            "    2022-10-09 05:45:33  1 min  0.305 sec  22625 obs/sec     3         3             154914     0.104037         0.113611             0.0139079       0.00277761\n",
            "    2022-10-09 05:45:35  1 min  2.550 sec  22909 obs/sec     4         4             206552     0.104281         0.123084             0.0120684       -0.00190398\n",
            "    2022-10-09 05:45:37  1 min  4.719 sec  23243 obs/sec     5         5             258190     0.10379          0.108406             0.0158927       0.0075068\n",
            "    2022-10-09 05:45:39  1 min  6.924 sec  23397 obs/sec     6         6             309828     0.103698         0.108304             0.0158626       0.009273\n",
            "    2022-10-09 05:45:42  1 min  9.119 sec  23525 obs/sec     7         7             361466     0.104021         0.114945             0.0132445       0.00307951\n",
            "    2022-10-09 05:45:44  1 min 11.198 sec  23789 obs/sec     8         8             413104     0.103586         0.106052             0.0171277       0.0114164\n",
            "    2022-10-09 05:45:46  1 min 12.946 sec  24381 obs/sec     9         9             464742     0.103479         0.104182             0.0207451       0.0134498\n",
            "\n",
            "Variable Importances: \n",
            "variable                                                      relative_importance    scaled_importance    percentage\n",
            "------------------------------------------------------------  ---------------------  -------------------  --------------------\n",
            "BonusClass.BM7                                                1.0                    1.0                  0.05081674715839465\n",
            "Gender.Male                                                   0.9466150999069214     0.9466150999069214   0.048103900188288515\n",
            "Area.Central parts of Sweden's three largest cities           0.9417011141777039     0.9417011141777039   0.047854187417946906\n",
            "Area.Northern countryside                                     0.8654892444610596     0.8654892444610596   0.04398134810408768\n",
            "Area.Small towns; countryside except Gotland; Northern towns  0.8442540764808655     0.8442540764808655   0.04290224594197212\n",
            "RiskClass.EV ratio 20-24                                      0.8434303998947144     0.8434303998947144   0.042860389377153384\n",
            "BonusClass.BM1                                                0.8405591249465942     0.8405591249465942   0.04271448052409253\n",
            "Area.Gotland (Sweden's largest island)                        0.8243955373764038     0.8243955373764038   0.0418930995813656\n",
            "BonusClass.BM6                                                0.8116282820701599     0.8116282820701599   0.041244309196561524\n",
            "RiskClass.EV ratio <5                                         0.8082440495491028     0.8082440495491028   0.04107233350821375\n",
            "---                                                           ---                    ---                  ---\n",
            "RiskClass.EV ratio 9-12                                       0.7094678282737732     0.7094678282737732   0.03605284724640369\n",
            "BonusClass.BM3                                                0.6890926957130432     0.6890926957130432   0.03501744928674629\n",
            "Gender.Female                                                 0.6876223087310791     0.6876223087310791   0.03494272900325883\n",
            "RiskClass.EV ratio 6-8                                        0.6710238456726074     0.6710238456726074   0.03409924910279852\n",
            "VehAge                                                        0.6387864947319031     0.6387864947319031   0.032461051790988314\n",
            "BonusClass.BM2                                                0.6195880770683289     0.6195880770683289   0.0314854506547372\n",
            "Area.missing(NA)                                              0.0                    0.0                  0.0\n",
            "RiskClass.missing(NA)                                         0.0                    0.0                  0.0\n",
            "BonusClass.missing(NA)                                        0.0                    0.0                  0.0\n",
            "Gender.missing(NA)                                            0.0                    0.0                  0.0\n",
            "[29 rows x 4 columns]\n",
            "\n"
          ]
        }
      ]
    },
    {
      "cell_type": "code",
      "source": [
        "# plot training history\n",
        "NN1.plot()"
      ],
      "metadata": {
        "id": "7bk2r1MOXs60",
        "colab": {
          "base_uri": "https://localhost:8080/",
          "height": 295
        },
        "outputId": "4de9b424-5741-448e-f269-4bf789e54b33"
      },
      "execution_count": null,
      "outputs": [
        {
          "output_type": "display_data",
          "data": {
            "text/plain": [
              "<Figure size 432x288 with 1 Axes>"
            ],
            "image/png": "[encoded data removed]"
          },
          "metadata": {
            "needs_background": "light"
          }
        }
      ]
    },
    {
      "cell_type": "markdown",
      "source": [
        "# Model Evaluation 1"
      ],
      "metadata": {
        "id": "sUcYW0ZyWTBh"
      }
    },
    {
      "cell_type": "code",
      "source": [
        "# Eval performance:\n",
        "perf_train_1 = NN1.model_performance(train)\n",
        "pred_train_1 = NN1.predict(train)"
      ],
      "metadata": {
        "id": "85Q3KYS5l6z9",
        "colab": {
          "base_uri": "https://localhost:8080/"
        },
        "outputId": "2c66834f-c9b4-4f01-afe3-2394715e901b"
      },
      "execution_count": null,
      "outputs": [
        {
          "output_type": "stream",
          "name": "stdout",
          "text": [
            "deeplearning prediction progress: |██████████████████████████████████████████████| (done) 100%\n"
          ]
        }
      ]
    },
    {
      "cell_type": "code",
      "source": [
        "perf_train_1"
      ],
      "metadata": {
        "id": "d0L7soI2rKDG",
        "colab": {
          "base_uri": "https://localhost:8080/",
          "height": 184
        },
        "outputId": "dc5cd052-5c87-4b3c-9990-93230a62d6c0"
      },
      "execution_count": null,
      "outputs": [
        {
          "output_type": "execute_result",
          "data": {
            "text/plain": [
              "ModelMetricsRegression: deeplearning\n",
              "** Reported on test data. **\n",
              "\n",
              "MSE: 0.011038970845454002\n",
              "RMSE: 0.10506650677287221\n",
              "MAE: 0.021092243503743092\n",
              "RMSLE: 0.07131663061566174\n",
              "Mean Residual Deviance: 0.10696678483448958"
            ],
            "text/html": [
              "<pre style='margin: 1em 0 1em 0;'>ModelMetricsRegression: deeplearning\n",
              "** Reported on test data. **\n",
              "\n",
              "MSE: 0.011038970845454002\n",
              "RMSE: 0.10506650677287221\n",
              "MAE: 0.021092243503743092\n",
              "RMSLE: 0.07131663061566174\n",
              "Mean Residual Deviance: 0.10696678483448958</pre>"
            ]
          },
          "metadata": {},
          "execution_count": 23
        }
      ]
    },
    {
      "cell_type": "code",
      "source": [
        "# Eval performance:\n",
        "perf_test_1 = NN1.model_performance(test)\n",
        "pred_test_1 = NN1.predict(test)"
      ],
      "metadata": {
        "id": "jNHaS6mDZjss",
        "colab": {
          "base_uri": "https://localhost:8080/"
        },
        "outputId": "1b4290c6-757d-4f29-d034-9b601e6d8392"
      },
      "execution_count": null,
      "outputs": [
        {
          "output_type": "stream",
          "name": "stdout",
          "text": [
            "deeplearning prediction progress: |██████████████████████████████████████████████| (done) 100%\n"
          ]
        }
      ]
    },
    {
      "cell_type": "code",
      "source": [
        "perf_test_1"
      ],
      "metadata": {
        "id": "usBY8j4Qa4gk",
        "colab": {
          "base_uri": "https://localhost:8080/",
          "height": 184
        },
        "outputId": "60e3f3fa-1a2a-424c-a184-e961c39a5ce3"
      },
      "execution_count": null,
      "outputs": [
        {
          "output_type": "execute_result",
          "data": {
            "text/plain": [
              "ModelMetricsRegression: deeplearning\n",
              "** Reported on test data. **\n",
              "\n",
              "MSE: 0.012692779166572637\n",
              "RMSE: 0.11266223487297168\n",
              "MAE: 0.022184420518226382\n",
              "RMSLE: 0.07596882941167206\n",
              "Mean Residual Deviance: 0.12205184022656966"
            ],
            "text/html": [
              "<pre style='margin: 1em 0 1em 0;'>ModelMetricsRegression: deeplearning\n",
              "** Reported on test data. **\n",
              "\n",
              "MSE: 0.012692779166572637\n",
              "RMSE: 0.11266223487297168\n",
              "MAE: 0.022184420518226382\n",
              "RMSLE: 0.07596882941167206\n",
              "Mean Residual Deviance: 0.12205184022656966</pre>"
            ]
          },
          "metadata": {},
          "execution_count": 25
        }
      ]
    },
    {
      "cell_type": "code",
      "source": [
        "# replace H2O data frame with a pandas data frame\n",
        "predictions_tr_1 = pred_train_1.as_data_frame()\n",
        "predictions_te_1 = pred_test_1.as_data_frame()"
      ],
      "metadata": {
        "id": "w28PrmTwdjZg"
      },
      "execution_count": null,
      "outputs": []
    },
    {
      "cell_type": "code",
      "source": [
        "mean_poisson_deviance(df_train.ClaimNb,predictions_tr_1)"
      ],
      "metadata": {
        "id": "8kb3DWf2djif",
        "colab": {
          "base_uri": "https://localhost:8080/"
        },
        "outputId": "1bf732d2-200a-493a-d306-d6160121428d"
      },
      "execution_count": null,
      "outputs": [
        {
          "output_type": "execute_result",
          "data": {
            "text/plain": [
              "0.0869708859701796"
            ]
          },
          "metadata": {},
          "execution_count": 27
        }
      ]
    },
    {
      "cell_type": "code",
      "source": [
        "mean_poisson_deviance(df_test.ClaimNb,predictions_te_1)"
      ],
      "metadata": {
        "id": "-tw5iXLCeL5K",
        "colab": {
          "base_uri": "https://localhost:8080/"
        },
        "outputId": "cb918398-5773-45d0-fab9-13b0165f21cf"
      },
      "execution_count": null,
      "outputs": [
        {
          "output_type": "execute_result",
          "data": {
            "text/plain": [
              "0.09985262419680034"
            ]
          },
          "metadata": {},
          "execution_count": 28
        }
      ]
    },
    {
      "cell_type": "code",
      "source": [
        "np.sqrt(mean_squared_error(df_train.ClaimNb, predictions_tr_1))"
      ],
      "metadata": {
        "id": "7f3PfTpTeL7z",
        "colab": {
          "base_uri": "https://localhost:8080/"
        },
        "outputId": "174b8f3c-1f6a-4492-8a34-12ce5389278d"
      },
      "execution_count": null,
      "outputs": [
        {
          "output_type": "execute_result",
          "data": {
            "text/plain": [
              "0.10506650677287248"
            ]
          },
          "metadata": {},
          "execution_count": 29
        }
      ]
    },
    {
      "cell_type": "code",
      "source": [
        "np.sqrt(mean_squared_error(df_test.ClaimNb, predictions_te_1))"
      ],
      "metadata": {
        "id": "Rjhm6vHleL-Q",
        "colab": {
          "base_uri": "https://localhost:8080/"
        },
        "outputId": "f8a62d9e-4858-4ec3-8b66-923866434f1f"
      },
      "execution_count": null,
      "outputs": [
        {
          "output_type": "execute_result",
          "data": {
            "text/plain": [
              "0.1126622348729716"
            ]
          },
          "metadata": {},
          "execution_count": 30
        }
      ]
    },
    {
      "cell_type": "markdown",
      "source": [
        "# Modelling 2"
      ],
      "metadata": {
        "id": "dSUE6SttW0Y3"
      }
    },
    {
      "cell_type": "code",
      "source": [
        "# Input \n",
        "predictors_ = ['Gender','RiskClass','Area','OwnerAge','VehAge']"
      ],
      "metadata": {
        "id": "_-Vfde72Wzkm"
      },
      "execution_count": null,
      "outputs": []
    },
    {
      "cell_type": "code",
      "source": [
        "# Define model\n",
        "NN_model_2 = H2ODeepLearningEstimator(offset_column = \"offset\", distribution=\"poisson\", nfolds=5, reproducible=True, categorical_encoding='auto', activation=\"rectifier\", hidden=[100],seed=0)\n",
        "\n",
        "# Train model\n",
        "NN2 = NN_model_2.train(x=predictors_, y=response, training_frame=train)"
      ],
      "metadata": {
        "id": "iEfqFjxBXBVF",
        "colab": {
          "base_uri": "https://localhost:8080/"
        },
        "outputId": "77b51219-f397-4dc8-ed94-509ba2022e2e"
      },
      "execution_count": null,
      "outputs": [
        {
          "output_type": "stream",
          "name": "stdout",
          "text": [
            "deeplearning Model Build progress: |█████████████████████████████████████████████| (done) 100%\n"
          ]
        }
      ]
    },
    {
      "cell_type": "code",
      "source": [
        "# summary of the model\n",
        "print(NN2)"
      ],
      "metadata": {
        "id": "JIBDM4eAMsrT",
        "colab": {
          "base_uri": "https://localhost:8080/"
        },
        "outputId": "f265dcde-dc2c-42a4-cbd4-b325115aef35"
      },
      "execution_count": null,
      "outputs": [
        {
          "output_type": "stream",
          "name": "stdout",
          "text": [
            "Model Details\n",
            "=============\n",
            "H2ODeepLearningEstimator : Deep Learning\n",
            "Model Key: DeepLearning_model_python_1665294185168_2\n",
            "\n",
            "\n",
            "Status of Neuron Layers: predicting ClaimNb, regression, poisson distribution, Automatic loss, 2,301 weights/biases, 31.8 KB, 464,742 training samples, mini-batch size 1\n",
            "    layer    units    type       dropout    l1    l2    mean_rate             rate_rms              momentum    mean_weight             weight_rms           mean_bias            bias_rms\n",
            "--  -------  -------  ---------  ---------  ----  ----  --------------------  --------------------  ----------  ----------------------  -------------------  -------------------  -----------------------\n",
            "    1        21       Input      0.0\n",
            "    2        100      Rectifier  0.0        0.0   0.0   0.152950643194795     0.36166512966156006   0.0         -0.0028496797950239333  0.13951927423477173  0.39649780673593393  0.23770660161972046\n",
            "    3        1        Linear                0.0   0.0   0.002305671264475677  0.003394758328795433  0.0         -0.2026263259164989     0.2643165588378906   0.09560824805722255  1.0971281125650402e-154\n",
            "\n",
            "ModelMetricsRegression: deeplearning\n",
            "** Reported on train data. **\n",
            "\n",
            "MSE: 0.010773142403252497\n",
            "RMSE: 0.10379374934576983\n",
            "MAE: 0.021053797160961223\n",
            "RMSLE: 0.07039366496286958\n",
            "Mean Residual Deviance: 0.10723452567685424\n",
            "\n",
            "ModelMetricsRegression: deeplearning\n",
            "** Reported on cross-validation data. **\n",
            "\n",
            "MSE: 0.01109236755153834\n",
            "RMSE: 0.10532030930232944\n",
            "MAE: 0.019829493956091942\n",
            "RMSLE: 0.07137800880253357\n",
            "Mean Residual Deviance: 0.1096606297807828\n",
            "\n",
            "Cross-Validation Metrics Summary: \n",
            "                        mean        sd           cv_1_valid    cv_2_valid    cv_3_valid    cv_4_valid    cv_5_valid\n",
            "----------------------  ----------  -----------  ------------  ------------  ------------  ------------  ------------\n",
            "mae                     0.0198367   0.00181998   0.0171063     0.0209779     0.0188106     0.0212424     0.0210463\n",
            "mean_residual_deviance  0.109685    0.0078493    0.0984938     0.118925      0.10698       0.109041      0.114985\n",
            "mse                     0.0110946   0.000661473  0.0102924     0.0116955     0.0106994     0.0109395     0.0118464\n",
            "r2                      0.00959251  0.00406099   0.0131891     0.00382028    0.0113872     0.0126482     0.00691776\n",
            "residual_deviance       0.109685    0.0078493    0.0984938     0.118925      0.10698       0.109041      0.114985\n",
            "rmse                    0.105294    0.0031393    0.101451      0.108146      0.103438      0.104592      0.108841\n",
            "rmsle                   0.0713522   0.00248724   0.0678737     0.0739547     0.0700564     0.0714804     0.073396\n",
            "\n",
            "Scoring History: \n",
            "    timestamp            duration          training_speed    epochs    iterations    samples    training_rmse    training_deviance    training_mae    training_r2\n",
            "--  -------------------  ----------------  ----------------  --------  ------------  ---------  ---------------  -------------------  --------------  -------------\n",
            "    2022-10-09 05:50:02  0.000 sec                           0         0             0          nan              nan                  nan             nan\n",
            "    2022-10-09 05:50:03  55.310 sec        38222 obs/sec     1         1             51638      0.103851         0.11026              0.0150348       0.0063537\n",
            "    2022-10-09 05:50:05  56.712 sec        38095 obs/sec     2         2             103276     0.104187         0.118422             0.0130709       -0.00010203\n",
            "    2022-10-09 05:50:06  58.096 sec        38212 obs/sec     3         3             154914     0.104026         0.114223             0.0140418       0.00298853\n",
            "    2022-10-09 05:50:08  59.453 sec        38485 obs/sec     4         4             206552     0.10429          0.123716             0.0121882       -0.00207324\n",
            "    2022-10-09 05:50:09  1 min  0.810 sec  38633 obs/sec     5         5             258190     0.103864         0.110111             0.0160298       0.00610064\n",
            "    2022-10-09 05:50:10  1 min  2.126 sec  38928 obs/sec     6         6             309828     0.103843         0.110338             0.015946        0.00650027\n",
            "    2022-10-09 05:50:11  1 min  3.409 sec  39281 obs/sec     7         7             361466     0.104105         0.116719             0.0133031       0.00147728\n",
            "    2022-10-09 05:50:13  1 min  4.680 sec  39599 obs/sec     8         8             413104     0.103765         0.108478             0.0172052       0.00798348\n",
            "    2022-10-09 05:50:14  1 min  5.935 sec  39909 obs/sec     9         9             464742     0.103794         0.107235             0.0210538       0.00744015\n",
            "\n",
            "Variable Importances: \n",
            "variable                                                      relative_importance    scaled_importance    percentage\n",
            "------------------------------------------------------------  ---------------------  -------------------  --------------------\n",
            "RiskClass.EV ratio 20-24                                      1.0                    1.0                  0.06963511121550547\n",
            "Area.Northern countryside                                     0.9927594661712646     0.9927594661712646   0.06913091583708186\n",
            "Area.Northern towns                                           0.9473662376403809     0.9473662376403809   0.06596995331990291\n",
            "Gender.Male                                                   0.9354280829429626     0.9354280829429626   0.06513863858984029\n",
            "RiskClass.EV ratio >25                                        0.9033687710762024     0.9033687710762024   0.06290618484250586\n",
            "RiskClass.EV ratio 6-8                                        0.8531160354614258     0.8531160354614258   0.0594068300090875\n",
            "Area.Central parts of Sweden's three largest cities           0.8453872799873352     0.8453872799873352   0.05886863726209175\n",
            "Area.Gotland (Sweden's largest island)                        0.8415555357933044     0.8415555357933044   0.05860181332899106\n",
            "RiskClass.EV ratio 13-15                                      0.8194128274917603     0.8194128274917603   0.05705990337380053\n",
            "Area.Suburbs; middle-sized cities                             0.7962449789047241     0.7962449789047241   0.05544660766081828\n",
            "---                                                           ---                    ---                  ---\n",
            "Area.Small towns; countryside except Gotland; Northern towns  0.7705854177474976     0.7705854177474976   0.053659801265893745\n",
            "Area.Lesser towns except Gotland; Northern towns              0.7415202856063843     0.7415202856063843   0.051635847556753954\n",
            "RiskClass.EV ratio 16-19                                      0.7060927152633667     0.7060927152633667   0.04916884475582278\n",
            "RiskClass.EV ratio <5                                         0.7053270936012268     0.7053270936012268   0.049115530606230674\n",
            "RiskClass.EV ratio 9-12                                       0.6655494570732117     0.6655494570732117   0.046345610462712385\n",
            "VehAge                                                        0.5505273938179016     0.5505273938179016   0.03833603629569196\n",
            "OwnerAge                                                      0.4959058463573456     0.4959058463573456   0.03453245876351313\n",
            "Area.missing(NA)                                              0.0                    0.0                  0.0\n",
            "RiskClass.missing(NA)                                         0.0                    0.0                  0.0\n",
            "Gender.missing(NA)                                            0.0                    0.0                  0.0\n",
            "[21 rows x 4 columns]\n",
            "\n"
          ]
        }
      ]
    },
    {
      "cell_type": "code",
      "source": [
        "# plot training history\n",
        "NN2.plot()"
      ],
      "metadata": {
        "id": "9GM-toA3XjjT",
        "colab": {
          "base_uri": "https://localhost:8080/",
          "height": 295
        },
        "outputId": "d47883c3-1c24-4e4c-d324-eccc78ac543e"
      },
      "execution_count": null,
      "outputs": [
        {
          "output_type": "display_data",
          "data": {
            "text/plain": [
              "<Figure size 432x288 with 1 Axes>"
            ],
            "image/png": "[encoded data removed]"
          },
          "metadata": {
            "needs_background": "light"
          }
        }
      ]
    },
    {
      "cell_type": "markdown",
      "source": [
        "# Model evaluation 2"
      ],
      "metadata": {
        "id": "DSzQKrqSXN7-"
      }
    },
    {
      "cell_type": "code",
      "source": [
        "# Eval performance:\n",
        "perf_train_2 = NN2.model_performance(train)\n",
        "pred_train_2 = NN2.predict(train)"
      ],
      "metadata": {
        "id": "7T5a8Nx_XXjC",
        "colab": {
          "base_uri": "https://localhost:8080/"
        },
        "outputId": "65bdf27f-3807-4c37-caa0-e1fd88c735e9"
      },
      "execution_count": null,
      "outputs": [
        {
          "output_type": "stream",
          "name": "stdout",
          "text": [
            "deeplearning prediction progress: |██████████████████████████████████████████████| (done) 100%\n"
          ]
        }
      ]
    },
    {
      "cell_type": "code",
      "source": [
        "perf_train_2"
      ],
      "metadata": {
        "id": "fEE91xi9Xawr",
        "colab": {
          "base_uri": "https://localhost:8080/",
          "height": 184
        },
        "outputId": "7bbe8d59-9c3c-4dd5-9775-c1ea0e9a980c"
      },
      "execution_count": null,
      "outputs": [
        {
          "output_type": "execute_result",
          "data": {
            "text/plain": [
              "ModelMetricsRegression: deeplearning\n",
              "** Reported on test data. **\n",
              "\n",
              "MSE: 0.011060512445226583\n",
              "RMSE: 0.10516897092406383\n",
              "MAE: 0.02133984424590302\n",
              "RMSLE: 0.07133588982891395\n",
              "Mean Residual Deviance: 0.10841595518071304"
            ],
            "text/html": [
              "<pre style='margin: 1em 0 1em 0;'>ModelMetricsRegression: deeplearning\n",
              "** Reported on test data. **\n",
              "\n",
              "MSE: 0.011060512445226583\n",
              "RMSE: 0.10516897092406383\n",
              "MAE: 0.02133984424590302\n",
              "RMSLE: 0.07133588982891395\n",
              "Mean Residual Deviance: 0.10841595518071304</pre>"
            ]
          },
          "metadata": {},
          "execution_count": 36
        }
      ]
    },
    {
      "cell_type": "code",
      "source": [
        "# Eval performance:\n",
        "perf_test_2 = NN2.model_performance(test)\n",
        "pred_test_2 = NN2.predict(test)"
      ],
      "metadata": {
        "id": "j5KVQhJdXdIw",
        "colab": {
          "base_uri": "https://localhost:8080/"
        },
        "outputId": "484defcd-4104-4e45-c738-cee698c4328f"
      },
      "execution_count": null,
      "outputs": [
        {
          "output_type": "stream",
          "name": "stdout",
          "text": [
            "deeplearning prediction progress: |██████████████████████████████████████████████| (done) 100%\n"
          ]
        }
      ]
    },
    {
      "cell_type": "code",
      "source": [
        "perf_test_2"
      ],
      "metadata": {
        "id": "VzqISBoTXdMX",
        "colab": {
          "base_uri": "https://localhost:8080/",
          "height": 184
        },
        "outputId": "54a115dc-6641-4056-d470-39faab7d4e9b"
      },
      "execution_count": null,
      "outputs": [
        {
          "output_type": "execute_result",
          "data": {
            "text/plain": [
              "ModelMetricsRegression: deeplearning\n",
              "** Reported on test data. **\n",
              "\n",
              "MSE: 0.01270959204533681\n",
              "RMSE: 0.11273682648246229\n",
              "MAE: 0.022484580140687997\n",
              "RMSLE: 0.07596910495099321\n",
              "Mean Residual Deviance: 0.12305075340982312"
            ],
            "text/html": [
              "<pre style='margin: 1em 0 1em 0;'>ModelMetricsRegression: deeplearning\n",
              "** Reported on test data. **\n",
              "\n",
              "MSE: 0.01270959204533681\n",
              "RMSE: 0.11273682648246229\n",
              "MAE: 0.022484580140687997\n",
              "RMSLE: 0.07596910495099321\n",
              "Mean Residual Deviance: 0.12305075340982312</pre>"
            ]
          },
          "metadata": {},
          "execution_count": 38
        }
      ]
    },
    {
      "cell_type": "code",
      "source": [
        "# replace H2O data frame with a pandas data frame\n",
        "predictions_tr_2 = pred_train_2.as_data_frame()\n",
        "predictions_te_2 = pred_test_2.as_data_frame()"
      ],
      "metadata": {
        "id": "4xyG4QwiXqkO"
      },
      "execution_count": null,
      "outputs": []
    },
    {
      "cell_type": "code",
      "source": [
        "mean_poisson_deviance(df_train.ClaimNb,predictions_tr_2)"
      ],
      "metadata": {
        "id": "3t1yxvuZYO-M",
        "colab": {
          "base_uri": "https://localhost:8080/"
        },
        "outputId": "f86d5172-3b72-490a-8b79-17aa4e9196e8"
      },
      "execution_count": null,
      "outputs": [
        {
          "output_type": "execute_result",
          "data": {
            "text/plain": [
              "0.08842005631640402"
            ]
          },
          "metadata": {},
          "execution_count": 40
        }
      ]
    },
    {
      "cell_type": "code",
      "source": [
        "mean_poisson_deviance(df_test.ClaimNb,predictions_te_2)"
      ],
      "metadata": {
        "id": "dplKn-k6YcgM",
        "colab": {
          "base_uri": "https://localhost:8080/"
        },
        "outputId": "eccb2be4-765d-4092-b876-6331367ec713"
      },
      "execution_count": null,
      "outputs": [
        {
          "output_type": "execute_result",
          "data": {
            "text/plain": [
              "0.10085153738005367"
            ]
          },
          "metadata": {},
          "execution_count": 41
        }
      ]
    },
    {
      "cell_type": "code",
      "source": [
        "np.sqrt(mean_squared_error(df_train.ClaimNb, predictions_tr_2))"
      ],
      "metadata": {
        "id": "aWyvf-pwYck2",
        "colab": {
          "base_uri": "https://localhost:8080/"
        },
        "outputId": "1ea05f67-5209-47ee-accc-dc06be3bcea4"
      },
      "execution_count": null,
      "outputs": [
        {
          "output_type": "execute_result",
          "data": {
            "text/plain": [
              "0.10516897092406345"
            ]
          },
          "metadata": {},
          "execution_count": 42
        }
      ]
    },
    {
      "cell_type": "code",
      "source": [
        "np.sqrt(mean_squared_error(df_test.ClaimNb, predictions_te_2))"
      ],
      "metadata": {
        "id": "cBJMqjF3YcnQ",
        "colab": {
          "base_uri": "https://localhost:8080/"
        },
        "outputId": "e545c229-7354-4410-e919-68aae0da5e92"
      },
      "execution_count": null,
      "outputs": [
        {
          "output_type": "execute_result",
          "data": {
            "text/plain": [
              "0.11273682648246244"
            ]
          },
          "metadata": {},
          "execution_count": 43
        }
      ]
    },
    {
      "cell_type": "markdown",
      "source": [
        "# Modelling 3"
      ],
      "metadata": {
        "id": "sOy9JJbARiAc"
      }
    },
    {
      "cell_type": "code",
      "source": [
        "# Define model\n",
        "NN_model_3 = H2ODeepLearningEstimator(offset_column = \"offset\", distribution=\"poisson\", nfolds=5, reproducible=True, categorical_encoding='auto', activation=\"rectifier\", hidden=[20,100,50],seed=0)\n",
        "\n",
        "# Train model\n",
        "NN3 = NN_model_3.train(x=predictors, y=response, training_frame=train)"
      ],
      "metadata": {
        "id": "ZUKDeePgazj5",
        "colab": {
          "base_uri": "https://localhost:8080/"
        },
        "outputId": "26233e98-91e7-4196-ab77-5cfd517b939b"
      },
      "execution_count": null,
      "outputs": [
        {
          "output_type": "stream",
          "name": "stdout",
          "text": [
            "deeplearning Model Build progress: |█████████████████████████████████████████████| (done) 100%\n"
          ]
        }
      ]
    },
    {
      "cell_type": "code",
      "source": [
        "# summary of the model\n",
        "print(NN3)"
      ],
      "metadata": {
        "id": "tT4eRWacQ8y3",
        "colab": {
          "base_uri": "https://localhost:8080/"
        },
        "outputId": "26e001d4-6c4b-4bb0-b077-3f312dea1c6d"
      },
      "execution_count": null,
      "outputs": [
        {
          "output_type": "stream",
          "name": "stdout",
          "text": [
            "Model Details\n",
            "=============\n",
            "H2ODeepLearningEstimator : Deep Learning\n",
            "Model Key: DeepLearning_model_python_1665294185168_3\n",
            "\n",
            "\n",
            "Status of Neuron Layers: predicting ClaimNb, regression, poisson distribution, Automatic loss, 7,801 weights/biases, 98.5 KB, 516,380 training samples, mini-batch size 1\n",
            "    layer    units    type       dropout    l1    l2    mean_rate             rate_rms             momentum    mean_weight             weight_rms           mean_bias            bias_rms\n",
            "--  -------  -------  ---------  ---------  ----  ----  --------------------  -------------------  ----------  ----------------------  -------------------  -------------------  -----------------------\n",
            "    1        29       Input      0.0\n",
            "    2        20       Rectifier  0.0        0.0   0.0   0.14388614977481132   0.3547581434249878   0.0         0.010530711217331278    0.23398369550704956  0.5768160072546824   0.4714416265487671\n",
            "    3        100      Rectifier  0.0        0.0   0.0   0.0656290005048504    0.15293312072753906  0.0         0.030658523180197336    0.18500548601150513  0.8593745905776206   0.16733908653259277\n",
            "    4        50       Rectifier  0.0        0.0   0.0   0.15781635472350172   0.26457154750823975  0.0         -0.0006146230296399153  0.12750905752182007  0.9357966948516853   0.1606600284576416\n",
            "    5        1        Linear                0.0   0.0   0.031983132128953005  0.13963812589645386  0.0         0.031408772834111004    0.1247759461402893   0.12292929558302461  1.0971281125650402e-154\n",
            "\n",
            "ModelMetricsRegression: deeplearning\n",
            "** Reported on train data. **\n",
            "\n",
            "MSE: 0.010772668837232232\n",
            "RMSE: 0.10379146803679112\n",
            "MAE: 0.014783864713294964\n",
            "RMSLE: 0.06982392407039259\n",
            "Mean Residual Deviance: 0.10852306774656445\n",
            "\n",
            "ModelMetricsRegression: deeplearning\n",
            "** Reported on cross-validation data. **\n",
            "\n",
            "MSE: 0.011074285219684574\n",
            "RMSE: 0.10523442982068451\n",
            "MAE: 0.019637642358490096\n",
            "RMSLE: 0.07118254205506183\n",
            "Mean Residual Deviance: 0.10859789117742102\n",
            "\n",
            "Cross-Validation Metrics Summary: \n",
            "                        mean       sd           cv_1_valid    cv_2_valid    cv_3_valid    cv_4_valid    cv_5_valid\n",
            "----------------------  ---------  -----------  ------------  ------------  ------------  ------------  ------------\n",
            "mae                     0.019641   0.00168748   0.021022      0.0196807     0.0176409     0.0183008     0.0215606\n",
            "mean_residual_deviance  0.108624   0.00732708   0.0981895     0.117415      0.105178      0.109799      0.112538\n",
            "mse                     0.0110766  0.000651537  0.0102898     0.0116441     0.0106662     0.0109496     0.0118331\n",
            "r2                      0.0111703  0.00295391   0.0134308     0.00819857    0.0144539     0.0117375     0.00803059\n",
            "residual_deviance       0.108624   0.00732708   0.0981895     0.117415      0.105178      0.109799      0.112538\n",
            "rmse                    0.105209   0.00309465   0.101439      0.107908      0.103277      0.10464       0.10878\n",
            "rmsle                   0.0711618  0.00227994   0.0681939     0.0735099     0.0697324     0.0711076     0.0732652\n",
            "\n",
            "Scoring History: \n",
            "    timestamp            duration          training_speed    epochs    iterations    samples    training_rmse    training_deviance    training_mae    training_r2\n",
            "--  -------------------  ----------------  ----------------  --------  ------------  ---------  ---------------  -------------------  --------------  -------------\n",
            "    2022-10-09 05:56:25  0.000 sec                           0         0             0          nan              nan                  nan             nan\n",
            "    2022-10-09 05:56:34  3 min 37.283 sec  5806 obs/sec      1         1             51638      0.104188         0.118177             0.0125548       -0.000108609\n",
            "    2022-10-09 05:56:43  3 min 45.613 sec  6041 obs/sec      2         2             103276     0.104464         0.133179             0.0111343       -0.00541286\n",
            "    2022-10-09 05:56:50  3 min 53.174 sec  6310 obs/sec      3         3             154914     0.104215         0.119224             0.0122079       -0.000635374\n",
            "    2022-10-09 05:56:58  4 min  0.540 sec  6494 obs/sec      4         4             206552     0.104276         0.12277              0.0119191       -0.00181283\n",
            "    2022-10-09 05:57:05  4 min  7.704 sec  6643 obs/sec      5         5             258190     0.103768         0.106708             0.0157569       0.00793381\n",
            "    2022-10-09 05:57:12  4 min 14.789 sec  6759 obs/sec      6         6             309828     0.103647         0.106113             0.0168005       0.0102531\n",
            "    2022-10-09 05:57:19  4 min 21.764 sec  6857 obs/sec      7         7             361466     0.104291         0.124182             0.0117077       -0.00209258\n",
            "    2022-10-09 05:57:25  4 min 28.387 sec  6976 obs/sec      8         8             413104     0.103667         0.105526             0.0167286       0.00986625\n",
            "    2022-10-09 05:57:33  4 min 35.928 sec  6972 obs/sec      9         9             464742     0.103987         0.107151             0.0259242       0.00374579\n",
            "    2022-10-09 05:57:39  4 min 42.091 sec  7102 obs/sec      10        10            516380     0.103791         0.108523             0.0147839       0.00748378\n",
            "\n",
            "Variable Importances: \n",
            "variable                                                      relative_importance    scaled_importance    percentage\n",
            "------------------------------------------------------------  ---------------------  -------------------  --------------------\n",
            "Area.Small towns; countryside except Gotland; Northern towns  1.0                    1.0                  0.05489358869068819\n",
            "Area.Northern countryside                                     0.9990634918212891     0.9990634918212891   0.054842180395920564\n",
            "Gender.Male                                                   0.8701316118240356     0.8701316118240356   0.047764646806234164\n",
            "Area.Lesser towns except Gotland; Northern towns              0.8316393494606018     0.8316393494606018   0.045651668388281774\n",
            "Area.Gotland (Sweden's largest island)                        0.8302369713783264     0.8302369713783264   0.04557468682264451\n",
            "BonusClass.BM7                                                0.8252241015434265     0.8252241015434265   0.045299512407767556\n",
            "VehAge                                                        0.8200787305831909     0.8200787305831909   0.045017064530615374\n",
            "BonusClass.BM6                                                0.8134158849716187     0.8134158849716187   0.044651317024104166\n",
            "Area.Northern towns                                           0.7922545075416565     0.7922545075416565   0.043489693075335414\n",
            "RiskClass.EV ratio 13-15                                      0.7799804210662842     0.7799804210662842   0.042815924420802384\n",
            "---                                                           ---                    ---                  ---\n",
            "OwnerAge                                                      0.6472538709640503     0.6472538709640503   0.03553008777115634\n",
            "RiskClass.EV ratio 20-24                                      0.6461535692214966     0.6461535692214966   0.03546968825986495\n",
            "Area.Suburbs; middle-sized cities                             0.5923587679862976     0.5923587679862976   0.03251669856716261\n",
            "RiskClass.EV ratio 6-8                                        0.5470372438430786     0.5470372438430786   0.030028837462009655\n",
            "BonusClass.BM3                                                0.5212036371231079     0.5212036371231079   0.028610738080326586\n",
            "RiskClass.EV ratio >25                                        0.5093073844909668     0.5093073844909668   0.027957710081377315\n",
            "Area.missing(NA)                                              0.0                    0.0                  0.0\n",
            "RiskClass.missing(NA)                                         0.0                    0.0                  0.0\n",
            "BonusClass.missing(NA)                                        0.0                    0.0                  0.0\n",
            "Gender.missing(NA)                                            0.0                    0.0                  0.0\n",
            "[29 rows x 4 columns]\n",
            "\n"
          ]
        }
      ]
    },
    {
      "cell_type": "code",
      "source": [
        "# plot training history\n",
        "NN3.plot()"
      ],
      "metadata": {
        "id": "YewP5TsBWt64",
        "colab": {
          "base_uri": "https://localhost:8080/",
          "height": 295
        },
        "outputId": "daf861d1-24be-4e26-ef78-c5bdd05e689a"
      },
      "execution_count": null,
      "outputs": [
        {
          "output_type": "display_data",
          "data": {
            "text/plain": [
              "<Figure size 432x288 with 1 Axes>"
            ],
            "image/png": "[encoded data removed]"
          },
          "metadata": {
            "needs_background": "light"
          }
        }
      ]
    },
    {
      "cell_type": "markdown",
      "source": [
        "# Model Evaluation 3"
      ],
      "metadata": {
        "id": "DPKM1P5eZkBl"
      }
    },
    {
      "cell_type": "code",
      "source": [
        "# Eval performance:\n",
        "perf_train_3 = NN3.model_performance(train)\n",
        "pred_train_3 = NN3.predict(train)"
      ],
      "metadata": {
        "id": "aSUvH0hUf_96",
        "colab": {
          "base_uri": "https://localhost:8080/"
        },
        "outputId": "a7f6380c-1d52-4381-b703-19538de2b1be"
      },
      "execution_count": null,
      "outputs": [
        {
          "output_type": "stream",
          "name": "stdout",
          "text": [
            "deeplearning prediction progress: |██████████████████████████████████████████████| (done) 100%\n"
          ]
        }
      ]
    },
    {
      "cell_type": "code",
      "source": [
        "perf_train_3"
      ],
      "metadata": {
        "id": "D1wYJJmmgAA9",
        "colab": {
          "base_uri": "https://localhost:8080/",
          "height": 184
        },
        "outputId": "ff9e0ccb-ef63-45ad-80d6-b448c64c8712"
      },
      "execution_count": null,
      "outputs": [
        {
          "output_type": "execute_result",
          "data": {
            "text/plain": [
              "ModelMetricsRegression: deeplearning\n",
              "** Reported on test data. **\n",
              "\n",
              "MSE: 0.011109687276121417\n",
              "RMSE: 0.10540250128019457\n",
              "MAE: 0.015143077687306598\n",
              "RMSLE: 0.07101602320553073\n",
              "Mean Residual Deviance: 0.11221314719396289"
            ],
            "text/html": [
              "<pre style='margin: 1em 0 1em 0;'>ModelMetricsRegression: deeplearning\n",
              "** Reported on test data. **\n",
              "\n",
              "MSE: 0.011109687276121417\n",
              "RMSE: 0.10540250128019457\n",
              "MAE: 0.015143077687306598\n",
              "RMSLE: 0.07101602320553073\n",
              "Mean Residual Deviance: 0.11221314719396289</pre>"
            ]
          },
          "metadata": {},
          "execution_count": 48
        }
      ]
    },
    {
      "cell_type": "code",
      "source": [
        "# Eval performance:\n",
        "perf_test_3 = NN3.model_performance(test)\n",
        "pred_test_3 = NN3.predict(test)"
      ],
      "metadata": {
        "id": "OQQKLpX8gKf2",
        "colab": {
          "base_uri": "https://localhost:8080/"
        },
        "outputId": "2ffcc0f9-a061-420c-c34f-96b1b493c666"
      },
      "execution_count": null,
      "outputs": [
        {
          "output_type": "stream",
          "name": "stdout",
          "text": [
            "deeplearning prediction progress: |██████████████████████████████████████████████| (done) 100%\n"
          ]
        }
      ]
    },
    {
      "cell_type": "code",
      "source": [
        "perf_test_3"
      ],
      "metadata": {
        "id": "88r3_eZLgLOA",
        "colab": {
          "base_uri": "https://localhost:8080/",
          "height": 184
        },
        "outputId": "b4f447a1-99a1-4321-d130-12b0c2ff6465"
      },
      "execution_count": null,
      "outputs": [
        {
          "output_type": "execute_result",
          "data": {
            "text/plain": [
              "ModelMetricsRegression: deeplearning\n",
              "** Reported on test data. **\n",
              "\n",
              "MSE: 0.012741085818026679\n",
              "RMSE: 0.11287641834336647\n",
              "MAE: 0.01648584877098102\n",
              "RMSLE: 0.07561910609772594\n",
              "Mean Residual Deviance: 0.12932626465756666"
            ],
            "text/html": [
              "<pre style='margin: 1em 0 1em 0;'>ModelMetricsRegression: deeplearning\n",
              "** Reported on test data. **\n",
              "\n",
              "MSE: 0.012741085818026679\n",
              "RMSE: 0.11287641834336647\n",
              "MAE: 0.01648584877098102\n",
              "RMSLE: 0.07561910609772594\n",
              "Mean Residual Deviance: 0.12932626465756666</pre>"
            ]
          },
          "metadata": {},
          "execution_count": 50
        }
      ]
    },
    {
      "cell_type": "code",
      "source": [
        "# replace H2O data frame with a pandas data frame\n",
        "predictions_tr_3 = pred_train_3.as_data_frame()\n",
        "predictions_te_3 = pred_test_3.as_data_frame()"
      ],
      "metadata": {
        "id": "yZRj4WDpgWTU"
      },
      "execution_count": null,
      "outputs": []
    },
    {
      "cell_type": "code",
      "source": [
        "mean_poisson_deviance(df_train.ClaimNb,predictions_tr_3)"
      ],
      "metadata": {
        "id": "UXRRJEkygzY7",
        "colab": {
          "base_uri": "https://localhost:8080/"
        },
        "outputId": "c46ad71a-0e51-45fe-9b64-ddb687656a28"
      },
      "execution_count": null,
      "outputs": [
        {
          "output_type": "execute_result",
          "data": {
            "text/plain": [
              "0.09221724832965357"
            ]
          },
          "metadata": {},
          "execution_count": 52
        }
      ]
    },
    {
      "cell_type": "code",
      "source": [
        "mean_poisson_deviance(df_test.ClaimNb,predictions_te_3)"
      ],
      "metadata": {
        "id": "I4mkyau3gzhP",
        "colab": {
          "base_uri": "https://localhost:8080/"
        },
        "outputId": "da441c44-a6dd-47ff-fd3d-87a5c7fa8af2"
      },
      "execution_count": null,
      "outputs": [
        {
          "output_type": "execute_result",
          "data": {
            "text/plain": [
              "0.10712704862779777"
            ]
          },
          "metadata": {},
          "execution_count": 53
        }
      ]
    },
    {
      "cell_type": "code",
      "source": [
        "np.sqrt(mean_squared_error(df_train.ClaimNb, predictions_tr_3))"
      ],
      "metadata": {
        "id": "UPOzT6g3gznT",
        "colab": {
          "base_uri": "https://localhost:8080/"
        },
        "outputId": "ec264cc7-1e0d-486b-8f59-d2fff234dd79"
      },
      "execution_count": null,
      "outputs": [
        {
          "output_type": "execute_result",
          "data": {
            "text/plain": [
              "0.1054025012801946"
            ]
          },
          "metadata": {},
          "execution_count": 54
        }
      ]
    },
    {
      "cell_type": "code",
      "source": [
        "np.sqrt(mean_squared_error(df_test.ClaimNb, predictions_te_3))"
      ],
      "metadata": {
        "id": "VAgRzNC0ii6O",
        "colab": {
          "base_uri": "https://localhost:8080/"
        },
        "outputId": "766904f0-3328-440b-a5aa-54bc1ee29915"
      },
      "execution_count": null,
      "outputs": [
        {
          "output_type": "execute_result",
          "data": {
            "text/plain": [
              "0.11287641834336669"
            ]
          },
          "metadata": {},
          "execution_count": 55
        }
      ]
    },
    {
      "cell_type": "markdown",
      "source": [
        "# **NN Results Analysis**"
      ],
      "metadata": {
        "id": "NsTWl5n04Ift"
      }
    },
    {
      "cell_type": "code",
      "source": [
        "# Feature Importance\n",
        "NN1.varimp_plot()"
      ],
      "metadata": {
        "id": "kK_Lcy7Kb7a7",
        "colab": {
          "base_uri": "https://localhost:8080/",
          "height": 647
        },
        "outputId": "94747104-1550-4f2c-afc3-fab8c46a236f"
      },
      "execution_count": null,
      "outputs": [
        {
          "output_type": "display_data",
          "data": {
            "text/plain": [
              "<Figure size 1008x720 with 1 Axes>"
            ],
            "image/png": "[encoded data removed]"
          },
          "metadata": {
            "needs_background": "light"
          }
        },
        {
          "output_type": "execute_result",
          "data": {
            "text/plain": [
              "<h2o.plot._plot_result._MObject at 0x7f0f869e59d0>"
            ]
          },
          "metadata": {},
          "execution_count": 61
        },
        {
          "output_type": "display_data",
          "data": {
            "text/plain": [
              "<Figure size 432x288 with 0 Axes>"
            ]
          },
          "metadata": {}
        }
      ]
    },
    {
      "cell_type": "code",
      "source": [
        "predictions_te_1 = predictions_te_1.rename(columns = {'predict':'ClaimNb_pred'})\n",
        "test = pd.concat([df_test, predictions_te_1.set_index(df_test.index)], axis=1)\n",
        "test"
      ],
      "metadata": {
        "id": "cArnXlcgpKzp",
        "colab": {
          "base_uri": "https://localhost:8080/",
          "height": 424
        },
        "outputId": "6392ee14-da82-4bd2-85b8-5c6951d8df1b"
      },
      "execution_count": null,
      "outputs": [
        {
          "output_type": "execute_result",
          "data": {
            "text/plain": [
              "       OwnerAge  Gender                                               Area  \\\n",
              "11551  0.280488  Female  Small towns; countryside except Gotland; North...   \n",
              "27696  0.451220  Female                       Suburbs; middle-sized cities   \n",
              "56213  0.634146    Male        Lesser towns except Gotland; Northern towns   \n",
              "8463   0.256098    Male     Central parts of Sweden's three largest cities   \n",
              "35448  0.487805    Male  Small towns; countryside except Gotland; North...   \n",
              "...         ...     ...                                                ...   \n",
              "15776  0.317073  Female        Lesser towns except Gotland; Northern towns   \n",
              "43435  0.536585    Male  Small towns; countryside except Gotland; North...   \n",
              "50162  0.585366    Male                       Suburbs; middle-sized cities   \n",
              "2912   0.207317    Male                       Suburbs; middle-sized cities   \n",
              "25134  0.426829    Male     Central parts of Sweden's three largest cities   \n",
              "\n",
              "            RiskClass  VehAge BonusClass  Exposure  ClaimNb  ClaimNb_pred  \n",
              "11551  EV ratio 20-24    0.65        BM3  0.419178        0      0.003248  \n",
              "27696     EV ratio <5    0.20        BM7  0.983562        0      0.005414  \n",
              "56213  EV ratio 13-15    0.80        BM7  1.000000        0      0.003564  \n",
              "8463   EV ratio 13-15    0.65        BM1  0.986301        0      0.020517  \n",
              "35448  EV ratio 20-24    0.20        BM6  0.986301        0      0.012821  \n",
              "...               ...     ...        ...       ...      ...           ...  \n",
              "15776  EV ratio 13-15    0.75        BM7  0.989041        0      0.001513  \n",
              "43435  EV ratio 13-15    0.55        BM7  1.000000        0      0.007802  \n",
              "50162   EV ratio 9-12    0.30        BM7  1.000000        0      0.020301  \n",
              "2912   EV ratio 16-19    0.40        BM1  0.630137        0      0.042292  \n",
              "25134   EV ratio 9-12    0.75        BM1  0.117808        0      0.024204  \n",
              "\n",
              "[12910 rows x 9 columns]"
            ],
            "text/html": [
              "\n",
              "  <div id=\"df-5360d48b-a67a-4d11-9a1e-b6786abcec32\">\n",
              "    <div class=\"colab-df-container\">\n",
              "      <div>\n",
              "<style scoped>\n",
              "    .dataframe tbody tr th:only-of-type {\n",
              "        vertical-align: middle;\n",
              "    }\n",
              "\n",
              "    .dataframe tbody tr th {\n",
              "        vertical-align: top;\n",
              "    }\n",
              "\n",
              "    .dataframe thead th {\n",
              "        text-align: right;\n",
              "    }\n",
              "</style>\n",
              "<table border=\"1\" class=\"dataframe\">\n",
              "  <thead>\n",
              "    <tr style=\"text-align: right;\">\n",
              "      <th></th>\n",
              "      <th>OwnerAge</th>\n",
              "      <th>Gender</th>\n",
              "      <th>Area</th>\n",
              "      <th>RiskClass</th>\n",
              "      <th>VehAge</th>\n",
              "      <th>BonusClass</th>\n",
              "      <th>Exposure</th>\n",
              "      <th>ClaimNb</th>\n",
              "      <th>ClaimNb_pred</th>\n",
              "    </tr>\n",
              "  </thead>\n",
              "  <tbody>\n",
              "    <tr>\n",
              "      <th>11551</th>\n",
              "      <td>0.280488</td>\n",
              "      <td>Female</td>\n",
              "      <td>Small towns; countryside except Gotland; North...</td>\n",
              "      <td>EV ratio 20-24</td>\n",
              "      <td>0.65</td>\n",
              "      <td>BM3</td>\n",
              "      <td>0.419178</td>\n",
              "      <td>0</td>\n",
              "      <td>0.003248</td>\n",
              "    </tr>\n",
              "    <tr>\n",
              "      <th>27696</th>\n",
              "      <td>0.451220</td>\n",
              "      <td>Female</td>\n",
              "      <td>Suburbs; middle-sized cities</td>\n",
              "      <td>EV ratio &lt;5</td>\n",
              "      <td>0.20</td>\n",
              "      <td>BM7</td>\n",
              "      <td>0.983562</td>\n",
              "      <td>0</td>\n",
              "      <td>0.005414</td>\n",
              "    </tr>\n",
              "    <tr>\n",
              "      <th>56213</th>\n",
              "      <td>0.634146</td>\n",
              "      <td>Male</td>\n",
              "      <td>Lesser towns except Gotland; Northern towns</td>\n",
              "      <td>EV ratio 13-15</td>\n",
              "      <td>0.80</td>\n",
              "      <td>BM7</td>\n",
              "      <td>1.000000</td>\n",
              "      <td>0</td>\n",
              "      <td>0.003564</td>\n",
              "    </tr>\n",
              "    <tr>\n",
              "      <th>8463</th>\n",
              "      <td>0.256098</td>\n",
              "      <td>Male</td>\n",
              "      <td>Central parts of Sweden's three largest cities</td>\n",
              "      <td>EV ratio 13-15</td>\n",
              "      <td>0.65</td>\n",
              "      <td>BM1</td>\n",
              "      <td>0.986301</td>\n",
              "      <td>0</td>\n",
              "      <td>0.020517</td>\n",
              "    </tr>\n",
              "    <tr>\n",
              "      <th>35448</th>\n",
              "      <td>0.487805</td>\n",
              "      <td>Male</td>\n",
              "      <td>Small towns; countryside except Gotland; North...</td>\n",
              "      <td>EV ratio 20-24</td>\n",
              "      <td>0.20</td>\n",
              "      <td>BM6</td>\n",
              "      <td>0.986301</td>\n",
              "      <td>0</td>\n",
              "      <td>0.012821</td>\n",
              "    </tr>\n",
              "    <tr>\n",
              "      <th>...</th>\n",
              "      <td>...</td>\n",
              "      <td>...</td>\n",
              "      <td>...</td>\n",
              "      <td>...</td>\n",
              "      <td>...</td>\n",
              "      <td>...</td>\n",
              "      <td>...</td>\n",
              "      <td>...</td>\n",
              "      <td>...</td>\n",
              "    </tr>\n",
              "    <tr>\n",
              "      <th>15776</th>\n",
              "      <td>0.317073</td>\n",
              "      <td>Female</td>\n",
              "      <td>Lesser towns except Gotland; Northern towns</td>\n",
              "      <td>EV ratio 13-15</td>\n",
              "      <td>0.75</td>\n",
              "      <td>BM7</td>\n",
              "      <td>0.989041</td>\n",
              "      <td>0</td>\n",
              "      <td>0.001513</td>\n",
              "    </tr>\n",
              "    <tr>\n",
              "      <th>43435</th>\n",
              "      <td>0.536585</td>\n",
              "      <td>Male</td>\n",
              "      <td>Small towns; countryside except Gotland; North...</td>\n",
              "      <td>EV ratio 13-15</td>\n",
              "      <td>0.55</td>\n",
              "      <td>BM7</td>\n",
              "      <td>1.000000</td>\n",
              "      <td>0</td>\n",
              "      <td>0.007802</td>\n",
              "    </tr>\n",
              "    <tr>\n",
              "      <th>50162</th>\n",
              "      <td>0.585366</td>\n",
              "      <td>Male</td>\n",
              "      <td>Suburbs; middle-sized cities</td>\n",
              "      <td>EV ratio 9-12</td>\n",
              "      <td>0.30</td>\n",
              "      <td>BM7</td>\n",
              "      <td>1.000000</td>\n",
              "      <td>0</td>\n",
              "      <td>0.020301</td>\n",
              "    </tr>\n",
              "    <tr>\n",
              "      <th>2912</th>\n",
              "      <td>0.207317</td>\n",
              "      <td>Male</td>\n",
              "      <td>Suburbs; middle-sized cities</td>\n",
              "      <td>EV ratio 16-19</td>\n",
              "      <td>0.40</td>\n",
              "      <td>BM1</td>\n",
              "      <td>0.630137</td>\n",
              "      <td>0</td>\n",
              "      <td>0.042292</td>\n",
              "    </tr>\n",
              "    <tr>\n",
              "      <th>25134</th>\n",
              "      <td>0.426829</td>\n",
              "      <td>Male</td>\n",
              "      <td>Central parts of Sweden's three largest cities</td>\n",
              "      <td>EV ratio 9-12</td>\n",
              "      <td>0.75</td>\n",
              "      <td>BM1</td>\n",
              "      <td>0.117808</td>\n",
              "      <td>0</td>\n",
              "      <td>0.024204</td>\n",
              "    </tr>\n",
              "  </tbody>\n",
              "</table>\n",
              "<p>12910 rows × 9 columns</p>\n",
              "</div>\n",
              "      <button class=\"colab-df-convert\" onclick=\"convertToInteractive('df-5360d48b-a67a-4d11-9a1e-b6786abcec32')\"\n",
              "              title=\"Convert this dataframe to an interactive table.\"\n",
              "              style=\"display:none;\">\n",
              "        \n",
              "  <svg xmlns=\"http://www.w3.org/2000/svg\" height=\"24px\"viewBox=\"0 0 24 24\"\n",
              "       width=\"24px\">\n",
              "    <path d=\"M0 0h24v24H0V0z\" fill=\"none\"/>\n",
              "    <path d=\"M18.56 5.44l.94 2.06.94-2.06 2.06-.94-2.06-.94-.94-2.06-.94 2.06-2.06.94zm-11 1L8.5 8.5l.94-2.06 2.06-.94-2.06-.94L8.5 2.5l-.94 2.06-2.06.94zm10 10l.94 2.06.94-2.06 2.06-.94-2.06-.94-.94-2.06-.94 2.06-2.06.94z\"/><path d=\"M17.41 7.96l-1.37-1.37c-.4-.4-.92-.59-1.43-.59-.52 0-1.04.2-1.43.59L10.3 9.45l-7.72 7.72c-.78.78-.78 2.05 0 2.83L4 21.41c.39.39.9.59 1.41.59.51 0 1.02-.2 1.41-.59l7.78-7.78 2.81-2.81c.8-.78.8-2.07 0-2.86zM5.41 20L4 18.59l7.72-7.72 1.47 1.35L5.41 20z\"/>\n",
              "  </svg>\n",
              "      </button>\n",
              "      \n",
              "  <style>\n",
              "    .colab-df-container {\n",
              "      display:flex;\n",
              "      flex-wrap:wrap;\n",
              "      gap: 12px;\n",
              "    }\n",
              "\n",
              "    .colab-df-convert {\n",
              "      background-color: #E8F0FE;\n",
              "      border: none;\n",
              "      border-radius: 50%;\n",
              "      cursor: pointer;\n",
              "      display: none;\n",
              "      fill: #1967D2;\n",
              "      height: 32px;\n",
              "      padding: 0 0 0 0;\n",
              "      width: 32px;\n",
              "    }\n",
              "\n",
              "    .colab-df-convert:hover {\n",
              "      background-color: #E2EBFA;\n",
              "      box-shadow: 0px 1px 2px rgba(60, 64, 67, 0.3), 0px 1px 3px 1px rgba(60, 64, 67, 0.15);\n",
              "      fill: #174EA6;\n",
              "    }\n",
              "\n",
              "    [theme=dark] .colab-df-convert {\n",
              "      background-color: #3B4455;\n",
              "      fill: #D2E3FC;\n",
              "    }\n",
              "\n",
              "    [theme=dark] .colab-df-convert:hover {\n",
              "      background-color: #434B5C;\n",
              "      box-shadow: 0px 1px 3px 1px rgba(0, 0, 0, 0.15);\n",
              "      filter: drop-shadow(0px 1px 2px rgba(0, 0, 0, 0.3));\n",
              "      fill: #FFFFFF;\n",
              "    }\n",
              "  </style>\n",
              "\n",
              "      <script>\n",
              "        const buttonEl =\n",
              "          document.querySelector('#df-5360d48b-a67a-4d11-9a1e-b6786abcec32 button.colab-df-convert');\n",
              "        buttonEl.style.display =\n",
              "          google.colab.kernel.accessAllowed ? 'block' : 'none';\n",
              "\n",
              "        async function convertToInteractive(key) {\n",
              "          const element = document.querySelector('#df-5360d48b-a67a-4d11-9a1e-b6786abcec32');\n",
              "          const dataTable =\n",
              "            await google.colab.kernel.invokeFunction('convertToInteractive',\n",
              "                                                     [key], {});\n",
              "          if (!dataTable) return;\n",
              "\n",
              "          const docLinkHtml = 'Like what you see? Visit the ' +\n",
              "            '<a target=\"_blank\" href=https://colab.research.google.com/notebooks/data_table.ipynb>data table notebook</a>'\n",
              "            + ' to learn more about interactive tables.';\n",
              "          element.innerHTML = '';\n",
              "          dataTable['output_type'] = 'display_data';\n",
              "          await google.colab.output.renderOutput(dataTable, element);\n",
              "          const docLink = document.createElement('div');\n",
              "          docLink.innerHTML = docLinkHtml;\n",
              "          element.appendChild(docLink);\n",
              "        }\n",
              "      </script>\n",
              "    </div>\n",
              "  </div>\n",
              "  "
            ]
          },
          "metadata": {},
          "execution_count": 62
        }
      ]
    },
    {
      "cell_type": "code",
      "source": [
        "# Claims comparison\n",
        "fig = plt.figure(figsize = (16,7))\n",
        "plt.subplot(1,2,1)  \n",
        "plt.hist(test['ClaimNb'], bins=10)\n",
        "plt.xticks(rotation=45)\n",
        "plt.title('Claims histogram')\n",
        "plt.subplot(1,2,2)  \n",
        "plt.hist(test['ClaimNb_pred'], bins=10)\n",
        "plt.xticks(rotation=45)\n",
        "plt.title('Claims prediction histogram')\n",
        "plt.show()"
      ],
      "metadata": {
        "id": "AxrmWlvQalqT",
        "colab": {
          "base_uri": "https://localhost:8080/",
          "height": 462
        },
        "outputId": "90d45013-e9d7-4a07-b0cb-6ccce0c38dda"
      },
      "execution_count": null,
      "outputs": [
        {
          "output_type": "display_data",
          "data": {
            "text/plain": [
              "<Figure size 1152x504 with 2 Axes>"
            ],
            "image/png": "[encoded data removed]"
          },
          "metadata": {
            "needs_background": "light"
          }
        }
      ]
    },
    {
      "cell_type": "code",
      "source": [
        "# Claims and claims predicted comparison on features\n",
        "plt.rcParams[\"figure.figsize\"] = (10,5)\n",
        "test_group_oa = test.groupby(['OwnerAge'])['ClaimNb','ClaimNb_pred'].sum().reset_index()\n",
        "test_group_oa.plot(x='OwnerAge',y= ['ClaimNb','ClaimNb_pred'])\n",
        "plt.xticks(rotation=45)\n",
        "plt.ylabel('Number of Claims')\n",
        "plt.xlabel('OwnerAge')\n",
        "plt.title('Claims - OwnerAge on test data')\n",
        "plt.show()\n",
        "test_group_va = test.groupby(['VehAge'])['ClaimNb','ClaimNb_pred'].sum().reset_index()\n",
        "test_group_va.plot(x='VehAge',y= ['ClaimNb','ClaimNb_pred'])\n",
        "plt.xticks(rotation=45)\n",
        "plt.ylabel('Number of Claims')\n",
        "plt.xlabel('VehAge')\n",
        "plt.title('Claims - VehAge on test data')\n",
        "plt.show()\n",
        "test_group_ge = test.groupby(['Gender'])['ClaimNb','ClaimNb_pred'].sum().reset_index()\n",
        "test_group_ge.plot.bar(x='Gender',y= ['ClaimNb','ClaimNb_pred'])\n",
        "plt.xticks(rotation=45)\n",
        "plt.ylabel('Number of Claims')\n",
        "plt.xlabel('Gender')\n",
        "plt.title('Claims - Gender on test data')\n",
        "plt.show()\n",
        "test_group_rc = test.groupby(['RiskClass'])['ClaimNb','ClaimNb_pred'].sum().reset_index()\n",
        "test_group_rc.plot.bar(x='RiskClass',y= ['ClaimNb','ClaimNb_pred'])\n",
        "plt.xticks(rotation=45)\n",
        "plt.ylabel('Number of Claims')\n",
        "plt.xlabel('RiskClass')\n",
        "plt.title('Claims - RiskClass on test data')\n",
        "plt.show()\n",
        "test_group_a = test.groupby(['Area'])['ClaimNb','ClaimNb_pred'].sum().reset_index()\n",
        "test_group_a.plot.bar(x='Area',y= ['ClaimNb','ClaimNb_pred'])\n",
        "plt.xticks(rotation=90)\n",
        "plt.ylabel('Number of Claims')\n",
        "plt.xlabel('Area')\n",
        "plt.title('Claims - Area on test data')\n",
        "plt.show()\n",
        "test_group_bc = test.groupby(['BonusClass'])['ClaimNb','ClaimNb_pred'].sum().reset_index()\n",
        "test_group_bc.plot.bar(x='BonusClass',y= ['ClaimNb','ClaimNb_pred'])\n",
        "plt.xticks(rotation=45)\n",
        "plt.ylabel('Number of Claims')\n",
        "plt.xlabel('BonusClass')\n",
        "plt.title('Claims - BonusClass on test data')\n",
        "plt.show()\n"
      ],
      "metadata": {
        "id": "u5d3Kjyrap-Y",
        "colab": {
          "base_uri": "https://localhost:8080/",
          "height": 1000
        },
        "outputId": "4f9564e4-3c53-42c0-9767-409bc2e5c456"
      },
      "execution_count": null,
      "outputs": [
        {
          "output_type": "display_data",
          "data": {
            "text/plain": [
              "<Figure size 720x360 with 1 Axes>"
            ],
            "image/png": "[encoded data removed]"
          },
          "metadata": {
            "needs_background": "light"
          }
        },
        {
          "output_type": "display_data",
          "data": {
            "text/plain": [
              "<Figure size 720x360 with 1 Axes>"
            ],
            "image/png": "[encoded data removed]"
          },
          "metadata": {
            "needs_background": "light"
          }
        },
        {
          "output_type": "display_data",
          "data": {
            "text/plain": [
              "<Figure size 720x360 with 1 Axes>"
            ],
            "image/png": "[encoded data removed]"
          },
          "metadata": {
            "needs_background": "light"
          }
        },
        {
          "output_type": "display_data",
          "data": {
            "text/plain": [
              "<Figure size 720x360 with 1 Axes>"
            ],
            "image/png": "[encoded data removed]"
          },
          "metadata": {
            "needs_background": "light"
          }
        },
        {
          "output_type": "display_data",
          "data": {
            "text/plain": [
              "<Figure size 720x360 with 1 Axes>"
            ],
            "image/png": "[encoded data removed]"
          },
          "metadata": {
            "needs_background": "light"
          }
        },
        {
          "output_type": "display_data",
          "data": {
            "text/plain": [
              "<Figure size 720x360 with 1 Axes>"
            ],
            "image/png": "[encoded data removed]"
          },
          "metadata": {
            "needs_background": "light"
          }
        }
      ]
    }
  ]
}