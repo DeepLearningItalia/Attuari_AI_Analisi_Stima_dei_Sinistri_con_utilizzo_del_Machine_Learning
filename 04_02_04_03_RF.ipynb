{
  "nbformat": 4,
  "nbformat_minor": 0,
  "metadata": {
    "colab": {
      "provenance": [],
      "collapsed_sections": []
    },
    "kernelspec": {
      "name": "python3",
      "display_name": "Python 3"
    },
    "language_info": {
      "name": "python"
    },
    "accelerator": "GPU",
    "gpuClass": "standard"
  },
  "cells": [
    {
      "cell_type": "markdown",
      "source": [
        "# **Number of Claims Estimation with Random Forest (RF)**"
      ],
      "metadata": {
        "id": "x1EhzwW7gRai"
      }
    },
    {
      "cell_type": "markdown",
      "source": [
        "Random Forest is based on ensemble approach. It starts creating multiple copies of the original training data set using the bootstrap, fitting decorrelated decision tree to each copy, and then average all of trees in order to create a single predictive model. \n",
        "\n",
        "References:\n",
        "\n",
        "-[\"Case Study: French Motor Third-Party Liability Claims\"](https://papers.ssrn.com/sol3/papers.cfm?abstract_id=3164764), Mario V. Wuthrich, Alexander Noll, Robert Salzmann;\n",
        "\n",
        "-[\"Data Analytics for Non-Life Insurance Pricing\"](https://papers.ssrn.com/sol3/papers.cfm?abstract_id=2870308), Mario V. Wuthrich, Christoph Buser;\n",
        "\n",
        "-[\"Statistical Foundations of Actuarial Learning and its Applications\"](https://papers.ssrn.com/sol3/papers.cfm?abstract_id=3822407), Mario V. Wuthrich, Michael Merz"
      ],
      "metadata": {
        "id": "RbCgE3UM8VwQ"
      }
    },
    {
      "cell_type": "markdown",
      "source": [
        "# Upload Libraries"
      ],
      "metadata": {
        "id": "JBFt8eBnSLGW"
      }
    },
    {
      "cell_type": "code",
      "source": [
        "!pip install h2o"
      ],
      "metadata": {
        "id": "DOw45HwKXCrA",
        "colab": {
          "base_uri": "https://localhost:8080/"
        },
        "outputId": "466bb037-18c6-47b7-f89d-7a3d4ce39ef7"
      },
      "execution_count": null,
      "outputs": [
        {
          "output_type": "stream",
          "name": "stdout",
          "text": [
            "Looking in indexes: https://pypi.org/simple, https://us-python.pkg.dev/colab-wheels/public/simple/\n",
            "Collecting h2o\n",
            "  Downloading h2o-3.38.0.1.tar.gz (177.2 MB)\n",
            "\u001b[K     |████████████████████████████████| 177.2 MB 42 kB/s \n",
            "\u001b[?25hRequirement already satisfied: requests in /usr/local/lib/python3.7/dist-packages (from h2o) (2.23.0)\n",
            "Requirement already satisfied: tabulate in /usr/local/lib/python3.7/dist-packages (from h2o) (0.8.10)\n",
            "Requirement already satisfied: future in /usr/local/lib/python3.7/dist-packages (from h2o) (0.16.0)\n",
            "Requirement already satisfied: chardet<4,>=3.0.2 in /usr/local/lib/python3.7/dist-packages (from requests->h2o) (3.0.4)\n",
            "Requirement already satisfied: urllib3!=1.25.0,!=1.25.1,<1.26,>=1.21.1 in /usr/local/lib/python3.7/dist-packages (from requests->h2o) (1.24.3)\n",
            "Requirement already satisfied: idna<3,>=2.5 in /usr/local/lib/python3.7/dist-packages (from requests->h2o) (2.10)\n",
            "Requirement already satisfied: certifi>=2017.4.17 in /usr/local/lib/python3.7/dist-packages (from requests->h2o) (2022.9.24)\n",
            "Building wheels for collected packages: h2o\n",
            "  Building wheel for h2o (setup.py) ... \u001b[?25l\u001b[?25hdone\n",
            "  Created wheel for h2o: filename=h2o-3.38.0.1-py2.py3-none-any.whl size=177276478 sha256=819310e153fc3d8ba6cb92614b8c98d62ebeb6730fcb722c8a0c456996d38dc1\n",
            "  Stored in directory: /root/.cache/pip/wheels/a1/a1/d9/bb37df368c4635a707e7362d1088450b606041f05aeba5f173\n",
            "Successfully built h2o\n",
            "Installing collected packages: h2o\n",
            "Successfully installed h2o-3.38.0.1\n"
          ]
        }
      ]
    },
    {
      "cell_type": "code",
      "execution_count": null,
      "metadata": {
        "id": "lVwNOaoL3_xS"
      },
      "outputs": [],
      "source": [
        "# handling datasets\n",
        "import numpy as np\n",
        "import pandas as pd\n",
        "# plotting\n",
        "import matplotlib.pyplot as plt\n",
        "%matplotlib inline\n",
        "import seaborn as sns\n",
        "# modelling, evaluation\n",
        "import sklearn\n",
        "from sklearn.metrics import mean_poisson_deviance\n",
        "from sklearn.metrics import mean_squared_error\n",
        "from sklearn.model_selection import train_test_split\n",
        "import h2o\n",
        "from h2o.estimators import H2ORandomForestEstimator\n",
        "from h2o.grid.grid_search import H2OGridSearch\n",
        "\n",
        "import warnings\n",
        "warnings.filterwarnings('ignore', category=FutureWarning)\n"
      ]
    },
    {
      "cell_type": "markdown",
      "source": [
        "# Upload File"
      ],
      "metadata": {
        "id": "5YfXq9PnAdpx"
      }
    },
    {
      "cell_type": "code",
      "source": [
        "from google.colab import files \n",
        "uploaded = files.upload()"
      ],
      "metadata": {
        "id": "i9Q2mLHi-d_m",
        "colab": {
          "base_uri": "https://localhost:8080/",
          "height": 74
        },
        "outputId": "c76b4bc0-0302-4a95-9bd7-307bc6550283"
      },
      "execution_count": null,
      "outputs": [
        {
          "output_type": "display_data",
          "data": {
            "text/plain": [
              "<IPython.core.display.HTML object>"
            ],
            "text/html": [
              "\n",
              "     <input type=\"file\" id=\"files-24db403a-cf66-49cb-ac60-d5cd11d6269a\" name=\"files[]\" multiple disabled\n",
              "        style=\"border:none\" />\n",
              "     <output id=\"result-24db403a-cf66-49cb-ac60-d5cd11d6269a\">\n",
              "      Upload widget is only available when the cell has been executed in the\n",
              "      current browser session. Please rerun this cell to enable.\n",
              "      </output>\n",
              "      <script>// Copyright 2017 Google LLC\n",
              "//\n",
              "// Licensed under the Apache License, Version 2.0 (the \"License\");\n",
              "// you may not use this file except in compliance with the License.\n",
              "// You may obtain a copy of the License at\n",
              "//\n",
              "//      http://www.apache.org/licenses/LICENSE-2.0\n",
              "//\n",
              "// Unless required by applicable law or agreed to in writing, software\n",
              "// distributed under the License is distributed on an \"AS IS\" BASIS,\n",
              "// WITHOUT WARRANTIES OR CONDITIONS OF ANY KIND, either express or implied.\n",
              "// See the License for the specific language governing permissions and\n",
              "// limitations under the License.\n",
              "\n",
              "/**\n",
              " * @fileoverview Helpers for google.colab Python module.\n",
              " */\n",
              "(function(scope) {\n",
              "function span(text, styleAttributes = {}) {\n",
              "  const element = document.createElement('span');\n",
              "  element.textContent = text;\n",
              "  for (const key of Object.keys(styleAttributes)) {\n",
              "    element.style[key] = styleAttributes[key];\n",
              "  }\n",
              "  return element;\n",
              "}\n",
              "\n",
              "// Max number of bytes which will be uploaded at a time.\n",
              "const MAX_PAYLOAD_SIZE = 100 * 1024;\n",
              "\n",
              "function _uploadFiles(inputId, outputId) {\n",
              "  const steps = uploadFilesStep(inputId, outputId);\n",
              "  const outputElement = document.getElementById(outputId);\n",
              "  // Cache steps on the outputElement to make it available for the next call\n",
              "  // to uploadFilesContinue from Python.\n",
              "  outputElement.steps = steps;\n",
              "\n",
              "  return _uploadFilesContinue(outputId);\n",
              "}\n",
              "\n",
              "// This is roughly an async generator (not supported in the browser yet),\n",
              "// where there are multiple asynchronous steps and the Python side is going\n",
              "// to poll for completion of each step.\n",
              "// This uses a Promise to block the python side on completion of each step,\n",
              "// then passes the result of the previous step as the input to the next step.\n",
              "function _uploadFilesContinue(outputId) {\n",
              "  const outputElement = document.getElementById(outputId);\n",
              "  const steps = outputElement.steps;\n",
              "\n",
              "  const next = steps.next(outputElement.lastPromiseValue);\n",
              "  return Promise.resolve(next.value.promise).then((value) => {\n",
              "    // Cache the last promise value to make it available to the next\n",
              "    // step of the generator.\n",
              "    outputElement.lastPromiseValue = value;\n",
              "    return next.value.response;\n",
              "  });\n",
              "}\n",
              "\n",
              "/**\n",
              " * Generator function which is called between each async step of the upload\n",
              " * process.\n",
              " * @param {string} inputId Element ID of the input file picker element.\n",
              " * @param {string} outputId Element ID of the output display.\n",
              " * @return {!Iterable<!Object>} Iterable of next steps.\n",
              " */\n",
              "function* uploadFilesStep(inputId, outputId) {\n",
              "  const inputElement = document.getElementById(inputId);\n",
              "  inputElement.disabled = false;\n",
              "\n",
              "  const outputElement = document.getElementById(outputId);\n",
              "  outputElement.innerHTML = '';\n",
              "\n",
              "  const pickedPromise = new Promise((resolve) => {\n",
              "    inputElement.addEventListener('change', (e) => {\n",
              "      resolve(e.target.files);\n",
              "    });\n",
              "  });\n",
              "\n",
              "  const cancel = document.createElement('button');\n",
              "  inputElement.parentElement.appendChild(cancel);\n",
              "  cancel.textContent = 'Cancel upload';\n",
              "  const cancelPromise = new Promise((resolve) => {\n",
              "    cancel.onclick = () => {\n",
              "      resolve(null);\n",
              "    };\n",
              "  });\n",
              "\n",
              "  // Wait for the user to pick the files.\n",
              "  const files = yield {\n",
              "    promise: Promise.race([pickedPromise, cancelPromise]),\n",
              "    response: {\n",
              "      action: 'starting',\n",
              "    }\n",
              "  };\n",
              "\n",
              "  cancel.remove();\n",
              "\n",
              "  // Disable the input element since further picks are not allowed.\n",
              "  inputElement.disabled = true;\n",
              "\n",
              "  if (!files) {\n",
              "    return {\n",
              "      response: {\n",
              "        action: 'complete',\n",
              "      }\n",
              "    };\n",
              "  }\n",
              "\n",
              "  for (const file of files) {\n",
              "    const li = document.createElement('li');\n",
              "    li.append(span(file.name, {fontWeight: 'bold'}));\n",
              "    li.append(span(\n",
              "        `(${file.type || 'n/a'}) - ${file.size} bytes, ` +\n",
              "        `last modified: ${\n",
              "            file.lastModifiedDate ? file.lastModifiedDate.toLocaleDateString() :\n",
              "                                    'n/a'} - `));\n",
              "    const percent = span('0% done');\n",
              "    li.appendChild(percent);\n",
              "\n",
              "    outputElement.appendChild(li);\n",
              "\n",
              "    const fileDataPromise = new Promise((resolve) => {\n",
              "      const reader = new FileReader();\n",
              "      reader.onload = (e) => {\n",
              "        resolve(e.target.result);\n",
              "      };\n",
              "      reader.readAsArrayBuffer(file);\n",
              "    });\n",
              "    // Wait for the data to be ready.\n",
              "    let fileData = yield {\n",
              "      promise: fileDataPromise,\n",
              "      response: {\n",
              "        action: 'continue',\n",
              "      }\n",
              "    };\n",
              "\n",
              "    // Use a chunked sending to avoid message size limits. See b/62115660.\n",
              "    let position = 0;\n",
              "    do {\n",
              "      const length = Math.min(fileData.byteLength - position, MAX_PAYLOAD_SIZE);\n",
              "      const chunk = new Uint8Array(fileData, position, length);\n",
              "      position += length;\n",
              "\n",
              "      const base64 = btoa(String.fromCharCode.apply(null, chunk));\n",
              "      yield {\n",
              "        response: {\n",
              "          action: 'append',\n",
              "          file: file.name,\n",
              "          data: base64,\n",
              "        },\n",
              "      };\n",
              "\n",
              "      let percentDone = fileData.byteLength === 0 ?\n",
              "          100 :\n",
              "          Math.round((position / fileData.byteLength) * 100);\n",
              "      percent.textContent = `${percentDone}% done`;\n",
              "\n",
              "    } while (position < fileData.byteLength);\n",
              "  }\n",
              "\n",
              "  // All done.\n",
              "  yield {\n",
              "    response: {\n",
              "      action: 'complete',\n",
              "    }\n",
              "  };\n",
              "}\n",
              "\n",
              "scope.google = scope.google || {};\n",
              "scope.google.colab = scope.google.colab || {};\n",
              "scope.google.colab._files = {\n",
              "  _uploadFiles,\n",
              "  _uploadFilesContinue,\n",
              "};\n",
              "})(self);\n",
              "</script> "
            ]
          },
          "metadata": {}
        },
        {
          "output_type": "stream",
          "name": "stdout",
          "text": [
            "Saving swmotorcycle_ClaimNb.csv to swmotorcycle_ClaimNb.csv\n"
          ]
        }
      ]
    },
    {
      "cell_type": "code",
      "source": [
        "# Reading File\n",
        "df = pd.read_csv('swmotorcycle_ClaimNb.csv')"
      ],
      "metadata": {
        "id": "hJC1ZvbJ-ftM"
      },
      "execution_count": null,
      "outputs": []
    },
    {
      "cell_type": "markdown",
      "source": [
        "# Data Set Overview"
      ],
      "metadata": {
        "id": "skmaGg75QNRt"
      }
    },
    {
      "cell_type": "code",
      "source": [
        "# Dimensions of data set\n",
        "print(df.shape)"
      ],
      "metadata": {
        "id": "Y7LI1nVh_loI",
        "colab": {
          "base_uri": "https://localhost:8080/"
        },
        "outputId": "95bb50d4-b33c-4709-9ecb-f4156f13a57c"
      },
      "execution_count": null,
      "outputs": [
        {
          "output_type": "stream",
          "name": "stdout",
          "text": [
            "(64548, 8)\n"
          ]
        }
      ]
    },
    {
      "cell_type": "code",
      "source": [
        "# List types for each attribute\n",
        "print(df.info())"
      ],
      "metadata": {
        "id": "Pu87x81Z_lqt",
        "colab": {
          "base_uri": "https://localhost:8080/"
        },
        "outputId": "64f4a0f4-3832-4fc9-9a03-d7d641ca2c03"
      },
      "execution_count": null,
      "outputs": [
        {
          "output_type": "stream",
          "name": "stdout",
          "text": [
            "<class 'pandas.core.frame.DataFrame'>\n",
            "RangeIndex: 64548 entries, 0 to 64547\n",
            "Data columns (total 8 columns):\n",
            " #   Column      Non-Null Count  Dtype  \n",
            "---  ------      --------------  -----  \n",
            " 0   OwnerAge    64548 non-null  int64  \n",
            " 1   Gender      64548 non-null  object \n",
            " 2   Area        64548 non-null  object \n",
            " 3   RiskClass   64548 non-null  object \n",
            " 4   VehAge      64548 non-null  int64  \n",
            " 5   BonusClass  64548 non-null  object \n",
            " 6   Exposure    64548 non-null  float64\n",
            " 7   ClaimNb     64548 non-null  int64  \n",
            "dtypes: float64(1), int64(3), object(4)\n",
            "memory usage: 3.9+ MB\n",
            "None\n"
          ]
        }
      ]
    },
    {
      "cell_type": "code",
      "source": [
        "# Take a peek at the first rows of the data\n",
        "df.head()"
      ],
      "metadata": {
        "id": "Pg3KgtmJ_lzm",
        "colab": {
          "base_uri": "https://localhost:8080/",
          "height": 206
        },
        "outputId": "74ca9d44-cfc6-4273-d2d2-f3ba55914f44"
      },
      "execution_count": null,
      "outputs": [
        {
          "output_type": "execute_result",
          "data": {
            "text/plain": [
              "   OwnerAge  Gender                                               Area  \\\n",
              "0         0    Male     Central parts of Sweden's three largest cities   \n",
              "1         4    Male        Lesser towns except Gotland; Northern towns   \n",
              "2         5  Female        Lesser towns except Gotland; Northern towns   \n",
              "3         5  Female  Small towns; countryside except Gotland; North...   \n",
              "4         6  Female                       Suburbs; middle-sized cities   \n",
              "\n",
              "        RiskClass  VehAge BonusClass  Exposure  ClaimNb  \n",
              "0  EV ratio 13-15      12        BM1  0.175342        0  \n",
              "1  EV ratio 20-24       9        BM1  0.000000        0  \n",
              "2   EV ratio 9-12      18        BM1  0.454795        0  \n",
              "3     EV ratio <5      25        BM1  0.172603        0  \n",
              "4     EV ratio <5      26        BM1  0.180822        0  "
            ],
            "text/html": [
              "\n",
              "  <div id=\"df-e49625ff-9399-4054-bbdb-9080d8655101\">\n",
              "    <div class=\"colab-df-container\">\n",
              "      <div>\n",
              "<style scoped>\n",
              "    .dataframe tbody tr th:only-of-type {\n",
              "        vertical-align: middle;\n",
              "    }\n",
              "\n",
              "    .dataframe tbody tr th {\n",
              "        vertical-align: top;\n",
              "    }\n",
              "\n",
              "    .dataframe thead th {\n",
              "        text-align: right;\n",
              "    }\n",
              "</style>\n",
              "<table border=\"1\" class=\"dataframe\">\n",
              "  <thead>\n",
              "    <tr style=\"text-align: right;\">\n",
              "      <th></th>\n",
              "      <th>OwnerAge</th>\n",
              "      <th>Gender</th>\n",
              "      <th>Area</th>\n",
              "      <th>RiskClass</th>\n",
              "      <th>VehAge</th>\n",
              "      <th>BonusClass</th>\n",
              "      <th>Exposure</th>\n",
              "      <th>ClaimNb</th>\n",
              "    </tr>\n",
              "  </thead>\n",
              "  <tbody>\n",
              "    <tr>\n",
              "      <th>0</th>\n",
              "      <td>0</td>\n",
              "      <td>Male</td>\n",
              "      <td>Central parts of Sweden's three largest cities</td>\n",
              "      <td>EV ratio 13-15</td>\n",
              "      <td>12</td>\n",
              "      <td>BM1</td>\n",
              "      <td>0.175342</td>\n",
              "      <td>0</td>\n",
              "    </tr>\n",
              "    <tr>\n",
              "      <th>1</th>\n",
              "      <td>4</td>\n",
              "      <td>Male</td>\n",
              "      <td>Lesser towns except Gotland; Northern towns</td>\n",
              "      <td>EV ratio 20-24</td>\n",
              "      <td>9</td>\n",
              "      <td>BM1</td>\n",
              "      <td>0.000000</td>\n",
              "      <td>0</td>\n",
              "    </tr>\n",
              "    <tr>\n",
              "      <th>2</th>\n",
              "      <td>5</td>\n",
              "      <td>Female</td>\n",
              "      <td>Lesser towns except Gotland; Northern towns</td>\n",
              "      <td>EV ratio 9-12</td>\n",
              "      <td>18</td>\n",
              "      <td>BM1</td>\n",
              "      <td>0.454795</td>\n",
              "      <td>0</td>\n",
              "    </tr>\n",
              "    <tr>\n",
              "      <th>3</th>\n",
              "      <td>5</td>\n",
              "      <td>Female</td>\n",
              "      <td>Small towns; countryside except Gotland; North...</td>\n",
              "      <td>EV ratio &lt;5</td>\n",
              "      <td>25</td>\n",
              "      <td>BM1</td>\n",
              "      <td>0.172603</td>\n",
              "      <td>0</td>\n",
              "    </tr>\n",
              "    <tr>\n",
              "      <th>4</th>\n",
              "      <td>6</td>\n",
              "      <td>Female</td>\n",
              "      <td>Suburbs; middle-sized cities</td>\n",
              "      <td>EV ratio &lt;5</td>\n",
              "      <td>26</td>\n",
              "      <td>BM1</td>\n",
              "      <td>0.180822</td>\n",
              "      <td>0</td>\n",
              "    </tr>\n",
              "  </tbody>\n",
              "</table>\n",
              "</div>\n",
              "      <button class=\"colab-df-convert\" onclick=\"convertToInteractive('df-e49625ff-9399-4054-bbdb-9080d8655101')\"\n",
              "              title=\"Convert this dataframe to an interactive table.\"\n",
              "              style=\"display:none;\">\n",
              "        \n",
              "  <svg xmlns=\"http://www.w3.org/2000/svg\" height=\"24px\"viewBox=\"0 0 24 24\"\n",
              "       width=\"24px\">\n",
              "    <path d=\"M0 0h24v24H0V0z\" fill=\"none\"/>\n",
              "    <path d=\"M18.56 5.44l.94 2.06.94-2.06 2.06-.94-2.06-.94-.94-2.06-.94 2.06-2.06.94zm-11 1L8.5 8.5l.94-2.06 2.06-.94-2.06-.94L8.5 2.5l-.94 2.06-2.06.94zm10 10l.94 2.06.94-2.06 2.06-.94-2.06-.94-.94-2.06-.94 2.06-2.06.94z\"/><path d=\"M17.41 7.96l-1.37-1.37c-.4-.4-.92-.59-1.43-.59-.52 0-1.04.2-1.43.59L10.3 9.45l-7.72 7.72c-.78.78-.78 2.05 0 2.83L4 21.41c.39.39.9.59 1.41.59.51 0 1.02-.2 1.41-.59l7.78-7.78 2.81-2.81c.8-.78.8-2.07 0-2.86zM5.41 20L4 18.59l7.72-7.72 1.47 1.35L5.41 20z\"/>\n",
              "  </svg>\n",
              "      </button>\n",
              "      \n",
              "  <style>\n",
              "    .colab-df-container {\n",
              "      display:flex;\n",
              "      flex-wrap:wrap;\n",
              "      gap: 12px;\n",
              "    }\n",
              "\n",
              "    .colab-df-convert {\n",
              "      background-color: #E8F0FE;\n",
              "      border: none;\n",
              "      border-radius: 50%;\n",
              "      cursor: pointer;\n",
              "      display: none;\n",
              "      fill: #1967D2;\n",
              "      height: 32px;\n",
              "      padding: 0 0 0 0;\n",
              "      width: 32px;\n",
              "    }\n",
              "\n",
              "    .colab-df-convert:hover {\n",
              "      background-color: #E2EBFA;\n",
              "      box-shadow: 0px 1px 2px rgba(60, 64, 67, 0.3), 0px 1px 3px 1px rgba(60, 64, 67, 0.15);\n",
              "      fill: #174EA6;\n",
              "    }\n",
              "\n",
              "    [theme=dark] .colab-df-convert {\n",
              "      background-color: #3B4455;\n",
              "      fill: #D2E3FC;\n",
              "    }\n",
              "\n",
              "    [theme=dark] .colab-df-convert:hover {\n",
              "      background-color: #434B5C;\n",
              "      box-shadow: 0px 1px 3px 1px rgba(0, 0, 0, 0.15);\n",
              "      filter: drop-shadow(0px 1px 2px rgba(0, 0, 0, 0.3));\n",
              "      fill: #FFFFFF;\n",
              "    }\n",
              "  </style>\n",
              "\n",
              "      <script>\n",
              "        const buttonEl =\n",
              "          document.querySelector('#df-e49625ff-9399-4054-bbdb-9080d8655101 button.colab-df-convert');\n",
              "        buttonEl.style.display =\n",
              "          google.colab.kernel.accessAllowed ? 'block' : 'none';\n",
              "\n",
              "        async function convertToInteractive(key) {\n",
              "          const element = document.querySelector('#df-e49625ff-9399-4054-bbdb-9080d8655101');\n",
              "          const dataTable =\n",
              "            await google.colab.kernel.invokeFunction('convertToInteractive',\n",
              "                                                     [key], {});\n",
              "          if (!dataTable) return;\n",
              "\n",
              "          const docLinkHtml = 'Like what you see? Visit the ' +\n",
              "            '<a target=\"_blank\" href=https://colab.research.google.com/notebooks/data_table.ipynb>data table notebook</a>'\n",
              "            + ' to learn more about interactive tables.';\n",
              "          element.innerHTML = '';\n",
              "          dataTable['output_type'] = 'display_data';\n",
              "          await google.colab.output.renderOutput(dataTable, element);\n",
              "          const docLink = document.createElement('div');\n",
              "          docLink.innerHTML = docLinkHtml;\n",
              "          element.appendChild(docLink);\n",
              "        }\n",
              "      </script>\n",
              "    </div>\n",
              "  </div>\n",
              "  "
            ]
          },
          "metadata": {},
          "execution_count": 7
        }
      ]
    },
    {
      "cell_type": "markdown",
      "source": [
        "# Summary Statistics"
      ],
      "metadata": {
        "id": "ohUWAsR1QW44"
      }
    },
    {
      "cell_type": "code",
      "source": [
        "# Summarize attribute distributions for data type of variables\n",
        "obj_cols = [var for var in df.columns if df[var].dtype=='object']\n",
        "df[obj_cols].describe().T"
      ],
      "metadata": {
        "id": "-5VW72YG_0kS",
        "colab": {
          "base_uri": "https://localhost:8080/",
          "height": 175
        },
        "outputId": "edbdb096-4d02-45d7-db8f-8b27d1ede801"
      },
      "execution_count": null,
      "outputs": [
        {
          "output_type": "execute_result",
          "data": {
            "text/plain": [
              "            count unique                                                top  \\\n",
              "Gender      64548      2                                               Male   \n",
              "Area        64548      7  Small towns; countryside except Gotland; North...   \n",
              "RiskClass   64548      7                                      EV ratio 9-12   \n",
              "BonusClass  64548      7                                                BM7   \n",
              "\n",
              "             freq  \n",
              "Gender      54695  \n",
              "Area        24816  \n",
              "RiskClass   18905  \n",
              "BonusClass  17953  "
            ],
            "text/html": [
              "\n",
              "  <div id=\"df-783c065a-ce30-4259-9f67-a93c2466cfa3\">\n",
              "    <div class=\"colab-df-container\">\n",
              "      <div>\n",
              "<style scoped>\n",
              "    .dataframe tbody tr th:only-of-type {\n",
              "        vertical-align: middle;\n",
              "    }\n",
              "\n",
              "    .dataframe tbody tr th {\n",
              "        vertical-align: top;\n",
              "    }\n",
              "\n",
              "    .dataframe thead th {\n",
              "        text-align: right;\n",
              "    }\n",
              "</style>\n",
              "<table border=\"1\" class=\"dataframe\">\n",
              "  <thead>\n",
              "    <tr style=\"text-align: right;\">\n",
              "      <th></th>\n",
              "      <th>count</th>\n",
              "      <th>unique</th>\n",
              "      <th>top</th>\n",
              "      <th>freq</th>\n",
              "    </tr>\n",
              "  </thead>\n",
              "  <tbody>\n",
              "    <tr>\n",
              "      <th>Gender</th>\n",
              "      <td>64548</td>\n",
              "      <td>2</td>\n",
              "      <td>Male</td>\n",
              "      <td>54695</td>\n",
              "    </tr>\n",
              "    <tr>\n",
              "      <th>Area</th>\n",
              "      <td>64548</td>\n",
              "      <td>7</td>\n",
              "      <td>Small towns; countryside except Gotland; North...</td>\n",
              "      <td>24816</td>\n",
              "    </tr>\n",
              "    <tr>\n",
              "      <th>RiskClass</th>\n",
              "      <td>64548</td>\n",
              "      <td>7</td>\n",
              "      <td>EV ratio 9-12</td>\n",
              "      <td>18905</td>\n",
              "    </tr>\n",
              "    <tr>\n",
              "      <th>BonusClass</th>\n",
              "      <td>64548</td>\n",
              "      <td>7</td>\n",
              "      <td>BM7</td>\n",
              "      <td>17953</td>\n",
              "    </tr>\n",
              "  </tbody>\n",
              "</table>\n",
              "</div>\n",
              "      <button class=\"colab-df-convert\" onclick=\"convertToInteractive('df-783c065a-ce30-4259-9f67-a93c2466cfa3')\"\n",
              "              title=\"Convert this dataframe to an interactive table.\"\n",
              "              style=\"display:none;\">\n",
              "        \n",
              "  <svg xmlns=\"http://www.w3.org/2000/svg\" height=\"24px\"viewBox=\"0 0 24 24\"\n",
              "       width=\"24px\">\n",
              "    <path d=\"M0 0h24v24H0V0z\" fill=\"none\"/>\n",
              "    <path d=\"M18.56 5.44l.94 2.06.94-2.06 2.06-.94-2.06-.94-.94-2.06-.94 2.06-2.06.94zm-11 1L8.5 8.5l.94-2.06 2.06-.94-2.06-.94L8.5 2.5l-.94 2.06-2.06.94zm10 10l.94 2.06.94-2.06 2.06-.94-2.06-.94-.94-2.06-.94 2.06-2.06.94z\"/><path d=\"M17.41 7.96l-1.37-1.37c-.4-.4-.92-.59-1.43-.59-.52 0-1.04.2-1.43.59L10.3 9.45l-7.72 7.72c-.78.78-.78 2.05 0 2.83L4 21.41c.39.39.9.59 1.41.59.51 0 1.02-.2 1.41-.59l7.78-7.78 2.81-2.81c.8-.78.8-2.07 0-2.86zM5.41 20L4 18.59l7.72-7.72 1.47 1.35L5.41 20z\"/>\n",
              "  </svg>\n",
              "      </button>\n",
              "      \n",
              "  <style>\n",
              "    .colab-df-container {\n",
              "      display:flex;\n",
              "      flex-wrap:wrap;\n",
              "      gap: 12px;\n",
              "    }\n",
              "\n",
              "    .colab-df-convert {\n",
              "      background-color: #E8F0FE;\n",
              "      border: none;\n",
              "      border-radius: 50%;\n",
              "      cursor: pointer;\n",
              "      display: none;\n",
              "      fill: #1967D2;\n",
              "      height: 32px;\n",
              "      padding: 0 0 0 0;\n",
              "      width: 32px;\n",
              "    }\n",
              "\n",
              "    .colab-df-convert:hover {\n",
              "      background-color: #E2EBFA;\n",
              "      box-shadow: 0px 1px 2px rgba(60, 64, 67, 0.3), 0px 1px 3px 1px rgba(60, 64, 67, 0.15);\n",
              "      fill: #174EA6;\n",
              "    }\n",
              "\n",
              "    [theme=dark] .colab-df-convert {\n",
              "      background-color: #3B4455;\n",
              "      fill: #D2E3FC;\n",
              "    }\n",
              "\n",
              "    [theme=dark] .colab-df-convert:hover {\n",
              "      background-color: #434B5C;\n",
              "      box-shadow: 0px 1px 3px 1px rgba(0, 0, 0, 0.15);\n",
              "      filter: drop-shadow(0px 1px 2px rgba(0, 0, 0, 0.3));\n",
              "      fill: #FFFFFF;\n",
              "    }\n",
              "  </style>\n",
              "\n",
              "      <script>\n",
              "        const buttonEl =\n",
              "          document.querySelector('#df-783c065a-ce30-4259-9f67-a93c2466cfa3 button.colab-df-convert');\n",
              "        buttonEl.style.display =\n",
              "          google.colab.kernel.accessAllowed ? 'block' : 'none';\n",
              "\n",
              "        async function convertToInteractive(key) {\n",
              "          const element = document.querySelector('#df-783c065a-ce30-4259-9f67-a93c2466cfa3');\n",
              "          const dataTable =\n",
              "            await google.colab.kernel.invokeFunction('convertToInteractive',\n",
              "                                                     [key], {});\n",
              "          if (!dataTable) return;\n",
              "\n",
              "          const docLinkHtml = 'Like what you see? Visit the ' +\n",
              "            '<a target=\"_blank\" href=https://colab.research.google.com/notebooks/data_table.ipynb>data table notebook</a>'\n",
              "            + ' to learn more about interactive tables.';\n",
              "          element.innerHTML = '';\n",
              "          dataTable['output_type'] = 'display_data';\n",
              "          await google.colab.output.renderOutput(dataTable, element);\n",
              "          const docLink = document.createElement('div');\n",
              "          docLink.innerHTML = docLinkHtml;\n",
              "          element.appendChild(docLink);\n",
              "        }\n",
              "      </script>\n",
              "    </div>\n",
              "  </div>\n",
              "  "
            ]
          },
          "metadata": {},
          "execution_count": 8
        }
      ]
    },
    {
      "cell_type": "code",
      "source": [
        "# Summarize attribute distributions for data type of variables\n",
        "no_obj_cols = [var for var in df.columns if df[var].dtype!='object']\n",
        "df[no_obj_cols].describe().T"
      ],
      "metadata": {
        "id": "BzwpsBtqABTC",
        "colab": {
          "base_uri": "https://localhost:8080/",
          "height": 175
        },
        "outputId": "f5be05d4-814c-43ca-ffd1-3297af5f6e24"
      },
      "execution_count": null,
      "outputs": [
        {
          "output_type": "execute_result",
          "data": {
            "text/plain": [
              "            count       mean        std  min        25%        50%   75%  \\\n",
              "OwnerAge  64548.0  42.416062  12.980960  0.0  31.000000  44.000000  52.0   \n",
              "VehAge    64548.0  12.540063   9.727445  0.0   5.000000  12.000000  16.0   \n",
              "Exposure  64548.0   1.010671   1.307424  0.0   0.463014   0.827397   1.0   \n",
              "ClaimNb   64548.0   0.010798   0.107323  0.0   0.000000   0.000000   0.0   \n",
              "\n",
              "               max  \n",
              "OwnerAge  92.00000  \n",
              "VehAge    99.00000  \n",
              "Exposure  31.33973  \n",
              "ClaimNb    2.00000  "
            ],
            "text/html": [
              "\n",
              "  <div id=\"df-28ef8923-325b-412f-8111-1406bb5da28c\">\n",
              "    <div class=\"colab-df-container\">\n",
              "      <div>\n",
              "<style scoped>\n",
              "    .dataframe tbody tr th:only-of-type {\n",
              "        vertical-align: middle;\n",
              "    }\n",
              "\n",
              "    .dataframe tbody tr th {\n",
              "        vertical-align: top;\n",
              "    }\n",
              "\n",
              "    .dataframe thead th {\n",
              "        text-align: right;\n",
              "    }\n",
              "</style>\n",
              "<table border=\"1\" class=\"dataframe\">\n",
              "  <thead>\n",
              "    <tr style=\"text-align: right;\">\n",
              "      <th></th>\n",
              "      <th>count</th>\n",
              "      <th>mean</th>\n",
              "      <th>std</th>\n",
              "      <th>min</th>\n",
              "      <th>25%</th>\n",
              "      <th>50%</th>\n",
              "      <th>75%</th>\n",
              "      <th>max</th>\n",
              "    </tr>\n",
              "  </thead>\n",
              "  <tbody>\n",
              "    <tr>\n",
              "      <th>OwnerAge</th>\n",
              "      <td>64548.0</td>\n",
              "      <td>42.416062</td>\n",
              "      <td>12.980960</td>\n",
              "      <td>0.0</td>\n",
              "      <td>31.000000</td>\n",
              "      <td>44.000000</td>\n",
              "      <td>52.0</td>\n",
              "      <td>92.00000</td>\n",
              "    </tr>\n",
              "    <tr>\n",
              "      <th>VehAge</th>\n",
              "      <td>64548.0</td>\n",
              "      <td>12.540063</td>\n",
              "      <td>9.727445</td>\n",
              "      <td>0.0</td>\n",
              "      <td>5.000000</td>\n",
              "      <td>12.000000</td>\n",
              "      <td>16.0</td>\n",
              "      <td>99.00000</td>\n",
              "    </tr>\n",
              "    <tr>\n",
              "      <th>Exposure</th>\n",
              "      <td>64548.0</td>\n",
              "      <td>1.010671</td>\n",
              "      <td>1.307424</td>\n",
              "      <td>0.0</td>\n",
              "      <td>0.463014</td>\n",
              "      <td>0.827397</td>\n",
              "      <td>1.0</td>\n",
              "      <td>31.33973</td>\n",
              "    </tr>\n",
              "    <tr>\n",
              "      <th>ClaimNb</th>\n",
              "      <td>64548.0</td>\n",
              "      <td>0.010798</td>\n",
              "      <td>0.107323</td>\n",
              "      <td>0.0</td>\n",
              "      <td>0.000000</td>\n",
              "      <td>0.000000</td>\n",
              "      <td>0.0</td>\n",
              "      <td>2.00000</td>\n",
              "    </tr>\n",
              "  </tbody>\n",
              "</table>\n",
              "</div>\n",
              "      <button class=\"colab-df-convert\" onclick=\"convertToInteractive('df-28ef8923-325b-412f-8111-1406bb5da28c')\"\n",
              "              title=\"Convert this dataframe to an interactive table.\"\n",
              "              style=\"display:none;\">\n",
              "        \n",
              "  <svg xmlns=\"http://www.w3.org/2000/svg\" height=\"24px\"viewBox=\"0 0 24 24\"\n",
              "       width=\"24px\">\n",
              "    <path d=\"M0 0h24v24H0V0z\" fill=\"none\"/>\n",
              "    <path d=\"M18.56 5.44l.94 2.06.94-2.06 2.06-.94-2.06-.94-.94-2.06-.94 2.06-2.06.94zm-11 1L8.5 8.5l.94-2.06 2.06-.94-2.06-.94L8.5 2.5l-.94 2.06-2.06.94zm10 10l.94 2.06.94-2.06 2.06-.94-2.06-.94-.94-2.06-.94 2.06-2.06.94z\"/><path d=\"M17.41 7.96l-1.37-1.37c-.4-.4-.92-.59-1.43-.59-.52 0-1.04.2-1.43.59L10.3 9.45l-7.72 7.72c-.78.78-.78 2.05 0 2.83L4 21.41c.39.39.9.59 1.41.59.51 0 1.02-.2 1.41-.59l7.78-7.78 2.81-2.81c.8-.78.8-2.07 0-2.86zM5.41 20L4 18.59l7.72-7.72 1.47 1.35L5.41 20z\"/>\n",
              "  </svg>\n",
              "      </button>\n",
              "      \n",
              "  <style>\n",
              "    .colab-df-container {\n",
              "      display:flex;\n",
              "      flex-wrap:wrap;\n",
              "      gap: 12px;\n",
              "    }\n",
              "\n",
              "    .colab-df-convert {\n",
              "      background-color: #E8F0FE;\n",
              "      border: none;\n",
              "      border-radius: 50%;\n",
              "      cursor: pointer;\n",
              "      display: none;\n",
              "      fill: #1967D2;\n",
              "      height: 32px;\n",
              "      padding: 0 0 0 0;\n",
              "      width: 32px;\n",
              "    }\n",
              "\n",
              "    .colab-df-convert:hover {\n",
              "      background-color: #E2EBFA;\n",
              "      box-shadow: 0px 1px 2px rgba(60, 64, 67, 0.3), 0px 1px 3px 1px rgba(60, 64, 67, 0.15);\n",
              "      fill: #174EA6;\n",
              "    }\n",
              "\n",
              "    [theme=dark] .colab-df-convert {\n",
              "      background-color: #3B4455;\n",
              "      fill: #D2E3FC;\n",
              "    }\n",
              "\n",
              "    [theme=dark] .colab-df-convert:hover {\n",
              "      background-color: #434B5C;\n",
              "      box-shadow: 0px 1px 3px 1px rgba(0, 0, 0, 0.15);\n",
              "      filter: drop-shadow(0px 1px 2px rgba(0, 0, 0, 0.3));\n",
              "      fill: #FFFFFF;\n",
              "    }\n",
              "  </style>\n",
              "\n",
              "      <script>\n",
              "        const buttonEl =\n",
              "          document.querySelector('#df-28ef8923-325b-412f-8111-1406bb5da28c button.colab-df-convert');\n",
              "        buttonEl.style.display =\n",
              "          google.colab.kernel.accessAllowed ? 'block' : 'none';\n",
              "\n",
              "        async function convertToInteractive(key) {\n",
              "          const element = document.querySelector('#df-28ef8923-325b-412f-8111-1406bb5da28c');\n",
              "          const dataTable =\n",
              "            await google.colab.kernel.invokeFunction('convertToInteractive',\n",
              "                                                     [key], {});\n",
              "          if (!dataTable) return;\n",
              "\n",
              "          const docLinkHtml = 'Like what you see? Visit the ' +\n",
              "            '<a target=\"_blank\" href=https://colab.research.google.com/notebooks/data_table.ipynb>data table notebook</a>'\n",
              "            + ' to learn more about interactive tables.';\n",
              "          element.innerHTML = '';\n",
              "          dataTable['output_type'] = 'display_data';\n",
              "          await google.colab.output.renderOutput(dataTable, element);\n",
              "          const docLink = document.createElement('div');\n",
              "          docLink.innerHTML = docLinkHtml;\n",
              "          element.appendChild(docLink);\n",
              "        }\n",
              "      </script>\n",
              "    </div>\n",
              "  </div>\n",
              "  "
            ]
          },
          "metadata": {},
          "execution_count": 9
        }
      ]
    },
    {
      "cell_type": "markdown",
      "source": [
        "# Data Cleaning"
      ],
      "metadata": {
        "id": "HwyJntlJUgdT"
      }
    },
    {
      "cell_type": "code",
      "source": [
        "# get number of unique values for each column\n",
        "counts = df.nunique()\n",
        "# record columns to delete\n",
        "to_del = [i for i,v in enumerate(counts) if v == 1]\n",
        "print(to_del)\n",
        "# drop useless columns\n",
        "df.drop(to_del, axis=1, inplace=True)\n",
        "print(df.shape)"
      ],
      "metadata": {
        "id": "KPYovd_bAUqp",
        "colab": {
          "base_uri": "https://localhost:8080/"
        },
        "outputId": "733f99a5-feb1-4b83-a0f0-623ee35a7180"
      },
      "execution_count": null,
      "outputs": [
        {
          "output_type": "stream",
          "name": "stdout",
          "text": [
            "[]\n",
            "(64548, 8)\n"
          ]
        }
      ]
    },
    {
      "cell_type": "code",
      "source": [
        "# get number of unique values for each row\n",
        "counts = df.duplicated()\n",
        "# record rows to delete\n",
        "to_del = [i for i,v in enumerate(counts) if v == 1]\n",
        "print(to_del)\n",
        "print(df.shape)"
      ],
      "metadata": {
        "id": "x-5PSTq2BfwM",
        "colab": {
          "base_uri": "https://localhost:8080/"
        },
        "outputId": "899d3005-e7d7-4844-c2f3-2065e2203d23"
      },
      "execution_count": null,
      "outputs": [
        {
          "output_type": "stream",
          "name": "stdout",
          "text": [
            "[]\n",
            "(64548, 8)\n"
          ]
        }
      ]
    },
    {
      "cell_type": "code",
      "source": [
        "# Check missing values both to numeric features and categorical features \n",
        "missing = df.isnull().sum()/df.shape[0]*100\n",
        "missing"
      ],
      "metadata": {
        "id": "rTthh0x3_vAs",
        "colab": {
          "base_uri": "https://localhost:8080/"
        },
        "outputId": "d6ad7773-d88f-43a8-c3e6-86f172665a4f"
      },
      "execution_count": null,
      "outputs": [
        {
          "output_type": "execute_result",
          "data": {
            "text/plain": [
              "OwnerAge      0.0\n",
              "Gender        0.0\n",
              "Area          0.0\n",
              "RiskClass     0.0\n",
              "VehAge        0.0\n",
              "BonusClass    0.0\n",
              "Exposure      0.0\n",
              "ClaimNb       0.0\n",
              "dtype: float64"
            ]
          },
          "metadata": {},
          "execution_count": 12
        }
      ]
    },
    {
      "cell_type": "code",
      "source": [
        "# Feature transformation\n",
        "df_1 = df.copy()\n",
        "df_1['Exposure'] = df_1['Exposure'].clip(upper=1)\n",
        "df_1['VehAge'] = df_1['VehAge'].clip(upper=20)"
      ],
      "metadata": {
        "id": "Ix0Bfmzhaahp"
      },
      "execution_count": null,
      "outputs": []
    },
    {
      "cell_type": "markdown",
      "source": [
        "# Pre-Processing"
      ],
      "metadata": {
        "id": "LDXMPinAVlpN"
      }
    },
    {
      "cell_type": "code",
      "source": [
        "# Split dataset\n",
        "df_train, df_test, = train_test_split(df_1, train_size=0.8, test_size=0.2,random_state=0)"
      ],
      "metadata": {
        "id": "vDFtsXOueY4r"
      },
      "execution_count": null,
      "outputs": []
    },
    {
      "cell_type": "code",
      "source": [
        "h2o.init(nthreads=-1,max_mem_size = \"12G\")"
      ],
      "metadata": {
        "id": "89WVYzeqazGx",
        "colab": {
          "base_uri": "https://localhost:8080/",
          "height": 537
        },
        "outputId": "d70a6de7-c499-4350-ff86-96da1a57c90b"
      },
      "execution_count": null,
      "outputs": [
        {
          "output_type": "stream",
          "name": "stdout",
          "text": [
            "Checking whether there is an H2O instance running at http://localhost:54321 ..... not found.\n",
            "Attempting to start a local H2O server...\n",
            "  Java Version: openjdk version \"11.0.16\" 2022-07-19; OpenJDK Runtime Environment (build 11.0.16+8-post-Ubuntu-0ubuntu118.04); OpenJDK 64-Bit Server VM (build 11.0.16+8-post-Ubuntu-0ubuntu118.04, mixed mode, sharing)\n",
            "  Starting server from /usr/local/lib/python3.7/dist-packages/h2o/backend/bin/h2o.jar\n",
            "  Ice root: /tmp/tmpl4_s1wuq\n",
            "  JVM stdout: /tmp/tmpl4_s1wuq/h2o_unknownUser_started_from_python.out\n",
            "  JVM stderr: /tmp/tmpl4_s1wuq/h2o_unknownUser_started_from_python.err\n",
            "  Server is running at http://127.0.0.1:54321\n",
            "Connecting to H2O server at http://127.0.0.1:54321 ... successful.\n"
          ]
        },
        {
          "output_type": "display_data",
          "data": {
            "text/plain": [
              "--------------------------  ----------------------------------\n",
              "H2O_cluster_uptime:         02 secs\n",
              "H2O_cluster_timezone:       Etc/UTC\n",
              "H2O_data_parsing_timezone:  UTC\n",
              "H2O_cluster_version:        3.38.0.1\n",
              "H2O_cluster_version_age:    17 days\n",
              "H2O_cluster_name:           H2O_from_python_unknownUser_qh9xg4\n",
              "H2O_cluster_total_nodes:    1\n",
              "H2O_cluster_free_memory:    12 Gb\n",
              "H2O_cluster_total_cores:    2\n",
              "H2O_cluster_allowed_cores:  2\n",
              "H2O_cluster_status:         locked, healthy\n",
              "H2O_connection_url:         http://127.0.0.1:54321\n",
              "H2O_connection_proxy:       {\"http\": null, \"https\": null}\n",
              "H2O_internal_security:      False\n",
              "Python_version:             3.7.14 final\n",
              "--------------------------  ----------------------------------"
            ],
            "text/html": [
              "\n",
              "<style>\n",
              "\n",
              "#h2o-table-1.h2o-container {\n",
              "  overflow-x: auto;\n",
              "}\n",
              "#h2o-table-1 .h2o-table {\n",
              "  /* width: 100%; */\n",
              "  margin-top: 1em;\n",
              "  margin-bottom: 1em;\n",
              "}\n",
              "#h2o-table-1 .h2o-table caption {\n",
              "  white-space: nowrap;\n",
              "  caption-side: top;\n",
              "  text-align: left;\n",
              "  /* margin-left: 1em; */\n",
              "  margin: 0;\n",
              "  font-size: larger;\n",
              "}\n",
              "#h2o-table-1 .h2o-table thead {\n",
              "  white-space: nowrap; \n",
              "  position: sticky;\n",
              "  top: 0;\n",
              "  box-shadow: 0 -1px inset;\n",
              "}\n",
              "#h2o-table-1 .h2o-table tbody {\n",
              "  overflow: auto;\n",
              "}\n",
              "#h2o-table-1 .h2o-table th,\n",
              "#h2o-table-1 .h2o-table td {\n",
              "  text-align: right;\n",
              "  /* border: 1px solid; */\n",
              "}\n",
              "#h2o-table-1 .h2o-table tr:nth-child(even) {\n",
              "  /* background: #F5F5F5 */\n",
              "}\n",
              "\n",
              "</style>      \n",
              "<div id=\"h2o-table-1\" class=\"h2o-container\">\n",
              "  <table class=\"h2o-table\">\n",
              "    <caption></caption>\n",
              "    <thead></thead>\n",
              "    <tbody><tr><td>H2O_cluster_uptime:</td>\n",
              "<td>02 secs</td></tr>\n",
              "<tr><td>H2O_cluster_timezone:</td>\n",
              "<td>Etc/UTC</td></tr>\n",
              "<tr><td>H2O_data_parsing_timezone:</td>\n",
              "<td>UTC</td></tr>\n",
              "<tr><td>H2O_cluster_version:</td>\n",
              "<td>3.38.0.1</td></tr>\n",
              "<tr><td>H2O_cluster_version_age:</td>\n",
              "<td>17 days </td></tr>\n",
              "<tr><td>H2O_cluster_name:</td>\n",
              "<td>H2O_from_python_unknownUser_qh9xg4</td></tr>\n",
              "<tr><td>H2O_cluster_total_nodes:</td>\n",
              "<td>1</td></tr>\n",
              "<tr><td>H2O_cluster_free_memory:</td>\n",
              "<td>12 Gb</td></tr>\n",
              "<tr><td>H2O_cluster_total_cores:</td>\n",
              "<td>2</td></tr>\n",
              "<tr><td>H2O_cluster_allowed_cores:</td>\n",
              "<td>2</td></tr>\n",
              "<tr><td>H2O_cluster_status:</td>\n",
              "<td>locked, healthy</td></tr>\n",
              "<tr><td>H2O_connection_url:</td>\n",
              "<td>http://127.0.0.1:54321</td></tr>\n",
              "<tr><td>H2O_connection_proxy:</td>\n",
              "<td>{\"http\": null, \"https\": null}</td></tr>\n",
              "<tr><td>H2O_internal_security:</td>\n",
              "<td>False</td></tr>\n",
              "<tr><td>Python_version:</td>\n",
              "<td>3.7.14 final</td></tr></tbody>\n",
              "  </table>\n",
              "</div>\n"
            ]
          },
          "metadata": {}
        }
      ]
    },
    {
      "cell_type": "code",
      "source": [
        "# Convert Pandas data frame into H2O data frame\n",
        "train = h2o.H2OFrame(df_train)\n",
        "test = h2o.H2OFrame(df_test)"
      ],
      "metadata": {
        "id": "Dn7eZXoXa1K2",
        "colab": {
          "base_uri": "https://localhost:8080/"
        },
        "outputId": "bde68810-6a8b-4d99-9082-d9e730899616"
      },
      "execution_count": null,
      "outputs": [
        {
          "output_type": "stream",
          "name": "stdout",
          "text": [
            "Parse progress: |████████████████████████████████████████████████████████████████| (done) 100%\n",
            "Parse progress: |████████████████████████████████████████████████████████████████| (done) 100%\n"
          ]
        }
      ]
    },
    {
      "cell_type": "code",
      "source": [
        "# Input \n",
        "predictors = ['Gender','RiskClass','Area','BonusClass','OwnerAge','VehAge']\n",
        "# Output \n",
        "response = 'ClaimNb'"
      ],
      "metadata": {
        "id": "B-YAl0BBa_Ut"
      },
      "execution_count": null,
      "outputs": []
    },
    {
      "cell_type": "markdown",
      "source": [
        "# Modelling 1"
      ],
      "metadata": {
        "id": "sFxoD3yVV_bH"
      }
    },
    {
      "cell_type": "code",
      "source": [
        "# Define model\n",
        "RF_model_1 = H2ORandomForestEstimator(nfolds=5, categorical_encoding='auto',seed=0)\n",
        "\n",
        "# Train model\n",
        "RF1 = RF_model_1.train(x=predictors, y=response, training_frame=train)"
      ],
      "metadata": {
        "id": "myc17TUqbhev",
        "colab": {
          "base_uri": "https://localhost:8080/"
        },
        "outputId": "5eb07d05-a7cd-49ff-b97f-f9c9fd1b210a"
      },
      "execution_count": null,
      "outputs": [
        {
          "output_type": "stream",
          "name": "stdout",
          "text": [
            "drf Model Build progress: |██████████████████████████████████████████████████████| (done) 100%\n"
          ]
        }
      ]
    },
    {
      "cell_type": "code",
      "source": [
        "# summary of the model\n",
        "print(RF1)"
      ],
      "metadata": {
        "id": "CLLQJpwHaUCS",
        "colab": {
          "base_uri": "https://localhost:8080/"
        },
        "outputId": "db0025e7-72b0-4d3a-e200-a6acfcb3256f"
      },
      "execution_count": null,
      "outputs": [
        {
          "output_type": "stream",
          "name": "stdout",
          "text": [
            "Model Details\n",
            "=============\n",
            "H2ORandomForestEstimator : Distributed Random Forest\n",
            "Model Key: DRF_model_python_1665114153686_1\n",
            "\n",
            "\n",
            "Model Summary: \n",
            "    number_of_trees    number_of_internal_trees    model_size_in_bytes    min_depth    max_depth    mean_depth    min_leaves    max_leaves    mean_leaves\n",
            "--  -----------------  --------------------------  ---------------------  -----------  -----------  ------------  ------------  ------------  -------------\n",
            "    50                 50                          654639                 20           20           20            810           1175          1048.42\n",
            "\n",
            "ModelMetricsRegression: drf\n",
            "** Reported on train data. **\n",
            "\n",
            "MSE: 0.012208122107316383\n",
            "RMSE: 0.11049037110679094\n",
            "MAE: 0.021106244462155924\n",
            "RMSLE: 0.07742483856730378\n",
            "Mean Residual Deviance: 0.012208122107316383\n",
            "\n",
            "ModelMetricsRegression: drf\n",
            "** Reported on cross-validation data. **\n",
            "\n",
            "MSE: 0.011881435875425285\n",
            "RMSE: 0.10900199941021856\n",
            "MAE: 0.021024125135344917\n",
            "RMSLE: 0.07591583246446397\n",
            "Mean Residual Deviance: 0.011881435875425285\n",
            "\n",
            "Cross-Validation Metrics Summary: \n",
            "                        mean        sd           cv_1_valid    cv_2_valid    cv_3_valid    cv_4_valid    cv_5_valid\n",
            "----------------------  ----------  -----------  ------------  ------------  ------------  ------------  ------------\n",
            "mae                     0.0210256   0.000569111  0.020591      0.0216089     0.0206879     0.0205569     0.0216835\n",
            "mean_residual_deviance  0.0118839   0.00064876   0.0111868     0.0124106     0.0113553     0.0117883     0.0126787\n",
            "mse                     0.0118839   0.00064876   0.0111868     0.0124106     0.0113553     0.0117883     0.0126787\n",
            "r2                      -0.0611373  0.00866113   -0.0725729    -0.0570837    -0.0492219    -0.0639531    -0.0628549\n",
            "residual_deviance       0.0118839   0.00064876   0.0111868     0.0124106     0.0113553     0.0117883     0.0126787\n",
            "rmse                    0.108981    0.00297092   0.105768      0.111403      0.106561      0.108574      0.1126\n",
            "rmsle                   0.0759009   0.00210515   0.0733722     0.0779636     0.0742511     0.0759301     0.0779877\n",
            "\n",
            "Scoring History: \n",
            "     timestamp            duration    number_of_trees    training_rmse        training_mae          training_deviance\n",
            "---  -------------------  ----------  -----------------  -------------------  --------------------  --------------------\n",
            "     2022-10-07 03:43:49  28.362 sec  0.0                nan                  nan                   nan\n",
            "     2022-10-07 03:43:50  28.544 sec  1.0                0.13846247542787546  0.021057853985295652  0.01917185710161502\n",
            "     2022-10-07 03:43:50  28.682 sec  2.0                0.13799993950314052  0.021235095686575268  0.019043983302870444\n",
            "     2022-10-07 03:43:50  28.803 sec  3.0                0.13672817701552897  0.021187414892905494  0.018694594389989827\n",
            "     2022-10-07 03:43:50  28.920 sec  4.0                0.13249494442964244  0.02106280136349978   0.017554910299414035\n",
            "     2022-10-07 03:43:50  29.044 sec  5.0                0.12975277394249374  0.021087547655045523  0.01683578234577188\n",
            "     2022-10-07 03:43:50  29.163 sec  6.0                0.12677528339739383  0.02087317348860914   0.01607197248048952\n",
            "     2022-10-07 03:43:50  29.279 sec  7.0                0.12437288405303755  0.020781616209281366  0.015468614287670324\n",
            "     2022-10-07 03:43:50  29.372 sec  8.0                0.1232521928604371   0.020901496376480942  0.01519110304490638\n",
            "     2022-10-07 03:43:51  29.452 sec  9.0                0.1211709282683401   0.02075671583165415   0.014682393857411222\n",
            "---  ---                  ---         ---                ---                  ---                   ---\n",
            "     2022-10-07 03:43:53  31.667 sec  34.0               0.11135940674787638  0.021035402308764474  0.012400917471238974\n",
            "     2022-10-07 03:43:53  31.749 sec  35.0               0.11125286077763721  0.0210150333714114    0.01237719903120833\n",
            "     2022-10-07 03:43:53  31.827 sec  36.0               0.11123405698613945  0.02102060295843483   0.012373015433595718\n",
            "     2022-10-07 03:43:53  31.911 sec  37.0               0.11115527235035137  0.02100782778511489   0.012355494571280788\n",
            "     2022-10-07 03:43:53  31.993 sec  38.0               0.11108176672177948  0.021000052288422954  0.012339158898031834\n",
            "     2022-10-07 03:43:53  32.076 sec  39.0               0.11106766723467955  0.02103474920650977   0.012336026704953509\n",
            "     2022-10-07 03:43:53  32.158 sec  40.0               0.11095715351345835  0.02101040927851227   0.012311489915809163\n",
            "     2022-10-07 03:43:53  32.258 sec  41.0               0.1108692400183852   0.021005219889677722  0.012291988382254308\n",
            "     2022-10-07 03:43:53  32.345 sec  42.0               0.11084407510878132  0.02103094922514584   0.012286408986721153\n",
            "     2022-10-07 03:43:54  32.977 sec  50.0               0.11049037110679094  0.021106244462155924  0.012208122107316383\n",
            "[44 rows x 7 columns]\n",
            "\n",
            "\n",
            "Variable Importances: \n",
            "variable    relative_importance    scaled_importance    percentage\n",
            "----------  ---------------------  -------------------  ------------\n",
            "OwnerAge    4431.36                1                    0.352678\n",
            "VehAge      3228.88                0.728643             0.256976\n",
            "BonusClass  1793.75                0.404785             0.142759\n",
            "RiskClass   1536.77                0.346794             0.122307\n",
            "Area        1273.22                0.287319             0.101331\n",
            "Gender      300.929                0.0679089            0.02395\n"
          ]
        }
      ]
    },
    {
      "cell_type": "code",
      "source": [
        "# plot training history\n",
        "RF1.plot()"
      ],
      "metadata": {
        "id": "7bk2r1MOXs60",
        "colab": {
          "base_uri": "https://localhost:8080/",
          "height": 296
        },
        "outputId": "3636c976-a133-4377-ca10-d136b9014b8e"
      },
      "execution_count": null,
      "outputs": [
        {
          "output_type": "display_data",
          "data": {
            "text/plain": [
              "<Figure size 432x288 with 1 Axes>"
            ],
            "image/png": "[encoded data removed]"
          },
          "metadata": {
            "needs_background": "light"
          }
        }
      ]
    },
    {
      "cell_type": "markdown",
      "source": [
        "# Model Evaluation 1"
      ],
      "metadata": {
        "id": "sUcYW0ZyWTBh"
      }
    },
    {
      "cell_type": "code",
      "source": [
        "# Eval performance:\n",
        "perf_train_1 = RF1.model_performance(train)\n",
        "pred_train_1 = RF1.predict(train)"
      ],
      "metadata": {
        "id": "85Q3KYS5l6z9",
        "colab": {
          "base_uri": "https://localhost:8080/"
        },
        "outputId": "0fff431c-b493-4b9f-a691-59fd9d68dcfa"
      },
      "execution_count": null,
      "outputs": [
        {
          "output_type": "stream",
          "name": "stdout",
          "text": [
            "drf prediction progress: |███████████████████████████████████████████████████████| (done) 100%\n"
          ]
        }
      ]
    },
    {
      "cell_type": "code",
      "source": [
        "perf_train_1"
      ],
      "metadata": {
        "id": "d0L7soI2rKDG",
        "colab": {
          "base_uri": "https://localhost:8080/",
          "height": 184
        },
        "outputId": "84cd17fe-69af-48c9-9559-bfa9c99e5ee1"
      },
      "execution_count": null,
      "outputs": [
        {
          "output_type": "execute_result",
          "data": {
            "text/plain": [
              "ModelMetricsRegression: drf\n",
              "** Reported on test data. **\n",
              "\n",
              "MSE: 0.0038952520166232246\n",
              "RMSE: 0.0624119541163648\n",
              "MAE: 0.01197298075103173\n",
              "RMSLE: 0.03846922024303165\n",
              "Mean Residual Deviance: 0.0038952520166232246"
            ],
            "text/html": [
              "<pre style='margin: 1em 0 1em 0;'>ModelMetricsRegression: drf\n",
              "** Reported on test data. **\n",
              "\n",
              "MSE: 0.0038952520166232246\n",
              "RMSE: 0.0624119541163648\n",
              "MAE: 0.01197298075103173\n",
              "RMSLE: 0.03846922024303165\n",
              "Mean Residual Deviance: 0.0038952520166232246</pre>"
            ]
          },
          "metadata": {},
          "execution_count": 22
        }
      ]
    },
    {
      "cell_type": "code",
      "source": [
        "# Eval performance:\n",
        "perf_test_1 = RF1.model_performance(test)\n",
        "pred_test_1 = RF1.predict(test)"
      ],
      "metadata": {
        "id": "jNHaS6mDZjss",
        "colab": {
          "base_uri": "https://localhost:8080/"
        },
        "outputId": "0e195664-f4fd-4833-ef99-69379d182c1c"
      },
      "execution_count": null,
      "outputs": [
        {
          "output_type": "stream",
          "name": "stdout",
          "text": [
            "drf prediction progress: |███████████████████████████████████████████████████████| (done) 100%\n"
          ]
        }
      ]
    },
    {
      "cell_type": "code",
      "source": [
        "perf_test_1"
      ],
      "metadata": {
        "id": "usBY8j4Qa4gk",
        "colab": {
          "base_uri": "https://localhost:8080/",
          "height": 184
        },
        "outputId": "5dcc9a8a-11d1-42ef-b7b6-b3687c07b88c"
      },
      "execution_count": null,
      "outputs": [
        {
          "output_type": "execute_result",
          "data": {
            "text/plain": [
              "ModelMetricsRegression: drf\n",
              "** Reported on test data. **\n",
              "\n",
              "MSE: 0.013406599523944985\n",
              "RMSE: 0.11578687112080102\n",
              "MAE: 0.02162454584878229\n",
              "RMSLE: 0.07971194339012239\n",
              "Mean Residual Deviance: 0.013406599523944985"
            ],
            "text/html": [
              "<pre style='margin: 1em 0 1em 0;'>ModelMetricsRegression: drf\n",
              "** Reported on test data. **\n",
              "\n",
              "MSE: 0.013406599523944985\n",
              "RMSE: 0.11578687112080102\n",
              "MAE: 0.02162454584878229\n",
              "RMSLE: 0.07971194339012239\n",
              "Mean Residual Deviance: 0.013406599523944985</pre>"
            ]
          },
          "metadata": {},
          "execution_count": 24
        }
      ]
    },
    {
      "cell_type": "code",
      "source": [
        "# replace H2O data frame with a pandas data frame\n",
        "predictions_tr_1 = pred_train_1.as_data_frame()\n",
        "predictions_te_1 = pred_test_1.as_data_frame()"
      ],
      "metadata": {
        "id": "w28PrmTwdjZg"
      },
      "execution_count": null,
      "outputs": []
    },
    {
      "cell_type": "code",
      "source": [
        "mean_tr_1 = predictions_tr_1.mean()\n",
        "mean_te_1 = predictions_te_1.mean()"
      ],
      "metadata": {
        "id": "I0d77y84K-PY"
      },
      "execution_count": null,
      "outputs": []
    },
    {
      "cell_type": "code",
      "source": [
        "# replaced 0 values with the mean because \"mean poisson deviance\" is strictly positive \n",
        "predictions_tr_1 = predictions_tr_1.replace(0, mean_tr_1)\n",
        "predictions_te_1 = predictions_te_1.replace(0, mean_te_1)\n"
      ],
      "metadata": {
        "id": "drQu3958MBBb"
      },
      "execution_count": null,
      "outputs": []
    },
    {
      "cell_type": "code",
      "source": [
        "mean_poisson_deviance(df_train.ClaimNb,predictions_tr_1)"
      ],
      "metadata": {
        "id": "8kb3DWf2djif",
        "colab": {
          "base_uri": "https://localhost:8080/"
        },
        "outputId": "1ea70415-4396-4797-948b-697bfc54f50d"
      },
      "execution_count": null,
      "outputs": [
        {
          "output_type": "execute_result",
          "data": {
            "text/plain": [
              "0.022524642402523044"
            ]
          },
          "metadata": {},
          "execution_count": 28
        }
      ]
    },
    {
      "cell_type": "code",
      "source": [
        "mean_poisson_deviance(df_test.ClaimNb,predictions_te_1)"
      ],
      "metadata": {
        "id": "-tw5iXLCeL5K",
        "colab": {
          "base_uri": "https://localhost:8080/"
        },
        "outputId": "b260178c-f80e-4106-fefc-f4046445d5da"
      },
      "execution_count": null,
      "outputs": [
        {
          "output_type": "execute_result",
          "data": {
            "text/plain": [
              "0.119084424849399"
            ]
          },
          "metadata": {},
          "execution_count": 29
        }
      ]
    },
    {
      "cell_type": "code",
      "source": [
        "np.sqrt(mean_squared_error(df_train.ClaimNb, predictions_tr_1))"
      ],
      "metadata": {
        "id": "7f3PfTpTeL7z",
        "colab": {
          "base_uri": "https://localhost:8080/"
        },
        "outputId": "ef766cf0-2db9-4a7a-a3da-4016fcc46ea3"
      },
      "execution_count": null,
      "outputs": [
        {
          "output_type": "execute_result",
          "data": {
            "text/plain": [
              "0.06260576388501801"
            ]
          },
          "metadata": {},
          "execution_count": 30
        }
      ]
    },
    {
      "cell_type": "code",
      "source": [
        "np.sqrt(mean_squared_error(df_test.ClaimNb, predictions_te_1))"
      ],
      "metadata": {
        "id": "Rjhm6vHleL-Q",
        "colab": {
          "base_uri": "https://localhost:8080/"
        },
        "outputId": "e74ec878-82eb-4f69-efe8-f77d6aa23013"
      },
      "execution_count": null,
      "outputs": [
        {
          "output_type": "execute_result",
          "data": {
            "text/plain": [
              "0.11577663175151649"
            ]
          },
          "metadata": {},
          "execution_count": 31
        }
      ]
    },
    {
      "cell_type": "markdown",
      "source": [
        "# Modelling 2"
      ],
      "metadata": {
        "id": "dSUE6SttW0Y3"
      }
    },
    {
      "cell_type": "code",
      "source": [
        "# Input \n",
        "predictors_ = ['RiskClass','Area','BonusClass','OwnerAge','VehAge']"
      ],
      "metadata": {
        "id": "_-Vfde72Wzkm"
      },
      "execution_count": null,
      "outputs": []
    },
    {
      "cell_type": "code",
      "source": [
        "# Define model\n",
        "RF_model_2 = H2ORandomForestEstimator(nfolds=5, categorical_encoding='auto',seed=0)\n",
        "\n",
        "# Train model\n",
        "RF2 = RF_model_2.train(x=predictors_, y=response, training_frame=train)"
      ],
      "metadata": {
        "id": "iEfqFjxBXBVF",
        "colab": {
          "base_uri": "https://localhost:8080/"
        },
        "outputId": "a011564e-df15-4489-a018-b5733305b101"
      },
      "execution_count": null,
      "outputs": [
        {
          "output_type": "stream",
          "name": "stdout",
          "text": [
            "drf Model Build progress: |██████████████████████████████████████████████████████| (done) 100%\n"
          ]
        }
      ]
    },
    {
      "cell_type": "code",
      "source": [
        "# summary of the model\n",
        "print(RF2)"
      ],
      "metadata": {
        "id": "JIBDM4eAMsrT",
        "colab": {
          "base_uri": "https://localhost:8080/"
        },
        "outputId": "d5f411c0-ce14-4d15-c6c0-1dd35bb4ccee"
      },
      "execution_count": null,
      "outputs": [
        {
          "output_type": "stream",
          "name": "stdout",
          "text": [
            "Model Details\n",
            "=============\n",
            "H2ORandomForestEstimator : Distributed Random Forest\n",
            "Model Key: DRF_model_python_1665114153686_2\n",
            "\n",
            "\n",
            "Model Summary: \n",
            "    number_of_trees    number_of_internal_trees    model_size_in_bytes    min_depth    max_depth    mean_depth    min_leaves    max_leaves    mean_leaves\n",
            "--  -----------------  --------------------------  ---------------------  -----------  -----------  ------------  ------------  ------------  -------------\n",
            "    50                 50                          210501                 13           20           18.2          104           549           333.04\n",
            "\n",
            "ModelMetricsRegression: drf\n",
            "** Reported on train data. **\n",
            "\n",
            "MSE: 0.011181817092762307\n",
            "RMSE: 0.1057441113857519\n",
            "MAE: 0.020656710629440866\n",
            "RMSLE: 0.07184584223172084\n",
            "Mean Residual Deviance: 0.011181817092762307\n",
            "\n",
            "ModelMetricsRegression: drf\n",
            "** Reported on cross-validation data. **\n",
            "\n",
            "MSE: 0.011150953331662208\n",
            "RMSE: 0.10559807446948173\n",
            "MAE: 0.020589260545475163\n",
            "RMSLE: 0.0716674127561448\n",
            "Mean Residual Deviance: 0.011150953331662208\n",
            "\n",
            "Cross-Validation Metrics Summary: \n",
            "                        mean        sd           cv_1_valid    cv_2_valid    cv_3_valid    cv_4_valid    cv_5_valid\n",
            "----------------------  ----------  -----------  ------------  ------------  ------------  ------------  ------------\n",
            "mae                     0.0205907   0.000522878  0.0200221     0.0212627     0.0203648     0.0202913     0.0210127\n",
            "mean_residual_deviance  0.0111532   0.00064932   0.0103998     0.0116993     0.0107315     0.0109962     0.0119394\n",
            "mse                     0.0111532   0.00064932   0.0103998     0.0116993     0.0107315     0.0109962     0.0119394\n",
            "r2                      0.00429384  0.00377028   0.00289096    0.00350184    0.00842059    0.00753316    -0.000877366\n",
            "residual_deviance       0.0111532   0.00064932   0.0103998     0.0116993     0.0107315     0.0109962     0.0119394\n",
            "rmse                    0.105573    0.00306999   0.101979      0.108163      0.103593      0.104863      0.109268\n",
            "rmsle                   0.0716472   0.00225631   0.0686987     0.0739398     0.0702904     0.071525      0.0737822\n",
            "\n",
            "Scoring History: \n",
            "     timestamp            duration    number_of_trees    training_rmse        training_mae          training_deviance\n",
            "---  -------------------  ----------  -----------------  -------------------  --------------------  --------------------\n",
            "     2022-10-07 03:48:04  21.563 sec  0.0                nan                  nan                   nan\n",
            "     2022-10-07 03:48:04  21.630 sec  1.0                0.10978919949942564  0.019804622037831603  0.012053668326724684\n",
            "     2022-10-07 03:48:04  21.699 sec  2.0                0.10780719184322962  0.019523189982352907  0.011622390613122915\n",
            "     2022-10-07 03:48:05  21.767 sec  3.0                0.1072381863331621   0.019963817303299814  0.011500028608025995\n",
            "     2022-10-07 03:48:05  21.825 sec  4.0                0.10809969317586567  0.020388352103279373  0.011685543664716299\n",
            "     2022-10-07 03:48:05  21.892 sec  5.0                0.10881182457332879  0.020584863385210875  0.011840013166976878\n",
            "     2022-10-07 03:48:05  21.959 sec  6.0                0.10849297365119477  0.02075523315037796   0.011770725331678843\n",
            "     2022-10-07 03:48:05  22.045 sec  7.0                0.10863310417005223  0.020748383076829753  0.011801151321621418\n",
            "     2022-10-07 03:48:05  22.116 sec  8.0                0.10865837615245355  0.020871952168903626  0.011806642708088086\n",
            "     2022-10-07 03:48:05  22.179 sec  9.0                0.10828587949704672  0.020702951330254543  0.011725831698448923\n",
            "---  ---                  ---         ---                ---                  ---                   ---\n",
            "     2022-10-07 03:48:07  24.421 sec  41.0               0.10587758023576262  0.02066677706089806   0.011210061996580352\n",
            "     2022-10-07 03:48:07  24.487 sec  42.0               0.10584590242918367  0.02067544409619399   0.011203355061048269\n",
            "     2022-10-07 03:48:07  24.553 sec  43.0               0.10582543066343271  0.020679326791677506  0.011199021775101004\n",
            "     2022-10-07 03:48:07  24.616 sec  44.0               0.10580962065078049  0.020661283550622727  0.011195675822262073\n",
            "     2022-10-07 03:48:07  24.677 sec  45.0               0.10580210934248091  0.02066425925972567   0.011194086341318287\n",
            "     2022-10-07 03:48:08  24.755 sec  46.0               0.10578930700761974  0.020662485045935135  0.011191377477152422\n",
            "     2022-10-07 03:48:08  24.824 sec  47.0               0.1057731694295414   0.02067274609220083   0.011187963371170472\n",
            "     2022-10-07 03:48:08  24.897 sec  48.0               0.1057537162999833   0.020675512562733714  0.011183848511257354\n",
            "     2022-10-07 03:48:08  24.963 sec  49.0               0.10575271530661737  0.020663033513874832  0.011183636794722463\n",
            "     2022-10-07 03:48:08  25.027 sec  50.0               0.1057441113857519   0.020656710629440866  0.011181817092762307\n",
            "[51 rows x 7 columns]\n",
            "\n",
            "\n",
            "Variable Importances: \n",
            "variable    relative_importance    scaled_importance    percentage\n",
            "----------  ---------------------  -------------------  ------------\n",
            "OwnerAge    705.462                1                    0.302108\n",
            "VehAge      508.071                0.720196             0.217577\n",
            "Area        383.794                0.544032             0.164357\n",
            "BonusClass  374.758                0.531224             0.160487\n",
            "RiskClass   363.043                0.514617             0.15547\n"
          ]
        }
      ]
    },
    {
      "cell_type": "code",
      "source": [
        "# plot training history\n",
        "RF2.plot()"
      ],
      "metadata": {
        "id": "9GM-toA3XjjT",
        "colab": {
          "base_uri": "https://localhost:8080/",
          "height": 296
        },
        "outputId": "4a5d7fe8-c733-48cf-e462-7dd8c405e379"
      },
      "execution_count": null,
      "outputs": [
        {
          "output_type": "display_data",
          "data": {
            "text/plain": [
              "<Figure size 432x288 with 1 Axes>"
            ],
            "image/png": "[encoded data removed]"
          },
          "metadata": {
            "needs_background": "light"
          }
        }
      ]
    },
    {
      "cell_type": "markdown",
      "source": [
        "# Model evaluation 2"
      ],
      "metadata": {
        "id": "DSzQKrqSXN7-"
      }
    },
    {
      "cell_type": "code",
      "source": [
        "# Eval performance:\n",
        "perf_train_2 = RF2.model_performance(train)\n",
        "pred_train_2 = RF2.predict(train)"
      ],
      "metadata": {
        "id": "7T5a8Nx_XXjC",
        "colab": {
          "base_uri": "https://localhost:8080/"
        },
        "outputId": "a700218d-5dab-49fe-f2fd-e0474bc0ccc8"
      },
      "execution_count": null,
      "outputs": [
        {
          "output_type": "stream",
          "name": "stdout",
          "text": [
            "drf prediction progress: |███████████████████████████████████████████████████████| (done) 100%\n"
          ]
        }
      ]
    },
    {
      "cell_type": "code",
      "source": [
        "perf_train_2"
      ],
      "metadata": {
        "id": "fEE91xi9Xawr",
        "colab": {
          "base_uri": "https://localhost:8080/",
          "height": 184
        },
        "outputId": "153a50f1-bc3e-46d4-ff6d-de919a0be14e"
      },
      "execution_count": null,
      "outputs": [
        {
          "output_type": "execute_result",
          "data": {
            "text/plain": [
              "ModelMetricsRegression: drf\n",
              "** Reported on test data. **\n",
              "\n",
              "MSE: 0.009550202855421488\n",
              "RMSE: 0.09772513932157624\n",
              "MAE: 0.01917608960927139\n",
              "RMSLE: 0.06440842260317159\n",
              "Mean Residual Deviance: 0.009550202855421488"
            ],
            "text/html": [
              "<pre style='margin: 1em 0 1em 0;'>ModelMetricsRegression: drf\n",
              "** Reported on test data. **\n",
              "\n",
              "MSE: 0.009550202855421488\n",
              "RMSE: 0.09772513932157624\n",
              "MAE: 0.01917608960927139\n",
              "RMSLE: 0.06440842260317159\n",
              "Mean Residual Deviance: 0.009550202855421488</pre>"
            ]
          },
          "metadata": {},
          "execution_count": 37
        }
      ]
    },
    {
      "cell_type": "code",
      "source": [
        "# Eval performance:\n",
        "perf_test_2 = RF2.model_performance(test)\n",
        "pred_test_2 = RF2.predict(test)"
      ],
      "metadata": {
        "id": "j5KVQhJdXdIw",
        "colab": {
          "base_uri": "https://localhost:8080/"
        },
        "outputId": "d404ee8c-d572-40f8-a6c0-79d315598b98"
      },
      "execution_count": null,
      "outputs": [
        {
          "output_type": "stream",
          "name": "stdout",
          "text": [
            "drf prediction progress: |███████████████████████████████████████████████████████| (done) 100%\n"
          ]
        }
      ]
    },
    {
      "cell_type": "code",
      "source": [
        "perf_test_2"
      ],
      "metadata": {
        "id": "VzqISBoTXdMX",
        "colab": {
          "base_uri": "https://localhost:8080/",
          "height": 184
        },
        "outputId": "353c60fd-4e16-476b-ff04-33d3487bfd1e"
      },
      "execution_count": null,
      "outputs": [
        {
          "output_type": "execute_result",
          "data": {
            "text/plain": [
              "ModelMetricsRegression: drf\n",
              "** Reported on test data. **\n",
              "\n",
              "MSE: 0.012699196919204632\n",
              "RMSE: 0.11269071354466006\n",
              "MAE: 0.021804859204337133\n",
              "RMSLE: 0.07582426095997462\n",
              "Mean Residual Deviance: 0.012699196919204632"
            ],
            "text/html": [
              "<pre style='margin: 1em 0 1em 0;'>ModelMetricsRegression: drf\n",
              "** Reported on test data. **\n",
              "\n",
              "MSE: 0.012699196919204632\n",
              "RMSE: 0.11269071354466006\n",
              "MAE: 0.021804859204337133\n",
              "RMSLE: 0.07582426095997462\n",
              "Mean Residual Deviance: 0.012699196919204632</pre>"
            ]
          },
          "metadata": {},
          "execution_count": 39
        }
      ]
    },
    {
      "cell_type": "code",
      "source": [
        "# replace H2O data frame with a pandas data frame\n",
        "predictions_tr_2 = pred_train_2.as_data_frame()\n",
        "predictions_te_2 = pred_test_2.as_data_frame()"
      ],
      "metadata": {
        "id": "4xyG4QwiXqkO"
      },
      "execution_count": null,
      "outputs": []
    },
    {
      "cell_type": "code",
      "source": [
        "mean_poisson_deviance(df_train.ClaimNb,predictions_tr_2)"
      ],
      "metadata": {
        "id": "3t1yxvuZYO-M",
        "colab": {
          "base_uri": "https://localhost:8080/"
        },
        "outputId": "ac653aab-89ec-4847-d22f-ea5491419b56"
      },
      "execution_count": null,
      "outputs": [
        {
          "output_type": "execute_result",
          "data": {
            "text/plain": [
              "0.054416544080182296"
            ]
          },
          "metadata": {},
          "execution_count": 41
        }
      ]
    },
    {
      "cell_type": "code",
      "source": [
        "mean_poisson_deviance(df_test.ClaimNb,predictions_te_2)"
      ],
      "metadata": {
        "id": "dplKn-k6YcgM",
        "colab": {
          "base_uri": "https://localhost:8080/"
        },
        "outputId": "98c07a4c-80de-4bcd-eee6-2d554904b024"
      },
      "execution_count": null,
      "outputs": [
        {
          "output_type": "execute_result",
          "data": {
            "text/plain": [
              "0.0978320983223067"
            ]
          },
          "metadata": {},
          "execution_count": 42
        }
      ]
    },
    {
      "cell_type": "code",
      "source": [
        "np.sqrt(mean_squared_error(df_train.ClaimNb, predictions_tr_2))"
      ],
      "metadata": {
        "id": "aWyvf-pwYck2",
        "colab": {
          "base_uri": "https://localhost:8080/"
        },
        "outputId": "5677f05f-4a82-4029-c200-90908f382280"
      },
      "execution_count": null,
      "outputs": [
        {
          "output_type": "execute_result",
          "data": {
            "text/plain": [
              "0.09772513932157607"
            ]
          },
          "metadata": {},
          "execution_count": 43
        }
      ]
    },
    {
      "cell_type": "code",
      "source": [
        "np.sqrt(mean_squared_error(df_test.ClaimNb, predictions_te_2))"
      ],
      "metadata": {
        "id": "cBJMqjF3YcnQ",
        "colab": {
          "base_uri": "https://localhost:8080/"
        },
        "outputId": "c462514d-de26-41fa-cfba-e425656ac7e7"
      },
      "execution_count": null,
      "outputs": [
        {
          "output_type": "execute_result",
          "data": {
            "text/plain": [
              "0.11269071354465993"
            ]
          },
          "metadata": {},
          "execution_count": 44
        }
      ]
    },
    {
      "cell_type": "markdown",
      "source": [
        "# Modelling 3"
      ],
      "metadata": {
        "id": "sOy9JJbARiAc"
      }
    },
    {
      "cell_type": "code",
      "source": [
        "train_, valid = train.split_frame(ratios = [0.9], seed = 0)"
      ],
      "metadata": {
        "id": "MFZrRTWx8rB7"
      },
      "execution_count": null,
      "outputs": []
    },
    {
      "cell_type": "code",
      "source": [
        "# define range of hyper-params for the grid search\n",
        "rf_params = {'ntrees':[50,100],\n",
        "                'mtries':[1,2]}\n"
      ],
      "metadata": {
        "id": "f8jEL2GCS9zm"
      },
      "execution_count": null,
      "outputs": []
    },
    {
      "cell_type": "code",
      "source": [
        "# set up the grid search and define the model\n",
        "RF_model_tuning = H2OGridSearch(H2ORandomForestEstimator(nfolds=5, categorical_encoding='auto',seed=0),\n",
        "                           grid_id ='RF_model_tuning',\n",
        "                           hyper_params = rf_params)\n"
      ],
      "metadata": {
        "id": "SZB2YcBNUi6B"
      },
      "execution_count": null,
      "outputs": []
    },
    {
      "cell_type": "code",
      "source": [
        "# Train model\n",
        "RFTuning = RF_model_tuning.train(x=predictors_, y=response, training_frame=train_, validation_frame=valid)"
      ],
      "metadata": {
        "id": "AryKXWDaWvqy",
        "colab": {
          "base_uri": "https://localhost:8080/"
        },
        "outputId": "fd853662-872b-4ad4-c830-24af583e0256"
      },
      "execution_count": null,
      "outputs": [
        {
          "output_type": "stream",
          "name": "stdout",
          "text": [
            "drf Grid Build progress: |███████████████████████████████████████████████████████| (done) 100%\n"
          ]
        }
      ]
    },
    {
      "cell_type": "code",
      "source": [
        "# Get the grid results, sorted by validation Mean Residual Deviance\n",
        "RF_gridperf = RFTuning.get_grid(sort_by='residual_deviance', decreasing=False)\n",
        "RF_gridperf"
      ],
      "metadata": {
        "id": "8BR5nuOpXU2l",
        "colab": {
          "base_uri": "https://localhost:8080/",
          "height": 172
        },
        "outputId": "a0e8f1e3-cda0-4083-9b3c-19884b407788"
      },
      "execution_count": null,
      "outputs": [
        {
          "output_type": "execute_result",
          "data": {
            "text/plain": [
              "Hyper-Parameter Search Summary: ordered by increasing residual_deviance\n",
              "    mtries    ntrees    model_ids                residual_deviance\n",
              "--  --------  --------  -----------------------  -------------------\n",
              "    1         100       RF_model_tuning_model_3  0.0111455\n",
              "    1         50        RF_model_tuning_model_1  0.0111572\n",
              "    2         100       RF_model_tuning_model_4  0.0123602\n",
              "    2         50        RF_model_tuning_model_2  0.0124465"
            ],
            "text/html": [
              "\n",
              "<style>\n",
              "\n",
              "#h2o-table-2.h2o-container {\n",
              "  overflow-x: auto;\n",
              "}\n",
              "#h2o-table-2 .h2o-table {\n",
              "  /* width: 100%; */\n",
              "  margin-top: 1em;\n",
              "  margin-bottom: 1em;\n",
              "}\n",
              "#h2o-table-2 .h2o-table caption {\n",
              "  white-space: nowrap;\n",
              "  caption-side: top;\n",
              "  text-align: left;\n",
              "  /* margin-left: 1em; */\n",
              "  margin: 0;\n",
              "  font-size: larger;\n",
              "}\n",
              "#h2o-table-2 .h2o-table thead {\n",
              "  white-space: nowrap; \n",
              "  position: sticky;\n",
              "  top: 0;\n",
              "  box-shadow: 0 -1px inset;\n",
              "}\n",
              "#h2o-table-2 .h2o-table tbody {\n",
              "  overflow: auto;\n",
              "}\n",
              "#h2o-table-2 .h2o-table th,\n",
              "#h2o-table-2 .h2o-table td {\n",
              "  text-align: right;\n",
              "  /* border: 1px solid; */\n",
              "}\n",
              "#h2o-table-2 .h2o-table tr:nth-child(even) {\n",
              "  /* background: #F5F5F5 */\n",
              "}\n",
              "\n",
              "</style>      \n",
              "<div id=\"h2o-table-2\" class=\"h2o-container\">\n",
              "  <table class=\"h2o-table\">\n",
              "    <caption>Hyper-Parameter Search Summary: ordered by increasing residual_deviance</caption>\n",
              "    <thead><tr><th></th>\n",
              "<th>mtries</th>\n",
              "<th>ntrees</th>\n",
              "<th>model_ids</th>\n",
              "<th>residual_deviance</th></tr></thead>\n",
              "    <tbody><tr><td></td>\n",
              "<td>1.0</td>\n",
              "<td>100.0</td>\n",
              "<td>RF_model_tuning_model_3</td>\n",
              "<td>0.0111455</td></tr>\n",
              "<tr><td></td>\n",
              "<td>1.0</td>\n",
              "<td>50.0</td>\n",
              "<td>RF_model_tuning_model_1</td>\n",
              "<td>0.0111572</td></tr>\n",
              "<tr><td></td>\n",
              "<td>2.0</td>\n",
              "<td>100.0</td>\n",
              "<td>RF_model_tuning_model_4</td>\n",
              "<td>0.0123602</td></tr>\n",
              "<tr><td></td>\n",
              "<td>2.0</td>\n",
              "<td>50.0</td>\n",
              "<td>RF_model_tuning_model_2</td>\n",
              "<td>0.0124465</td></tr></tbody>\n",
              "  </table>\n",
              "</div>\n"
            ]
          },
          "metadata": {},
          "execution_count": 49
        }
      ]
    },
    {
      "cell_type": "code",
      "source": [
        "# Define model\n",
        "RF_model_3 = H2ORandomForestEstimator(ntrees = 100, mtries = 1, nfolds=5, categorical_encoding='auto',seed=0)\n",
        "\n",
        "# Train model\n",
        "RF3 = RF_model_3.train(x=predictors_, y=response, training_frame=train_, validation_frame=valid)"
      ],
      "metadata": {
        "id": "ZUKDeePgazj5",
        "colab": {
          "base_uri": "https://localhost:8080/"
        },
        "outputId": "dba49369-11de-4198-a9cd-58ced720dc44"
      },
      "execution_count": null,
      "outputs": [
        {
          "output_type": "stream",
          "name": "stdout",
          "text": [
            "drf Model Build progress: |██████████████████████████████████████████████████████| (done) 100%\n"
          ]
        }
      ]
    },
    {
      "cell_type": "code",
      "source": [
        "# summary of the model\n",
        "print(RF3)"
      ],
      "metadata": {
        "id": "tT4eRWacQ8y3",
        "colab": {
          "base_uri": "https://localhost:8080/"
        },
        "outputId": "7e5a37ee-4a95-4665-cd44-9ecad0695551"
      },
      "execution_count": null,
      "outputs": [
        {
          "output_type": "stream",
          "name": "stdout",
          "text": [
            "Model Details\n",
            "=============\n",
            "H2ORandomForestEstimator : Distributed Random Forest\n",
            "Model Key: DRF_model_python_1665114153686_3\n",
            "\n",
            "\n",
            "Model Summary: \n",
            "    number_of_trees    number_of_internal_trees    model_size_in_bytes    min_depth    max_depth    mean_depth    min_leaves    max_leaves    mean_leaves\n",
            "--  -----------------  --------------------------  ---------------------  -----------  -----------  ------------  ------------  ------------  -------------\n",
            "    100                100                         401435                 12           20           17.62         56            540           317.3\n",
            "\n",
            "ModelMetricsRegression: drf\n",
            "** Reported on train data. **\n",
            "\n",
            "MSE: 0.01114815103116971\n",
            "RMSE: 0.10558480492556545\n",
            "MAE: 0.020427555910122453\n",
            "RMSLE: 0.07154591702277245\n",
            "Mean Residual Deviance: 0.01114815103116971\n",
            "\n",
            "ModelMetricsRegression: drf\n",
            "** Reported on validation data. **\n",
            "\n",
            "MSE: 0.011109271646632064\n",
            "RMSE: 0.10540052963164874\n",
            "MAE: 0.020545476433270937\n",
            "RMSLE: 0.07237865211670227\n",
            "Mean Residual Deviance: 0.011109271646632064\n",
            "\n",
            "ModelMetricsRegression: drf\n",
            "** Reported on cross-validation data. **\n",
            "\n",
            "MSE: 0.011145470368631491\n",
            "RMSE: 0.1055721098047751\n",
            "MAE: 0.020487764979202114\n",
            "RMSLE: 0.07152608821535325\n",
            "Mean Residual Deviance: 0.011145470368631491\n",
            "\n",
            "Cross-Validation Metrics Summary: \n",
            "                        mean        sd           cv_1_valid    cv_2_valid    cv_3_valid    cv_4_valid    cv_5_valid\n",
            "----------------------  ----------  -----------  ------------  ------------  ------------  ------------  ------------\n",
            "mae                     0.0204861   0.000988949  0.0212909     0.0191526     0.0206706     0.0214927     0.0198238\n",
            "mean_residual_deviance  0.0111428   0.00113072   0.0116527     0.00976395    0.0117593     0.0123962     0.0101419\n",
            "mse                     0.0111428   0.00113072   0.0116527     0.00976395    0.0117593     0.0123962     0.0101419\n",
            "r2                      0.00482909  0.00427344   0.00323987    -0.00175171   0.00621918    0.00929159    0.00714651\n",
            "residual_deviance       0.0111428   0.00113072   0.0116527     0.00976395    0.0117593     0.0123962     0.0101419\n",
            "rmse                    0.105449    0.00539449   0.107948      0.0988127     0.10844       0.111338      0.100707\n",
            "rmsle                   0.0714435   0.00368689   0.0741148     0.0667322     0.0723912     0.0754209     0.0685585\n",
            "\n",
            "Scoring History: \n",
            "     timestamp            duration    number_of_trees    training_rmse        training_mae          training_deviance     validation_rmse      validation_mae        validation_deviance\n",
            "---  -------------------  ----------  -----------------  -------------------  --------------------  --------------------  -------------------  --------------------  ---------------------\n",
            "     2022-10-07 03:54:55  32.487 sec  0.0                nan                  nan                   nan                   nan                  nan                   nan\n",
            "     2022-10-07 03:54:55  32.554 sec  1.0                0.11018830924220534  0.020491014527812258  0.012141463493655875  0.1074981044984119   0.020348048956964015  0.011555842470751487\n",
            "     2022-10-07 03:54:55  32.611 sec  2.0                0.11415242910674987  0.02067081977335342   0.013030777070971555  0.10714051155613218  0.0194350510731579    0.011479089216509692\n",
            "     2022-10-07 03:54:55  32.705 sec  3.0                0.11594312932219801  0.02084804092020675   0.013442809237023932  0.10683739467709173  0.01927718196030241   0.011414228901388669\n",
            "     2022-10-07 03:54:55  32.782 sec  4.0                0.11209535817144758  0.020402720075235813  0.012565369323585122  0.10631849674499448  0.01958203951463074   0.011303622750115401\n",
            "     2022-10-07 03:54:55  32.863 sec  5.0                0.1099318615563021   0.020092912879954142  0.012085014185233969  0.10574736083050608  0.019609140147295496  0.011182504322617252\n",
            "     2022-10-07 03:54:56  32.930 sec  6.0                0.1089088696950139   0.020127617519364982  0.011861141898245518  0.10571174963284286  0.019822145701233602  0.011174974010436852\n",
            "     2022-10-07 03:54:56  33.004 sec  7.0                0.10904441051838575  0.020283161829664144  0.011890683465302237  0.10578853416687974  0.019952217131609128  0.011191213961177083\n",
            "     2022-10-07 03:54:56  33.073 sec  8.0                0.10899953824121807  0.02045020134924169   0.011880899336798761  0.1058794694317109   0.020188216491271758  0.011210462047140601\n",
            "     2022-10-07 03:54:56  33.147 sec  9.0                0.10868448708519694  0.02044613209878211   0.01181231773297234   0.10603285467273782  0.020407226847643154  0.011242966270049937\n",
            "---  ---                  ---         ---                ---                  ---                   ---                   ---                  ---                   ---\n",
            "     2022-10-07 03:54:58  35.521 sec  35.0               0.10604454827377685  0.020514221851272788  0.011245446218589389  0.10543814494533107  0.020584692483530804  0.011117202409512646\n",
            "     2022-10-07 03:54:58  35.633 sec  36.0               0.1060649769687721   0.020509948641106463  0.011249779339386156  0.10543334196260096  0.020549795358380564  0.01111618959740275\n",
            "     2022-10-07 03:54:58  35.755 sec  37.0               0.1060577119537483   0.020523039788699748  0.011248238264864244  0.10542825155155221  0.020545646249598527  0.01111511622521737\n",
            "     2022-10-07 03:54:58  35.878 sec  38.0               0.10605096196034251  0.020516766421388496  0.011246806532714015  0.10541827717621743  0.020559857902258546  0.011113013162801805\n",
            "     2022-10-07 03:54:59  35.989 sec  39.0               0.106027019949279    0.02050266749758883   0.011241728959324807  0.10540893077356317  0.020535625303719815  0.011111042686825834\n",
            "     2022-10-07 03:54:59  36.107 sec  40.0               0.10599739685189934  0.020481588655232603  0.01123544813937904   0.10541342826331082  0.020563342145083065  0.011111990858224176\n",
            "     2022-10-07 03:54:59  36.224 sec  41.0               0.10597333982394097  0.020473756105502644  0.011230348753440473  0.10542487647662052  0.02057586696769713   0.011114404580110695\n",
            "     2022-10-07 03:54:59  36.340 sec  42.0               0.10596039256284988  0.020492741649461917  0.011227604792073253  0.10543883605880854  0.020594714914387115  0.011117348149436304\n",
            "     2022-10-07 03:54:59  36.459 sec  43.0               0.1059562561400746   0.020488545925062336  0.011226728215221098  0.1054383662446576   0.020584401265881864  0.011117249076342551\n",
            "     2022-10-07 03:55:02  39.503 sec  100.0              0.10558480492556545  0.020427555910122453  0.01114815103116971   0.10540052963164874  0.020545476433270937  0.011109271646632064\n",
            "[45 rows x 10 columns]\n",
            "\n",
            "\n",
            "Variable Importances: \n",
            "variable    relative_importance    scaled_importance    percentage\n",
            "----------  ---------------------  -------------------  ------------\n",
            "OwnerAge    1386.74                1                    0.303011\n",
            "VehAge      990.245                0.71408              0.216374\n",
            "BonusClass  739.04                 0.532932             0.161484\n",
            "RiskClass   731.959                0.527826             0.159937\n",
            "Area        728.56                 0.525375             0.159194\n"
          ]
        }
      ]
    },
    {
      "cell_type": "code",
      "source": [
        "# plot training history\n",
        "RF3.plot()"
      ],
      "metadata": {
        "id": "YewP5TsBWt64",
        "colab": {
          "base_uri": "https://localhost:8080/",
          "height": 296
        },
        "outputId": "aba01bdc-d341-4a58-ada2-5ac253b3969e"
      },
      "execution_count": null,
      "outputs": [
        {
          "output_type": "display_data",
          "data": {
            "text/plain": [
              "<Figure size 432x288 with 1 Axes>"
            ],
            "image/png": "[encoded data removed]"
          },
          "metadata": {
            "needs_background": "light"
          }
        }
      ]
    },
    {
      "cell_type": "markdown",
      "source": [
        "# Model Evaluation 3"
      ],
      "metadata": {
        "id": "DPKM1P5eZkBl"
      }
    },
    {
      "cell_type": "code",
      "source": [
        "# Eval performance:\n",
        "perf_train_3 = RF3.model_performance(train)\n",
        "pred_train_3 = RF3.predict(train)"
      ],
      "metadata": {
        "id": "aSUvH0hUf_96",
        "colab": {
          "base_uri": "https://localhost:8080/"
        },
        "outputId": "23b8cdc7-7d62-4afa-ab82-c8d01e8d7955"
      },
      "execution_count": null,
      "outputs": [
        {
          "output_type": "stream",
          "name": "stdout",
          "text": [
            "drf prediction progress: |███████████████████████████████████████████████████████| (done) 100%\n"
          ]
        }
      ]
    },
    {
      "cell_type": "code",
      "source": [
        "perf_train_3"
      ],
      "metadata": {
        "id": "D1wYJJmmgAA9",
        "colab": {
          "base_uri": "https://localhost:8080/",
          "height": 184
        },
        "outputId": "534a82a4-4333-482a-a7b6-57add313b0a4"
      },
      "execution_count": null,
      "outputs": [
        {
          "output_type": "execute_result",
          "data": {
            "text/plain": [
              "ModelMetricsRegression: drf\n",
              "** Reported on test data. **\n",
              "\n",
              "MSE: 0.009576148435712082\n",
              "RMSE: 0.09785779701031534\n",
              "MAE: 0.019031707231795873\n",
              "RMSLE: 0.06457561622960956\n",
              "Mean Residual Deviance: 0.009576148435712082"
            ],
            "text/html": [
              "<pre style='margin: 1em 0 1em 0;'>ModelMetricsRegression: drf\n",
              "** Reported on test data. **\n",
              "\n",
              "MSE: 0.009576148435712082\n",
              "RMSE: 0.09785779701031534\n",
              "MAE: 0.019031707231795873\n",
              "RMSLE: 0.06457561622960956\n",
              "Mean Residual Deviance: 0.009576148435712082</pre>"
            ]
          },
          "metadata": {},
          "execution_count": 54
        }
      ]
    },
    {
      "cell_type": "code",
      "source": [
        "# Eval performance:\n",
        "perf_test_3 = RF3.model_performance(test)\n",
        "pred_test_3 = RF3.predict(test)"
      ],
      "metadata": {
        "id": "OQQKLpX8gKf2",
        "colab": {
          "base_uri": "https://localhost:8080/"
        },
        "outputId": "24b21f0b-264c-490d-e7cd-ee82c96cc195"
      },
      "execution_count": null,
      "outputs": [
        {
          "output_type": "stream",
          "name": "stdout",
          "text": [
            "drf prediction progress: |███████████████████████████████████████████████████████| (done) 100%\n"
          ]
        }
      ]
    },
    {
      "cell_type": "code",
      "source": [
        "perf_test_3"
      ],
      "metadata": {
        "id": "88r3_eZLgLOA",
        "colab": {
          "base_uri": "https://localhost:8080/",
          "height": 184
        },
        "outputId": "931e4f98-f26e-4942-d203-5373216ba527"
      },
      "execution_count": null,
      "outputs": [
        {
          "output_type": "execute_result",
          "data": {
            "text/plain": [
              "ModelMetricsRegression: drf\n",
              "** Reported on test data. **\n",
              "\n",
              "MSE: 0.012729059271545974\n",
              "RMSE: 0.11282313269691625\n",
              "MAE: 0.0216530820054663\n",
              "RMSLE: 0.07594458537265546\n",
              "Mean Residual Deviance: 0.012729059271545974"
            ],
            "text/html": [
              "<pre style='margin: 1em 0 1em 0;'>ModelMetricsRegression: drf\n",
              "** Reported on test data. **\n",
              "\n",
              "MSE: 0.012729059271545974\n",
              "RMSE: 0.11282313269691625\n",
              "MAE: 0.0216530820054663\n",
              "RMSLE: 0.07594458537265546\n",
              "Mean Residual Deviance: 0.012729059271545974</pre>"
            ]
          },
          "metadata": {},
          "execution_count": 56
        }
      ]
    },
    {
      "cell_type": "code",
      "source": [
        "# replace H2O data frame with a pandas data frame\n",
        "predictions_tr_3 = pred_train_3.as_data_frame()\n",
        "predictions_te_3 = pred_test_3.as_data_frame()"
      ],
      "metadata": {
        "id": "yZRj4WDpgWTU"
      },
      "execution_count": null,
      "outputs": []
    },
    {
      "cell_type": "code",
      "source": [
        "mean_poisson_deviance(df_train.ClaimNb,predictions_tr_3)"
      ],
      "metadata": {
        "id": "UXRRJEkygzY7",
        "colab": {
          "base_uri": "https://localhost:8080/"
        },
        "outputId": "630f2e5d-8104-462d-9602-f609ccf9e9f1"
      },
      "execution_count": null,
      "outputs": [
        {
          "output_type": "execute_result",
          "data": {
            "text/plain": [
              "0.05607403684705855"
            ]
          },
          "metadata": {},
          "execution_count": 58
        }
      ]
    },
    {
      "cell_type": "code",
      "source": [
        "mean_poisson_deviance(df_test.ClaimNb,predictions_te_3)"
      ],
      "metadata": {
        "id": "I4mkyau3gzhP",
        "colab": {
          "base_uri": "https://localhost:8080/"
        },
        "outputId": "9b44de5a-e169-4b9a-91aa-df9691548a01"
      },
      "execution_count": null,
      "outputs": [
        {
          "output_type": "execute_result",
          "data": {
            "text/plain": [
              "0.09821357076698017"
            ]
          },
          "metadata": {},
          "execution_count": 59
        }
      ]
    },
    {
      "cell_type": "code",
      "source": [
        "np.sqrt(mean_squared_error(df_train.ClaimNb, predictions_tr_3))"
      ],
      "metadata": {
        "id": "UPOzT6g3gznT",
        "colab": {
          "base_uri": "https://localhost:8080/"
        },
        "outputId": "819f8f1f-76a1-4bbc-dca5-f79a1b484980"
      },
      "execution_count": null,
      "outputs": [
        {
          "output_type": "execute_result",
          "data": {
            "text/plain": [
              "0.0978577970103157"
            ]
          },
          "metadata": {},
          "execution_count": 60
        }
      ]
    },
    {
      "cell_type": "code",
      "source": [
        "np.sqrt(mean_squared_error(df_test.ClaimNb, predictions_te_3))"
      ],
      "metadata": {
        "id": "VAgRzNC0ii6O",
        "colab": {
          "base_uri": "https://localhost:8080/"
        },
        "outputId": "6dc2fa07-3b8d-446f-afc6-4fb261d37ac5"
      },
      "execution_count": null,
      "outputs": [
        {
          "output_type": "execute_result",
          "data": {
            "text/plain": [
              "0.11282313269691602"
            ]
          },
          "metadata": {},
          "execution_count": 61
        }
      ]
    },
    {
      "cell_type": "markdown",
      "source": [
        "# **RF Results Analysis**"
      ],
      "metadata": {
        "id": "NsTWl5n04Ift"
      }
    },
    {
      "cell_type": "code",
      "source": [
        "# Feature Importance\n",
        "RF2.varimp_plot()"
      ],
      "metadata": {
        "id": "kK_Lcy7Kb7a7",
        "colab": {
          "base_uri": "https://localhost:8080/",
          "height": 647
        },
        "outputId": "c544a37a-2e6d-4700-8f64-11e41fc88635"
      },
      "execution_count": null,
      "outputs": [
        {
          "output_type": "display_data",
          "data": {
            "text/plain": [
              "<Figure size 1008x720 with 1 Axes>"
            ],
            "image/png": "[encoded data removed]"
          },
          "metadata": {
            "needs_background": "light"
          }
        },
        {
          "output_type": "execute_result",
          "data": {
            "text/plain": [
              "<h2o.plot._plot_result._MObject at 0x7f4189aedcd0>"
            ]
          },
          "metadata": {},
          "execution_count": 62
        },
        {
          "output_type": "display_data",
          "data": {
            "text/plain": [
              "<Figure size 432x288 with 0 Axes>"
            ]
          },
          "metadata": {}
        }
      ]
    },
    {
      "cell_type": "code",
      "source": [
        "predictions_te_2 = predictions_te_2.rename(columns = {'predict':'ClaimNb_pred'})\n",
        "test = pd.concat([df_test, predictions_te_2.set_index(df_test.index)], axis=1)\n",
        "test"
      ],
      "metadata": {
        "id": "cArnXlcgpKzp",
        "colab": {
          "base_uri": "https://localhost:8080/",
          "height": 424
        },
        "outputId": "2fb6c4ce-2765-40f1-d069-1ca3baa8cf4a"
      },
      "execution_count": null,
      "outputs": [
        {
          "output_type": "execute_result",
          "data": {
            "text/plain": [
              "       OwnerAge  Gender                                               Area  \\\n",
              "11551        28  Female  Small towns; countryside except Gotland; North...   \n",
              "27696        42  Female                       Suburbs; middle-sized cities   \n",
              "56213        57    Male        Lesser towns except Gotland; Northern towns   \n",
              "8463         26    Male     Central parts of Sweden's three largest cities   \n",
              "35448        45    Male  Small towns; countryside except Gotland; North...   \n",
              "...         ...     ...                                                ...   \n",
              "15776        31  Female        Lesser towns except Gotland; Northern towns   \n",
              "43435        49    Male  Small towns; countryside except Gotland; North...   \n",
              "50162        53    Male                       Suburbs; middle-sized cities   \n",
              "2912         22    Male                       Suburbs; middle-sized cities   \n",
              "25134        40    Male     Central parts of Sweden's three largest cities   \n",
              "\n",
              "            RiskClass  VehAge BonusClass  Exposure  ClaimNb  ClaimNb_pred  \n",
              "11551  EV ratio 20-24      13        BM3  0.419178        0      0.024548  \n",
              "27696     EV ratio <5       4        BM7  0.983562        0      0.012590  \n",
              "56213  EV ratio 13-15      16        BM7  1.000000        0      0.004977  \n",
              "8463   EV ratio 13-15      13        BM1  0.986301        0      0.012411  \n",
              "35448  EV ratio 20-24       4        BM6  0.986301        0      0.005993  \n",
              "...               ...     ...        ...       ...      ...           ...  \n",
              "15776  EV ratio 13-15      15        BM7  0.989041        0      0.006424  \n",
              "43435  EV ratio 13-15      11        BM7  1.000000        0      0.008657  \n",
              "50162   EV ratio 9-12       6        BM7  1.000000        0      0.012358  \n",
              "2912   EV ratio 16-19       8        BM1  0.630137        0      0.018697  \n",
              "25134   EV ratio 9-12      15        BM1  0.117808        0      0.013081  \n",
              "\n",
              "[12910 rows x 9 columns]"
            ],
            "text/html": [
              "\n",
              "  <div id=\"df-2749ba34-8e4a-4ea3-ac01-b395dac9e6d2\">\n",
              "    <div class=\"colab-df-container\">\n",
              "      <div>\n",
              "<style scoped>\n",
              "    .dataframe tbody tr th:only-of-type {\n",
              "        vertical-align: middle;\n",
              "    }\n",
              "\n",
              "    .dataframe tbody tr th {\n",
              "        vertical-align: top;\n",
              "    }\n",
              "\n",
              "    .dataframe thead th {\n",
              "        text-align: right;\n",
              "    }\n",
              "</style>\n",
              "<table border=\"1\" class=\"dataframe\">\n",
              "  <thead>\n",
              "    <tr style=\"text-align: right;\">\n",
              "      <th></th>\n",
              "      <th>OwnerAge</th>\n",
              "      <th>Gender</th>\n",
              "      <th>Area</th>\n",
              "      <th>RiskClass</th>\n",
              "      <th>VehAge</th>\n",
              "      <th>BonusClass</th>\n",
              "      <th>Exposure</th>\n",
              "      <th>ClaimNb</th>\n",
              "      <th>ClaimNb_pred</th>\n",
              "    </tr>\n",
              "  </thead>\n",
              "  <tbody>\n",
              "    <tr>\n",
              "      <th>11551</th>\n",
              "      <td>28</td>\n",
              "      <td>Female</td>\n",
              "      <td>Small towns; countryside except Gotland; North...</td>\n",
              "      <td>EV ratio 20-24</td>\n",
              "      <td>13</td>\n",
              "      <td>BM3</td>\n",
              "      <td>0.419178</td>\n",
              "      <td>0</td>\n",
              "      <td>0.024548</td>\n",
              "    </tr>\n",
              "    <tr>\n",
              "      <th>27696</th>\n",
              "      <td>42</td>\n",
              "      <td>Female</td>\n",
              "      <td>Suburbs; middle-sized cities</td>\n",
              "      <td>EV ratio &lt;5</td>\n",
              "      <td>4</td>\n",
              "      <td>BM7</td>\n",
              "      <td>0.983562</td>\n",
              "      <td>0</td>\n",
              "      <td>0.012590</td>\n",
              "    </tr>\n",
              "    <tr>\n",
              "      <th>56213</th>\n",
              "      <td>57</td>\n",
              "      <td>Male</td>\n",
              "      <td>Lesser towns except Gotland; Northern towns</td>\n",
              "      <td>EV ratio 13-15</td>\n",
              "      <td>16</td>\n",
              "      <td>BM7</td>\n",
              "      <td>1.000000</td>\n",
              "      <td>0</td>\n",
              "      <td>0.004977</td>\n",
              "    </tr>\n",
              "    <tr>\n",
              "      <th>8463</th>\n",
              "      <td>26</td>\n",
              "      <td>Male</td>\n",
              "      <td>Central parts of Sweden's three largest cities</td>\n",
              "      <td>EV ratio 13-15</td>\n",
              "      <td>13</td>\n",
              "      <td>BM1</td>\n",
              "      <td>0.986301</td>\n",
              "      <td>0</td>\n",
              "      <td>0.012411</td>\n",
              "    </tr>\n",
              "    <tr>\n",
              "      <th>35448</th>\n",
              "      <td>45</td>\n",
              "      <td>Male</td>\n",
              "      <td>Small towns; countryside except Gotland; North...</td>\n",
              "      <td>EV ratio 20-24</td>\n",
              "      <td>4</td>\n",
              "      <td>BM6</td>\n",
              "      <td>0.986301</td>\n",
              "      <td>0</td>\n",
              "      <td>0.005993</td>\n",
              "    </tr>\n",
              "    <tr>\n",
              "      <th>...</th>\n",
              "      <td>...</td>\n",
              "      <td>...</td>\n",
              "      <td>...</td>\n",
              "      <td>...</td>\n",
              "      <td>...</td>\n",
              "      <td>...</td>\n",
              "      <td>...</td>\n",
              "      <td>...</td>\n",
              "      <td>...</td>\n",
              "    </tr>\n",
              "    <tr>\n",
              "      <th>15776</th>\n",
              "      <td>31</td>\n",
              "      <td>Female</td>\n",
              "      <td>Lesser towns except Gotland; Northern towns</td>\n",
              "      <td>EV ratio 13-15</td>\n",
              "      <td>15</td>\n",
              "      <td>BM7</td>\n",
              "      <td>0.989041</td>\n",
              "      <td>0</td>\n",
              "      <td>0.006424</td>\n",
              "    </tr>\n",
              "    <tr>\n",
              "      <th>43435</th>\n",
              "      <td>49</td>\n",
              "      <td>Male</td>\n",
              "      <td>Small towns; countryside except Gotland; North...</td>\n",
              "      <td>EV ratio 13-15</td>\n",
              "      <td>11</td>\n",
              "      <td>BM7</td>\n",
              "      <td>1.000000</td>\n",
              "      <td>0</td>\n",
              "      <td>0.008657</td>\n",
              "    </tr>\n",
              "    <tr>\n",
              "      <th>50162</th>\n",
              "      <td>53</td>\n",
              "      <td>Male</td>\n",
              "      <td>Suburbs; middle-sized cities</td>\n",
              "      <td>EV ratio 9-12</td>\n",
              "      <td>6</td>\n",
              "      <td>BM7</td>\n",
              "      <td>1.000000</td>\n",
              "      <td>0</td>\n",
              "      <td>0.012358</td>\n",
              "    </tr>\n",
              "    <tr>\n",
              "      <th>2912</th>\n",
              "      <td>22</td>\n",
              "      <td>Male</td>\n",
              "      <td>Suburbs; middle-sized cities</td>\n",
              "      <td>EV ratio 16-19</td>\n",
              "      <td>8</td>\n",
              "      <td>BM1</td>\n",
              "      <td>0.630137</td>\n",
              "      <td>0</td>\n",
              "      <td>0.018697</td>\n",
              "    </tr>\n",
              "    <tr>\n",
              "      <th>25134</th>\n",
              "      <td>40</td>\n",
              "      <td>Male</td>\n",
              "      <td>Central parts of Sweden's three largest cities</td>\n",
              "      <td>EV ratio 9-12</td>\n",
              "      <td>15</td>\n",
              "      <td>BM1</td>\n",
              "      <td>0.117808</td>\n",
              "      <td>0</td>\n",
              "      <td>0.013081</td>\n",
              "    </tr>\n",
              "  </tbody>\n",
              "</table>\n",
              "<p>12910 rows × 9 columns</p>\n",
              "</div>\n",
              "      <button class=\"colab-df-convert\" onclick=\"convertToInteractive('df-2749ba34-8e4a-4ea3-ac01-b395dac9e6d2')\"\n",
              "              title=\"Convert this dataframe to an interactive table.\"\n",
              "              style=\"display:none;\">\n",
              "        \n",
              "  <svg xmlns=\"http://www.w3.org/2000/svg\" height=\"24px\"viewBox=\"0 0 24 24\"\n",
              "       width=\"24px\">\n",
              "    <path d=\"M0 0h24v24H0V0z\" fill=\"none\"/>\n",
              "    <path d=\"M18.56 5.44l.94 2.06.94-2.06 2.06-.94-2.06-.94-.94-2.06-.94 2.06-2.06.94zm-11 1L8.5 8.5l.94-2.06 2.06-.94-2.06-.94L8.5 2.5l-.94 2.06-2.06.94zm10 10l.94 2.06.94-2.06 2.06-.94-2.06-.94-.94-2.06-.94 2.06-2.06.94z\"/><path d=\"M17.41 7.96l-1.37-1.37c-.4-.4-.92-.59-1.43-.59-.52 0-1.04.2-1.43.59L10.3 9.45l-7.72 7.72c-.78.78-.78 2.05 0 2.83L4 21.41c.39.39.9.59 1.41.59.51 0 1.02-.2 1.41-.59l7.78-7.78 2.81-2.81c.8-.78.8-2.07 0-2.86zM5.41 20L4 18.59l7.72-7.72 1.47 1.35L5.41 20z\"/>\n",
              "  </svg>\n",
              "      </button>\n",
              "      \n",
              "  <style>\n",
              "    .colab-df-container {\n",
              "      display:flex;\n",
              "      flex-wrap:wrap;\n",
              "      gap: 12px;\n",
              "    }\n",
              "\n",
              "    .colab-df-convert {\n",
              "      background-color: #E8F0FE;\n",
              "      border: none;\n",
              "      border-radius: 50%;\n",
              "      cursor: pointer;\n",
              "      display: none;\n",
              "      fill: #1967D2;\n",
              "      height: 32px;\n",
              "      padding: 0 0 0 0;\n",
              "      width: 32px;\n",
              "    }\n",
              "\n",
              "    .colab-df-convert:hover {\n",
              "      background-color: #E2EBFA;\n",
              "      box-shadow: 0px 1px 2px rgba(60, 64, 67, 0.3), 0px 1px 3px 1px rgba(60, 64, 67, 0.15);\n",
              "      fill: #174EA6;\n",
              "    }\n",
              "\n",
              "    [theme=dark] .colab-df-convert {\n",
              "      background-color: #3B4455;\n",
              "      fill: #D2E3FC;\n",
              "    }\n",
              "\n",
              "    [theme=dark] .colab-df-convert:hover {\n",
              "      background-color: #434B5C;\n",
              "      box-shadow: 0px 1px 3px 1px rgba(0, 0, 0, 0.15);\n",
              "      filter: drop-shadow(0px 1px 2px rgba(0, 0, 0, 0.3));\n",
              "      fill: #FFFFFF;\n",
              "    }\n",
              "  </style>\n",
              "\n",
              "      <script>\n",
              "        const buttonEl =\n",
              "          document.querySelector('#df-2749ba34-8e4a-4ea3-ac01-b395dac9e6d2 button.colab-df-convert');\n",
              "        buttonEl.style.display =\n",
              "          google.colab.kernel.accessAllowed ? 'block' : 'none';\n",
              "\n",
              "        async function convertToInteractive(key) {\n",
              "          const element = document.querySelector('#df-2749ba34-8e4a-4ea3-ac01-b395dac9e6d2');\n",
              "          const dataTable =\n",
              "            await google.colab.kernel.invokeFunction('convertToInteractive',\n",
              "                                                     [key], {});\n",
              "          if (!dataTable) return;\n",
              "\n",
              "          const docLinkHtml = 'Like what you see? Visit the ' +\n",
              "            '<a target=\"_blank\" href=https://colab.research.google.com/notebooks/data_table.ipynb>data table notebook</a>'\n",
              "            + ' to learn more about interactive tables.';\n",
              "          element.innerHTML = '';\n",
              "          dataTable['output_type'] = 'display_data';\n",
              "          await google.colab.output.renderOutput(dataTable, element);\n",
              "          const docLink = document.createElement('div');\n",
              "          docLink.innerHTML = docLinkHtml;\n",
              "          element.appendChild(docLink);\n",
              "        }\n",
              "      </script>\n",
              "    </div>\n",
              "  </div>\n",
              "  "
            ]
          },
          "metadata": {},
          "execution_count": 63
        }
      ]
    },
    {
      "cell_type": "code",
      "source": [
        "# Claims comparison\n",
        "fig = plt.figure(figsize = (16,7))\n",
        "plt.subplot(1,2,1)  \n",
        "plt.hist(test['ClaimNb'], bins=10)\n",
        "plt.xticks(rotation=45)\n",
        "plt.title('Claims histogram')\n",
        "plt.subplot(1,2,2)  \n",
        "plt.hist(test['ClaimNb_pred'], bins=10)\n",
        "plt.xticks(rotation=45)\n",
        "plt.title('Claims prediction histogram')\n",
        "plt.show()"
      ],
      "metadata": {
        "id": "AxrmWlvQalqT",
        "colab": {
          "base_uri": "https://localhost:8080/",
          "height": 462
        },
        "outputId": "5185d26e-ed8c-4215-81dd-f2875b049ff3"
      },
      "execution_count": null,
      "outputs": [
        {
          "output_type": "display_data",
          "data": {
            "text/plain": [
              "<Figure size 1152x504 with 2 Axes>"
            ],
            "image/png": "[encoded data removed]"
          },
          "metadata": {
            "needs_background": "light"
          }
        }
      ]
    },
    {
      "cell_type": "code",
      "source": [
        "# Claims and claims predicted comparison on features\n",
        "plt.rcParams[\"figure.figsize\"] = (10,5)\n",
        "test_group_oa = test.groupby(['OwnerAge'])['ClaimNb','ClaimNb_pred'].sum().reset_index()\n",
        "test_group_oa.plot(x='OwnerAge',y= ['ClaimNb','ClaimNb_pred'])\n",
        "plt.xticks(rotation=45)\n",
        "plt.ylabel('Number of Claims')\n",
        "plt.xlabel('OwnerAge')\n",
        "plt.title('Claims - OwnerAge on test data')\n",
        "plt.show()\n",
        "test_group_va = test.groupby(['VehAge'])['ClaimNb','ClaimNb_pred'].sum().reset_index()\n",
        "test_group_va.plot(x='VehAge',y= ['ClaimNb','ClaimNb_pred'])\n",
        "plt.xticks(rotation=45)\n",
        "plt.ylabel('Number of Claims')\n",
        "plt.xlabel('VehAge')\n",
        "plt.title('Claims - VehAge on test data')\n",
        "plt.show()\n",
        "test_group_ge = test.groupby(['Gender'])['ClaimNb','ClaimNb_pred'].sum().reset_index()\n",
        "test_group_ge.plot.bar(x='Gender',y= ['ClaimNb','ClaimNb_pred'])\n",
        "plt.xticks(rotation=45)\n",
        "plt.ylabel('Number of Claims')\n",
        "plt.xlabel('Gender')\n",
        "plt.title('Claims - Gender on test data')\n",
        "plt.show()\n",
        "test_group_rc = test.groupby(['RiskClass'])['ClaimNb','ClaimNb_pred'].sum().reset_index()\n",
        "test_group_rc.plot.bar(x='RiskClass',y= ['ClaimNb','ClaimNb_pred'])\n",
        "plt.xticks(rotation=45)\n",
        "plt.ylabel('Number of Claims')\n",
        "plt.xlabel('RiskClass')\n",
        "plt.title('Claims - RiskClass on test data')\n",
        "plt.show()\n",
        "test_group_a = test.groupby(['Area'])['ClaimNb','ClaimNb_pred'].sum().reset_index()\n",
        "test_group_a.plot.bar(x='Area',y= ['ClaimNb','ClaimNb_pred'])\n",
        "plt.xticks(rotation=90)\n",
        "plt.ylabel('Number of Claims')\n",
        "plt.xlabel('Area')\n",
        "plt.title('Claims - Area on test data')\n",
        "plt.show()\n",
        "test_group_bc = test.groupby(['BonusClass'])['ClaimNb','ClaimNb_pred'].sum().reset_index()\n",
        "test_group_bc.plot.bar(x='BonusClass',y= ['ClaimNb','ClaimNb_pred'])\n",
        "plt.xticks(rotation=45)\n",
        "plt.ylabel('Number of Claims')\n",
        "plt.xlabel('BonusClass')\n",
        "plt.title('Claims - BonusClass on test data')\n",
        "plt.show()\n"
      ],
      "metadata": {
        "id": "u5d3Kjyrap-Y",
        "colab": {
          "base_uri": "https://localhost:8080/",
          "height": 1000
        },
        "outputId": "c43d36bc-9584-432b-87a7-c34e93bd6987"
      },
      "execution_count": null,
      "outputs": [
        {
          "output_type": "display_data",
          "data": {
            "text/plain": [
              "<Figure size 720x360 with 1 Axes>"
            ],
            "image/png": "[encoded data removed]"
          },
          "metadata": {
            "needs_background": "light"
          }
        },
        {
          "output_type": "display_data",
          "data": {
            "text/plain": [
              "<Figure size 720x360 with 1 Axes>"
            ],
            "image/png": "[encoded data removed]"
          },
          "metadata": {
            "needs_background": "light"
          }
        },
        {
          "output_type": "display_data",
          "data": {
            "text/plain": [
              "<Figure size 720x360 with 1 Axes>"
            ],
            "image/png": "[encoded data removed]"
          },
          "metadata": {
            "needs_background": "light"
          }
        },
        {
          "output_type": "display_data",
          "data": {
            "text/plain": [
              "<Figure size 720x360 with 1 Axes>"
            ],
            "image/png": "[encoded data removed]"
          },
          "metadata": {
            "needs_background": "light"
          }
        },
        {
          "output_type": "display_data",
          "data": {
            "text/plain": [
              "<Figure size 720x360 with 1 Axes>"
            ],
            "image/png": "[encoded data removed]"
          },
          "metadata": {
            "needs_background": "light"
          }
        },
        {
          "output_type": "display_data",
          "data": {
            "text/plain": [
              "<Figure size 720x360 with 1 Axes>"
            ],
            "image/png": "[encoded data removed]"
          },
          "metadata": {
            "needs_background": "light"
          }
        }
      ]
    }
  ]
}