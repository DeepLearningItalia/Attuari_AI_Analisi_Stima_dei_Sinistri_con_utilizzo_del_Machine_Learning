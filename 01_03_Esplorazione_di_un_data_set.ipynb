{
  "nbformat": 4,
  "nbformat_minor": 0,
  "metadata": {
    "colab": {
      "provenance": [],
      "collapsed_sections": []
    },
    "kernelspec": {
      "name": "python3",
      "display_name": "Python 3"
    },
    "language_info": {
      "name": "python"
    },
    "accelerator": "GPU",
    "gpuClass": "standard"
  },
  "cells": [
    {
      "cell_type": "markdown",
      "source": [
        "# **Exploratory Data Analysis**"
      ],
      "metadata": {
        "id": "x1EhzwW7gRai"
      }
    },
    {
      "cell_type": "markdown",
      "source": [
        "Exploratory Data Analysis is a block in the data science workflow between data cleaning and data modeling with the goal to understand patterns, detect mistakes, check assumptions and check relationships between variables of a data set with the help of graphical charts and summary statistics."
      ],
      "metadata": {
        "id": "cTxw6tC9tfu5"
      }
    },
    {
      "cell_type": "markdown",
      "source": [
        "# Upload Libraries"
      ],
      "metadata": {
        "id": "QpyKKWUDqFKV"
      }
    },
    {
      "cell_type": "code",
      "execution_count": null,
      "metadata": {
        "id": "lVwNOaoL3_xS"
      },
      "outputs": [],
      "source": [
        "# to handle datasets\n",
        "import numpy as np\n",
        "import pandas as pd\n",
        "# plots\n",
        "import matplotlib.pyplot as plt\n",
        "%matplotlib inline\n",
        "import seaborn as sns\n",
        "# statistics\n",
        "import scipy.stats as stats\n",
        "\n",
        "import warnings\n",
        "warnings.filterwarnings('ignore')\n"
      ]
    },
    {
      "cell_type": "markdown",
      "source": [
        "# Upload file"
      ],
      "metadata": {
        "id": "KBogj3O3qPVu"
      }
    },
    {
      "cell_type": "code",
      "source": [
        "from google.colab import files \n",
        "uploaded = files.upload()"
      ],
      "metadata": {
        "colab": {
          "resources": {
            "http://localhost:8080/nbextensions/google.colab/files.js": {
              "data": "Ly8gQ29weXJpZ2h0IDIwMTcgR29vZ2xlIExMQwovLwovLyBMaWNlbnNlZCB1bmRlciB0aGUgQXBhY2hlIExpY2Vuc2UsIFZlcnNpb24gMi4wICh0aGUgIkxpY2Vuc2UiKTsKLy8geW91IG1heSBub3QgdXNlIHRoaXMgZmlsZSBleGNlcHQgaW4gY29tcGxpYW5jZSB3aXRoIHRoZSBMaWNlbnNlLgovLyBZb3UgbWF5IG9idGFpbiBhIGNvcHkgb2YgdGhlIExpY2Vuc2UgYXQKLy8KLy8gICAgICBodHRwOi8vd3d3LmFwYWNoZS5vcmcvbGljZW5zZXMvTElDRU5TRS0yLjAKLy8KLy8gVW5sZXNzIHJlcXVpcmVkIGJ5IGFwcGxpY2FibGUgbGF3IG9yIGFncmVlZCB0byBpbiB3cml0aW5nLCBzb2Z0d2FyZQovLyBkaXN0cmlidXRlZCB1bmRlciB0aGUgTGljZW5zZSBpcyBkaXN0cmlidXRlZCBvbiBhbiAiQVMgSVMiIEJBU0lTLAovLyBXSVRIT1VUIFdBUlJBTlRJRVMgT1IgQ09ORElUSU9OUyBPRiBBTlkgS0lORCwgZWl0aGVyIGV4cHJlc3Mgb3IgaW1wbGllZC4KLy8gU2VlIHRoZSBMaWNlbnNlIGZvciB0aGUgc3BlY2lmaWMgbGFuZ3VhZ2UgZ292ZXJuaW5nIHBlcm1pc3Npb25zIGFuZAovLyBsaW1pdGF0aW9ucyB1bmRlciB0aGUgTGljZW5zZS4KCi8qKgogKiBAZmlsZW92ZXJ2aWV3IEhlbHBlcnMgZm9yIGdvb2dsZS5jb2xhYiBQeXRob24gbW9kdWxlLgogKi8KKGZ1bmN0aW9uKHNjb3BlKSB7CmZ1bmN0aW9uIHNwYW4odGV4dCwgc3R5bGVBdHRyaWJ1dGVzID0ge30pIHsKICBjb25zdCBlbGVtZW50ID0gZG9jdW1lbnQuY3JlYXRlRWxlbWVudCgnc3BhbicpOwogIGVsZW1lbnQudGV4dENvbnRlbnQgPSB0ZXh0OwogIGZvciAoY29uc3Qga2V5IG9mIE9iamVjdC5rZXlzKHN0eWxlQXR0cmlidXRlcykpIHsKICAgIGVsZW1lbnQuc3R5bGVba2V5XSA9IHN0eWxlQXR0cmlidXRlc1trZXldOwogIH0KICByZXR1cm4gZWxlbWVudDsKfQoKLy8gTWF4IG51bWJlciBvZiBieXRlcyB3aGljaCB3aWxsIGJlIHVwbG9hZGVkIGF0IGEgdGltZS4KY29uc3QgTUFYX1BBWUxPQURfU0laRSA9IDEwMCAqIDEwMjQ7CgpmdW5jdGlvbiBfdXBsb2FkRmlsZXMoaW5wdXRJZCwgb3V0cHV0SWQpIHsKICBjb25zdCBzdGVwcyA9IHVwbG9hZEZpbGVzU3RlcChpbnB1dElkLCBvdXRwdXRJZCk7CiAgY29uc3Qgb3V0cHV0RWxlbWVudCA9IGRvY3VtZW50LmdldEVsZW1lbnRCeUlkKG91dHB1dElkKTsKICAvLyBDYWNoZSBzdGVwcyBvbiB0aGUgb3V0cHV0RWxlbWVudCB0byBtYWtlIGl0IGF2YWlsYWJsZSBmb3IgdGhlIG5leHQgY2FsbAogIC8vIHRvIHVwbG9hZEZpbGVzQ29udGludWUgZnJvbSBQeXRob24uCiAgb3V0cHV0RWxlbWVudC5zdGVwcyA9IHN0ZXBzOwoKICByZXR1cm4gX3VwbG9hZEZpbGVzQ29udGludWUob3V0cHV0SWQpOwp9CgovLyBUaGlzIGlzIHJvdWdobHkgYW4gYXN5bmMgZ2VuZXJhdG9yIChub3Qgc3VwcG9ydGVkIGluIHRoZSBicm93c2VyIHlldCksCi8vIHdoZXJlIHRoZXJlIGFyZSBtdWx0aXBsZSBhc3luY2hyb25vdXMgc3RlcHMgYW5kIHRoZSBQeXRob24gc2lkZSBpcyBnb2luZwovLyB0byBwb2xsIGZvciBjb21wbGV0aW9uIG9mIGVhY2ggc3RlcC4KLy8gVGhpcyB1c2VzIGEgUHJvbWlzZSB0byBibG9jayB0aGUgcHl0aG9uIHNpZGUgb24gY29tcGxldGlvbiBvZiBlYWNoIHN0ZXAsCi8vIHRoZW4gcGFzc2VzIHRoZSByZXN1bHQgb2YgdGhlIHByZXZpb3VzIHN0ZXAgYXMgdGhlIGlucHV0IHRvIHRoZSBuZXh0IHN0ZXAuCmZ1bmN0aW9uIF91cGxvYWRGaWxlc0NvbnRpbnVlKG91dHB1dElkKSB7CiAgY29uc3Qgb3V0cHV0RWxlbWVudCA9IGRvY3VtZW50LmdldEVsZW1lbnRCeUlkKG91dHB1dElkKTsKICBjb25zdCBzdGVwcyA9IG91dHB1dEVsZW1lbnQuc3RlcHM7CgogIGNvbnN0IG5leHQgPSBzdGVwcy5uZXh0KG91dHB1dEVsZW1lbnQubGFzdFByb21pc2VWYWx1ZSk7CiAgcmV0dXJuIFByb21pc2UucmVzb2x2ZShuZXh0LnZhbHVlLnByb21pc2UpLnRoZW4oKHZhbHVlKSA9PiB7CiAgICAvLyBDYWNoZSB0aGUgbGFzdCBwcm9taXNlIHZhbHVlIHRvIG1ha2UgaXQgYXZhaWxhYmxlIHRvIHRoZSBuZXh0CiAgICAvLyBzdGVwIG9mIHRoZSBnZW5lcmF0b3IuCiAgICBvdXRwdXRFbGVtZW50Lmxhc3RQcm9taXNlVmFsdWUgPSB2YWx1ZTsKICAgIHJldHVybiBuZXh0LnZhbHVlLnJlc3BvbnNlOwogIH0pOwp9CgovKioKICogR2VuZXJhdG9yIGZ1bmN0aW9uIHdoaWNoIGlzIGNhbGxlZCBiZXR3ZWVuIGVhY2ggYXN5bmMgc3RlcCBvZiB0aGUgdXBsb2FkCiAqIHByb2Nlc3MuCiAqIEBwYXJhbSB7c3RyaW5nfSBpbnB1dElkIEVsZW1lbnQgSUQgb2YgdGhlIGlucHV0IGZpbGUgcGlja2VyIGVsZW1lbnQuCiAqIEBwYXJhbSB7c3RyaW5nfSBvdXRwdXRJZCBFbGVtZW50IElEIG9mIHRoZSBvdXRwdXQgZGlzcGxheS4KICogQHJldHVybiB7IUl0ZXJhYmxlPCFPYmplY3Q+fSBJdGVyYWJsZSBvZiBuZXh0IHN0ZXBzLgogKi8KZnVuY3Rpb24qIHVwbG9hZEZpbGVzU3RlcChpbnB1dElkLCBvdXRwdXRJZCkgewogIGNvbnN0IGlucHV0RWxlbWVudCA9IGRvY3VtZW50LmdldEVsZW1lbnRCeUlkKGlucHV0SWQpOwogIGlucHV0RWxlbWVudC5kaXNhYmxlZCA9IGZhbHNlOwoKICBjb25zdCBvdXRwdXRFbGVtZW50ID0gZG9jdW1lbnQuZ2V0RWxlbWVudEJ5SWQob3V0cHV0SWQpOwogIG91dHB1dEVsZW1lbnQuaW5uZXJIVE1MID0gJyc7CgogIGNvbnN0IHBpY2tlZFByb21pc2UgPSBuZXcgUHJvbWlzZSgocmVzb2x2ZSkgPT4gewogICAgaW5wdXRFbGVtZW50LmFkZEV2ZW50TGlzdGVuZXIoJ2NoYW5nZScsIChlKSA9PiB7CiAgICAgIHJlc29sdmUoZS50YXJnZXQuZmlsZXMpOwogICAgfSk7CiAgfSk7CgogIGNvbnN0IGNhbmNlbCA9IGRvY3VtZW50LmNyZWF0ZUVsZW1lbnQoJ2J1dHRvbicpOwogIGlucHV0RWxlbWVudC5wYXJlbnRFbGVtZW50LmFwcGVuZENoaWxkKGNhbmNlbCk7CiAgY2FuY2VsLnRleHRDb250ZW50ID0gJ0NhbmNlbCB1cGxvYWQnOwogIGNvbnN0IGNhbmNlbFByb21pc2UgPSBuZXcgUHJvbWlzZSgocmVzb2x2ZSkgPT4gewogICAgY2FuY2VsLm9uY2xpY2sgPSAoKSA9PiB7CiAgICAgIHJlc29sdmUobnVsbCk7CiAgICB9OwogIH0pOwoKICAvLyBXYWl0IGZvciB0aGUgdXNlciB0byBwaWNrIHRoZSBmaWxlcy4KICBjb25zdCBmaWxlcyA9IHlpZWxkIHsKICAgIHByb21pc2U6IFByb21pc2UucmFjZShbcGlja2VkUHJvbWlzZSwgY2FuY2VsUHJvbWlzZV0pLAogICAgcmVzcG9uc2U6IHsKICAgICAgYWN0aW9uOiAnc3RhcnRpbmcnLAogICAgfQogIH07CgogIGNhbmNlbC5yZW1vdmUoKTsKCiAgLy8gRGlzYWJsZSB0aGUgaW5wdXQgZWxlbWVudCBzaW5jZSBmdXJ0aGVyIHBpY2tzIGFyZSBub3QgYWxsb3dlZC4KICBpbnB1dEVsZW1lbnQuZGlzYWJsZWQgPSB0cnVlOwoKICBpZiAoIWZpbGVzKSB7CiAgICByZXR1cm4gewogICAgICByZXNwb25zZTogewogICAgICAgIGFjdGlvbjogJ2NvbXBsZXRlJywKICAgICAgfQogICAgfTsKICB9CgogIGZvciAoY29uc3QgZmlsZSBvZiBmaWxlcykgewogICAgY29uc3QgbGkgPSBkb2N1bWVudC5jcmVhdGVFbGVtZW50KCdsaScpOwogICAgbGkuYXBwZW5kKHNwYW4oZmlsZS5uYW1lLCB7Zm9udFdlaWdodDogJ2JvbGQnfSkpOwogICAgbGkuYXBwZW5kKHNwYW4oCiAgICAgICAgYCgke2ZpbGUudHlwZSB8fCAnbi9hJ30pIC0gJHtmaWxlLnNpemV9IGJ5dGVzLCBgICsKICAgICAgICBgbGFzdCBtb2RpZmllZDogJHsKICAgICAgICAgICAgZmlsZS5sYXN0TW9kaWZpZWREYXRlID8gZmlsZS5sYXN0TW9kaWZpZWREYXRlLnRvTG9jYWxlRGF0ZVN0cmluZygpIDoKICAgICAgICAgICAgICAgICAgICAgICAgICAgICAgICAgICAgJ24vYSd9IC0gYCkpOwogICAgY29uc3QgcGVyY2VudCA9IHNwYW4oJzAlIGRvbmUnKTsKICAgIGxpLmFwcGVuZENoaWxkKHBlcmNlbnQpOwoKICAgIG91dHB1dEVsZW1lbnQuYXBwZW5kQ2hpbGQobGkpOwoKICAgIGNvbnN0IGZpbGVEYXRhUHJvbWlzZSA9IG5ldyBQcm9taXNlKChyZXNvbHZlKSA9PiB7CiAgICAgIGNvbnN0IHJlYWRlciA9IG5ldyBGaWxlUmVhZGVyKCk7CiAgICAgIHJlYWRlci5vbmxvYWQgPSAoZSkgPT4gewogICAgICAgIHJlc29sdmUoZS50YXJnZXQucmVzdWx0KTsKICAgICAgfTsKICAgICAgcmVhZGVyLnJlYWRBc0FycmF5QnVmZmVyKGZpbGUpOwogICAgfSk7CiAgICAvLyBXYWl0IGZvciB0aGUgZGF0YSB0byBiZSByZWFkeS4KICAgIGxldCBmaWxlRGF0YSA9IHlpZWxkIHsKICAgICAgcHJvbWlzZTogZmlsZURhdGFQcm9taXNlLAogICAgICByZXNwb25zZTogewogICAgICAgIGFjdGlvbjogJ2NvbnRpbnVlJywKICAgICAgfQogICAgfTsKCiAgICAvLyBVc2UgYSBjaHVua2VkIHNlbmRpbmcgdG8gYXZvaWQgbWVzc2FnZSBzaXplIGxpbWl0cy4gU2VlIGIvNjIxMTU2NjAuCiAgICBsZXQgcG9zaXRpb24gPSAwOwogICAgZG8gewogICAgICBjb25zdCBsZW5ndGggPSBNYXRoLm1pbihmaWxlRGF0YS5ieXRlTGVuZ3RoIC0gcG9zaXRpb24sIE1BWF9QQVlMT0FEX1NJWkUpOwogICAgICBjb25zdCBjaHVuayA9IG5ldyBVaW50OEFycmF5KGZpbGVEYXRhLCBwb3NpdGlvbiwgbGVuZ3RoKTsKICAgICAgcG9zaXRpb24gKz0gbGVuZ3RoOwoKICAgICAgY29uc3QgYmFzZTY0ID0gYnRvYShTdHJpbmcuZnJvbUNoYXJDb2RlLmFwcGx5KG51bGwsIGNodW5rKSk7CiAgICAgIHlpZWxkIHsKICAgICAgICByZXNwb25zZTogewogICAgICAgICAgYWN0aW9uOiAnYXBwZW5kJywKICAgICAgICAgIGZpbGU6IGZpbGUubmFtZSwKICAgICAgICAgIGRhdGE6IGJhc2U2NCwKICAgICAgICB9LAogICAgICB9OwoKICAgICAgbGV0IHBlcmNlbnREb25lID0gZmlsZURhdGEuYnl0ZUxlbmd0aCA9PT0gMCA/CiAgICAgICAgICAxMDAgOgogICAgICAgICAgTWF0aC5yb3VuZCgocG9zaXRpb24gLyBmaWxlRGF0YS5ieXRlTGVuZ3RoKSAqIDEwMCk7CiAgICAgIHBlcmNlbnQudGV4dENvbnRlbnQgPSBgJHtwZXJjZW50RG9uZX0lIGRvbmVgOwoKICAgIH0gd2hpbGUgKHBvc2l0aW9uIDwgZmlsZURhdGEuYnl0ZUxlbmd0aCk7CiAgfQoKICAvLyBBbGwgZG9uZS4KICB5aWVsZCB7CiAgICByZXNwb25zZTogewogICAgICBhY3Rpb246ICdjb21wbGV0ZScsCiAgICB9CiAgfTsKfQoKc2NvcGUuZ29vZ2xlID0gc2NvcGUuZ29vZ2xlIHx8IHt9OwpzY29wZS5nb29nbGUuY29sYWIgPSBzY29wZS5nb29nbGUuY29sYWIgfHwge307CnNjb3BlLmdvb2dsZS5jb2xhYi5fZmlsZXMgPSB7CiAgX3VwbG9hZEZpbGVzLAogIF91cGxvYWRGaWxlc0NvbnRpbnVlLAp9Owp9KShzZWxmKTsK",
              "ok": true,
              "headers": [
                [
                  "content-type",
                  "application/javascript"
                ]
              ],
              "status": 200,
              "status_text": ""
            }
          },
          "base_uri": "https://localhost:8080/",
          "height": 74
        },
        "id": "i9Q2mLHi-d_m",
        "outputId": "c3aaacf9-43c6-4e89-ced4-15bc74c4ee7a"
      },
      "execution_count": null,
      "outputs": [
        {
          "output_type": "display_data",
          "data": {
            "text/plain": [
              "<IPython.core.display.HTML object>"
            ],
            "text/html": [
              "\n",
              "     <input type=\"file\" id=\"files-b419804e-16f2-49bf-b1f3-522192a19c34\" name=\"files[]\" multiple disabled\n",
              "        style=\"border:none\" />\n",
              "     <output id=\"result-b419804e-16f2-49bf-b1f3-522192a19c34\">\n",
              "      Upload widget is only available when the cell has been executed in the\n",
              "      current browser session. Please rerun this cell to enable.\n",
              "      </output>\n",
              "      <script src=\"/nbextensions/google.colab/files.js\"></script> "
            ]
          },
          "metadata": {}
        },
        {
          "output_type": "stream",
          "name": "stdout",
          "text": [
            "Saving swmotorcycle_ClaimNb.csv to swmotorcycle_ClaimNb.csv\n"
          ]
        }
      ]
    },
    {
      "cell_type": "code",
      "source": [
        "# Reading File\n",
        "df = pd.read_csv('swmotorcycle_ClaimNb.csv')"
      ],
      "metadata": {
        "id": "hJC1ZvbJ-ftM"
      },
      "execution_count": null,
      "outputs": []
    },
    {
      "cell_type": "markdown",
      "source": [
        "# Data set Overview"
      ],
      "metadata": {
        "id": "HA8gnJI4vT7i"
      }
    },
    {
      "cell_type": "code",
      "source": [
        "# Dimensions of data set\n",
        "print(df.shape)"
      ],
      "metadata": {
        "id": "Y7LI1nVh_loI",
        "colab": {
          "base_uri": "https://localhost:8080/"
        },
        "outputId": "69c223e7-213e-462e-9cd8-748f77f77419"
      },
      "execution_count": null,
      "outputs": [
        {
          "output_type": "stream",
          "name": "stdout",
          "text": [
            "(64548, 8)\n"
          ]
        }
      ]
    },
    {
      "cell_type": "code",
      "source": [
        "# List types for each attribute\n",
        "print(df.info())"
      ],
      "metadata": {
        "id": "Pu87x81Z_lqt",
        "colab": {
          "base_uri": "https://localhost:8080/"
        },
        "outputId": "0e4d181c-d151-4543-83e3-9bfc9a3f50f2"
      },
      "execution_count": null,
      "outputs": [
        {
          "output_type": "stream",
          "name": "stdout",
          "text": [
            "<class 'pandas.core.frame.DataFrame'>\n",
            "RangeIndex: 64548 entries, 0 to 64547\n",
            "Data columns (total 8 columns):\n",
            " #   Column      Non-Null Count  Dtype  \n",
            "---  ------      --------------  -----  \n",
            " 0   OwnerAge    64548 non-null  int64  \n",
            " 1   Gender      64548 non-null  object \n",
            " 2   Area        64548 non-null  object \n",
            " 3   RiskClass   64548 non-null  object \n",
            " 4   VehAge      64548 non-null  int64  \n",
            " 5   BonusClass  64548 non-null  object \n",
            " 6   Exposure    64548 non-null  float64\n",
            " 7   ClaimNb     64548 non-null  int64  \n",
            "dtypes: float64(1), int64(3), object(4)\n",
            "memory usage: 3.9+ MB\n",
            "None\n"
          ]
        }
      ]
    },
    {
      "cell_type": "code",
      "source": [
        "# Take a peek at the first rows of the data\n",
        "df.head()"
      ],
      "metadata": {
        "id": "Pg3KgtmJ_lzm",
        "colab": {
          "base_uri": "https://localhost:8080/",
          "height": 206
        },
        "outputId": "ec5c33b6-d98f-4520-96bf-c1dcbf590914"
      },
      "execution_count": null,
      "outputs": [
        {
          "output_type": "execute_result",
          "data": {
            "text/plain": [
              "   OwnerAge  Gender                                               Area  \\\n",
              "0         0    Male     Central parts of Sweden's three largest cities   \n",
              "1         4    Male        Lesser towns except Gotland; Northern towns   \n",
              "2         5  Female        Lesser towns except Gotland; Northern towns   \n",
              "3         5  Female  Small towns; countryside except Gotland; North...   \n",
              "4         6  Female                       Suburbs; middle-sized cities   \n",
              "\n",
              "        RiskClass  VehAge BonusClass  Exposure  ClaimNb  \n",
              "0  EV ratio 13-15      12        BM1  0.175342        0  \n",
              "1  EV ratio 20-24       9        BM1  0.000000        0  \n",
              "2   EV ratio 9-12      18        BM1  0.454795        0  \n",
              "3     EV ratio <5      25        BM1  0.172603        0  \n",
              "4     EV ratio <5      26        BM1  0.180822        0  "
            ],
            "text/html": [
              "\n",
              "  <div id=\"df-d4271bc7-dbd1-493c-9f57-ecfb8707307b\">\n",
              "    <div class=\"colab-df-container\">\n",
              "      <div>\n",
              "<style scoped>\n",
              "    .dataframe tbody tr th:only-of-type {\n",
              "        vertical-align: middle;\n",
              "    }\n",
              "\n",
              "    .dataframe tbody tr th {\n",
              "        vertical-align: top;\n",
              "    }\n",
              "\n",
              "    .dataframe thead th {\n",
              "        text-align: right;\n",
              "    }\n",
              "</style>\n",
              "<table border=\"1\" class=\"dataframe\">\n",
              "  <thead>\n",
              "    <tr style=\"text-align: right;\">\n",
              "      <th></th>\n",
              "      <th>OwnerAge</th>\n",
              "      <th>Gender</th>\n",
              "      <th>Area</th>\n",
              "      <th>RiskClass</th>\n",
              "      <th>VehAge</th>\n",
              "      <th>BonusClass</th>\n",
              "      <th>Exposure</th>\n",
              "      <th>ClaimNb</th>\n",
              "    </tr>\n",
              "  </thead>\n",
              "  <tbody>\n",
              "    <tr>\n",
              "      <th>0</th>\n",
              "      <td>0</td>\n",
              "      <td>Male</td>\n",
              "      <td>Central parts of Sweden's three largest cities</td>\n",
              "      <td>EV ratio 13-15</td>\n",
              "      <td>12</td>\n",
              "      <td>BM1</td>\n",
              "      <td>0.175342</td>\n",
              "      <td>0</td>\n",
              "    </tr>\n",
              "    <tr>\n",
              "      <th>1</th>\n",
              "      <td>4</td>\n",
              "      <td>Male</td>\n",
              "      <td>Lesser towns except Gotland; Northern towns</td>\n",
              "      <td>EV ratio 20-24</td>\n",
              "      <td>9</td>\n",
              "      <td>BM1</td>\n",
              "      <td>0.000000</td>\n",
              "      <td>0</td>\n",
              "    </tr>\n",
              "    <tr>\n",
              "      <th>2</th>\n",
              "      <td>5</td>\n",
              "      <td>Female</td>\n",
              "      <td>Lesser towns except Gotland; Northern towns</td>\n",
              "      <td>EV ratio 9-12</td>\n",
              "      <td>18</td>\n",
              "      <td>BM1</td>\n",
              "      <td>0.454795</td>\n",
              "      <td>0</td>\n",
              "    </tr>\n",
              "    <tr>\n",
              "      <th>3</th>\n",
              "      <td>5</td>\n",
              "      <td>Female</td>\n",
              "      <td>Small towns; countryside except Gotland; North...</td>\n",
              "      <td>EV ratio &lt;5</td>\n",
              "      <td>25</td>\n",
              "      <td>BM1</td>\n",
              "      <td>0.172603</td>\n",
              "      <td>0</td>\n",
              "    </tr>\n",
              "    <tr>\n",
              "      <th>4</th>\n",
              "      <td>6</td>\n",
              "      <td>Female</td>\n",
              "      <td>Suburbs; middle-sized cities</td>\n",
              "      <td>EV ratio &lt;5</td>\n",
              "      <td>26</td>\n",
              "      <td>BM1</td>\n",
              "      <td>0.180822</td>\n",
              "      <td>0</td>\n",
              "    </tr>\n",
              "  </tbody>\n",
              "</table>\n",
              "</div>\n",
              "      <button class=\"colab-df-convert\" onclick=\"convertToInteractive('df-d4271bc7-dbd1-493c-9f57-ecfb8707307b')\"\n",
              "              title=\"Convert this dataframe to an interactive table.\"\n",
              "              style=\"display:none;\">\n",
              "        \n",
              "  <svg xmlns=\"http://www.w3.org/2000/svg\" height=\"24px\"viewBox=\"0 0 24 24\"\n",
              "       width=\"24px\">\n",
              "    <path d=\"M0 0h24v24H0V0z\" fill=\"none\"/>\n",
              "    <path d=\"M18.56 5.44l.94 2.06.94-2.06 2.06-.94-2.06-.94-.94-2.06-.94 2.06-2.06.94zm-11 1L8.5 8.5l.94-2.06 2.06-.94-2.06-.94L8.5 2.5l-.94 2.06-2.06.94zm10 10l.94 2.06.94-2.06 2.06-.94-2.06-.94-.94-2.06-.94 2.06-2.06.94z\"/><path d=\"M17.41 7.96l-1.37-1.37c-.4-.4-.92-.59-1.43-.59-.52 0-1.04.2-1.43.59L10.3 9.45l-7.72 7.72c-.78.78-.78 2.05 0 2.83L4 21.41c.39.39.9.59 1.41.59.51 0 1.02-.2 1.41-.59l7.78-7.78 2.81-2.81c.8-.78.8-2.07 0-2.86zM5.41 20L4 18.59l7.72-7.72 1.47 1.35L5.41 20z\"/>\n",
              "  </svg>\n",
              "      </button>\n",
              "      \n",
              "  <style>\n",
              "    .colab-df-container {\n",
              "      display:flex;\n",
              "      flex-wrap:wrap;\n",
              "      gap: 12px;\n",
              "    }\n",
              "\n",
              "    .colab-df-convert {\n",
              "      background-color: #E8F0FE;\n",
              "      border: none;\n",
              "      border-radius: 50%;\n",
              "      cursor: pointer;\n",
              "      display: none;\n",
              "      fill: #1967D2;\n",
              "      height: 32px;\n",
              "      padding: 0 0 0 0;\n",
              "      width: 32px;\n",
              "    }\n",
              "\n",
              "    .colab-df-convert:hover {\n",
              "      background-color: #E2EBFA;\n",
              "      box-shadow: 0px 1px 2px rgba(60, 64, 67, 0.3), 0px 1px 3px 1px rgba(60, 64, 67, 0.15);\n",
              "      fill: #174EA6;\n",
              "    }\n",
              "\n",
              "    [theme=dark] .colab-df-convert {\n",
              "      background-color: #3B4455;\n",
              "      fill: #D2E3FC;\n",
              "    }\n",
              "\n",
              "    [theme=dark] .colab-df-convert:hover {\n",
              "      background-color: #434B5C;\n",
              "      box-shadow: 0px 1px 3px 1px rgba(0, 0, 0, 0.15);\n",
              "      filter: drop-shadow(0px 1px 2px rgba(0, 0, 0, 0.3));\n",
              "      fill: #FFFFFF;\n",
              "    }\n",
              "  </style>\n",
              "\n",
              "      <script>\n",
              "        const buttonEl =\n",
              "          document.querySelector('#df-d4271bc7-dbd1-493c-9f57-ecfb8707307b button.colab-df-convert');\n",
              "        buttonEl.style.display =\n",
              "          google.colab.kernel.accessAllowed ? 'block' : 'none';\n",
              "\n",
              "        async function convertToInteractive(key) {\n",
              "          const element = document.querySelector('#df-d4271bc7-dbd1-493c-9f57-ecfb8707307b');\n",
              "          const dataTable =\n",
              "            await google.colab.kernel.invokeFunction('convertToInteractive',\n",
              "                                                     [key], {});\n",
              "          if (!dataTable) return;\n",
              "\n",
              "          const docLinkHtml = 'Like what you see? Visit the ' +\n",
              "            '<a target=\"_blank\" href=https://colab.research.google.com/notebooks/data_table.ipynb>data table notebook</a>'\n",
              "            + ' to learn more about interactive tables.';\n",
              "          element.innerHTML = '';\n",
              "          dataTable['output_type'] = 'display_data';\n",
              "          await google.colab.output.renderOutput(dataTable, element);\n",
              "          const docLink = document.createElement('div');\n",
              "          docLink.innerHTML = docLinkHtml;\n",
              "          element.appendChild(docLink);\n",
              "        }\n",
              "      </script>\n",
              "    </div>\n",
              "  </div>\n",
              "  "
            ]
          },
          "metadata": {},
          "execution_count": 6
        }
      ]
    },
    {
      "cell_type": "markdown",
      "source": [
        "# Data Cleaning"
      ],
      "metadata": {
        "id": "K3_dFucFvohL"
      }
    },
    {
      "cell_type": "code",
      "source": [
        "# get number of unique values for each column\n",
        "counts = df.nunique()\n",
        "# record columns to delete\n",
        "to_del = [i for i,v in enumerate(counts) if v == 1]\n",
        "print(to_del)\n",
        "# drop useless columns\n",
        "df.drop(to_del, axis=1, inplace=True)\n",
        "print(df.shape)"
      ],
      "metadata": {
        "id": "KPYovd_bAUqp",
        "colab": {
          "base_uri": "https://localhost:8080/"
        },
        "outputId": "8ddffad8-5d96-4e89-9d94-0ce8bf090805"
      },
      "execution_count": null,
      "outputs": [
        {
          "output_type": "stream",
          "name": "stdout",
          "text": [
            "[]\n",
            "(64548, 8)\n"
          ]
        }
      ]
    },
    {
      "cell_type": "code",
      "source": [
        "# get number of unique values for each row\n",
        "counts = df.duplicated()\n",
        "# record rows to delete\n",
        "to_del = [i for i,v in enumerate(counts) if v == 1]\n",
        "print(to_del)\n",
        "print(df.shape)"
      ],
      "metadata": {
        "id": "x-5PSTq2BfwM",
        "colab": {
          "base_uri": "https://localhost:8080/"
        },
        "outputId": "00d9fd07-811c-462f-9ff6-da70c0e4eb96"
      },
      "execution_count": null,
      "outputs": [
        {
          "output_type": "stream",
          "name": "stdout",
          "text": [
            "[]\n",
            "(64548, 8)\n"
          ]
        }
      ]
    },
    {
      "cell_type": "code",
      "source": [
        "# Check missing values both to numeric features and categorical features \n",
        "missing = df.isnull().sum()/df.shape[0]*100\n",
        "missing"
      ],
      "metadata": {
        "id": "rTthh0x3_vAs",
        "colab": {
          "base_uri": "https://localhost:8080/"
        },
        "outputId": "efbc3c38-495a-4529-ffc3-faed6b58c3b7"
      },
      "execution_count": null,
      "outputs": [
        {
          "output_type": "execute_result",
          "data": {
            "text/plain": [
              "OwnerAge      0.0\n",
              "Gender        0.0\n",
              "Area          0.0\n",
              "RiskClass     0.0\n",
              "VehAge        0.0\n",
              "BonusClass    0.0\n",
              "Exposure      0.0\n",
              "ClaimNb       0.0\n",
              "dtype: float64"
            ]
          },
          "metadata": {},
          "execution_count": 9
        }
      ]
    },
    {
      "cell_type": "markdown",
      "source": [
        "# Summary Statistics"
      ],
      "metadata": {
        "id": "9fGyqgTlv0ha"
      }
    },
    {
      "cell_type": "code",
      "source": [
        "# Summarize attribute distributions for data type of variables\n",
        "obj_cols = [var for var in df.columns if df[var].dtype=='object']\n",
        "df[obj_cols].describe().T"
      ],
      "metadata": {
        "id": "-5VW72YG_0kS",
        "colab": {
          "base_uri": "https://localhost:8080/",
          "height": 175
        },
        "outputId": "e8edbc5e-d93a-4bda-9f6f-939f5c614fec"
      },
      "execution_count": null,
      "outputs": [
        {
          "output_type": "execute_result",
          "data": {
            "text/plain": [
              "            count unique                                                top  \\\n",
              "Gender      64548      2                                               Male   \n",
              "Area        64548      7  Small towns; countryside except Gotland; North...   \n",
              "RiskClass   64548      7                                      EV ratio 9-12   \n",
              "BonusClass  64548      7                                                BM7   \n",
              "\n",
              "             freq  \n",
              "Gender      54695  \n",
              "Area        24816  \n",
              "RiskClass   18905  \n",
              "BonusClass  17953  "
            ],
            "text/html": [
              "\n",
              "  <div id=\"df-82c8ca6b-b9ab-4bed-8fcc-2eb802de0b4c\">\n",
              "    <div class=\"colab-df-container\">\n",
              "      <div>\n",
              "<style scoped>\n",
              "    .dataframe tbody tr th:only-of-type {\n",
              "        vertical-align: middle;\n",
              "    }\n",
              "\n",
              "    .dataframe tbody tr th {\n",
              "        vertical-align: top;\n",
              "    }\n",
              "\n",
              "    .dataframe thead th {\n",
              "        text-align: right;\n",
              "    }\n",
              "</style>\n",
              "<table border=\"1\" class=\"dataframe\">\n",
              "  <thead>\n",
              "    <tr style=\"text-align: right;\">\n",
              "      <th></th>\n",
              "      <th>count</th>\n",
              "      <th>unique</th>\n",
              "      <th>top</th>\n",
              "      <th>freq</th>\n",
              "    </tr>\n",
              "  </thead>\n",
              "  <tbody>\n",
              "    <tr>\n",
              "      <th>Gender</th>\n",
              "      <td>64548</td>\n",
              "      <td>2</td>\n",
              "      <td>Male</td>\n",
              "      <td>54695</td>\n",
              "    </tr>\n",
              "    <tr>\n",
              "      <th>Area</th>\n",
              "      <td>64548</td>\n",
              "      <td>7</td>\n",
              "      <td>Small towns; countryside except Gotland; North...</td>\n",
              "      <td>24816</td>\n",
              "    </tr>\n",
              "    <tr>\n",
              "      <th>RiskClass</th>\n",
              "      <td>64548</td>\n",
              "      <td>7</td>\n",
              "      <td>EV ratio 9-12</td>\n",
              "      <td>18905</td>\n",
              "    </tr>\n",
              "    <tr>\n",
              "      <th>BonusClass</th>\n",
              "      <td>64548</td>\n",
              "      <td>7</td>\n",
              "      <td>BM7</td>\n",
              "      <td>17953</td>\n",
              "    </tr>\n",
              "  </tbody>\n",
              "</table>\n",
              "</div>\n",
              "      <button class=\"colab-df-convert\" onclick=\"convertToInteractive('df-82c8ca6b-b9ab-4bed-8fcc-2eb802de0b4c')\"\n",
              "              title=\"Convert this dataframe to an interactive table.\"\n",
              "              style=\"display:none;\">\n",
              "        \n",
              "  <svg xmlns=\"http://www.w3.org/2000/svg\" height=\"24px\"viewBox=\"0 0 24 24\"\n",
              "       width=\"24px\">\n",
              "    <path d=\"M0 0h24v24H0V0z\" fill=\"none\"/>\n",
              "    <path d=\"M18.56 5.44l.94 2.06.94-2.06 2.06-.94-2.06-.94-.94-2.06-.94 2.06-2.06.94zm-11 1L8.5 8.5l.94-2.06 2.06-.94-2.06-.94L8.5 2.5l-.94 2.06-2.06.94zm10 10l.94 2.06.94-2.06 2.06-.94-2.06-.94-.94-2.06-.94 2.06-2.06.94z\"/><path d=\"M17.41 7.96l-1.37-1.37c-.4-.4-.92-.59-1.43-.59-.52 0-1.04.2-1.43.59L10.3 9.45l-7.72 7.72c-.78.78-.78 2.05 0 2.83L4 21.41c.39.39.9.59 1.41.59.51 0 1.02-.2 1.41-.59l7.78-7.78 2.81-2.81c.8-.78.8-2.07 0-2.86zM5.41 20L4 18.59l7.72-7.72 1.47 1.35L5.41 20z\"/>\n",
              "  </svg>\n",
              "      </button>\n",
              "      \n",
              "  <style>\n",
              "    .colab-df-container {\n",
              "      display:flex;\n",
              "      flex-wrap:wrap;\n",
              "      gap: 12px;\n",
              "    }\n",
              "\n",
              "    .colab-df-convert {\n",
              "      background-color: #E8F0FE;\n",
              "      border: none;\n",
              "      border-radius: 50%;\n",
              "      cursor: pointer;\n",
              "      display: none;\n",
              "      fill: #1967D2;\n",
              "      height: 32px;\n",
              "      padding: 0 0 0 0;\n",
              "      width: 32px;\n",
              "    }\n",
              "\n",
              "    .colab-df-convert:hover {\n",
              "      background-color: #E2EBFA;\n",
              "      box-shadow: 0px 1px 2px rgba(60, 64, 67, 0.3), 0px 1px 3px 1px rgba(60, 64, 67, 0.15);\n",
              "      fill: #174EA6;\n",
              "    }\n",
              "\n",
              "    [theme=dark] .colab-df-convert {\n",
              "      background-color: #3B4455;\n",
              "      fill: #D2E3FC;\n",
              "    }\n",
              "\n",
              "    [theme=dark] .colab-df-convert:hover {\n",
              "      background-color: #434B5C;\n",
              "      box-shadow: 0px 1px 3px 1px rgba(0, 0, 0, 0.15);\n",
              "      filter: drop-shadow(0px 1px 2px rgba(0, 0, 0, 0.3));\n",
              "      fill: #FFFFFF;\n",
              "    }\n",
              "  </style>\n",
              "\n",
              "      <script>\n",
              "        const buttonEl =\n",
              "          document.querySelector('#df-82c8ca6b-b9ab-4bed-8fcc-2eb802de0b4c button.colab-df-convert');\n",
              "        buttonEl.style.display =\n",
              "          google.colab.kernel.accessAllowed ? 'block' : 'none';\n",
              "\n",
              "        async function convertToInteractive(key) {\n",
              "          const element = document.querySelector('#df-82c8ca6b-b9ab-4bed-8fcc-2eb802de0b4c');\n",
              "          const dataTable =\n",
              "            await google.colab.kernel.invokeFunction('convertToInteractive',\n",
              "                                                     [key], {});\n",
              "          if (!dataTable) return;\n",
              "\n",
              "          const docLinkHtml = 'Like what you see? Visit the ' +\n",
              "            '<a target=\"_blank\" href=https://colab.research.google.com/notebooks/data_table.ipynb>data table notebook</a>'\n",
              "            + ' to learn more about interactive tables.';\n",
              "          element.innerHTML = '';\n",
              "          dataTable['output_type'] = 'display_data';\n",
              "          await google.colab.output.renderOutput(dataTable, element);\n",
              "          const docLink = document.createElement('div');\n",
              "          docLink.innerHTML = docLinkHtml;\n",
              "          element.appendChild(docLink);\n",
              "        }\n",
              "      </script>\n",
              "    </div>\n",
              "  </div>\n",
              "  "
            ]
          },
          "metadata": {},
          "execution_count": 10
        }
      ]
    },
    {
      "cell_type": "code",
      "source": [
        "# Summarize attribute distributions for data type of variables\n",
        "no_obj_cols = [var for var in df.columns if df[var].dtype!='object']\n",
        "df[no_obj_cols].describe().T"
      ],
      "metadata": {
        "id": "BzwpsBtqABTC",
        "colab": {
          "base_uri": "https://localhost:8080/",
          "height": 175
        },
        "outputId": "a559b430-64bd-4f16-b27b-3a8323041848"
      },
      "execution_count": null,
      "outputs": [
        {
          "output_type": "execute_result",
          "data": {
            "text/plain": [
              "            count       mean        std  min        25%        50%   75%  \\\n",
              "OwnerAge  64548.0  42.416062  12.980960  0.0  31.000000  44.000000  52.0   \n",
              "VehAge    64548.0  12.540063   9.727445  0.0   5.000000  12.000000  16.0   \n",
              "Exposure  64548.0   1.010671   1.307424  0.0   0.463014   0.827397   1.0   \n",
              "ClaimNb   64548.0   0.010798   0.107323  0.0   0.000000   0.000000   0.0   \n",
              "\n",
              "               max  \n",
              "OwnerAge  92.00000  \n",
              "VehAge    99.00000  \n",
              "Exposure  31.33973  \n",
              "ClaimNb    2.00000  "
            ],
            "text/html": [
              "\n",
              "  <div id=\"df-752619aa-2977-431f-95ba-d9bfd0e021d4\">\n",
              "    <div class=\"colab-df-container\">\n",
              "      <div>\n",
              "<style scoped>\n",
              "    .dataframe tbody tr th:only-of-type {\n",
              "        vertical-align: middle;\n",
              "    }\n",
              "\n",
              "    .dataframe tbody tr th {\n",
              "        vertical-align: top;\n",
              "    }\n",
              "\n",
              "    .dataframe thead th {\n",
              "        text-align: right;\n",
              "    }\n",
              "</style>\n",
              "<table border=\"1\" class=\"dataframe\">\n",
              "  <thead>\n",
              "    <tr style=\"text-align: right;\">\n",
              "      <th></th>\n",
              "      <th>count</th>\n",
              "      <th>mean</th>\n",
              "      <th>std</th>\n",
              "      <th>min</th>\n",
              "      <th>25%</th>\n",
              "      <th>50%</th>\n",
              "      <th>75%</th>\n",
              "      <th>max</th>\n",
              "    </tr>\n",
              "  </thead>\n",
              "  <tbody>\n",
              "    <tr>\n",
              "      <th>OwnerAge</th>\n",
              "      <td>64548.0</td>\n",
              "      <td>42.416062</td>\n",
              "      <td>12.980960</td>\n",
              "      <td>0.0</td>\n",
              "      <td>31.000000</td>\n",
              "      <td>44.000000</td>\n",
              "      <td>52.0</td>\n",
              "      <td>92.00000</td>\n",
              "    </tr>\n",
              "    <tr>\n",
              "      <th>VehAge</th>\n",
              "      <td>64548.0</td>\n",
              "      <td>12.540063</td>\n",
              "      <td>9.727445</td>\n",
              "      <td>0.0</td>\n",
              "      <td>5.000000</td>\n",
              "      <td>12.000000</td>\n",
              "      <td>16.0</td>\n",
              "      <td>99.00000</td>\n",
              "    </tr>\n",
              "    <tr>\n",
              "      <th>Exposure</th>\n",
              "      <td>64548.0</td>\n",
              "      <td>1.010671</td>\n",
              "      <td>1.307424</td>\n",
              "      <td>0.0</td>\n",
              "      <td>0.463014</td>\n",
              "      <td>0.827397</td>\n",
              "      <td>1.0</td>\n",
              "      <td>31.33973</td>\n",
              "    </tr>\n",
              "    <tr>\n",
              "      <th>ClaimNb</th>\n",
              "      <td>64548.0</td>\n",
              "      <td>0.010798</td>\n",
              "      <td>0.107323</td>\n",
              "      <td>0.0</td>\n",
              "      <td>0.000000</td>\n",
              "      <td>0.000000</td>\n",
              "      <td>0.0</td>\n",
              "      <td>2.00000</td>\n",
              "    </tr>\n",
              "  </tbody>\n",
              "</table>\n",
              "</div>\n",
              "      <button class=\"colab-df-convert\" onclick=\"convertToInteractive('df-752619aa-2977-431f-95ba-d9bfd0e021d4')\"\n",
              "              title=\"Convert this dataframe to an interactive table.\"\n",
              "              style=\"display:none;\">\n",
              "        \n",
              "  <svg xmlns=\"http://www.w3.org/2000/svg\" height=\"24px\"viewBox=\"0 0 24 24\"\n",
              "       width=\"24px\">\n",
              "    <path d=\"M0 0h24v24H0V0z\" fill=\"none\"/>\n",
              "    <path d=\"M18.56 5.44l.94 2.06.94-2.06 2.06-.94-2.06-.94-.94-2.06-.94 2.06-2.06.94zm-11 1L8.5 8.5l.94-2.06 2.06-.94-2.06-.94L8.5 2.5l-.94 2.06-2.06.94zm10 10l.94 2.06.94-2.06 2.06-.94-2.06-.94-.94-2.06-.94 2.06-2.06.94z\"/><path d=\"M17.41 7.96l-1.37-1.37c-.4-.4-.92-.59-1.43-.59-.52 0-1.04.2-1.43.59L10.3 9.45l-7.72 7.72c-.78.78-.78 2.05 0 2.83L4 21.41c.39.39.9.59 1.41.59.51 0 1.02-.2 1.41-.59l7.78-7.78 2.81-2.81c.8-.78.8-2.07 0-2.86zM5.41 20L4 18.59l7.72-7.72 1.47 1.35L5.41 20z\"/>\n",
              "  </svg>\n",
              "      </button>\n",
              "      \n",
              "  <style>\n",
              "    .colab-df-container {\n",
              "      display:flex;\n",
              "      flex-wrap:wrap;\n",
              "      gap: 12px;\n",
              "    }\n",
              "\n",
              "    .colab-df-convert {\n",
              "      background-color: #E8F0FE;\n",
              "      border: none;\n",
              "      border-radius: 50%;\n",
              "      cursor: pointer;\n",
              "      display: none;\n",
              "      fill: #1967D2;\n",
              "      height: 32px;\n",
              "      padding: 0 0 0 0;\n",
              "      width: 32px;\n",
              "    }\n",
              "\n",
              "    .colab-df-convert:hover {\n",
              "      background-color: #E2EBFA;\n",
              "      box-shadow: 0px 1px 2px rgba(60, 64, 67, 0.3), 0px 1px 3px 1px rgba(60, 64, 67, 0.15);\n",
              "      fill: #174EA6;\n",
              "    }\n",
              "\n",
              "    [theme=dark] .colab-df-convert {\n",
              "      background-color: #3B4455;\n",
              "      fill: #D2E3FC;\n",
              "    }\n",
              "\n",
              "    [theme=dark] .colab-df-convert:hover {\n",
              "      background-color: #434B5C;\n",
              "      box-shadow: 0px 1px 3px 1px rgba(0, 0, 0, 0.15);\n",
              "      filter: drop-shadow(0px 1px 2px rgba(0, 0, 0, 0.3));\n",
              "      fill: #FFFFFF;\n",
              "    }\n",
              "  </style>\n",
              "\n",
              "      <script>\n",
              "        const buttonEl =\n",
              "          document.querySelector('#df-752619aa-2977-431f-95ba-d9bfd0e021d4 button.colab-df-convert');\n",
              "        buttonEl.style.display =\n",
              "          google.colab.kernel.accessAllowed ? 'block' : 'none';\n",
              "\n",
              "        async function convertToInteractive(key) {\n",
              "          const element = document.querySelector('#df-752619aa-2977-431f-95ba-d9bfd0e021d4');\n",
              "          const dataTable =\n",
              "            await google.colab.kernel.invokeFunction('convertToInteractive',\n",
              "                                                     [key], {});\n",
              "          if (!dataTable) return;\n",
              "\n",
              "          const docLinkHtml = 'Like what you see? Visit the ' +\n",
              "            '<a target=\"_blank\" href=https://colab.research.google.com/notebooks/data_table.ipynb>data table notebook</a>'\n",
              "            + ' to learn more about interactive tables.';\n",
              "          element.innerHTML = '';\n",
              "          dataTable['output_type'] = 'display_data';\n",
              "          await google.colab.output.renderOutput(dataTable, element);\n",
              "          const docLink = document.createElement('div');\n",
              "          docLink.innerHTML = docLinkHtml;\n",
              "          element.appendChild(docLink);\n",
              "        }\n",
              "      </script>\n",
              "    </div>\n",
              "  </div>\n",
              "  "
            ]
          },
          "metadata": {},
          "execution_count": 11
        }
      ]
    },
    {
      "cell_type": "code",
      "source": [
        "# Split data set between target variable and features\n",
        "X_full = df.copy()\n",
        "y = X_full.ClaimNb\n",
        "X_full.drop(['ClaimNb'], axis=1, inplace=True)"
      ],
      "metadata": {
        "id": "ouVEQtvoAJ1e"
      },
      "execution_count": null,
      "outputs": []
    },
    {
      "cell_type": "markdown",
      "source": [
        "# Target Variable Analysis"
      ],
      "metadata": {
        "id": "32mV9I_Bvb76"
      }
    },
    {
      "cell_type": "code",
      "source": [
        "# Univariate analysis looking at Mean, Variance, Standard Deviation, Skewness and Kurtosis\n",
        "print(y.name,\n",
        "      '\\nMean :', np.mean(y),\n",
        "      '\\nVariance :', np.var(y),\n",
        "      '\\nStandard Deviation :', np.var(y)**0.5, \n",
        "      '\\nSkewness :', stats.skew(y), \n",
        "      '\\nKurtosis :', stats.kurtosis(y))"
      ],
      "metadata": {
        "id": "SGlc6-aCSJ28",
        "colab": {
          "base_uri": "https://localhost:8080/"
        },
        "outputId": "1ac96583-eef4-4fa4-a818-c4d5c8c77210"
      },
      "execution_count": null,
      "outputs": [
        {
          "output_type": "stream",
          "name": "stdout",
          "text": [
            "ClaimNb \n",
            "Mean : 0.010798165706141167 \n",
            "Variance : 0.011518152049681164 \n",
            "Standard Deviation : 0.10732265394445463 \n",
            "Skewness : 10.462687865766773 \n",
            "Kurtosis : 118.26200717739627\n"
          ]
        }
      ]
    },
    {
      "cell_type": "code",
      "source": [
        "# Univariate analysis with density plots and histogram\n",
        "fig = plt.figure(figsize = (25,8))\n",
        "plt.subplot(1,3,1)  \n",
        "plt.hist(df['ClaimNb'], bins=10)\n",
        "plt.xticks(rotation=45)\n",
        "plt.title('Claims histogram')\n",
        "# Univariate analysis with QQ-plot\n",
        "plt.subplot(1,3,2)  \n",
        "res = stats.probplot(y, plot=plt)\n",
        "plt.title('Claims Q-Q plot')\n",
        "# Univariate analysis with density plot\n",
        "plt.subplot(1,3,3)\n",
        "df['ClaimNb'].plot(kind='density')\n",
        "plt.xticks(rotation=45)\n",
        "plt.title('Claims density plot') \n",
        "plt.show()"
      ],
      "metadata": {
        "id": "E63UU6WBTGRA",
        "colab": {
          "base_uri": "https://localhost:8080/",
          "height": 485
        },
        "outputId": "b53d855e-a830-4198-f6c5-015f90afe82f"
      },
      "execution_count": null,
      "outputs": [
        {
          "output_type": "display_data",
          "data": {
            "text/plain": [
              "<Figure size 1800x576 with 3 Axes>"
            ],
            "image/png": "[encoded data removed]"
          },
          "metadata": {
            "needs_background": "light"
          }
        }
      ]
    },
    {
      "cell_type": "markdown",
      "source": [
        "# Numerical Features Analysis"
      ],
      "metadata": {
        "id": "DpecOqFSwLv8"
      }
    },
    {
      "cell_type": "code",
      "source": [
        "# Select numerical columns\n",
        "numerical_cols = [cname for cname in X_full.columns if \n",
        "                X_full[cname].dtype in ['float64','int64']]"
      ],
      "metadata": {
        "id": "jknIvUHnmrX3"
      },
      "execution_count": null,
      "outputs": []
    },
    {
      "cell_type": "code",
      "source": [
        "# Subset with numerical features\n",
        "num = X_full[numerical_cols]\n",
        "num.columns"
      ],
      "metadata": {
        "id": "Qjx4gGJvnbcn",
        "colab": {
          "base_uri": "https://localhost:8080/"
        },
        "outputId": "d5827639-176e-4945-d4a5-d62455d8dac5"
      },
      "execution_count": null,
      "outputs": [
        {
          "output_type": "execute_result",
          "data": {
            "text/plain": [
              "Index(['OwnerAge', 'VehAge', 'Exposure'], dtype='object')"
            ]
          },
          "metadata": {},
          "execution_count": 16
        }
      ]
    },
    {
      "cell_type": "code",
      "source": [
        "# Univariate analysis looking at Mean, Standard Deviation, Skewness and Kurtosis\n",
        "for col in num:\n",
        "    print(col,\n",
        "        '\\nMean :', np.mean(num[col]),  \n",
        "        '\\nVariance :', np.var(num[col]),\n",
        "        '\\nStandard Deviation :', np.var(num[col])**0.5, \n",
        "        '\\nSkewness :', stats.skew(num[col]), \n",
        "        '\\nKurtosis :', stats.kurtosis(num[col]))"
      ],
      "metadata": {
        "id": "LluqKiiZnkxu",
        "colab": {
          "base_uri": "https://localhost:8080/"
        },
        "outputId": "c5af0c12-65db-49e9-8bb9-365766c8f284"
      },
      "execution_count": null,
      "outputs": [
        {
          "output_type": "stream",
          "name": "stdout",
          "text": [
            "OwnerAge \n",
            "Mean : 42.41606246514222 \n",
            "Variance : 168.502699176367 \n",
            "Standard Deviation : 12.98085895371978 \n",
            "Skewness : 0.01923230691615634 \n",
            "Kurtosis : -0.7209156107313563\n",
            "VehAge \n",
            "Mean : 12.540063208774866 \n",
            "Variance : 94.62172951202372 \n",
            "Standard Deviation : 9.727370123112603 \n",
            "Skewness : 1.7210040577972723 \n",
            "Kurtosis : 5.033623862712162\n",
            "Exposure \n",
            "Mean : 1.010671296198178 \n",
            "Variance : 1.7093305177651694 \n",
            "Standard Deviation : 1.3074136750719603 \n",
            "Skewness : 6.784285624699394 \n",
            "Kurtosis : 78.63564102170989\n"
          ]
        }
      ]
    },
    {
      "cell_type": "code",
      "source": [
        "# Univariate analysis with histograms\n",
        "for col in num:\n",
        "    plt.figure(figsize=(5,5))\n",
        "    x=num[col]\n",
        "    plt.hist(x,color='green',edgecolor='black')\n",
        "    plt.title('{} histogram'.format(col))\n",
        "    plt.xticks(rotation=45)\n",
        "    plt.show()"
      ],
      "metadata": {
        "id": "bWg8AQpqntY2",
        "colab": {
          "base_uri": "https://localhost:8080/",
          "height": 996
        },
        "outputId": "553cabbe-ddbb-47ba-d592-d7f3d318d990"
      },
      "execution_count": null,
      "outputs": [
        {
          "output_type": "display_data",
          "data": {
            "text/plain": [
              "<Figure size 360x360 with 1 Axes>"
            ],
            "image/png": "[encoded data removed]"
          },
          "metadata": {
            "needs_background": "light"
          }
        },
        {
          "output_type": "display_data",
          "data": {
            "text/plain": [
              "<Figure size 360x360 with 1 Axes>"
            ],
            "image/png": "[encoded data removed]"
          },
          "metadata": {
            "needs_background": "light"
          }
        },
        {
          "output_type": "display_data",
          "data": {
            "text/plain": [
              "<Figure size 360x360 with 1 Axes>"
            ],
            "image/png": "[encoded data removed]"
          },
          "metadata": {
            "needs_background": "light"
          }
        }
      ]
    },
    {
      "cell_type": "code",
      "source": [
        "# Univariate analysis with Q-Q plot\n",
        "for col in num:\n",
        "    plt.figure(figsize=(5,5))\n",
        "    x=num[col]\n",
        "    res = stats.probplot(x, plot=plt)\n",
        "    plt.title('{} Q-Q plot'.format(col))\n",
        "    plt.xticks(rotation=45)\n",
        "    plt.show()"
      ],
      "metadata": {
        "id": "JhwjbBzdoZtj",
        "colab": {
          "base_uri": "https://localhost:8080/",
          "height": 1000
        },
        "outputId": "e067894a-bc06-4639-f2c7-222661eb5a3e"
      },
      "execution_count": null,
      "outputs": [
        {
          "output_type": "display_data",
          "data": {
            "text/plain": [
              "<Figure size 360x360 with 1 Axes>"
            ],
            "image/png": "[encoded data removed]"
          },
          "metadata": {
            "needs_background": "light"
          }
        },
        {
          "output_type": "display_data",
          "data": {
            "text/plain": [
              "<Figure size 360x360 with 1 Axes>"
            ],
            "image/png": "[encoded data removed]"
          },
          "metadata": {
            "needs_background": "light"
          }
        },
        {
          "output_type": "display_data",
          "data": {
            "text/plain": [
              "<Figure size 360x360 with 1 Axes>"
            ],
            "image/png": "[encoded data removed]"
          },
          "metadata": {
            "needs_background": "light"
          }
        }
      ]
    },
    {
      "cell_type": "code",
      "source": [
        "# Univariate analysis with box-plots\n",
        "for col in num:\n",
        "    plt.figure(figsize=(5,5))\n",
        "    x=num[col]\n",
        "    sns.boxplot(x, color=\"orange\")\n",
        "    plt.xticks(rotation=45)\n",
        "    plt.show()"
      ],
      "metadata": {
        "id": "okyNg7GVfaPF",
        "colab": {
          "base_uri": "https://localhost:8080/",
          "height": 990
        },
        "outputId": "7e775f92-835c-45d4-b55e-713be2131338"
      },
      "execution_count": null,
      "outputs": [
        {
          "output_type": "display_data",
          "data": {
            "text/plain": [
              "<Figure size 360x360 with 1 Axes>"
            ],
            "image/png": "[encoded data removed]"
          },
          "metadata": {
            "needs_background": "light"
          }
        },
        {
          "output_type": "display_data",
          "data": {
            "text/plain": [
              "<Figure size 360x360 with 1 Axes>"
            ],
            "image/png": "[encoded data removed]"
          },
          "metadata": {
            "needs_background": "light"
          }
        },
        {
          "output_type": "display_data",
          "data": {
            "text/plain": [
              "<Figure size 360x360 with 1 Axes>"
            ],
            "image/png": "[encoded data removed]"
          },
          "metadata": {
            "needs_background": "light"
          }
        }
      ]
    },
    {
      "cell_type": "code",
      "source": [
        "# new subset for a bivariate analysis\n",
        "num2 = pd.concat([y,num], axis=1)"
      ],
      "metadata": {
        "id": "c3fDUSXtpLgz"
      },
      "execution_count": null,
      "outputs": []
    },
    {
      "cell_type": "code",
      "source": [
        "# Bivariate analysis with box-plots\n",
        "for col in num:\n",
        "    plt.figure(figsize=(5,5))\n",
        "    sns.boxplot(y=col, x=y, data=num2, linewidth=2, palette=\"Set2\")\n",
        "    plt.show()"
      ],
      "metadata": {
        "id": "vrg00PGMpQRH",
        "colab": {
          "base_uri": "https://localhost:8080/",
          "height": 968
        },
        "outputId": "e5bbd710-70ff-4774-b9c8-d467188fb915"
      },
      "execution_count": null,
      "outputs": [
        {
          "output_type": "display_data",
          "data": {
            "text/plain": [
              "<Figure size 360x360 with 1 Axes>"
            ],
            "image/png": "[encoded data removed]"
          },
          "metadata": {
            "needs_background": "light"
          }
        },
        {
          "output_type": "display_data",
          "data": {
            "text/plain": [
              "<Figure size 360x360 with 1 Axes>"
            ],
            "image/png": "[encoded data removed]"
          },
          "metadata": {
            "needs_background": "light"
          }
        },
        {
          "output_type": "display_data",
          "data": {
            "text/plain": [
              "<Figure size 360x360 with 1 Axes>"
            ],
            "image/png": "[encoded data removed]"
          },
          "metadata": {
            "needs_background": "light"
          }
        }
      ]
    },
    {
      "cell_type": "code",
      "source": [
        "# Correlation heatmap\n",
        "corr_matrix = num2.corr()\n",
        "sns.heatmap(corr_matrix, square = True, annot=True, fmt='.2f')\n",
        "plt.title('Correlation Heatmap on data set',size=15)\n",
        "plt.yticks(fontsize=\"10\")\n",
        "plt.xticks(fontsize=\"10\")\n",
        "plt.show()\n"
      ],
      "metadata": {
        "id": "RXqcr0YDay_-",
        "colab": {
          "base_uri": "https://localhost:8080/",
          "height": 283
        },
        "outputId": "22265114-172b-4078-ec71-2bfa4acf826d"
      },
      "execution_count": null,
      "outputs": [
        {
          "output_type": "display_data",
          "data": {
            "text/plain": [
              "<Figure size 432x288 with 2 Axes>"
            ],
            "image/png": "[encoded data removed]"
          },
          "metadata": {
            "needs_background": "light"
          }
        }
      ]
    },
    {
      "cell_type": "markdown",
      "source": [
        "# Categorical Features Analysis"
      ],
      "metadata": {
        "id": "ygvOmV-ZwXah"
      }
    },
    {
      "cell_type": "code",
      "source": [
        "# let's have a look at how many labels for categorical features\n",
        "for col in X_full.columns:\n",
        "    if X_full[col].dtype ==\"object\":\n",
        "        print(col, ': ', len(X_full[col].unique()), ' labels')"
      ],
      "metadata": {
        "id": "I3tZk3lGrIlN",
        "colab": {
          "base_uri": "https://localhost:8080/"
        },
        "outputId": "d9b4526a-911a-47bb-fa68-ff07bf52415e"
      },
      "execution_count": null,
      "outputs": [
        {
          "output_type": "stream",
          "name": "stdout",
          "text": [
            "Gender :  2  labels\n",
            "Area :  7  labels\n",
            "RiskClass :  7  labels\n",
            "BonusClass :  7  labels\n"
          ]
        }
      ]
    },
    {
      "cell_type": "code",
      "source": [
        "# Select categorical columns with relatively low cardinality (convenient but arbitrary)\n",
        "categorical_cols = [cname for cname in X_full.columns if\n",
        "                    X_full[cname].nunique() <= 15 and \n",
        "                    X_full[cname].dtype == \"object\"]"
      ],
      "metadata": {
        "id": "qCe3409DrQ6x"
      },
      "execution_count": null,
      "outputs": []
    },
    {
      "cell_type": "code",
      "source": [
        "# Subset with categorical features\n",
        "cat = X_full[categorical_cols]\n",
        "cat.columns"
      ],
      "metadata": {
        "id": "m-qCS5B2rUIG",
        "colab": {
          "base_uri": "https://localhost:8080/"
        },
        "outputId": "c9b69344-ce3a-4d32-bb9f-e8aa02ed8bd0"
      },
      "execution_count": null,
      "outputs": [
        {
          "output_type": "execute_result",
          "data": {
            "text/plain": [
              "Index(['Gender', 'Area', 'RiskClass', 'BonusClass'], dtype='object')"
            ]
          },
          "metadata": {},
          "execution_count": 26
        }
      ]
    },
    {
      "cell_type": "code",
      "source": [
        "# Univariate analysis looking at frequency\n",
        "for col in cat:\n",
        "    count = pd.crosstab(index = cat[col], columns=\"count\")\n",
        "    percentage = pd.crosstab(index = cat[col], columns=\"frequency\")/pd.crosstab(index = cat[col], columns=\"frequency\").sum()\n",
        "    tab = pd.concat([count, percentage], axis=1)\n",
        "    print('\\n',tab)"
      ],
      "metadata": {
        "id": "41KyWZ_krWZq",
        "colab": {
          "base_uri": "https://localhost:8080/"
        },
        "outputId": "45b4364d-08eb-453f-e0cd-e2b9048c225b"
      },
      "execution_count": null,
      "outputs": [
        {
          "output_type": "stream",
          "name": "stdout",
          "text": [
            "\n",
            " col_0   count  frequency\n",
            "Gender                  \n",
            "Female   9853   0.152646\n",
            "Male    54695   0.847354\n",
            "\n",
            " col_0                                               count  frequency\n",
            "Area                                                                \n",
            "Central parts of Sweden's three largest cities       8582   0.132955\n",
            "Gotland (Sweden's largest island)                     373   0.005779\n",
            "Lesser towns except Gotland; Northern towns         12722   0.197094\n",
            "Northern countryside                                 3884   0.060172\n",
            "Northern towns                                       2377   0.036825\n",
            "Small towns; countryside except Gotland; Northe...  24816   0.384458\n",
            "Suburbs; middle-sized cities                        11794   0.182717\n",
            "\n",
            " col_0           count  frequency\n",
            "RiskClass                       \n",
            "EV ratio 13-15  12378   0.191764\n",
            "EV ratio 16-19  11816   0.183058\n",
            "EV ratio 20-24   8407   0.130244\n",
            "EV ratio 6-8     5204   0.080622\n",
            "EV ratio 9-12   18905   0.292883\n",
            "EV ratio <5      7032   0.108942\n",
            "EV ratio >25      806   0.012487\n",
            "\n",
            " col_0       count  frequency\n",
            "BonusClass                  \n",
            "BM1         14498   0.224608\n",
            "BM2          8926   0.138285\n",
            "BM3          6726   0.104202\n",
            "BM4          5995   0.092877\n",
            "BM5          5101   0.079026\n",
            "BM6          5349   0.082869\n",
            "BM7         17953   0.278134\n"
          ]
        }
      ]
    },
    {
      "cell_type": "code",
      "source": [
        "# Univariate analysis with barplots\n",
        "for col in cat:\n",
        "    plt.figure(figsize=(5,5))\n",
        "    sns.countplot(x=cat[col], data=cat, palette=\"Set1\")\n",
        "    plt.xticks(rotation=90)\n",
        "    plt.show()"
      ],
      "metadata": {
        "id": "tuUZNnkrraP4",
        "colab": {
          "base_uri": "https://localhost:8080/",
          "height": 1000
        },
        "outputId": "d9692fa3-30b0-4b21-f50c-3c4ee7829c4b"
      },
      "execution_count": null,
      "outputs": [
        {
          "output_type": "display_data",
          "data": {
            "text/plain": [
              "<Figure size 360x360 with 1 Axes>"
            ],
            "image/png": "[encoded data removed]"
          },
          "metadata": {
            "needs_background": "light"
          }
        },
        {
          "output_type": "display_data",
          "data": {
            "text/plain": [
              "<Figure size 360x360 with 1 Axes>"
            ],
            "image/png": "[encoded data removed]"
          },
          "metadata": {
            "needs_background": "light"
          }
        },
        {
          "output_type": "display_data",
          "data": {
            "text/plain": [
              "<Figure size 360x360 with 1 Axes>"
            ],
            "image/png": "[encoded data removed]"
          },
          "metadata": {
            "needs_background": "light"
          }
        },
        {
          "output_type": "display_data",
          "data": {
            "text/plain": [
              "<Figure size 360x360 with 1 Axes>"
            ],
            "image/png": "[encoded data removed]"
          },
          "metadata": {
            "needs_background": "light"
          }
        }
      ]
    },
    {
      "cell_type": "code",
      "source": [
        "# new subset for a bivariate analysis\n",
        "cat2 = pd.concat([y,cat], axis=1)"
      ],
      "metadata": {
        "id": "A63Nib_jrhF8"
      },
      "execution_count": null,
      "outputs": []
    },
    {
      "cell_type": "code",
      "source": [
        "# bivariate analysis with barplot\n",
        "for col in cat:\n",
        "    plt.figure(figsize=(5,5))\n",
        "    sns.countplot(x=cat[col], hue=y, data=cat, palette=\"Set1\")\n",
        "    plt.xticks(rotation=90)\n",
        "    plt.show()"
      ],
      "metadata": {
        "id": "tzk2aoIirmT-",
        "colab": {
          "base_uri": "https://localhost:8080/",
          "height": 1000
        },
        "outputId": "9f86fdd8-3f99-4893-a794-e84b5c119456"
      },
      "execution_count": null,
      "outputs": [
        {
          "output_type": "display_data",
          "data": {
            "text/plain": [
              "<Figure size 360x360 with 1 Axes>"
            ],
            "image/png": "[encoded data removed]"
          },
          "metadata": {
            "needs_background": "light"
          }
        },
        {
          "output_type": "display_data",
          "data": {
            "text/plain": [
              "<Figure size 360x360 with 1 Axes>"
            ],
            "image/png": "[encoded data removed]"
          },
          "metadata": {
            "needs_background": "light"
          }
        },
        {
          "output_type": "display_data",
          "data": {
            "text/plain": [
              "<Figure size 360x360 with 1 Axes>"
            ],
            "image/png": "[encoded data removed]"
          },
          "metadata": {
            "needs_background": "light"
          }
        },
        {
          "output_type": "display_data",
          "data": {
            "text/plain": [
              "<Figure size 360x360 with 1 Axes>"
            ],
            "image/png": "[encoded data removed]"
          },
          "metadata": {
            "needs_background": "light"
          }
        }
      ]
    },
    {
      "cell_type": "code",
      "source": [
        "# Function for query and barplot about Claims per each class of variable\n",
        "def query(data,col):\n",
        "    # groupby\n",
        "    df = data.groupby(data[col], as_index=False)['ClaimNb'].sum()\n",
        "    df['PERCENTAGE'] = df['ClaimNb']/df['ClaimNb'].sum()*100\n",
        "    # dropping not matching rows\n",
        "    df = df.dropna()\n",
        "    # ranking \n",
        "    df = df.sort_values(by = 'ClaimNb', ascending = False).reset_index(drop=True)\n",
        "    df_q = df.style.background_gradient(cmap='winter').format({'PERCENTAGE': \"{:.2f}\"}).format({'ClaimNb':\"{:,.2f}\"})\n",
        "    # barplot\n",
        "    index=list(df.columns[0:1])\n",
        "    barplot = df[df.columns[0:2]].sort_values(by = \"ClaimNb\", ascending = True).set_index(index).plot.barh()\n",
        "    plt.xticks(rotation=0)\n",
        "    plt.legend(loc='best', bbox_to_anchor=(1, 0.5))\n",
        "    return df_q\n",
        "    plt.show()\n",
        "    return barplot\n",
        "    plt.show()"
      ],
      "metadata": {
        "id": "89figLS7rorl"
      },
      "execution_count": null,
      "outputs": []
    },
    {
      "cell_type": "code",
      "source": [
        "# query and barplot\n",
        "variable = 'Gender'\n",
        "print('ClaimNb per {}'.format(variable))\n",
        "query(cat2, col='Gender')"
      ],
      "metadata": {
        "id": "QMN5z_Gkrtwx",
        "colab": {
          "base_uri": "https://localhost:8080/",
          "height": 377
        },
        "outputId": "6f099310-0deb-46b6-dc7a-bf7494aeccbd"
      },
      "execution_count": null,
      "outputs": [
        {
          "output_type": "stream",
          "name": "stdout",
          "text": [
            "ClaimNb per Gender\n"
          ]
        },
        {
          "output_type": "execute_result",
          "data": {
            "text/plain": [
              "<pandas.io.formats.style.Styler at 0x7effe63dedd0>"
            ],
            "text/html": [
              "<style type=\"text/css\">\n",
              "#T_9f699_row0_col1, #T_9f699_row0_col2 {\n",
              "  background-color: #00ff80;\n",
              "  color: #000000;\n",
              "}\n",
              "#T_9f699_row1_col1, #T_9f699_row1_col2 {\n",
              "  background-color: #0000ff;\n",
              "  color: #f1f1f1;\n",
              "}\n",
              "</style>\n",
              "<table id=\"T_9f699_\" class=\"dataframe\">\n",
              "  <thead>\n",
              "    <tr>\n",
              "      <th class=\"blank level0\" >&nbsp;</th>\n",
              "      <th class=\"col_heading level0 col0\" >Gender</th>\n",
              "      <th class=\"col_heading level0 col1\" >ClaimNb</th>\n",
              "      <th class=\"col_heading level0 col2\" >PERCENTAGE</th>\n",
              "    </tr>\n",
              "  </thead>\n",
              "  <tbody>\n",
              "    <tr>\n",
              "      <th id=\"T_9f699_level0_row0\" class=\"row_heading level0 row0\" >0</th>\n",
              "      <td id=\"T_9f699_row0_col0\" class=\"data row0 col0\" >Male</td>\n",
              "      <td id=\"T_9f699_row0_col1\" class=\"data row0 col1\" >636.00</td>\n",
              "      <td id=\"T_9f699_row0_col2\" class=\"data row0 col2\" >91.248207</td>\n",
              "    </tr>\n",
              "    <tr>\n",
              "      <th id=\"T_9f699_level0_row1\" class=\"row_heading level0 row1\" >1</th>\n",
              "      <td id=\"T_9f699_row1_col0\" class=\"data row1 col0\" >Female</td>\n",
              "      <td id=\"T_9f699_row1_col1\" class=\"data row1 col1\" >61.00</td>\n",
              "      <td id=\"T_9f699_row1_col2\" class=\"data row1 col2\" >8.751793</td>\n",
              "    </tr>\n",
              "  </tbody>\n",
              "</table>\n"
            ]
          },
          "metadata": {},
          "execution_count": 32
        },
        {
          "output_type": "display_data",
          "data": {
            "text/plain": [
              "<Figure size 432x288 with 1 Axes>"
            ],
            "image/png": "[encoded data removed]"
          },
          "metadata": {
            "needs_background": "light"
          }
        }
      ]
    },
    {
      "cell_type": "code",
      "source": [
        "# query and barplot\n",
        "variable = 'Area'\n",
        "print('ClaimNb per {}'.format(variable))\n",
        "query(cat2, col='Area')"
      ],
      "metadata": {
        "id": "VnU7Qy_YsCvw",
        "colab": {
          "base_uri": "https://localhost:8080/",
          "height": 534
        },
        "outputId": "da3f4781-b336-403b-973e-39e56086848d"
      },
      "execution_count": null,
      "outputs": [
        {
          "output_type": "stream",
          "name": "stdout",
          "text": [
            "ClaimNb per Area\n"
          ]
        },
        {
          "output_type": "execute_result",
          "data": {
            "text/plain": [
              "<pandas.io.formats.style.Styler at 0x7effe659f510>"
            ],
            "text/html": [
              "<style type=\"text/css\">\n",
              "#T_42bb5_row0_col1, #T_42bb5_row0_col2 {\n",
              "  background-color: #00ff80;\n",
              "  color: #000000;\n",
              "}\n",
              "#T_42bb5_row1_col1, #T_42bb5_row1_col2 {\n",
              "  background-color: #00ee88;\n",
              "  color: #000000;\n",
              "}\n",
              "#T_42bb5_row2_col1, #T_42bb5_row2_col2 {\n",
              "  background-color: #00d992;\n",
              "  color: #000000;\n",
              "}\n",
              "#T_42bb5_row3_col1, #T_42bb5_row3_col2 {\n",
              "  background-color: #00a0af;\n",
              "  color: #f1f1f1;\n",
              "}\n",
              "#T_42bb5_row4_col1, #T_42bb5_row4_col2 {\n",
              "  background-color: #0016f4;\n",
              "  color: #f1f1f1;\n",
              "}\n",
              "#T_42bb5_row5_col1, #T_42bb5_row5_col2 {\n",
              "  background-color: #000afa;\n",
              "  color: #f1f1f1;\n",
              "}\n",
              "#T_42bb5_row6_col1, #T_42bb5_row6_col2 {\n",
              "  background-color: #0000ff;\n",
              "  color: #f1f1f1;\n",
              "}\n",
              "</style>\n",
              "<table id=\"T_42bb5_\" class=\"dataframe\">\n",
              "  <thead>\n",
              "    <tr>\n",
              "      <th class=\"blank level0\" >&nbsp;</th>\n",
              "      <th class=\"col_heading level0 col0\" >Area</th>\n",
              "      <th class=\"col_heading level0 col1\" >ClaimNb</th>\n",
              "      <th class=\"col_heading level0 col2\" >PERCENTAGE</th>\n",
              "    </tr>\n",
              "  </thead>\n",
              "  <tbody>\n",
              "    <tr>\n",
              "      <th id=\"T_42bb5_level0_row0\" class=\"row_heading level0 row0\" >0</th>\n",
              "      <td id=\"T_42bb5_row0_col0\" class=\"data row0 col0\" >Small towns; countryside except Gotland; Northern towns</td>\n",
              "      <td id=\"T_42bb5_row0_col1\" class=\"data row0 col1\" >196.00</td>\n",
              "      <td id=\"T_42bb5_row0_col2\" class=\"data row0 col2\" >28.120516</td>\n",
              "    </tr>\n",
              "    <tr>\n",
              "      <th id=\"T_42bb5_level0_row1\" class=\"row_heading level0 row1\" >1</th>\n",
              "      <td id=\"T_42bb5_row1_col0\" class=\"data row1 col0\" >Central parts of Sweden's three largest cities</td>\n",
              "      <td id=\"T_42bb5_row1_col1\" class=\"data row1 col1\" >183.00</td>\n",
              "      <td id=\"T_42bb5_row1_col2\" class=\"data row1 col2\" >26.255380</td>\n",
              "    </tr>\n",
              "    <tr>\n",
              "      <th id=\"T_42bb5_level0_row2\" class=\"row_heading level0 row2\" >2</th>\n",
              "      <td id=\"T_42bb5_row2_col0\" class=\"data row2 col0\" >Suburbs; middle-sized cities</td>\n",
              "      <td id=\"T_42bb5_row2_col1\" class=\"data row2 col1\" >167.00</td>\n",
              "      <td id=\"T_42bb5_row2_col2\" class=\"data row2 col2\" >23.959828</td>\n",
              "    </tr>\n",
              "    <tr>\n",
              "      <th id=\"T_42bb5_level0_row3\" class=\"row_heading level0 row3\" >3</th>\n",
              "      <td id=\"T_42bb5_row3_col0\" class=\"data row3 col0\" >Lesser towns except Gotland; Northern towns</td>\n",
              "      <td id=\"T_42bb5_row3_col1\" class=\"data row3 col1\" >123.00</td>\n",
              "      <td id=\"T_42bb5_row3_col2\" class=\"data row3 col2\" >17.647059</td>\n",
              "    </tr>\n",
              "    <tr>\n",
              "      <th id=\"T_42bb5_level0_row4\" class=\"row_heading level0 row4\" >4</th>\n",
              "      <td id=\"T_42bb5_row4_col0\" class=\"data row4 col0\" >Northern countryside</td>\n",
              "      <td id=\"T_42bb5_row4_col1\" class=\"data row4 col1\" >18.00</td>\n",
              "      <td id=\"T_42bb5_row4_col2\" class=\"data row4 col2\" >2.582496</td>\n",
              "    </tr>\n",
              "    <tr>\n",
              "      <th id=\"T_42bb5_level0_row5\" class=\"row_heading level0 row5\" >5</th>\n",
              "      <td id=\"T_42bb5_row5_col0\" class=\"data row5 col0\" >Northern towns</td>\n",
              "      <td id=\"T_42bb5_row5_col1\" class=\"data row5 col1\" >9.00</td>\n",
              "      <td id=\"T_42bb5_row5_col2\" class=\"data row5 col2\" >1.291248</td>\n",
              "    </tr>\n",
              "    <tr>\n",
              "      <th id=\"T_42bb5_level0_row6\" class=\"row_heading level0 row6\" >6</th>\n",
              "      <td id=\"T_42bb5_row6_col0\" class=\"data row6 col0\" >Gotland (Sweden's largest island)</td>\n",
              "      <td id=\"T_42bb5_row6_col1\" class=\"data row6 col1\" >1.00</td>\n",
              "      <td id=\"T_42bb5_row6_col2\" class=\"data row6 col2\" >0.143472</td>\n",
              "    </tr>\n",
              "  </tbody>\n",
              "</table>\n"
            ]
          },
          "metadata": {},
          "execution_count": 33
        },
        {
          "output_type": "display_data",
          "data": {
            "text/plain": [
              "<Figure size 432x288 with 1 Axes>"
            ],
            "image/png": "[encoded data removed]"
          },
          "metadata": {
            "needs_background": "light"
          }
        }
      ]
    },
    {
      "cell_type": "code",
      "source": [
        "# query and barplot\n",
        "variable = 'RiskClass'\n",
        "print('ClaimNb per {}'.format(variable))\n",
        "query(cat2, col='RiskClass')"
      ],
      "metadata": {
        "id": "YnwzfrJRsDJe",
        "colab": {
          "base_uri": "https://localhost:8080/",
          "height": 534
        },
        "outputId": "9216c777-9d0c-4575-c929-8553917104cc"
      },
      "execution_count": null,
      "outputs": [
        {
          "output_type": "stream",
          "name": "stdout",
          "text": [
            "ClaimNb per RiskClass\n"
          ]
        },
        {
          "output_type": "execute_result",
          "data": {
            "text/plain": [
              "<pandas.io.formats.style.Styler at 0x7effe674d6d0>"
            ],
            "text/html": [
              "<style type=\"text/css\">\n",
              "#T_37222_row0_col1, #T_37222_row0_col2 {\n",
              "  background-color: #00ff80;\n",
              "  color: #000000;\n",
              "}\n",
              "#T_37222_row1_col1, #T_37222_row1_col2 {\n",
              "  background-color: #00f286;\n",
              "  color: #000000;\n",
              "}\n",
              "#T_37222_row2_col1, #T_37222_row2_col2 {\n",
              "  background-color: #00d893;\n",
              "  color: #000000;\n",
              "}\n",
              "#T_37222_row3_col1, #T_37222_row3_col2 {\n",
              "  background-color: #008bba;\n",
              "  color: #f1f1f1;\n",
              "}\n",
              "#T_37222_row4_col1, #T_37222_row4_col2 {\n",
              "  background-color: #004dd8;\n",
              "  color: #f1f1f1;\n",
              "}\n",
              "#T_37222_row5_col1, #T_37222_row5_col2 {\n",
              "  background-color: #003ce1;\n",
              "  color: #f1f1f1;\n",
              "}\n",
              "#T_37222_row6_col1, #T_37222_row6_col2 {\n",
              "  background-color: #0000ff;\n",
              "  color: #f1f1f1;\n",
              "}\n",
              "</style>\n",
              "<table id=\"T_37222_\" class=\"dataframe\">\n",
              "  <thead>\n",
              "    <tr>\n",
              "      <th class=\"blank level0\" >&nbsp;</th>\n",
              "      <th class=\"col_heading level0 col0\" >RiskClass</th>\n",
              "      <th class=\"col_heading level0 col1\" >ClaimNb</th>\n",
              "      <th class=\"col_heading level0 col2\" >PERCENTAGE</th>\n",
              "    </tr>\n",
              "  </thead>\n",
              "  <tbody>\n",
              "    <tr>\n",
              "      <th id=\"T_37222_level0_row0\" class=\"row_heading level0 row0\" >0</th>\n",
              "      <td id=\"T_37222_row0_col0\" class=\"data row0 col0\" >EV ratio 20-24</td>\n",
              "      <td id=\"T_37222_row0_col1\" class=\"data row0 col1\" >175.00</td>\n",
              "      <td id=\"T_37222_row0_col2\" class=\"data row0 col2\" >25.107604</td>\n",
              "    </tr>\n",
              "    <tr>\n",
              "      <th id=\"T_37222_level0_row1\" class=\"row_heading level0 row1\" >1</th>\n",
              "      <td id=\"T_37222_row1_col0\" class=\"data row1 col0\" >EV ratio 9-12</td>\n",
              "      <td id=\"T_37222_row1_col1\" class=\"data row1 col1\" >166.00</td>\n",
              "      <td id=\"T_37222_row1_col2\" class=\"data row1 col2\" >23.816356</td>\n",
              "    </tr>\n",
              "    <tr>\n",
              "      <th id=\"T_37222_level0_row2\" class=\"row_heading level0 row2\" >2</th>\n",
              "      <td id=\"T_37222_row2_col0\" class=\"data row2 col0\" >EV ratio 16-19</td>\n",
              "      <td id=\"T_37222_row2_col1\" class=\"data row2 col1\" >149.00</td>\n",
              "      <td id=\"T_37222_row2_col2\" class=\"data row2 col2\" >21.377331</td>\n",
              "    </tr>\n",
              "    <tr>\n",
              "      <th id=\"T_37222_level0_row3\" class=\"row_heading level0 row3\" >3</th>\n",
              "      <td id=\"T_37222_row3_col0\" class=\"data row3 col0\" >EV ratio 13-15</td>\n",
              "      <td id=\"T_37222_row3_col1\" class=\"data row3 col1\" >98.00</td>\n",
              "      <td id=\"T_37222_row3_col2\" class=\"data row3 col2\" >14.060258</td>\n",
              "    </tr>\n",
              "    <tr>\n",
              "      <th id=\"T_37222_level0_row4\" class=\"row_heading level0 row4\" >4</th>\n",
              "      <td id=\"T_37222_row4_col0\" class=\"data row4 col0\" >EV ratio 6-8</td>\n",
              "      <td id=\"T_37222_row4_col1\" class=\"data row4 col1\" >57.00</td>\n",
              "      <td id=\"T_37222_row4_col2\" class=\"data row4 col2\" >8.177905</td>\n",
              "    </tr>\n",
              "    <tr>\n",
              "      <th id=\"T_37222_level0_row5\" class=\"row_heading level0 row5\" >5</th>\n",
              "      <td id=\"T_37222_row5_col0\" class=\"data row5 col0\" >EV ratio <5</td>\n",
              "      <td id=\"T_37222_row5_col1\" class=\"data row5 col1\" >46.00</td>\n",
              "      <td id=\"T_37222_row5_col2\" class=\"data row5 col2\" >6.599713</td>\n",
              "    </tr>\n",
              "    <tr>\n",
              "      <th id=\"T_37222_level0_row6\" class=\"row_heading level0 row6\" >6</th>\n",
              "      <td id=\"T_37222_row6_col0\" class=\"data row6 col0\" >EV ratio >25</td>\n",
              "      <td id=\"T_37222_row6_col1\" class=\"data row6 col1\" >6.00</td>\n",
              "      <td id=\"T_37222_row6_col2\" class=\"data row6 col2\" >0.860832</td>\n",
              "    </tr>\n",
              "  </tbody>\n",
              "</table>\n"
            ]
          },
          "metadata": {},
          "execution_count": 34
        },
        {
          "output_type": "display_data",
          "data": {
            "text/plain": [
              "<Figure size 432x288 with 1 Axes>"
            ],
            "image/png": "[encoded data removed]"
          },
          "metadata": {
            "needs_background": "light"
          }
        }
      ]
    },
    {
      "cell_type": "code",
      "source": [
        "# query and barplot\n",
        "variable = 'BonusClass'\n",
        "print('ClaimNb per {}'.format(variable))\n",
        "query(cat2, col='BonusClass')"
      ],
      "metadata": {
        "id": "lzzfmntksDUJ",
        "colab": {
          "base_uri": "https://localhost:8080/",
          "height": 534
        },
        "outputId": "0725e6d9-93ef-4a6b-9b44-c2edf8480539"
      },
      "execution_count": null,
      "outputs": [
        {
          "output_type": "stream",
          "name": "stdout",
          "text": [
            "ClaimNb per BonusClass\n"
          ]
        },
        {
          "output_type": "execute_result",
          "data": {
            "text/plain": [
              "<pandas.io.formats.style.Styler at 0x7effe68dc1d0>"
            ],
            "text/html": [
              "<style type=\"text/css\">\n",
              "#T_cfaa9_row0_col1, #T_cfaa9_row0_col2 {\n",
              "  background-color: #00ff80;\n",
              "  color: #000000;\n",
              "}\n",
              "#T_cfaa9_row1_col1, #T_cfaa9_row1_col2 {\n",
              "  background-color: #0062ce;\n",
              "  color: #f1f1f1;\n",
              "}\n",
              "#T_cfaa9_row2_col1, #T_cfaa9_row2_col2 {\n",
              "  background-color: #001ff0;\n",
              "  color: #f1f1f1;\n",
              "}\n",
              "#T_cfaa9_row3_col1, #T_cfaa9_row3_col2 {\n",
              "  background-color: #0016f4;\n",
              "  color: #f1f1f1;\n",
              "}\n",
              "#T_cfaa9_row4_col1, #T_cfaa9_row4_col2 {\n",
              "  background-color: #000ff8;\n",
              "  color: #f1f1f1;\n",
              "}\n",
              "#T_cfaa9_row5_col1, #T_cfaa9_row5_col2 {\n",
              "  background-color: #0002fe;\n",
              "  color: #f1f1f1;\n",
              "}\n",
              "#T_cfaa9_row6_col1, #T_cfaa9_row6_col2 {\n",
              "  background-color: #0000ff;\n",
              "  color: #f1f1f1;\n",
              "}\n",
              "</style>\n",
              "<table id=\"T_cfaa9_\" class=\"dataframe\">\n",
              "  <thead>\n",
              "    <tr>\n",
              "      <th class=\"blank level0\" >&nbsp;</th>\n",
              "      <th class=\"col_heading level0 col0\" >BonusClass</th>\n",
              "      <th class=\"col_heading level0 col1\" >ClaimNb</th>\n",
              "      <th class=\"col_heading level0 col2\" >PERCENTAGE</th>\n",
              "    </tr>\n",
              "  </thead>\n",
              "  <tbody>\n",
              "    <tr>\n",
              "      <th id=\"T_cfaa9_level0_row0\" class=\"row_heading level0 row0\" >0</th>\n",
              "      <td id=\"T_cfaa9_row0_col0\" class=\"data row0 col0\" >BM7</td>\n",
              "      <td id=\"T_cfaa9_row0_col1\" class=\"data row0 col1\" >281.00</td>\n",
              "      <td id=\"T_cfaa9_row0_col2\" class=\"data row0 col2\" >40.315638</td>\n",
              "    </tr>\n",
              "    <tr>\n",
              "      <th id=\"T_cfaa9_level0_row1\" class=\"row_heading level0 row1\" >1</th>\n",
              "      <td id=\"T_cfaa9_row1_col0\" class=\"data row1 col0\" >BM1</td>\n",
              "      <td id=\"T_cfaa9_row1_col1\" class=\"data row1 col1\" >135.00</td>\n",
              "      <td id=\"T_cfaa9_row1_col2\" class=\"data row1 col2\" >19.368723</td>\n",
              "    </tr>\n",
              "    <tr>\n",
              "      <th id=\"T_cfaa9_level0_row2\" class=\"row_heading level0 row2\" >2</th>\n",
              "      <td id=\"T_cfaa9_row2_col0\" class=\"data row2 col0\" >BM2</td>\n",
              "      <td id=\"T_cfaa9_row2_col1\" class=\"data row2 col1\" >72.00</td>\n",
              "      <td id=\"T_cfaa9_row2_col2\" class=\"data row2 col2\" >10.329986</td>\n",
              "    </tr>\n",
              "    <tr>\n",
              "      <th id=\"T_cfaa9_level0_row3\" class=\"row_heading level0 row3\" >3</th>\n",
              "      <td id=\"T_cfaa9_row3_col0\" class=\"data row3 col0\" >BM4</td>\n",
              "      <td id=\"T_cfaa9_row3_col1\" class=\"data row3 col1\" >64.00</td>\n",
              "      <td id=\"T_cfaa9_row3_col2\" class=\"data row3 col2\" >9.182209</td>\n",
              "    </tr>\n",
              "    <tr>\n",
              "      <th id=\"T_cfaa9_level0_row4\" class=\"row_heading level0 row4\" >4</th>\n",
              "      <td id=\"T_cfaa9_row4_col0\" class=\"data row4 col0\" >BM3</td>\n",
              "      <td id=\"T_cfaa9_row4_col1\" class=\"data row4 col1\" >57.00</td>\n",
              "      <td id=\"T_cfaa9_row4_col2\" class=\"data row4 col2\" >8.177905</td>\n",
              "    </tr>\n",
              "    <tr>\n",
              "      <th id=\"T_cfaa9_level0_row5\" class=\"row_heading level0 row5\" >5</th>\n",
              "      <td id=\"T_cfaa9_row5_col0\" class=\"data row5 col0\" >BM5</td>\n",
              "      <td id=\"T_cfaa9_row5_col1\" class=\"data row5 col1\" >45.00</td>\n",
              "      <td id=\"T_cfaa9_row5_col2\" class=\"data row5 col2\" >6.456241</td>\n",
              "    </tr>\n",
              "    <tr>\n",
              "      <th id=\"T_cfaa9_level0_row6\" class=\"row_heading level0 row6\" >6</th>\n",
              "      <td id=\"T_cfaa9_row6_col0\" class=\"data row6 col0\" >BM6</td>\n",
              "      <td id=\"T_cfaa9_row6_col1\" class=\"data row6 col1\" >43.00</td>\n",
              "      <td id=\"T_cfaa9_row6_col2\" class=\"data row6 col2\" >6.169297</td>\n",
              "    </tr>\n",
              "  </tbody>\n",
              "</table>\n"
            ]
          },
          "metadata": {},
          "execution_count": 35
        },
        {
          "output_type": "display_data",
          "data": {
            "text/plain": [
              "<Figure size 432x288 with 1 Axes>"
            ],
            "image/png": "[encoded data removed]"
          },
          "metadata": {
            "needs_background": "light"
          }
        }
      ]
    }
  ]
}